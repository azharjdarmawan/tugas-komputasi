{
 "cells": [
  {
   "cell_type": "code",
   "execution_count": 46,
   "id": "b6756493",
   "metadata": {},
   "outputs": [],
   "source": [
    "using SymPy"
   ]
  },
  {
   "cell_type": "code",
   "execution_count": 47,
   "id": "4bac824f",
   "metadata": {},
   "outputs": [],
   "source": [
    "using Plots"
   ]
  },
  {
   "cell_type": "code",
   "execution_count": 48,
   "id": "2fc56333",
   "metadata": {},
   "outputs": [],
   "source": [
    "using Roots"
   ]
  },
  {
   "cell_type": "code",
   "execution_count": 49,
   "id": "487a91ab",
   "metadata": {},
   "outputs": [],
   "source": [
    "using LinearAlgebra"
   ]
  },
  {
   "cell_type": "code",
   "execution_count": 50,
   "id": "6eda9a33",
   "metadata": {},
   "outputs": [],
   "source": [
    "using DifferentialEquations"
   ]
  },
  {
   "cell_type": "markdown",
   "id": "f4fd7fb9",
   "metadata": {},
   "source": [
    "##### Ordinary Differential Equations with Boundary Value Problem\n",
    "###### Exercise 2\n",
    "> Diberikan PDB dengan MNB berikut.\n",
    "$$x''-\\dfrac{1}{t}x'+\\dfrac{1}{t^2}x=1$$ \n",
    "pada interval $[0.5,4.5]$ dengan nilai batas $x(0.5)=1$ dan $y(4.5)=2$.\n",
    "\n",
    "Solusi aktual dari MNB di atas adalah $x(t)=t^2 - 0.2525826491t-2.528442297 t \\ln t$."
   ]
  },
  {
   "cell_type": "markdown",
   "id": "fa966354",
   "metadata": {},
   "source": [
    "3. Carilah solusi numerik PDB di atas menggunakan *__finite-difference method__* dengan ukuran langkah $h=1/2, 1/4,$ dan $1/16$.\n",
    "    1. Bandingkan fungsi hampiran tersebut dengan solusi aktual menggunakan plot ! \n",
    "    2. Gambarkan juga plot selisih fungsi hampiran tersebut dengan solusi aktual !"
   ]
  },
  {
   "cell_type": "code",
   "execution_count": 51,
   "id": "5b276817",
   "metadata": {},
   "outputs": [],
   "source": [
    "##################################################################################################"
   ]
  },
  {
   "cell_type": "markdown",
   "id": "d73950ec",
   "metadata": {},
   "source": [
    "$$x''=\n",
    "\\dfrac{1}{t}x'\n",
    "-\\dfrac{1}{t^2}x\n",
    "+1$$"
   ]
  },
  {
   "cell_type": "markdown",
   "id": "68a9bf2c",
   "metadata": {},
   "source": [
    "$$\\begin{align} \n",
    "\\frac{y_{i+1} - 2y_i + y_{i-1}}{h^2}\n",
    "=\n",
    "1\n",
    "+ \\frac{1}{t_i} \\left( \\frac{y_{i+1}-y_{i-1}}{2h} \\right )\n",
    "- \\frac{1}{t^2_i} y_i\n",
    "\\end{align}$$"
   ]
  },
  {
   "cell_type": "markdown",
   "id": "eb00bcb6",
   "metadata": {},
   "source": [
    "<center> dikali $2h^2t_i^2$"
   ]
  },
  {
   "cell_type": "markdown",
   "id": "dcff2543",
   "metadata": {},
   "source": [
    "$$\\begin{align}\n",
    "\\left( y_{i+1} - 2y_i + y_{i-1} \\right )\n",
    "2 t_i^2\n",
    "=\n",
    "2 h^2 t_i^2\n",
    "+ \\left( y_{i+1}-y_{i-1} \\right) ht_i\n",
    "- 2h^2y_i\n",
    "\\end{align}$$"
   ]
  },
  {
   "cell_type": "markdown",
   "id": "6a55f51c",
   "metadata": {},
   "source": [
    "$$\\begin{align}\n",
    "\\left( 2 t_i^2 + ht_i \\right ) y_{i-1}\n",
    "+  \\left( 2 h^2 - 4 t_i^2 \\right ) y_{i}\n",
    "+ \\left( 2 t_i^2  - h t_i \\right ) y_{i+1}\n",
    "= 2 h^2 t_i^2\n",
    "\\end{align}$$"
   ]
  },
  {
   "cell_type": "markdown",
   "id": "40626ba7",
   "metadata": {},
   "source": [
    "<center>atau"
   ]
  },
  {
   "cell_type": "markdown",
   "id": "eb6f5a3a",
   "metadata": {},
   "source": [
    "$$\\begin{align}\n",
    "P(h,t_i) y_{i-1}\n",
    "+  Q(h,t_i) y_{i}\n",
    "+ R(h,t_i) y_{i+1}\n",
    "= S(h,t_i)\n",
    "\\end{align}$$"
   ]
  },
  {
   "cell_type": "markdown",
   "id": "1d8ed7c8",
   "metadata": {},
   "source": [
    "<center>dengan"
   ]
  },
  {
   "cell_type": "markdown",
   "id": "6b240964",
   "metadata": {},
   "source": [
    "$$\n",
    "P(h,t_i)\n",
    "= \\left( 2 t_i^2 + h t_i \\right)\n",
    "\\quad\n",
    "Q(h,t_i)\n",
    "= \\left( 2 h^2 - 4 t_i^2 \\right )\n",
    "\\quad\n",
    "R(h,t_i)\n",
    "= \\left( 2 t_i^2  - h t_i \\right )\n",
    "\\quad\n",
    "S(h,t_i)\n",
    "= 2 h^2 t_i^2\n",
    "$$"
   ]
  },
  {
   "cell_type": "markdown",
   "id": "46e26f71",
   "metadata": {},
   "source": [
    "<center> Untuk"
   ]
  },
  {
   "cell_type": "markdown",
   "id": "4295f67b",
   "metadata": {},
   "source": [
    "$$i=1,2,...,n$$"
   ]
  },
  {
   "cell_type": "markdown",
   "id": "ae05f8ce",
   "metadata": {},
   "source": [
    "$$\\begin{align}\n",
    "Q(h,t_1) y_{1}\n",
    "+ R(h,t_1) y_{2}\n",
    "& = S(h,t_1) - P(h,t_1) y_{0}\n",
    "\\\\\n",
    "P(h,t_2) y_{1}\n",
    "+  Q(h,t_2) y_{2}\n",
    "+ R(h,t_2) y_{3}\n",
    "& = S(h,t_2)\n",
    "\\\\\n",
    "P(h,t_3) y_{2}\n",
    "+  Q(h,t_3) y_{3}\n",
    "+ R(h,t_3) y_{4}\n",
    "& = S(h,t_3)\n",
    "\\\\\n",
    "\\vdots\n",
    "\\\\\n",
    "P(h,t_{n-1}) y_{n-2}\n",
    "+  Q(h,t_{n-1}) y_{n-1}\n",
    "& = S(h,t_{n-1})\n",
    "- R(h,t_{n-1}) y_{n}\n",
    "\\end{align}$$"
   ]
  },
  {
   "cell_type": "code",
   "execution_count": 52,
   "id": "841fea0f",
   "metadata": {},
   "outputs": [],
   "source": [
    "##################################################################################################"
   ]
  },
  {
   "cell_type": "markdown",
   "id": "1ca2afdd",
   "metadata": {},
   "source": [
    "jika $y_0=a$, $y_n=b$ dan $y_n=a+nh$,\n",
    "\n",
    "maka,\n",
    "\n",
    "$$\n",
    "\\begin{align}\n",
    "y_n &= a + nh\n",
    "\\\\\n",
    "b &= a + nh\n",
    "\\\\\n",
    "n &= \\frac{b-a}{h}\n",
    "\\end{align}\n",
    "$$"
   ]
  },
  {
   "cell_type": "code",
   "execution_count": 53,
   "id": "038d80dc",
   "metadata": {},
   "outputs": [],
   "source": [
    "##################################################################################################"
   ]
  },
  {
   "cell_type": "markdown",
   "id": "5b80793d",
   "metadata": {},
   "source": [
    "untuk $h=\\frac{1}{2}=0.5$, maka $x(0.5)= y_0 = 1$ dan $x(4.5)= y_8 = 2$."
   ]
  },
  {
   "cell_type": "markdown",
   "id": "ce6977fa",
   "metadata": {},
   "source": [
    "untuk $h=\\frac{1}{4}=0.25$, maka $x(0.5)= y_0 = 1$ dan $x(4.5)= y_{16}= 2$."
   ]
  },
  {
   "cell_type": "markdown",
   "id": "a5a8049b",
   "metadata": {},
   "source": [
    "untuk $h=\\frac{1}{16}=0.0625$, maka $x(0.5)= y_0 = 1$ dan $x(4.5)= y_{64} = 2$."
   ]
  },
  {
   "cell_type": "code",
   "execution_count": 54,
   "id": "c77379c4",
   "metadata": {},
   "outputs": [],
   "source": [
    "##################################################################################################"
   ]
  },
  {
   "cell_type": "markdown",
   "id": "44ff642a",
   "metadata": {},
   "source": [
    "case:\n",
    "\n",
    "$h=\\frac{1}{2}=0.5$, $y_0 = 1$ dan $y_8 = 2$."
   ]
  },
  {
   "cell_type": "markdown",
   "id": "b7d0908f",
   "metadata": {},
   "source": [
    "$\\begin{align}\n",
    "P(0.5 , t_i)\n",
    "& = 2 t_i^2 + (0.5) t_i\n",
    "\\\\\n",
    "Q(0.5 , t_i)\n",
    "& =  2 (0.5)^2 - 4 t_i^2\n",
    "= 2 (0.25) - 4 t_i^2\n",
    "= 0.5 - 4 t_i^2\n",
    "\\\\\n",
    "R(0.5 , t_i)\n",
    "& = 2 t_i^2  - h t_i\n",
    "= 2 t_i^2  - (0.5) t_i\n",
    "\\\\\n",
    "S(0.5 , t_i)\n",
    "& = 2 h^2 t_i^2\n",
    "= 2 (0.5)^2 t_i^2\n",
    "= 2 (0.25) t_i^2\n",
    "= 0.5 t_i^2\n",
    "\\end{align}$"
   ]
  },
  {
   "cell_type": "code",
   "execution_count": 55,
   "id": "98cce8db",
   "metadata": {},
   "outputs": [],
   "source": [
    "P = [2*(t^2)+(0.5)*t for t in 1:0.5:7.5];"
   ]
  },
  {
   "cell_type": "code",
   "execution_count": 56,
   "id": "7deed470",
   "metadata": {},
   "outputs": [],
   "source": [
    "Q = [0.5-4*(t^2) for t in 1:0.5:8];"
   ]
  },
  {
   "cell_type": "code",
   "execution_count": 57,
   "id": "33c27dd3",
   "metadata": {},
   "outputs": [],
   "source": [
    "R = [2*(t^2)-0.5*t for t in 1:0.5:7.5];"
   ]
  },
  {
   "cell_type": "code",
   "execution_count": 58,
   "id": "af2eb2cb",
   "metadata": {},
   "outputs": [],
   "source": [
    "S = [0.5*(t^2) for t in 1:0.5:8];"
   ]
  },
  {
   "cell_type": "code",
   "execution_count": 59,
   "id": "6e9a05f9",
   "metadata": {},
   "outputs": [
    {
     "data": {
      "text/plain": [
       "15×15 Tridiagonal{Float64, Vector{Float64}}:\n",
       " -3.5   1.5      ⋅       ⋅       ⋅    …      ⋅        ⋅        ⋅        ⋅ \n",
       "  2.5  -8.5     3.75     ⋅       ⋅           ⋅        ⋅        ⋅        ⋅ \n",
       "   ⋅    5.25  -15.5     7.0      ⋅           ⋅        ⋅        ⋅        ⋅ \n",
       "   ⋅     ⋅      9.0   -24.5    11.25         ⋅        ⋅        ⋅        ⋅ \n",
       "   ⋅     ⋅       ⋅     13.75  -35.5          ⋅        ⋅        ⋅        ⋅ \n",
       "   ⋅     ⋅       ⋅       ⋅     19.5   …      ⋅        ⋅        ⋅        ⋅ \n",
       "   ⋅     ⋅       ⋅       ⋅       ⋅           ⋅        ⋅        ⋅        ⋅ \n",
       "   ⋅     ⋅       ⋅       ⋅       ⋅           ⋅        ⋅        ⋅        ⋅ \n",
       "   ⋅     ⋅       ⋅       ⋅       ⋅           ⋅        ⋅        ⋅        ⋅ \n",
       "   ⋅     ⋅       ⋅       ⋅       ⋅           ⋅        ⋅        ⋅        ⋅ \n",
       "   ⋅     ⋅       ⋅       ⋅       ⋅    …    69.0       ⋅        ⋅        ⋅ \n",
       "   ⋅     ⋅       ⋅       ⋅       ⋅       -168.5     81.25      ⋅        ⋅ \n",
       "   ⋅     ⋅       ⋅       ⋅       ⋅         87.75  -195.5     94.5       ⋅ \n",
       "   ⋅     ⋅       ⋅       ⋅       ⋅           ⋅     101.5   -224.5    108.75\n",
       "   ⋅     ⋅       ⋅       ⋅       ⋅           ⋅        ⋅     116.25  -255.5"
      ]
     },
     "execution_count": 59,
     "metadata": {},
     "output_type": "execute_result"
    }
   ],
   "source": [
    "PQR = Tridiagonal(P,Q,R)"
   ]
  },
  {
   "cell_type": "code",
   "execution_count": 60,
   "id": "188f7e54",
   "metadata": {
    "scrolled": true
   },
   "outputs": [
    {
     "data": {
      "text/plain": [
       "15-element Vector{Float64}:\n",
       "  -2.0\n",
       "   1.125\n",
       "   2.0\n",
       "   3.125\n",
       "   4.5\n",
       "   6.125\n",
       "   8.0\n",
       "  10.125\n",
       "  12.5\n",
       "  15.125\n",
       "  18.0\n",
       "  21.125\n",
       "  24.5\n",
       "  28.125\n",
       " -84.25"
      ]
     },
     "execution_count": 60,
     "metadata": {},
     "output_type": "execute_result"
    }
   ],
   "source": [
    "B = S \n",
    "B[1] = S[1] - P[1] #perlu diperiksa lagi\n",
    "B[end] = B[end] - P[14]\n",
    "B"
   ]
  },
  {
   "cell_type": "code",
   "execution_count": 61,
   "id": "534f8ef0",
   "metadata": {},
   "outputs": [
    {
     "data": {
      "text/plain": [
       "15-element Vector{Float64}:\n",
       "  0.4750241728632159\n",
       " -0.2249435966524962\n",
       " -0.5265549343211353\n",
       " -0.7115210856502847\n",
       " -0.8505130835148228\n",
       " -0.9642302749748363\n",
       " -1.0573698113292533\n",
       " -1.1277312767106047\n",
       " -1.1688050768629823\n",
       " -1.1702230119681762\n",
       " -1.1173092018503665\n",
       " -0.9901052892542095\n",
       " -0.7619637058530069\n",
       " -0.3976948715577351\n",
       "  0.1487983216493671"
      ]
     },
     "execution_count": 61,
     "metadata": {},
     "output_type": "execute_result"
    }
   ],
   "source": [
    "Y = PQR\\B"
   ]
  },
  {
   "cell_type": "code",
   "execution_count": 62,
   "id": "b51d4030",
   "metadata": {},
   "outputs": [
    {
     "data": {
      "image/svg+xml": [
       "<?xml version=\"1.0\" encoding=\"utf-8\"?>\n",
       "<svg xmlns=\"http://www.w3.org/2000/svg\" xmlns:xlink=\"http://www.w3.org/1999/xlink\" width=\"400\" height=\"300\" viewBox=\"0 0 1600 1200\">\n",
       "<defs>\n",
       "  <clipPath id=\"clip130\">\n",
       "    <rect x=\"0\" y=\"0\" width=\"1600\" height=\"1200\"/>\n",
       "  </clipPath>\n",
       "</defs>\n",
       "<path clip-path=\"url(#clip130)\" d=\"\n",
       "M0 1200 L1600 1200 L1600 0 L0 0  Z\n",
       "  \" fill=\"#ffffff\" fill-rule=\"evenodd\" fill-opacity=\"1\"/>\n",
       "<defs>\n",
       "  <clipPath id=\"clip131\">\n",
       "    <rect x=\"320\" y=\"0\" width=\"1121\" height=\"1121\"/>\n",
       "  </clipPath>\n",
       "</defs>\n",
       "<path clip-path=\"url(#clip130)\" d=\"\n",
       "M185.936 1086.13 L1552.76 1086.13 L1552.76 47.2441 L185.936 47.2441  Z\n",
       "  \" fill=\"#ffffff\" fill-rule=\"evenodd\" fill-opacity=\"1\"/>\n",
       "<defs>\n",
       "  <clipPath id=\"clip132\">\n",
       "    <rect x=\"185\" y=\"47\" width=\"1368\" height=\"1040\"/>\n",
       "  </clipPath>\n",
       "</defs>\n",
       "<polyline clip-path=\"url(#clip132)\" style=\"stroke:#000000; stroke-linecap:round; stroke-linejoin:round; stroke-width:2; stroke-opacity:0.1; fill:none\" points=\"\n",
       "  316.723,1086.13 316.723,47.2441 \n",
       "  \"/>\n",
       "<polyline clip-path=\"url(#clip132)\" style=\"stroke:#000000; stroke-linecap:round; stroke-linejoin:round; stroke-width:2; stroke-opacity:0.1; fill:none\" points=\"\n",
       "  500.931,1086.13 500.931,47.2441 \n",
       "  \"/>\n",
       "<polyline clip-path=\"url(#clip132)\" style=\"stroke:#000000; stroke-linecap:round; stroke-linejoin:round; stroke-width:2; stroke-opacity:0.1; fill:none\" points=\"\n",
       "  685.138,1086.13 685.138,47.2441 \n",
       "  \"/>\n",
       "<polyline clip-path=\"url(#clip132)\" style=\"stroke:#000000; stroke-linecap:round; stroke-linejoin:round; stroke-width:2; stroke-opacity:0.1; fill:none\" points=\"\n",
       "  869.346,1086.13 869.346,47.2441 \n",
       "  \"/>\n",
       "<polyline clip-path=\"url(#clip132)\" style=\"stroke:#000000; stroke-linecap:round; stroke-linejoin:round; stroke-width:2; stroke-opacity:0.1; fill:none\" points=\"\n",
       "  1053.55,1086.13 1053.55,47.2441 \n",
       "  \"/>\n",
       "<polyline clip-path=\"url(#clip132)\" style=\"stroke:#000000; stroke-linecap:round; stroke-linejoin:round; stroke-width:2; stroke-opacity:0.1; fill:none\" points=\"\n",
       "  1237.76,1086.13 1237.76,47.2441 \n",
       "  \"/>\n",
       "<polyline clip-path=\"url(#clip132)\" style=\"stroke:#000000; stroke-linecap:round; stroke-linejoin:round; stroke-width:2; stroke-opacity:0.1; fill:none\" points=\"\n",
       "  1421.97,1086.13 1421.97,47.2441 \n",
       "  \"/>\n",
       "<polyline clip-path=\"url(#clip130)\" style=\"stroke:#000000; stroke-linecap:round; stroke-linejoin:round; stroke-width:4; stroke-opacity:1; fill:none\" points=\"\n",
       "  185.936,1086.13 1552.76,1086.13 \n",
       "  \"/>\n",
       "<polyline clip-path=\"url(#clip130)\" style=\"stroke:#000000; stroke-linecap:round; stroke-linejoin:round; stroke-width:4; stroke-opacity:1; fill:none\" points=\"\n",
       "  316.723,1086.13 316.723,1067.23 \n",
       "  \"/>\n",
       "<polyline clip-path=\"url(#clip130)\" style=\"stroke:#000000; stroke-linecap:round; stroke-linejoin:round; stroke-width:4; stroke-opacity:1; fill:none\" points=\"\n",
       "  500.931,1086.13 500.931,1067.23 \n",
       "  \"/>\n",
       "<polyline clip-path=\"url(#clip130)\" style=\"stroke:#000000; stroke-linecap:round; stroke-linejoin:round; stroke-width:4; stroke-opacity:1; fill:none\" points=\"\n",
       "  685.138,1086.13 685.138,1067.23 \n",
       "  \"/>\n",
       "<polyline clip-path=\"url(#clip130)\" style=\"stroke:#000000; stroke-linecap:round; stroke-linejoin:round; stroke-width:4; stroke-opacity:1; fill:none\" points=\"\n",
       "  869.346,1086.13 869.346,1067.23 \n",
       "  \"/>\n",
       "<polyline clip-path=\"url(#clip130)\" style=\"stroke:#000000; stroke-linecap:round; stroke-linejoin:round; stroke-width:4; stroke-opacity:1; fill:none\" points=\"\n",
       "  1053.55,1086.13 1053.55,1067.23 \n",
       "  \"/>\n",
       "<polyline clip-path=\"url(#clip130)\" style=\"stroke:#000000; stroke-linecap:round; stroke-linejoin:round; stroke-width:4; stroke-opacity:1; fill:none\" points=\"\n",
       "  1237.76,1086.13 1237.76,1067.23 \n",
       "  \"/>\n",
       "<polyline clip-path=\"url(#clip130)\" style=\"stroke:#000000; stroke-linecap:round; stroke-linejoin:round; stroke-width:4; stroke-opacity:1; fill:none\" points=\"\n",
       "  1421.97,1086.13 1421.97,1067.23 \n",
       "  \"/>\n",
       "<path clip-path=\"url(#clip130)\" d=\"M311.376 1138.19 L327.696 1138.19 L327.696 1142.13 L305.751 1142.13 L305.751 1138.19 Q308.413 1135.44 312.997 1130.81 Q317.603 1126.16 318.784 1124.81 Q321.029 1122.29 321.909 1120.55 Q322.811 1118.79 322.811 1117.1 Q322.811 1114.35 320.867 1112.61 Q318.946 1110.88 315.844 1110.88 Q313.645 1110.88 311.191 1111.64 Q308.76 1112.41 305.983 1113.96 L305.983 1109.23 Q308.807 1108.1 311.26 1107.52 Q313.714 1106.94 315.751 1106.94 Q321.121 1106.94 324.316 1109.63 Q327.51 1112.31 327.51 1116.8 Q327.51 1118.93 326.7 1120.85 Q325.913 1122.75 323.807 1125.35 Q323.228 1126.02 320.126 1129.23 Q317.024 1132.43 311.376 1138.19 Z\" fill=\"#000000\" fill-rule=\"evenodd\" fill-opacity=\"1\" /><path clip-path=\"url(#clip130)\" d=\"M503.94 1111.64 L492.135 1130.09 L503.94 1130.09 L503.94 1111.64 M502.713 1107.57 L508.593 1107.57 L508.593 1130.09 L513.523 1130.09 L513.523 1133.98 L508.593 1133.98 L508.593 1142.13 L503.94 1142.13 L503.94 1133.98 L488.338 1133.98 L488.338 1129.47 L502.713 1107.57 Z\" fill=\"#000000\" fill-rule=\"evenodd\" fill-opacity=\"1\" /><path clip-path=\"url(#clip130)\" d=\"M685.544 1122.98 Q682.395 1122.98 680.544 1125.14 Q678.715 1127.29 678.715 1131.04 Q678.715 1134.77 680.544 1136.94 Q682.395 1139.1 685.544 1139.1 Q688.692 1139.1 690.52 1136.94 Q692.372 1134.77 692.372 1131.04 Q692.372 1127.29 690.52 1125.14 Q688.692 1122.98 685.544 1122.98 M694.826 1108.33 L694.826 1112.59 Q693.067 1111.76 691.261 1111.32 Q689.479 1110.88 687.719 1110.88 Q683.09 1110.88 680.636 1114 Q678.206 1117.13 677.858 1123.45 Q679.224 1121.43 681.284 1120.37 Q683.344 1119.28 685.821 1119.28 Q691.03 1119.28 694.039 1122.45 Q697.071 1125.6 697.071 1131.04 Q697.071 1136.36 693.923 1139.58 Q690.775 1142.8 685.544 1142.8 Q679.548 1142.8 676.377 1138.22 Q673.206 1133.61 673.206 1124.88 Q673.206 1116.69 677.094 1111.83 Q680.983 1106.94 687.534 1106.94 Q689.293 1106.94 691.076 1107.29 Q692.881 1107.64 694.826 1108.33 Z\" fill=\"#000000\" fill-rule=\"evenodd\" fill-opacity=\"1\" /><path clip-path=\"url(#clip130)\" d=\"M869.346 1125.72 Q866.013 1125.72 864.091 1127.5 Q862.193 1129.28 862.193 1132.41 Q862.193 1135.53 864.091 1137.31 Q866.013 1139.1 869.346 1139.1 Q872.679 1139.1 874.601 1137.31 Q876.522 1135.51 876.522 1132.41 Q876.522 1129.28 874.601 1127.5 Q872.702 1125.72 869.346 1125.72 M864.67 1123.73 Q861.661 1122.98 859.971 1120.92 Q858.304 1118.86 858.304 1115.9 Q858.304 1111.76 861.244 1109.35 Q864.207 1106.94 869.346 1106.94 Q874.508 1106.94 877.448 1109.35 Q880.388 1111.76 880.388 1115.9 Q880.388 1118.86 878.698 1120.92 Q877.031 1122.98 874.045 1123.73 Q877.425 1124.51 879.3 1126.8 Q881.198 1129.1 881.198 1132.41 Q881.198 1137.43 878.119 1140.11 Q875.064 1142.8 869.346 1142.8 Q863.628 1142.8 860.55 1140.11 Q857.494 1137.43 857.494 1132.41 Q857.494 1129.1 859.392 1126.8 Q861.29 1124.51 864.67 1123.73 M862.957 1116.34 Q862.957 1119.03 864.624 1120.53 Q866.314 1122.04 869.346 1122.04 Q872.355 1122.04 874.045 1120.53 Q875.758 1119.03 875.758 1116.34 Q875.758 1113.66 874.045 1112.15 Q872.355 1110.65 869.346 1110.65 Q866.314 1110.65 864.624 1112.15 Q862.957 1113.66 862.957 1116.34 Z\" fill=\"#000000\" fill-rule=\"evenodd\" fill-opacity=\"1\" /><path clip-path=\"url(#clip130)\" d=\"M1028.24 1138.19 L1035.88 1138.19 L1035.88 1111.83 L1027.57 1113.49 L1027.57 1109.23 L1035.83 1107.57 L1040.51 1107.57 L1040.51 1138.19 L1048.15 1138.19 L1048.15 1142.13 L1028.24 1142.13 L1028.24 1138.19 Z\" fill=\"#000000\" fill-rule=\"evenodd\" fill-opacity=\"1\" /><path clip-path=\"url(#clip130)\" d=\"M1067.59 1110.65 Q1063.98 1110.65 1062.15 1114.21 Q1060.35 1117.75 1060.35 1124.88 Q1060.35 1131.99 1062.15 1135.55 Q1063.98 1139.1 1067.59 1139.1 Q1071.23 1139.1 1073.03 1135.55 Q1074.86 1131.99 1074.86 1124.88 Q1074.86 1117.75 1073.03 1114.21 Q1071.23 1110.65 1067.59 1110.65 M1067.59 1106.94 Q1073.4 1106.94 1076.46 1111.55 Q1079.54 1116.13 1079.54 1124.88 Q1079.54 1133.61 1076.46 1138.22 Q1073.4 1142.8 1067.59 1142.8 Q1061.78 1142.8 1058.7 1138.22 Q1055.65 1133.61 1055.65 1124.88 Q1055.65 1116.13 1058.7 1111.55 Q1061.78 1106.94 1067.59 1106.94 Z\" fill=\"#000000\" fill-rule=\"evenodd\" fill-opacity=\"1\" /><path clip-path=\"url(#clip130)\" d=\"M1213.25 1138.19 L1220.89 1138.19 L1220.89 1111.83 L1212.58 1113.49 L1212.58 1109.23 L1220.84 1107.57 L1225.52 1107.57 L1225.52 1138.19 L1233.15 1138.19 L1233.15 1142.13 L1213.25 1142.13 L1213.25 1138.19 Z\" fill=\"#000000\" fill-rule=\"evenodd\" fill-opacity=\"1\" /><path clip-path=\"url(#clip130)\" d=\"M1246.63 1138.19 L1262.95 1138.19 L1262.95 1142.13 L1241 1142.13 L1241 1138.19 Q1243.66 1135.44 1248.25 1130.81 Q1252.85 1126.16 1254.03 1124.81 Q1256.28 1122.29 1257.16 1120.55 Q1258.06 1118.79 1258.06 1117.1 Q1258.06 1114.35 1256.12 1112.61 Q1254.2 1110.88 1251.09 1110.88 Q1248.9 1110.88 1246.44 1111.64 Q1244.01 1112.41 1241.23 1113.96 L1241.23 1109.23 Q1244.06 1108.1 1246.51 1107.52 Q1248.96 1106.94 1251 1106.94 Q1256.37 1106.94 1259.57 1109.63 Q1262.76 1112.31 1262.76 1116.8 Q1262.76 1118.93 1261.95 1120.85 Q1261.16 1122.75 1259.06 1125.35 Q1258.48 1126.02 1255.38 1129.23 Q1252.27 1132.43 1246.63 1138.19 Z\" fill=\"#000000\" fill-rule=\"evenodd\" fill-opacity=\"1\" /><path clip-path=\"url(#clip130)\" d=\"M1396.41 1138.19 L1404.05 1138.19 L1404.05 1111.83 L1395.74 1113.49 L1395.74 1109.23 L1404.01 1107.57 L1408.68 1107.57 L1408.68 1138.19 L1416.32 1138.19 L1416.32 1142.13 L1396.41 1142.13 L1396.41 1138.19 Z\" fill=\"#000000\" fill-rule=\"evenodd\" fill-opacity=\"1\" /><path clip-path=\"url(#clip130)\" d=\"M1438.61 1111.64 L1426.81 1130.09 L1438.61 1130.09 L1438.61 1111.64 M1437.39 1107.57 L1443.26 1107.57 L1443.26 1130.09 L1448.2 1130.09 L1448.2 1133.98 L1443.26 1133.98 L1443.26 1142.13 L1438.61 1142.13 L1438.61 1133.98 L1423.01 1133.98 L1423.01 1129.47 L1437.39 1107.57 Z\" fill=\"#000000\" fill-rule=\"evenodd\" fill-opacity=\"1\" /><polyline clip-path=\"url(#clip132)\" style=\"stroke:#000000; stroke-linecap:round; stroke-linejoin:round; stroke-width:2; stroke-opacity:0.1; fill:none\" points=\"\n",
       "  185.936,955.323 1552.76,955.323 \n",
       "  \"/>\n",
       "<polyline clip-path=\"url(#clip132)\" style=\"stroke:#000000; stroke-linecap:round; stroke-linejoin:round; stroke-width:2; stroke-opacity:0.1; fill:none\" points=\"\n",
       "  185.936,657.471 1552.76,657.471 \n",
       "  \"/>\n",
       "<polyline clip-path=\"url(#clip132)\" style=\"stroke:#000000; stroke-linecap:round; stroke-linejoin:round; stroke-width:2; stroke-opacity:0.1; fill:none\" points=\"\n",
       "  185.936,359.62 1552.76,359.62 \n",
       "  \"/>\n",
       "<polyline clip-path=\"url(#clip132)\" style=\"stroke:#000000; stroke-linecap:round; stroke-linejoin:round; stroke-width:2; stroke-opacity:0.1; fill:none\" points=\"\n",
       "  185.936,61.7683 1552.76,61.7683 \n",
       "  \"/>\n",
       "<polyline clip-path=\"url(#clip130)\" style=\"stroke:#000000; stroke-linecap:round; stroke-linejoin:round; stroke-width:4; stroke-opacity:1; fill:none\" points=\"\n",
       "  185.936,1086.13 185.936,47.2441 \n",
       "  \"/>\n",
       "<polyline clip-path=\"url(#clip130)\" style=\"stroke:#000000; stroke-linecap:round; stroke-linejoin:round; stroke-width:4; stroke-opacity:1; fill:none\" points=\"\n",
       "  185.936,955.323 204.834,955.323 \n",
       "  \"/>\n",
       "<polyline clip-path=\"url(#clip130)\" style=\"stroke:#000000; stroke-linecap:round; stroke-linejoin:round; stroke-width:4; stroke-opacity:1; fill:none\" points=\"\n",
       "  185.936,657.471 204.834,657.471 \n",
       "  \"/>\n",
       "<polyline clip-path=\"url(#clip130)\" style=\"stroke:#000000; stroke-linecap:round; stroke-linejoin:round; stroke-width:4; stroke-opacity:1; fill:none\" points=\"\n",
       "  185.936,359.62 204.834,359.62 \n",
       "  \"/>\n",
       "<polyline clip-path=\"url(#clip130)\" style=\"stroke:#000000; stroke-linecap:round; stroke-linejoin:round; stroke-width:4; stroke-opacity:1; fill:none\" points=\"\n",
       "  185.936,61.7683 204.834,61.7683 \n",
       "  \"/>\n",
       "<path clip-path=\"url(#clip130)\" d=\"M54.9921 955.774 L84.6679 955.774 L84.6679 959.71 L54.9921 959.71 L54.9921 955.774 Z\" fill=\"#000000\" fill-rule=\"evenodd\" fill-opacity=\"1\" /><path clip-path=\"url(#clip130)\" d=\"M95.5706 968.668 L103.209 968.668 L103.209 942.302 L94.8993 943.969 L94.8993 939.71 L103.163 938.043 L107.839 938.043 L107.839 968.668 L115.478 968.668 L115.478 972.603 L95.5706 972.603 L95.5706 968.668 Z\" fill=\"#000000\" fill-rule=\"evenodd\" fill-opacity=\"1\" /><path clip-path=\"url(#clip130)\" d=\"M124.922 966.724 L129.807 966.724 L129.807 972.603 L124.922 972.603 L124.922 966.724 Z\" fill=\"#000000\" fill-rule=\"evenodd\" fill-opacity=\"1\" /><path clip-path=\"url(#clip130)\" d=\"M149.992 941.122 Q146.381 941.122 144.552 944.687 Q142.746 948.228 142.746 955.358 Q142.746 962.464 144.552 966.029 Q146.381 969.571 149.992 969.571 Q153.626 969.571 155.431 966.029 Q157.26 962.464 157.26 955.358 Q157.26 948.228 155.431 944.687 Q153.626 941.122 149.992 941.122 M149.992 937.418 Q155.802 937.418 158.857 942.025 Q161.936 946.608 161.936 955.358 Q161.936 964.085 158.857 968.691 Q155.802 973.274 149.992 973.274 Q144.181 973.274 141.103 968.691 Q138.047 964.085 138.047 955.358 Q138.047 946.608 141.103 942.025 Q144.181 937.418 149.992 937.418 Z\" fill=\"#000000\" fill-rule=\"evenodd\" fill-opacity=\"1\" /><path clip-path=\"url(#clip130)\" d=\"M55.9875 657.923 L85.6633 657.923 L85.6633 661.858 L55.9875 661.858 L55.9875 657.923 Z\" fill=\"#000000\" fill-rule=\"evenodd\" fill-opacity=\"1\" /><path clip-path=\"url(#clip130)\" d=\"M105.756 643.27 Q102.145 643.27 100.316 646.835 Q98.5104 650.377 98.5104 657.506 Q98.5104 664.613 100.316 668.177 Q102.145 671.719 105.756 671.719 Q109.39 671.719 111.196 668.177 Q113.024 664.613 113.024 657.506 Q113.024 650.377 111.196 646.835 Q109.39 643.27 105.756 643.27 M105.756 639.567 Q111.566 639.567 114.621 644.173 Q117.7 648.756 117.7 657.506 Q117.7 666.233 114.621 670.839 Q111.566 675.423 105.756 675.423 Q99.9456 675.423 96.8669 670.839 Q93.8114 666.233 93.8114 657.506 Q93.8114 648.756 96.8669 644.173 Q99.9456 639.567 105.756 639.567 Z\" fill=\"#000000\" fill-rule=\"evenodd\" fill-opacity=\"1\" /><path clip-path=\"url(#clip130)\" d=\"M125.918 668.872 L130.802 668.872 L130.802 674.751 L125.918 674.751 L125.918 668.872 Z\" fill=\"#000000\" fill-rule=\"evenodd\" fill-opacity=\"1\" /><path clip-path=\"url(#clip130)\" d=\"M141.033 640.191 L159.39 640.191 L159.39 644.127 L145.316 644.127 L145.316 652.599 Q146.334 652.252 147.353 652.09 Q148.371 651.904 149.39 651.904 Q155.177 651.904 158.556 655.076 Q161.936 658.247 161.936 663.664 Q161.936 669.242 158.464 672.344 Q154.992 675.423 148.672 675.423 Q146.496 675.423 144.228 675.052 Q141.982 674.682 139.575 673.941 L139.575 669.242 Q141.658 670.377 143.881 670.932 Q146.103 671.488 148.58 671.488 Q152.584 671.488 154.922 669.381 Q157.26 667.275 157.26 663.664 Q157.26 660.053 154.922 657.946 Q152.584 655.84 148.58 655.84 Q146.705 655.84 144.83 656.256 Q142.978 656.673 141.033 657.553 L141.033 640.191 Z\" fill=\"#000000\" fill-rule=\"evenodd\" fill-opacity=\"1\" /><path clip-path=\"url(#clip130)\" d=\"M104.76 345.419 Q101.149 345.419 99.3206 348.983 Q97.515 352.525 97.515 359.655 Q97.515 366.761 99.3206 370.326 Q101.149 373.868 104.76 373.868 Q108.395 373.868 110.2 370.326 Q112.029 366.761 112.029 359.655 Q112.029 352.525 110.2 348.983 Q108.395 345.419 104.76 345.419 M104.76 341.715 Q110.571 341.715 113.626 346.321 Q116.705 350.905 116.705 359.655 Q116.705 368.381 113.626 372.988 Q110.571 377.571 104.76 377.571 Q98.9502 377.571 95.8715 372.988 Q92.816 368.381 92.816 359.655 Q92.816 350.905 95.8715 346.321 Q98.9502 341.715 104.76 341.715 Z\" fill=\"#000000\" fill-rule=\"evenodd\" fill-opacity=\"1\" /><path clip-path=\"url(#clip130)\" d=\"M124.922 371.02 L129.807 371.02 L129.807 376.9 L124.922 376.9 L124.922 371.02 Z\" fill=\"#000000\" fill-rule=\"evenodd\" fill-opacity=\"1\" /><path clip-path=\"url(#clip130)\" d=\"M149.992 345.419 Q146.381 345.419 144.552 348.983 Q142.746 352.525 142.746 359.655 Q142.746 366.761 144.552 370.326 Q146.381 373.868 149.992 373.868 Q153.626 373.868 155.431 370.326 Q157.26 366.761 157.26 359.655 Q157.26 352.525 155.431 348.983 Q153.626 345.419 149.992 345.419 M149.992 341.715 Q155.802 341.715 158.857 346.321 Q161.936 350.905 161.936 359.655 Q161.936 368.381 158.857 372.988 Q155.802 377.571 149.992 377.571 Q144.181 377.571 141.103 372.988 Q138.047 368.381 138.047 359.655 Q138.047 350.905 141.103 346.321 Q144.181 341.715 149.992 341.715 Z\" fill=\"#000000\" fill-rule=\"evenodd\" fill-opacity=\"1\" /><path clip-path=\"url(#clip130)\" d=\"M105.756 47.567 Q102.145 47.567 100.316 51.1318 Q98.5104 54.6734 98.5104 61.803 Q98.5104 68.9095 100.316 72.4742 Q102.145 76.0159 105.756 76.0159 Q109.39 76.0159 111.196 72.4742 Q113.024 68.9095 113.024 61.803 Q113.024 54.6734 111.196 51.1318 Q109.39 47.567 105.756 47.567 M105.756 43.8633 Q111.566 43.8633 114.621 48.4697 Q117.7 53.0531 117.7 61.803 Q117.7 70.5298 114.621 75.1363 Q111.566 79.7196 105.756 79.7196 Q99.9456 79.7196 96.8669 75.1363 Q93.8114 70.5298 93.8114 61.803 Q93.8114 53.0531 96.8669 48.4697 Q99.9456 43.8633 105.756 43.8633 Z\" fill=\"#000000\" fill-rule=\"evenodd\" fill-opacity=\"1\" /><path clip-path=\"url(#clip130)\" d=\"M125.918 73.1687 L130.802 73.1687 L130.802 79.0483 L125.918 79.0483 L125.918 73.1687 Z\" fill=\"#000000\" fill-rule=\"evenodd\" fill-opacity=\"1\" /><path clip-path=\"url(#clip130)\" d=\"M141.033 44.4883 L159.39 44.4883 L159.39 48.4234 L145.316 48.4234 L145.316 56.8956 Q146.334 56.5484 147.353 56.3864 Q148.371 56.2012 149.39 56.2012 Q155.177 56.2012 158.556 59.3725 Q161.936 62.5437 161.936 67.9604 Q161.936 73.5391 158.464 76.6409 Q154.992 79.7196 148.672 79.7196 Q146.496 79.7196 144.228 79.3492 Q141.982 78.9788 139.575 78.2381 L139.575 73.5391 Q141.658 74.6733 143.881 75.2289 Q146.103 75.7844 148.58 75.7844 Q152.584 75.7844 154.922 73.6779 Q157.26 71.5715 157.26 67.9604 Q157.26 64.3493 154.922 62.2428 Q152.584 60.1363 148.58 60.1363 Q146.705 60.1363 144.83 60.553 Q142.978 60.9697 141.033 61.8493 L141.033 44.4883 Z\" fill=\"#000000\" fill-rule=\"evenodd\" fill-opacity=\"1\" /><polyline clip-path=\"url(#clip132)\" style=\"stroke:#009af9; stroke-linecap:round; stroke-linejoin:round; stroke-width:4; stroke-opacity:1; fill:none\" points=\"\n",
       "  224.62,76.6465 316.723,493.62 408.827,673.29 500.931,783.475 593.035,866.273 685.138,934.015 777.242,989.498 869.346,1031.41 961.45,1055.88 1053.55,1056.73 \n",
       "  1145.66,1025.2 1237.76,949.429 1329.86,813.524 1421.97,596.528 1514.07,270.98 \n",
       "  \"/>\n",
       "<circle clip-path=\"url(#clip132)\" cx=\"224.62\" cy=\"76.6465\" r=\"14.4\" fill=\"#e26f46\" fill-rule=\"evenodd\" fill-opacity=\"1\" stroke=\"#000000\" stroke-opacity=\"1\" stroke-width=\"2.4\"/>\n",
       "<circle clip-path=\"url(#clip132)\" cx=\"316.723\" cy=\"493.62\" r=\"14.4\" fill=\"#e26f46\" fill-rule=\"evenodd\" fill-opacity=\"1\" stroke=\"#000000\" stroke-opacity=\"1\" stroke-width=\"2.4\"/>\n",
       "<circle clip-path=\"url(#clip132)\" cx=\"408.827\" cy=\"673.29\" r=\"14.4\" fill=\"#e26f46\" fill-rule=\"evenodd\" fill-opacity=\"1\" stroke=\"#000000\" stroke-opacity=\"1\" stroke-width=\"2.4\"/>\n",
       "<circle clip-path=\"url(#clip132)\" cx=\"500.931\" cy=\"783.475\" r=\"14.4\" fill=\"#e26f46\" fill-rule=\"evenodd\" fill-opacity=\"1\" stroke=\"#000000\" stroke-opacity=\"1\" stroke-width=\"2.4\"/>\n",
       "<circle clip-path=\"url(#clip132)\" cx=\"593.035\" cy=\"866.273\" r=\"14.4\" fill=\"#e26f46\" fill-rule=\"evenodd\" fill-opacity=\"1\" stroke=\"#000000\" stroke-opacity=\"1\" stroke-width=\"2.4\"/>\n",
       "<circle clip-path=\"url(#clip132)\" cx=\"685.138\" cy=\"934.015\" r=\"14.4\" fill=\"#e26f46\" fill-rule=\"evenodd\" fill-opacity=\"1\" stroke=\"#000000\" stroke-opacity=\"1\" stroke-width=\"2.4\"/>\n",
       "<circle clip-path=\"url(#clip132)\" cx=\"777.242\" cy=\"989.498\" r=\"14.4\" fill=\"#e26f46\" fill-rule=\"evenodd\" fill-opacity=\"1\" stroke=\"#000000\" stroke-opacity=\"1\" stroke-width=\"2.4\"/>\n",
       "<circle clip-path=\"url(#clip132)\" cx=\"869.346\" cy=\"1031.41\" r=\"14.4\" fill=\"#e26f46\" fill-rule=\"evenodd\" fill-opacity=\"1\" stroke=\"#000000\" stroke-opacity=\"1\" stroke-width=\"2.4\"/>\n",
       "<circle clip-path=\"url(#clip132)\" cx=\"961.45\" cy=\"1055.88\" r=\"14.4\" fill=\"#e26f46\" fill-rule=\"evenodd\" fill-opacity=\"1\" stroke=\"#000000\" stroke-opacity=\"1\" stroke-width=\"2.4\"/>\n",
       "<circle clip-path=\"url(#clip132)\" cx=\"1053.55\" cy=\"1056.73\" r=\"14.4\" fill=\"#e26f46\" fill-rule=\"evenodd\" fill-opacity=\"1\" stroke=\"#000000\" stroke-opacity=\"1\" stroke-width=\"2.4\"/>\n",
       "<circle clip-path=\"url(#clip132)\" cx=\"1145.66\" cy=\"1025.2\" r=\"14.4\" fill=\"#e26f46\" fill-rule=\"evenodd\" fill-opacity=\"1\" stroke=\"#000000\" stroke-opacity=\"1\" stroke-width=\"2.4\"/>\n",
       "<circle clip-path=\"url(#clip132)\" cx=\"1237.76\" cy=\"949.429\" r=\"14.4\" fill=\"#e26f46\" fill-rule=\"evenodd\" fill-opacity=\"1\" stroke=\"#000000\" stroke-opacity=\"1\" stroke-width=\"2.4\"/>\n",
       "<circle clip-path=\"url(#clip132)\" cx=\"1329.86\" cy=\"813.524\" r=\"14.4\" fill=\"#e26f46\" fill-rule=\"evenodd\" fill-opacity=\"1\" stroke=\"#000000\" stroke-opacity=\"1\" stroke-width=\"2.4\"/>\n",
       "<circle clip-path=\"url(#clip132)\" cx=\"1421.97\" cy=\"596.528\" r=\"14.4\" fill=\"#e26f46\" fill-rule=\"evenodd\" fill-opacity=\"1\" stroke=\"#000000\" stroke-opacity=\"1\" stroke-width=\"2.4\"/>\n",
       "<circle clip-path=\"url(#clip132)\" cx=\"1514.07\" cy=\"270.98\" r=\"14.4\" fill=\"#e26f46\" fill-rule=\"evenodd\" fill-opacity=\"1\" stroke=\"#000000\" stroke-opacity=\"1\" stroke-width=\"2.4\"/>\n",
       "<path clip-path=\"url(#clip130)\" d=\"\n",
       "M1066.72 185.554 L1507.2 185.554 L1507.2 81.8736 L1066.72 81.8736  Z\n",
       "  \" fill=\"#ffffff\" fill-rule=\"evenodd\" fill-opacity=\"1\"/>\n",
       "<polyline clip-path=\"url(#clip130)\" style=\"stroke:#000000; stroke-linecap:round; stroke-linejoin:round; stroke-width:4; stroke-opacity:1; fill:none\" points=\"\n",
       "  1066.72,185.554 1507.2,185.554 1507.2,81.8736 1066.72,81.8736 1066.72,185.554 \n",
       "  \"/>\n",
       "<polyline clip-path=\"url(#clip130)\" style=\"stroke:#009af9; stroke-linecap:round; stroke-linejoin:round; stroke-width:4; stroke-opacity:1; fill:none\" points=\"\n",
       "  1081.9,133.714 1173.03,133.714 \n",
       "  \"/>\n",
       "<path clip-path=\"url(#clip130)\" d=\"M1206.64 125.832 L1206.64 129.859 Q1204.83 128.933 1202.89 128.471 Q1200.94 128.008 1198.86 128.008 Q1195.69 128.008 1194.09 128.98 Q1192.52 129.952 1192.52 131.896 Q1192.52 133.378 1193.65 134.234 Q1194.79 135.068 1198.21 135.832 L1199.67 136.156 Q1204.21 137.128 1206.11 138.91 Q1208.03 140.67 1208.03 143.841 Q1208.03 147.452 1205.16 149.558 Q1202.31 151.665 1197.31 151.665 Q1195.23 151.665 1192.96 151.248 Q1190.71 150.855 1188.21 150.044 L1188.21 145.646 Q1190.57 146.873 1192.86 147.498 Q1195.16 148.1 1197.4 148.1 Q1200.41 148.1 1202.03 147.082 Q1203.65 146.04 1203.65 144.165 Q1203.65 142.429 1202.47 141.503 Q1201.31 140.577 1197.36 139.72 L1195.87 139.373 Q1191.92 138.54 1190.16 136.827 Q1188.4 135.091 1188.4 132.082 Q1188.4 128.424 1190.99 126.434 Q1193.58 124.443 1198.35 124.443 Q1200.71 124.443 1202.8 124.79 Q1204.88 125.137 1206.64 125.832 Z\" fill=\"#000000\" fill-rule=\"evenodd\" fill-opacity=\"1\" /><path clip-path=\"url(#clip130)\" d=\"M1224.86 128.054 Q1221.43 128.054 1219.44 130.739 Q1217.45 133.401 1217.45 138.054 Q1217.45 142.707 1219.42 145.392 Q1221.41 148.054 1224.86 148.054 Q1228.26 148.054 1230.25 145.369 Q1232.24 142.683 1232.24 138.054 Q1232.24 133.447 1230.25 130.762 Q1228.26 128.054 1224.86 128.054 M1224.86 124.443 Q1230.41 124.443 1233.58 128.054 Q1236.75 131.665 1236.75 138.054 Q1236.75 144.42 1233.58 148.054 Q1230.41 151.665 1224.86 151.665 Q1219.28 151.665 1216.11 148.054 Q1212.96 144.42 1212.96 138.054 Q1212.96 131.665 1216.11 128.054 Q1219.28 124.443 1224.86 124.443 Z\" fill=\"#000000\" fill-rule=\"evenodd\" fill-opacity=\"1\" /><path clip-path=\"url(#clip130)\" d=\"M1243.81 114.975 L1248.07 114.975 L1248.07 150.994 L1243.81 150.994 L1243.81 114.975 Z\" fill=\"#000000\" fill-rule=\"evenodd\" fill-opacity=\"1\" /><path clip-path=\"url(#clip130)\" d=\"M1256.54 140.762 L1256.54 125.068 L1260.8 125.068 L1260.8 140.6 Q1260.8 144.281 1262.24 146.132 Q1263.67 147.961 1266.54 147.961 Q1269.99 147.961 1271.98 145.762 Q1274 143.563 1274 139.767 L1274 125.068 L1278.26 125.068 L1278.26 150.994 L1274 150.994 L1274 147.012 Q1272.45 149.373 1270.39 150.531 Q1268.35 151.665 1265.64 151.665 Q1261.17 151.665 1258.86 148.887 Q1256.54 146.109 1256.54 140.762 M1267.26 124.443 L1267.26 124.443 Z\" fill=\"#000000\" fill-rule=\"evenodd\" fill-opacity=\"1\" /><path clip-path=\"url(#clip130)\" d=\"M1303.56 125.832 L1303.56 129.859 Q1301.75 128.933 1299.81 128.471 Q1297.86 128.008 1295.78 128.008 Q1292.61 128.008 1291.01 128.98 Q1289.44 129.952 1289.44 131.896 Q1289.44 133.378 1290.57 134.234 Q1291.71 135.068 1295.13 135.832 L1296.59 136.156 Q1301.13 137.128 1303.03 138.91 Q1304.95 140.67 1304.95 143.841 Q1304.95 147.452 1302.08 149.558 Q1299.23 151.665 1294.23 151.665 Q1292.15 151.665 1289.88 151.248 Q1287.63 150.855 1285.13 150.044 L1285.13 145.646 Q1287.49 146.873 1289.79 147.498 Q1292.08 148.1 1294.32 148.1 Q1297.33 148.1 1298.95 147.082 Q1300.57 146.04 1300.57 144.165 Q1300.57 142.429 1299.39 141.503 Q1298.23 140.577 1294.28 139.72 L1292.79 139.373 Q1288.84 138.54 1287.08 136.827 Q1285.32 135.091 1285.32 132.082 Q1285.32 128.424 1287.91 126.434 Q1290.5 124.443 1295.27 124.443 Q1297.63 124.443 1299.72 124.79 Q1301.8 125.137 1303.56 125.832 Z\" fill=\"#000000\" fill-rule=\"evenodd\" fill-opacity=\"1\" /><path clip-path=\"url(#clip130)\" d=\"M1311.73 125.068 L1315.99 125.068 L1315.99 150.994 L1311.73 150.994 L1311.73 125.068 M1311.73 114.975 L1315.99 114.975 L1315.99 120.369 L1311.73 120.369 L1311.73 114.975 Z\" fill=\"#000000\" fill-rule=\"evenodd\" fill-opacity=\"1\" /><path clip-path=\"url(#clip130)\" d=\"M1361.52 135.345 L1361.52 150.994 L1357.26 150.994 L1357.26 135.484 Q1357.26 131.804 1355.83 129.975 Q1354.39 128.146 1351.52 128.146 Q1348.07 128.146 1346.08 130.346 Q1344.09 132.545 1344.09 136.341 L1344.09 150.994 L1339.81 150.994 L1339.81 114.975 L1344.09 114.975 L1344.09 129.096 Q1345.62 126.758 1347.68 125.6 Q1349.76 124.443 1352.47 124.443 Q1356.94 124.443 1359.23 127.221 Q1361.52 129.975 1361.52 135.345 Z\" fill=\"#000000\" fill-rule=\"evenodd\" fill-opacity=\"1\" /><path clip-path=\"url(#clip130)\" d=\"M1370.57 129.466 L1400.25 129.466 L1400.25 133.355 L1370.57 133.355 L1370.57 129.466 M1370.57 138.91 L1400.25 138.91 L1400.25 142.845 L1370.57 142.845 L1370.57 138.91 Z\" fill=\"#000000\" fill-rule=\"evenodd\" fill-opacity=\"1\" /><path clip-path=\"url(#clip130)\" d=\"M1411.15 147.058 L1418.79 147.058 L1418.79 120.693 L1410.48 122.359 L1410.48 118.1 L1418.74 116.434 L1423.42 116.434 L1423.42 147.058 L1431.06 147.058 L1431.06 150.994 L1411.15 150.994 L1411.15 147.058 Z\" fill=\"#000000\" fill-rule=\"evenodd\" fill-opacity=\"1\" /><path clip-path=\"url(#clip130)\" d=\"M1447.47 116.434 L1451.4 116.434 L1439.37 155.392 L1435.43 155.392 L1447.47 116.434 Z\" fill=\"#000000\" fill-rule=\"evenodd\" fill-opacity=\"1\" /><path clip-path=\"url(#clip130)\" d=\"M1460.5 147.058 L1476.82 147.058 L1476.82 150.994 L1454.88 150.994 L1454.88 147.058 Q1457.54 144.304 1462.12 139.674 Q1466.73 135.021 1467.91 133.679 Q1470.15 131.156 1471.03 129.42 Q1471.94 127.66 1471.94 125.971 Q1471.94 123.216 1469.99 121.48 Q1468.07 119.744 1464.97 119.744 Q1462.77 119.744 1460.32 120.508 Q1457.89 121.271 1455.11 122.822 L1455.11 118.1 Q1457.93 116.966 1460.39 116.387 Q1462.84 115.809 1464.88 115.809 Q1470.25 115.809 1473.44 118.494 Q1476.64 121.179 1476.64 125.67 Q1476.64 127.799 1475.83 129.721 Q1475.04 131.619 1472.93 134.211 Q1472.35 134.883 1469.25 138.1 Q1466.15 141.295 1460.5 147.058 Z\" fill=\"#000000\" fill-rule=\"evenodd\" fill-opacity=\"1\" /></svg>\n"
      ]
     },
     "execution_count": 62,
     "metadata": {},
     "output_type": "execute_result"
    }
   ],
   "source": [
    "solu = [Y]\n",
    "plot(solu, label = \"solusi h=1/2\",size=(400,300))\n",
    "scatter!(solu, label = :none)"
   ]
  },
  {
   "cell_type": "markdown",
   "id": "88315f53",
   "metadata": {},
   "source": [
    "<center> sedangkan solusi aktualnya adalah"
   ]
  },
  {
   "cell_type": "markdown",
   "id": "7ffab0c0",
   "metadata": {},
   "source": [
    "$$x(t)=t^2 - 0.2525826491t-2.528442297 t \\ln t$$"
   ]
  },
  {
   "cell_type": "code",
   "execution_count": 63,
   "id": "b103d378",
   "metadata": {},
   "outputs": [
    {
     "data": {
      "image/svg+xml": [
       "<?xml version=\"1.0\" encoding=\"utf-8\"?>\n",
       "<svg xmlns=\"http://www.w3.org/2000/svg\" xmlns:xlink=\"http://www.w3.org/1999/xlink\" width=\"400\" height=\"300\" viewBox=\"0 0 1600 1200\">\n",
       "<defs>\n",
       "  <clipPath id=\"clip170\">\n",
       "    <rect x=\"0\" y=\"0\" width=\"1600\" height=\"1200\"/>\n",
       "  </clipPath>\n",
       "</defs>\n",
       "<path clip-path=\"url(#clip170)\" d=\"\n",
       "M0 1200 L1600 1200 L1600 0 L0 0  Z\n",
       "  \" fill=\"#ffffff\" fill-rule=\"evenodd\" fill-opacity=\"1\"/>\n",
       "<defs>\n",
       "  <clipPath id=\"clip171\">\n",
       "    <rect x=\"320\" y=\"0\" width=\"1121\" height=\"1121\"/>\n",
       "  </clipPath>\n",
       "</defs>\n",
       "<path clip-path=\"url(#clip170)\" d=\"\n",
       "M133.853 1086.13 L1552.76 1086.13 L1552.76 47.2441 L133.853 47.2441  Z\n",
       "  \" fill=\"#ffffff\" fill-rule=\"evenodd\" fill-opacity=\"1\"/>\n",
       "<defs>\n",
       "  <clipPath id=\"clip172\">\n",
       "    <rect x=\"133\" y=\"47\" width=\"1420\" height=\"1040\"/>\n",
       "  </clipPath>\n",
       "</defs>\n",
       "<polyline clip-path=\"url(#clip172)\" style=\"stroke:#000000; stroke-linecap:round; stroke-linejoin:round; stroke-width:2; stroke-opacity:0.1; fill:none\" points=\"\n",
       "  269.624,1086.13 269.624,47.2441 \n",
       "  \"/>\n",
       "<polyline clip-path=\"url(#clip172)\" style=\"stroke:#000000; stroke-linecap:round; stroke-linejoin:round; stroke-width:2; stroke-opacity:0.1; fill:none\" points=\"\n",
       "  460.851,1086.13 460.851,47.2441 \n",
       "  \"/>\n",
       "<polyline clip-path=\"url(#clip172)\" style=\"stroke:#000000; stroke-linecap:round; stroke-linejoin:round; stroke-width:2; stroke-opacity:0.1; fill:none\" points=\"\n",
       "  652.078,1086.13 652.078,47.2441 \n",
       "  \"/>\n",
       "<polyline clip-path=\"url(#clip172)\" style=\"stroke:#000000; stroke-linecap:round; stroke-linejoin:round; stroke-width:2; stroke-opacity:0.1; fill:none\" points=\"\n",
       "  843.304,1086.13 843.304,47.2441 \n",
       "  \"/>\n",
       "<polyline clip-path=\"url(#clip172)\" style=\"stroke:#000000; stroke-linecap:round; stroke-linejoin:round; stroke-width:2; stroke-opacity:0.1; fill:none\" points=\"\n",
       "  1034.53,1086.13 1034.53,47.2441 \n",
       "  \"/>\n",
       "<polyline clip-path=\"url(#clip172)\" style=\"stroke:#000000; stroke-linecap:round; stroke-linejoin:round; stroke-width:2; stroke-opacity:0.1; fill:none\" points=\"\n",
       "  1225.76,1086.13 1225.76,47.2441 \n",
       "  \"/>\n",
       "<polyline clip-path=\"url(#clip172)\" style=\"stroke:#000000; stroke-linecap:round; stroke-linejoin:round; stroke-width:2; stroke-opacity:0.1; fill:none\" points=\"\n",
       "  1416.98,1086.13 1416.98,47.2441 \n",
       "  \"/>\n",
       "<polyline clip-path=\"url(#clip170)\" style=\"stroke:#000000; stroke-linecap:round; stroke-linejoin:round; stroke-width:4; stroke-opacity:1; fill:none\" points=\"\n",
       "  133.853,1086.13 1552.76,1086.13 \n",
       "  \"/>\n",
       "<polyline clip-path=\"url(#clip170)\" style=\"stroke:#000000; stroke-linecap:round; stroke-linejoin:round; stroke-width:4; stroke-opacity:1; fill:none\" points=\"\n",
       "  269.624,1086.13 269.624,1067.23 \n",
       "  \"/>\n",
       "<polyline clip-path=\"url(#clip170)\" style=\"stroke:#000000; stroke-linecap:round; stroke-linejoin:round; stroke-width:4; stroke-opacity:1; fill:none\" points=\"\n",
       "  460.851,1086.13 460.851,1067.23 \n",
       "  \"/>\n",
       "<polyline clip-path=\"url(#clip170)\" style=\"stroke:#000000; stroke-linecap:round; stroke-linejoin:round; stroke-width:4; stroke-opacity:1; fill:none\" points=\"\n",
       "  652.078,1086.13 652.078,1067.23 \n",
       "  \"/>\n",
       "<polyline clip-path=\"url(#clip170)\" style=\"stroke:#000000; stroke-linecap:round; stroke-linejoin:round; stroke-width:4; stroke-opacity:1; fill:none\" points=\"\n",
       "  843.304,1086.13 843.304,1067.23 \n",
       "  \"/>\n",
       "<polyline clip-path=\"url(#clip170)\" style=\"stroke:#000000; stroke-linecap:round; stroke-linejoin:round; stroke-width:4; stroke-opacity:1; fill:none\" points=\"\n",
       "  1034.53,1086.13 1034.53,1067.23 \n",
       "  \"/>\n",
       "<polyline clip-path=\"url(#clip170)\" style=\"stroke:#000000; stroke-linecap:round; stroke-linejoin:round; stroke-width:4; stroke-opacity:1; fill:none\" points=\"\n",
       "  1225.76,1086.13 1225.76,1067.23 \n",
       "  \"/>\n",
       "<polyline clip-path=\"url(#clip170)\" style=\"stroke:#000000; stroke-linecap:round; stroke-linejoin:round; stroke-width:4; stroke-opacity:1; fill:none\" points=\"\n",
       "  1416.98,1086.13 1416.98,1067.23 \n",
       "  \"/>\n",
       "<path clip-path=\"url(#clip170)\" d=\"M264.277 1138.19 L280.596 1138.19 L280.596 1142.13 L258.652 1142.13 L258.652 1138.19 Q261.314 1135.44 265.897 1130.81 Q270.504 1126.16 271.684 1124.81 Q273.93 1122.29 274.809 1120.55 Q275.712 1118.79 275.712 1117.1 Q275.712 1114.35 273.767 1112.61 Q271.846 1110.88 268.744 1110.88 Q266.545 1110.88 264.092 1111.64 Q261.661 1112.41 258.883 1113.96 L258.883 1109.23 Q261.707 1108.1 264.161 1107.52 Q266.615 1106.94 268.652 1106.94 Q274.022 1106.94 277.217 1109.63 Q280.411 1112.31 280.411 1116.8 Q280.411 1118.93 279.601 1120.85 Q278.814 1122.75 276.707 1125.35 Q276.129 1126.02 273.027 1129.23 Q269.925 1132.43 264.277 1138.19 Z\" fill=\"#000000\" fill-rule=\"evenodd\" fill-opacity=\"1\" /><path clip-path=\"url(#clip170)\" d=\"M463.86 1111.64 L452.055 1130.09 L463.86 1130.09 L463.86 1111.64 M462.633 1107.57 L468.513 1107.57 L468.513 1130.09 L473.443 1130.09 L473.443 1133.98 L468.513 1133.98 L468.513 1142.13 L463.86 1142.13 L463.86 1133.98 L448.258 1133.98 L448.258 1129.47 L462.633 1107.57 Z\" fill=\"#000000\" fill-rule=\"evenodd\" fill-opacity=\"1\" /><path clip-path=\"url(#clip170)\" d=\"M652.483 1122.98 Q649.335 1122.98 647.483 1125.14 Q645.654 1127.29 645.654 1131.04 Q645.654 1134.77 647.483 1136.94 Q649.335 1139.1 652.483 1139.1 Q655.631 1139.1 657.46 1136.94 Q659.311 1134.77 659.311 1131.04 Q659.311 1127.29 657.46 1125.14 Q655.631 1122.98 652.483 1122.98 M661.765 1108.33 L661.765 1112.59 Q660.006 1111.76 658.2 1111.32 Q656.418 1110.88 654.659 1110.88 Q650.029 1110.88 647.575 1114 Q645.145 1117.13 644.798 1123.45 Q646.163 1121.43 648.223 1120.37 Q650.284 1119.28 652.76 1119.28 Q657.969 1119.28 660.978 1122.45 Q664.01 1125.6 664.01 1131.04 Q664.01 1136.36 660.862 1139.58 Q657.714 1142.8 652.483 1142.8 Q646.487 1142.8 643.316 1138.22 Q640.145 1133.61 640.145 1124.88 Q640.145 1116.69 644.034 1111.83 Q647.923 1106.94 654.473 1106.94 Q656.233 1106.94 658.015 1107.29 Q659.821 1107.64 661.765 1108.33 Z\" fill=\"#000000\" fill-rule=\"evenodd\" fill-opacity=\"1\" /><path clip-path=\"url(#clip170)\" d=\"M843.304 1125.72 Q839.971 1125.72 838.05 1127.5 Q836.152 1129.28 836.152 1132.41 Q836.152 1135.53 838.05 1137.31 Q839.971 1139.1 843.304 1139.1 Q846.638 1139.1 848.559 1137.31 Q850.48 1135.51 850.48 1132.41 Q850.48 1129.28 848.559 1127.5 Q846.661 1125.72 843.304 1125.72 M838.629 1123.73 Q835.619 1122.98 833.929 1120.92 Q832.263 1118.86 832.263 1115.9 Q832.263 1111.76 835.203 1109.35 Q838.166 1106.94 843.304 1106.94 Q848.466 1106.94 851.406 1109.35 Q854.346 1111.76 854.346 1115.9 Q854.346 1118.86 852.656 1120.92 Q850.99 1122.98 848.003 1123.73 Q851.383 1124.51 853.258 1126.8 Q855.156 1129.1 855.156 1132.41 Q855.156 1137.43 852.078 1140.11 Q849.022 1142.8 843.304 1142.8 Q837.587 1142.8 834.508 1140.11 Q831.453 1137.43 831.453 1132.41 Q831.453 1129.1 833.351 1126.8 Q835.249 1124.51 838.629 1123.73 M836.916 1116.34 Q836.916 1119.03 838.582 1120.53 Q840.272 1122.04 843.304 1122.04 Q846.314 1122.04 848.003 1120.53 Q849.716 1119.03 849.716 1116.34 Q849.716 1113.66 848.003 1112.15 Q846.314 1110.65 843.304 1110.65 Q840.272 1110.65 838.582 1112.15 Q836.916 1113.66 836.916 1116.34 Z\" fill=\"#000000\" fill-rule=\"evenodd\" fill-opacity=\"1\" /><path clip-path=\"url(#clip170)\" d=\"M1009.22 1138.19 L1016.86 1138.19 L1016.86 1111.83 L1008.55 1113.49 L1008.55 1109.23 L1016.81 1107.57 L1021.49 1107.57 L1021.49 1138.19 L1029.13 1138.19 L1029.13 1142.13 L1009.22 1142.13 L1009.22 1138.19 Z\" fill=\"#000000\" fill-rule=\"evenodd\" fill-opacity=\"1\" /><path clip-path=\"url(#clip170)\" d=\"M1048.57 1110.65 Q1044.96 1110.65 1043.13 1114.21 Q1041.33 1117.75 1041.33 1124.88 Q1041.33 1131.99 1043.13 1135.55 Q1044.96 1139.1 1048.57 1139.1 Q1052.2 1139.1 1054.01 1135.55 Q1055.84 1131.99 1055.84 1124.88 Q1055.84 1117.75 1054.01 1114.21 Q1052.2 1110.65 1048.57 1110.65 M1048.57 1106.94 Q1054.38 1106.94 1057.44 1111.55 Q1060.51 1116.13 1060.51 1124.88 Q1060.51 1133.61 1057.44 1138.22 Q1054.38 1142.8 1048.57 1142.8 Q1042.76 1142.8 1039.68 1138.22 Q1036.63 1133.61 1036.63 1124.88 Q1036.63 1116.13 1039.68 1111.55 Q1042.76 1106.94 1048.57 1106.94 Z\" fill=\"#000000\" fill-rule=\"evenodd\" fill-opacity=\"1\" /><path clip-path=\"url(#clip170)\" d=\"M1201.24 1138.19 L1208.88 1138.19 L1208.88 1111.83 L1200.57 1113.49 L1200.57 1109.23 L1208.84 1107.57 L1213.51 1107.57 L1213.51 1138.19 L1221.15 1138.19 L1221.15 1142.13 L1201.24 1142.13 L1201.24 1138.19 Z\" fill=\"#000000\" fill-rule=\"evenodd\" fill-opacity=\"1\" /><path clip-path=\"url(#clip170)\" d=\"M1234.62 1138.19 L1250.94 1138.19 L1250.94 1142.13 L1229 1142.13 L1229 1138.19 Q1231.66 1135.44 1236.24 1130.81 Q1240.85 1126.16 1242.03 1124.81 Q1244.28 1122.29 1245.16 1120.55 Q1246.06 1118.79 1246.06 1117.1 Q1246.06 1114.35 1244.11 1112.61 Q1242.19 1110.88 1239.09 1110.88 Q1236.89 1110.88 1234.44 1111.64 Q1232.01 1112.41 1229.23 1113.96 L1229.23 1109.23 Q1232.05 1108.1 1234.51 1107.52 Q1236.96 1106.94 1239 1106.94 Q1244.37 1106.94 1247.56 1109.63 Q1250.76 1112.31 1250.76 1116.8 Q1250.76 1118.93 1249.95 1120.85 Q1249.16 1122.75 1247.05 1125.35 Q1246.48 1126.02 1243.37 1129.23 Q1240.27 1132.43 1234.62 1138.19 Z\" fill=\"#000000\" fill-rule=\"evenodd\" fill-opacity=\"1\" /><path clip-path=\"url(#clip170)\" d=\"M1391.43 1138.19 L1399.07 1138.19 L1399.07 1111.83 L1390.76 1113.49 L1390.76 1109.23 L1399.02 1107.57 L1403.7 1107.57 L1403.7 1138.19 L1411.34 1138.19 L1411.34 1142.13 L1391.43 1142.13 L1391.43 1138.19 Z\" fill=\"#000000\" fill-rule=\"evenodd\" fill-opacity=\"1\" /><path clip-path=\"url(#clip170)\" d=\"M1433.63 1111.64 L1421.82 1130.09 L1433.63 1130.09 L1433.63 1111.64 M1432.4 1107.57 L1438.28 1107.57 L1438.28 1130.09 L1443.21 1130.09 L1443.21 1133.98 L1438.28 1133.98 L1438.28 1142.13 L1433.63 1142.13 L1433.63 1133.98 L1418.03 1133.98 L1418.03 1129.47 L1432.4 1107.57 Z\" fill=\"#000000\" fill-rule=\"evenodd\" fill-opacity=\"1\" /><polyline clip-path=\"url(#clip172)\" style=\"stroke:#000000; stroke-linecap:round; stroke-linejoin:round; stroke-width:2; stroke-opacity:0.1; fill:none\" points=\"\n",
       "  133.853,1013.6 1552.76,1013.6 \n",
       "  \"/>\n",
       "<polyline clip-path=\"url(#clip172)\" style=\"stroke:#000000; stroke-linecap:round; stroke-linejoin:round; stroke-width:2; stroke-opacity:0.1; fill:none\" points=\"\n",
       "  133.853,789.193 1552.76,789.193 \n",
       "  \"/>\n",
       "<polyline clip-path=\"url(#clip172)\" style=\"stroke:#000000; stroke-linecap:round; stroke-linejoin:round; stroke-width:2; stroke-opacity:0.1; fill:none\" points=\"\n",
       "  133.853,564.781 1552.76,564.781 \n",
       "  \"/>\n",
       "<polyline clip-path=\"url(#clip172)\" style=\"stroke:#000000; stroke-linecap:round; stroke-linejoin:round; stroke-width:2; stroke-opacity:0.1; fill:none\" points=\"\n",
       "  133.853,340.37 1552.76,340.37 \n",
       "  \"/>\n",
       "<polyline clip-path=\"url(#clip172)\" style=\"stroke:#000000; stroke-linecap:round; stroke-linejoin:round; stroke-width:2; stroke-opacity:0.1; fill:none\" points=\"\n",
       "  133.853,115.959 1552.76,115.959 \n",
       "  \"/>\n",
       "<polyline clip-path=\"url(#clip170)\" style=\"stroke:#000000; stroke-linecap:round; stroke-linejoin:round; stroke-width:4; stroke-opacity:1; fill:none\" points=\"\n",
       "  133.853,1086.13 133.853,47.2441 \n",
       "  \"/>\n",
       "<polyline clip-path=\"url(#clip170)\" style=\"stroke:#000000; stroke-linecap:round; stroke-linejoin:round; stroke-width:4; stroke-opacity:1; fill:none\" points=\"\n",
       "  133.853,1013.6 152.751,1013.6 \n",
       "  \"/>\n",
       "<polyline clip-path=\"url(#clip170)\" style=\"stroke:#000000; stroke-linecap:round; stroke-linejoin:round; stroke-width:4; stroke-opacity:1; fill:none\" points=\"\n",
       "  133.853,789.193 152.751,789.193 \n",
       "  \"/>\n",
       "<polyline clip-path=\"url(#clip170)\" style=\"stroke:#000000; stroke-linecap:round; stroke-linejoin:round; stroke-width:4; stroke-opacity:1; fill:none\" points=\"\n",
       "  133.853,564.781 152.751,564.781 \n",
       "  \"/>\n",
       "<polyline clip-path=\"url(#clip170)\" style=\"stroke:#000000; stroke-linecap:round; stroke-linejoin:round; stroke-width:4; stroke-opacity:1; fill:none\" points=\"\n",
       "  133.853,340.37 152.751,340.37 \n",
       "  \"/>\n",
       "<polyline clip-path=\"url(#clip170)\" style=\"stroke:#000000; stroke-linecap:round; stroke-linejoin:round; stroke-width:4; stroke-opacity:1; fill:none\" points=\"\n",
       "  133.853,115.959 152.751,115.959 \n",
       "  \"/>\n",
       "<path clip-path=\"url(#clip170)\" d=\"M97.9086 999.403 Q94.2975 999.403 92.4688 1002.97 Q90.6632 1006.51 90.6632 1013.64 Q90.6632 1020.75 92.4688 1024.31 Q94.2975 1027.85 97.9086 1027.85 Q101.543 1027.85 103.348 1024.31 Q105.177 1020.75 105.177 1013.64 Q105.177 1006.51 103.348 1002.97 Q101.543 999.403 97.9086 999.403 M97.9086 995.699 Q103.719 995.699 106.774 1000.31 Q109.853 1004.89 109.853 1013.64 Q109.853 1022.37 106.774 1026.97 Q103.719 1031.56 97.9086 1031.56 Q92.0984 1031.56 89.0197 1026.97 Q85.9642 1022.37 85.9642 1013.64 Q85.9642 1004.89 89.0197 1000.31 Q92.0984 995.699 97.9086 995.699 Z\" fill=\"#000000\" fill-rule=\"evenodd\" fill-opacity=\"1\" /><path clip-path=\"url(#clip170)\" d=\"M58.5569 802.538 L66.1958 802.538 L66.1958 776.172 L57.8856 777.839 L57.8856 773.579 L66.1495 771.913 L70.8254 771.913 L70.8254 802.538 L78.4642 802.538 L78.4642 806.473 L58.5569 806.473 L58.5569 802.538 Z\" fill=\"#000000\" fill-rule=\"evenodd\" fill-opacity=\"1\" /><path clip-path=\"url(#clip170)\" d=\"M97.9086 774.991 Q94.2975 774.991 92.4688 778.556 Q90.6632 782.098 90.6632 789.227 Q90.6632 796.334 92.4688 799.899 Q94.2975 803.44 97.9086 803.44 Q101.543 803.44 103.348 799.899 Q105.177 796.334 105.177 789.227 Q105.177 782.098 103.348 778.556 Q101.543 774.991 97.9086 774.991 M97.9086 771.288 Q103.719 771.288 106.774 775.894 Q109.853 780.478 109.853 789.227 Q109.853 797.954 106.774 802.561 Q103.719 807.144 97.9086 807.144 Q92.0984 807.144 89.0197 802.561 Q85.9642 797.954 85.9642 789.227 Q85.9642 780.478 89.0197 775.894 Q92.0984 771.288 97.9086 771.288 Z\" fill=\"#000000\" fill-rule=\"evenodd\" fill-opacity=\"1\" /><path clip-path=\"url(#clip170)\" d=\"M61.7745 578.126 L78.0939 578.126 L78.0939 582.061 L56.1495 582.061 L56.1495 578.126 Q58.8115 575.372 63.3949 570.742 Q68.0013 566.089 69.1819 564.747 Q71.4272 562.224 72.3068 560.487 Q73.2096 558.728 73.2096 557.038 Q73.2096 554.284 71.2652 552.548 Q69.3439 550.812 66.2421 550.812 Q64.043 550.812 61.5893 551.575 Q59.1588 552.339 56.381 553.89 L56.381 549.168 Q59.2051 548.034 61.6588 547.455 Q64.1124 546.876 66.1495 546.876 Q71.5198 546.876 74.7142 549.562 Q77.9087 552.247 77.9087 556.738 Q77.9087 558.867 77.0985 560.788 Q76.3115 562.687 74.205 565.279 Q73.6263 565.95 70.5245 569.168 Q67.4226 572.362 61.7745 578.126 Z\" fill=\"#000000\" fill-rule=\"evenodd\" fill-opacity=\"1\" /><path clip-path=\"url(#clip170)\" d=\"M97.9086 550.58 Q94.2975 550.58 92.4688 554.145 Q90.6632 557.687 90.6632 564.816 Q90.6632 571.923 92.4688 575.487 Q94.2975 579.029 97.9086 579.029 Q101.543 579.029 103.348 575.487 Q105.177 571.923 105.177 564.816 Q105.177 557.687 103.348 554.145 Q101.543 550.58 97.9086 550.58 M97.9086 546.876 Q103.719 546.876 106.774 551.483 Q109.853 556.066 109.853 564.816 Q109.853 573.543 106.774 578.149 Q103.719 582.733 97.9086 582.733 Q92.0984 582.733 89.0197 578.149 Q85.9642 573.543 85.9642 564.816 Q85.9642 556.066 89.0197 551.483 Q92.0984 546.876 97.9086 546.876 Z\" fill=\"#000000\" fill-rule=\"evenodd\" fill-opacity=\"1\" /><path clip-path=\"url(#clip170)\" d=\"M71.9133 339.016 Q75.2698 339.734 77.1448 342.002 Q79.0429 344.271 79.0429 347.604 Q79.0429 352.72 75.5244 355.521 Q72.0059 358.321 65.5245 358.321 Q63.3486 358.321 61.0338 357.882 Q58.7421 357.465 56.2884 356.608 L56.2884 352.095 Q58.2328 353.229 60.5477 353.808 Q62.8625 354.386 65.3856 354.386 Q69.7837 354.386 72.0754 352.65 Q74.3902 350.914 74.3902 347.604 Q74.3902 344.548 72.2374 342.835 Q70.1078 341.099 66.2884 341.099 L62.2606 341.099 L62.2606 337.257 L66.4735 337.257 Q69.9226 337.257 71.7513 335.891 Q73.58 334.502 73.58 331.91 Q73.58 329.248 71.6819 327.835 Q69.8069 326.4 66.2884 326.4 Q64.3671 326.4 62.168 326.817 Q59.969 327.234 57.3301 328.113 L57.3301 323.947 Q59.9921 323.206 62.3069 322.836 Q64.6449 322.465 66.705 322.465 Q72.0291 322.465 75.1309 324.896 Q78.2327 327.303 78.2327 331.423 Q78.2327 334.294 76.5892 336.285 Q74.9457 338.252 71.9133 339.016 Z\" fill=\"#000000\" fill-rule=\"evenodd\" fill-opacity=\"1\" /><path clip-path=\"url(#clip170)\" d=\"M97.9086 326.169 Q94.2975 326.169 92.4688 329.734 Q90.6632 333.275 90.6632 340.405 Q90.6632 347.511 92.4688 351.076 Q94.2975 354.618 97.9086 354.618 Q101.543 354.618 103.348 351.076 Q105.177 347.511 105.177 340.405 Q105.177 333.275 103.348 329.734 Q101.543 326.169 97.9086 326.169 M97.9086 322.465 Q103.719 322.465 106.774 327.072 Q109.853 331.655 109.853 340.405 Q109.853 349.132 106.774 353.738 Q103.719 358.321 97.9086 358.321 Q92.0984 358.321 89.0197 353.738 Q85.9642 349.132 85.9642 340.405 Q85.9642 331.655 89.0197 327.072 Q92.0984 322.465 97.9086 322.465 Z\" fill=\"#000000\" fill-rule=\"evenodd\" fill-opacity=\"1\" /><path clip-path=\"url(#clip170)\" d=\"M70.5939 102.753 L58.7884 121.202 L70.5939 121.202 L70.5939 102.753 M69.367 98.6788 L75.2466 98.6788 L75.2466 121.202 L80.1772 121.202 L80.1772 125.091 L75.2466 125.091 L75.2466 133.239 L70.5939 133.239 L70.5939 125.091 L54.9921 125.091 L54.9921 120.577 L69.367 98.6788 Z\" fill=\"#000000\" fill-rule=\"evenodd\" fill-opacity=\"1\" /><path clip-path=\"url(#clip170)\" d=\"M97.9086 101.758 Q94.2975 101.758 92.4688 105.322 Q90.6632 108.864 90.6632 115.994 Q90.6632 123.1 92.4688 126.665 Q94.2975 130.206 97.9086 130.206 Q101.543 130.206 103.348 126.665 Q105.177 123.1 105.177 115.994 Q105.177 108.864 103.348 105.322 Q101.543 101.758 97.9086 101.758 M97.9086 98.0538 Q103.719 98.0538 106.774 102.66 Q109.853 107.244 109.853 115.994 Q109.853 124.72 106.774 129.327 Q103.719 133.91 97.9086 133.91 Q92.0984 133.91 89.0197 129.327 Q85.9642 124.72 85.9642 115.994 Q85.9642 107.244 89.0197 102.66 Q92.0984 98.0538 97.9086 98.0538 Z\" fill=\"#000000\" fill-rule=\"evenodd\" fill-opacity=\"1\" /><polyline clip-path=\"url(#clip172)\" style=\"stroke:#009af9; stroke-linecap:round; stroke-linejoin:round; stroke-width:4; stroke-opacity:1; fill:none\" points=\"\n",
       "  174.011,1002.94 269.624,1018.65 365.237,1025.42 460.851,1029.57 556.464,1032.69 652.078,1035.24 747.691,1037.33 843.304,1038.91 938.918,1039.83 1034.53,1039.87 \n",
       "  1130.14,1038.68 1225.76,1035.82 1321.37,1030.7 1416.98,1022.53 1512.6,1010.26 \n",
       "  \"/>\n",
       "<polyline clip-path=\"url(#clip172)\" style=\"stroke:#e26f46; stroke-linecap:round; stroke-linejoin:round; stroke-width:4; stroke-opacity:1; fill:none\" points=\"\n",
       "  174.011,1053.57 269.624,1056.73 365.237,1048.66 460.851,1029.37 556.464,998.862 652.078,957.133 747.691,904.183 843.304,840.013 938.918,764.622 1034.53,678.011 \n",
       "  1130.14,580.179 1225.76,471.127 1321.37,350.854 1416.98,219.361 1512.6,76.6465 \n",
       "  \"/>\n",
       "<circle clip-path=\"url(#clip172)\" cx=\"174.011\" cy=\"1002.94\" r=\"14.4\" fill=\"#3da44d\" fill-rule=\"evenodd\" fill-opacity=\"1\" stroke=\"#000000\" stroke-opacity=\"1\" stroke-width=\"2.4\"/>\n",
       "<circle clip-path=\"url(#clip172)\" cx=\"269.624\" cy=\"1018.65\" r=\"14.4\" fill=\"#3da44d\" fill-rule=\"evenodd\" fill-opacity=\"1\" stroke=\"#000000\" stroke-opacity=\"1\" stroke-width=\"2.4\"/>\n",
       "<circle clip-path=\"url(#clip172)\" cx=\"365.237\" cy=\"1025.42\" r=\"14.4\" fill=\"#3da44d\" fill-rule=\"evenodd\" fill-opacity=\"1\" stroke=\"#000000\" stroke-opacity=\"1\" stroke-width=\"2.4\"/>\n",
       "<circle clip-path=\"url(#clip172)\" cx=\"460.851\" cy=\"1029.57\" r=\"14.4\" fill=\"#3da44d\" fill-rule=\"evenodd\" fill-opacity=\"1\" stroke=\"#000000\" stroke-opacity=\"1\" stroke-width=\"2.4\"/>\n",
       "<circle clip-path=\"url(#clip172)\" cx=\"556.464\" cy=\"1032.69\" r=\"14.4\" fill=\"#3da44d\" fill-rule=\"evenodd\" fill-opacity=\"1\" stroke=\"#000000\" stroke-opacity=\"1\" stroke-width=\"2.4\"/>\n",
       "<circle clip-path=\"url(#clip172)\" cx=\"652.078\" cy=\"1035.24\" r=\"14.4\" fill=\"#3da44d\" fill-rule=\"evenodd\" fill-opacity=\"1\" stroke=\"#000000\" stroke-opacity=\"1\" stroke-width=\"2.4\"/>\n",
       "<circle clip-path=\"url(#clip172)\" cx=\"747.691\" cy=\"1037.33\" r=\"14.4\" fill=\"#3da44d\" fill-rule=\"evenodd\" fill-opacity=\"1\" stroke=\"#000000\" stroke-opacity=\"1\" stroke-width=\"2.4\"/>\n",
       "<circle clip-path=\"url(#clip172)\" cx=\"843.304\" cy=\"1038.91\" r=\"14.4\" fill=\"#3da44d\" fill-rule=\"evenodd\" fill-opacity=\"1\" stroke=\"#000000\" stroke-opacity=\"1\" stroke-width=\"2.4\"/>\n",
       "<circle clip-path=\"url(#clip172)\" cx=\"938.918\" cy=\"1039.83\" r=\"14.4\" fill=\"#3da44d\" fill-rule=\"evenodd\" fill-opacity=\"1\" stroke=\"#000000\" stroke-opacity=\"1\" stroke-width=\"2.4\"/>\n",
       "<circle clip-path=\"url(#clip172)\" cx=\"1034.53\" cy=\"1039.87\" r=\"14.4\" fill=\"#3da44d\" fill-rule=\"evenodd\" fill-opacity=\"1\" stroke=\"#000000\" stroke-opacity=\"1\" stroke-width=\"2.4\"/>\n",
       "<circle clip-path=\"url(#clip172)\" cx=\"1130.14\" cy=\"1038.68\" r=\"14.4\" fill=\"#3da44d\" fill-rule=\"evenodd\" fill-opacity=\"1\" stroke=\"#000000\" stroke-opacity=\"1\" stroke-width=\"2.4\"/>\n",
       "<circle clip-path=\"url(#clip172)\" cx=\"1225.76\" cy=\"1035.82\" r=\"14.4\" fill=\"#3da44d\" fill-rule=\"evenodd\" fill-opacity=\"1\" stroke=\"#000000\" stroke-opacity=\"1\" stroke-width=\"2.4\"/>\n",
       "<circle clip-path=\"url(#clip172)\" cx=\"1321.37\" cy=\"1030.7\" r=\"14.4\" fill=\"#3da44d\" fill-rule=\"evenodd\" fill-opacity=\"1\" stroke=\"#000000\" stroke-opacity=\"1\" stroke-width=\"2.4\"/>\n",
       "<circle clip-path=\"url(#clip172)\" cx=\"1416.98\" cy=\"1022.53\" r=\"14.4\" fill=\"#3da44d\" fill-rule=\"evenodd\" fill-opacity=\"1\" stroke=\"#000000\" stroke-opacity=\"1\" stroke-width=\"2.4\"/>\n",
       "<circle clip-path=\"url(#clip172)\" cx=\"1512.6\" cy=\"1010.26\" r=\"14.4\" fill=\"#3da44d\" fill-rule=\"evenodd\" fill-opacity=\"1\" stroke=\"#000000\" stroke-opacity=\"1\" stroke-width=\"2.4\"/>\n",
       "<path clip-path=\"url(#clip170)\" d=\"\n",
       "M1057.6 237.394 L1505.46 237.394 L1505.46 81.8736 L1057.6 81.8736  Z\n",
       "  \" fill=\"#ffffff\" fill-rule=\"evenodd\" fill-opacity=\"1\"/>\n",
       "<polyline clip-path=\"url(#clip170)\" style=\"stroke:#000000; stroke-linecap:round; stroke-linejoin:round; stroke-width:4; stroke-opacity:1; fill:none\" points=\"\n",
       "  1057.6,237.394 1505.46,237.394 1505.46,81.8736 1057.6,81.8736 1057.6,237.394 \n",
       "  \"/>\n",
       "<polyline clip-path=\"url(#clip170)\" style=\"stroke:#009af9; stroke-linecap:round; stroke-linejoin:round; stroke-width:4; stroke-opacity:1; fill:none\" points=\"\n",
       "  1073.36,133.714 1167.96,133.714 \n",
       "  \"/>\n",
       "<path clip-path=\"url(#clip170)\" d=\"M1202.15 125.832 L1202.15 129.859 Q1200.34 128.933 1198.4 128.471 Q1196.45 128.008 1194.37 128.008 Q1191.2 128.008 1189.6 128.98 Q1188.03 129.952 1188.03 131.896 Q1188.03 133.378 1189.16 134.234 Q1190.3 135.068 1193.72 135.832 L1195.18 136.156 Q1199.72 137.128 1201.61 138.91 Q1203.54 140.67 1203.54 143.841 Q1203.54 147.452 1200.67 149.558 Q1197.82 151.665 1192.82 151.665 Q1190.74 151.665 1188.47 151.248 Q1186.22 150.855 1183.72 150.044 L1183.72 145.646 Q1186.08 146.873 1188.37 147.498 Q1190.67 148.1 1192.91 148.1 Q1195.92 148.1 1197.54 147.082 Q1199.16 146.04 1199.16 144.165 Q1199.16 142.429 1197.98 141.503 Q1196.82 140.577 1192.86 139.72 L1191.38 139.373 Q1187.42 138.54 1185.67 136.827 Q1183.91 135.091 1183.91 132.082 Q1183.91 128.424 1186.5 126.434 Q1189.09 124.443 1193.86 124.443 Q1196.22 124.443 1198.3 124.79 Q1200.39 125.137 1202.15 125.832 Z\" fill=\"#000000\" fill-rule=\"evenodd\" fill-opacity=\"1\" /><path clip-path=\"url(#clip170)\" d=\"M1220.36 128.054 Q1216.94 128.054 1214.95 130.739 Q1212.96 133.401 1212.96 138.054 Q1212.96 142.707 1214.92 145.392 Q1216.92 148.054 1220.36 148.054 Q1223.77 148.054 1225.76 145.369 Q1227.75 142.683 1227.75 138.054 Q1227.75 133.447 1225.76 130.762 Q1223.77 128.054 1220.36 128.054 M1220.36 124.443 Q1225.92 124.443 1229.09 128.054 Q1232.26 131.665 1232.26 138.054 Q1232.26 144.42 1229.09 148.054 Q1225.92 151.665 1220.36 151.665 Q1214.79 151.665 1211.61 148.054 Q1208.47 144.42 1208.47 138.054 Q1208.47 131.665 1211.61 128.054 Q1214.79 124.443 1220.36 124.443 Z\" fill=\"#000000\" fill-rule=\"evenodd\" fill-opacity=\"1\" /><path clip-path=\"url(#clip170)\" d=\"M1239.32 114.975 L1243.58 114.975 L1243.58 150.994 L1239.32 150.994 L1239.32 114.975 Z\" fill=\"#000000\" fill-rule=\"evenodd\" fill-opacity=\"1\" /><path clip-path=\"url(#clip170)\" d=\"M1252.05 140.762 L1252.05 125.068 L1256.31 125.068 L1256.31 140.6 Q1256.31 144.281 1257.75 146.132 Q1259.18 147.961 1262.05 147.961 Q1265.5 147.961 1267.49 145.762 Q1269.51 143.563 1269.51 139.767 L1269.51 125.068 L1273.77 125.068 L1273.77 150.994 L1269.51 150.994 L1269.51 147.012 Q1267.96 149.373 1265.9 150.531 Q1263.86 151.665 1261.15 151.665 Q1256.68 151.665 1254.37 148.887 Q1252.05 146.109 1252.05 140.762 M1262.77 124.443 L1262.77 124.443 Z\" fill=\"#000000\" fill-rule=\"evenodd\" fill-opacity=\"1\" /><path clip-path=\"url(#clip170)\" d=\"M1299.07 125.832 L1299.07 129.859 Q1297.26 128.933 1295.32 128.471 Q1293.37 128.008 1291.29 128.008 Q1288.12 128.008 1286.52 128.98 Q1284.95 129.952 1284.95 131.896 Q1284.95 133.378 1286.08 134.234 Q1287.22 135.068 1290.64 135.832 L1292.1 136.156 Q1296.64 137.128 1298.54 138.91 Q1300.46 140.67 1300.46 143.841 Q1300.46 147.452 1297.59 149.558 Q1294.74 151.665 1289.74 151.665 Q1287.66 151.665 1285.39 151.248 Q1283.14 150.855 1280.64 150.044 L1280.64 145.646 Q1283 146.873 1285.29 147.498 Q1287.59 148.1 1289.83 148.1 Q1292.84 148.1 1294.46 147.082 Q1296.08 146.04 1296.08 144.165 Q1296.08 142.429 1294.9 141.503 Q1293.74 140.577 1289.79 139.72 L1288.3 139.373 Q1284.35 138.54 1282.59 136.827 Q1280.83 135.091 1280.83 132.082 Q1280.83 128.424 1283.42 126.434 Q1286.01 124.443 1290.78 124.443 Q1293.14 124.443 1295.23 124.79 Q1297.31 125.137 1299.07 125.832 Z\" fill=\"#000000\" fill-rule=\"evenodd\" fill-opacity=\"1\" /><path clip-path=\"url(#clip170)\" d=\"M1307.24 125.068 L1311.5 125.068 L1311.5 150.994 L1307.24 150.994 L1307.24 125.068 M1307.24 114.975 L1311.5 114.975 L1311.5 120.369 L1307.24 120.369 L1307.24 114.975 Z\" fill=\"#000000\" fill-rule=\"evenodd\" fill-opacity=\"1\" /><path clip-path=\"url(#clip170)\" d=\"M1357.03 135.345 L1357.03 150.994 L1352.77 150.994 L1352.77 135.484 Q1352.77 131.804 1351.34 129.975 Q1349.9 128.146 1347.03 128.146 Q1343.58 128.146 1341.59 130.346 Q1339.6 132.545 1339.6 136.341 L1339.6 150.994 L1335.32 150.994 L1335.32 114.975 L1339.6 114.975 L1339.6 129.096 Q1341.13 126.758 1343.19 125.6 Q1345.27 124.443 1347.98 124.443 Q1352.45 124.443 1354.74 127.221 Q1357.03 129.975 1357.03 135.345 Z\" fill=\"#000000\" fill-rule=\"evenodd\" fill-opacity=\"1\" /><path clip-path=\"url(#clip170)\" d=\"M1366.08 129.466 L1395.76 129.466 L1395.76 133.355 L1366.08 133.355 L1366.08 129.466 M1366.08 138.91 L1395.76 138.91 L1395.76 142.845 L1366.08 142.845 L1366.08 138.91 Z\" fill=\"#000000\" fill-rule=\"evenodd\" fill-opacity=\"1\" /><path clip-path=\"url(#clip170)\" d=\"M1406.66 147.058 L1414.3 147.058 L1414.3 120.693 L1405.99 122.359 L1405.99 118.1 L1414.25 116.434 L1418.93 116.434 L1418.93 147.058 L1426.57 147.058 L1426.57 150.994 L1406.66 150.994 L1406.66 147.058 Z\" fill=\"#000000\" fill-rule=\"evenodd\" fill-opacity=\"1\" /><path clip-path=\"url(#clip170)\" d=\"M1442.98 116.434 L1446.91 116.434 L1434.88 155.392 L1430.94 155.392 L1442.98 116.434 Z\" fill=\"#000000\" fill-rule=\"evenodd\" fill-opacity=\"1\" /><path clip-path=\"url(#clip170)\" d=\"M1456.01 147.058 L1472.33 147.058 L1472.33 150.994 L1450.39 150.994 L1450.39 147.058 Q1453.05 144.304 1457.63 139.674 Q1462.24 135.021 1463.42 133.679 Q1465.66 131.156 1466.54 129.42 Q1467.45 127.66 1467.45 125.971 Q1467.45 123.216 1465.5 121.48 Q1463.58 119.744 1460.48 119.744 Q1458.28 119.744 1455.83 120.508 Q1453.4 121.271 1450.62 122.822 L1450.62 118.1 Q1453.44 116.966 1455.9 116.387 Q1458.35 115.809 1460.39 115.809 Q1465.76 115.809 1468.95 118.494 Q1472.15 121.179 1472.15 125.67 Q1472.15 127.799 1471.34 129.721 Q1470.55 131.619 1468.44 134.211 Q1467.86 134.883 1464.76 138.1 Q1461.66 141.295 1456.01 147.058 Z\" fill=\"#000000\" fill-rule=\"evenodd\" fill-opacity=\"1\" /><polyline clip-path=\"url(#clip170)\" style=\"stroke:#e26f46; stroke-linecap:round; stroke-linejoin:round; stroke-width:4; stroke-opacity:1; fill:none\" points=\"\n",
       "  1073.36,185.554 1167.96,185.554 \n",
       "  \"/>\n",
       "<path clip-path=\"url(#clip170)\" d=\"M1202.15 177.672 L1202.15 181.699 Q1200.34 180.773 1198.4 180.311 Q1196.45 179.848 1194.37 179.848 Q1191.2 179.848 1189.6 180.82 Q1188.03 181.792 1188.03 183.736 Q1188.03 185.218 1189.16 186.074 Q1190.3 186.908 1193.72 187.672 L1195.18 187.996 Q1199.72 188.968 1201.61 190.75 Q1203.54 192.51 1203.54 195.681 Q1203.54 199.292 1200.67 201.398 Q1197.82 203.505 1192.82 203.505 Q1190.74 203.505 1188.47 203.088 Q1186.22 202.695 1183.72 201.884 L1183.72 197.486 Q1186.08 198.713 1188.37 199.338 Q1190.67 199.94 1192.91 199.94 Q1195.92 199.94 1197.54 198.922 Q1199.16 197.88 1199.16 196.005 Q1199.16 194.269 1197.98 193.343 Q1196.82 192.417 1192.86 191.56 L1191.38 191.213 Q1187.42 190.38 1185.67 188.667 Q1183.91 186.931 1183.91 183.922 Q1183.91 180.264 1186.5 178.274 Q1189.09 176.283 1193.86 176.283 Q1196.22 176.283 1198.3 176.63 Q1200.39 176.977 1202.15 177.672 Z\" fill=\"#000000\" fill-rule=\"evenodd\" fill-opacity=\"1\" /><path clip-path=\"url(#clip170)\" d=\"M1220.36 179.894 Q1216.94 179.894 1214.95 182.579 Q1212.96 185.241 1212.96 189.894 Q1212.96 194.547 1214.92 197.232 Q1216.92 199.894 1220.36 199.894 Q1223.77 199.894 1225.76 197.209 Q1227.75 194.523 1227.75 189.894 Q1227.75 185.287 1225.76 182.602 Q1223.77 179.894 1220.36 179.894 M1220.36 176.283 Q1225.92 176.283 1229.09 179.894 Q1232.26 183.505 1232.26 189.894 Q1232.26 196.26 1229.09 199.894 Q1225.92 203.505 1220.36 203.505 Q1214.79 203.505 1211.61 199.894 Q1208.47 196.26 1208.47 189.894 Q1208.47 183.505 1211.61 179.894 Q1214.79 176.283 1220.36 176.283 Z\" fill=\"#000000\" fill-rule=\"evenodd\" fill-opacity=\"1\" /><path clip-path=\"url(#clip170)\" d=\"M1239.32 166.815 L1243.58 166.815 L1243.58 202.834 L1239.32 202.834 L1239.32 166.815 Z\" fill=\"#000000\" fill-rule=\"evenodd\" fill-opacity=\"1\" /><path clip-path=\"url(#clip170)\" d=\"M1252.05 192.602 L1252.05 176.908 L1256.31 176.908 L1256.31 192.44 Q1256.31 196.121 1257.75 197.972 Q1259.18 199.801 1262.05 199.801 Q1265.5 199.801 1267.49 197.602 Q1269.51 195.403 1269.51 191.607 L1269.51 176.908 L1273.77 176.908 L1273.77 202.834 L1269.51 202.834 L1269.51 198.852 Q1267.96 201.213 1265.9 202.371 Q1263.86 203.505 1261.15 203.505 Q1256.68 203.505 1254.37 200.727 Q1252.05 197.949 1252.05 192.602 M1262.77 176.283 L1262.77 176.283 Z\" fill=\"#000000\" fill-rule=\"evenodd\" fill-opacity=\"1\" /><path clip-path=\"url(#clip170)\" d=\"M1299.07 177.672 L1299.07 181.699 Q1297.26 180.773 1295.32 180.311 Q1293.37 179.848 1291.29 179.848 Q1288.12 179.848 1286.52 180.82 Q1284.95 181.792 1284.95 183.736 Q1284.95 185.218 1286.08 186.074 Q1287.22 186.908 1290.64 187.672 L1292.1 187.996 Q1296.64 188.968 1298.54 190.75 Q1300.46 192.51 1300.46 195.681 Q1300.46 199.292 1297.59 201.398 Q1294.74 203.505 1289.74 203.505 Q1287.66 203.505 1285.39 203.088 Q1283.14 202.695 1280.64 201.884 L1280.64 197.486 Q1283 198.713 1285.29 199.338 Q1287.59 199.94 1289.83 199.94 Q1292.84 199.94 1294.46 198.922 Q1296.08 197.88 1296.08 196.005 Q1296.08 194.269 1294.9 193.343 Q1293.74 192.417 1289.79 191.56 L1288.3 191.213 Q1284.35 190.38 1282.59 188.667 Q1280.83 186.931 1280.83 183.922 Q1280.83 180.264 1283.42 178.274 Q1286.01 176.283 1290.78 176.283 Q1293.14 176.283 1295.23 176.63 Q1297.31 176.977 1299.07 177.672 Z\" fill=\"#000000\" fill-rule=\"evenodd\" fill-opacity=\"1\" /><path clip-path=\"url(#clip170)\" d=\"M1307.24 176.908 L1311.5 176.908 L1311.5 202.834 L1307.24 202.834 L1307.24 176.908 M1307.24 166.815 L1311.5 166.815 L1311.5 172.209 L1307.24 172.209 L1307.24 166.815 Z\" fill=\"#000000\" fill-rule=\"evenodd\" fill-opacity=\"1\" /><path clip-path=\"url(#clip170)\" d=\"M1347.26 189.801 Q1342.1 189.801 1340.11 190.982 Q1338.12 192.162 1338.12 195.01 Q1338.12 197.278 1339.6 198.621 Q1341.1 199.94 1343.67 199.94 Q1347.22 199.94 1349.35 197.44 Q1351.5 194.917 1351.5 190.75 L1351.5 189.801 L1347.26 189.801 M1355.76 188.042 L1355.76 202.834 L1351.5 202.834 L1351.5 198.898 Q1350.04 201.259 1347.86 202.394 Q1345.69 203.505 1342.54 203.505 Q1338.56 203.505 1336.2 201.283 Q1333.86 199.037 1333.86 195.287 Q1333.86 190.912 1336.78 188.69 Q1339.72 186.468 1345.53 186.468 L1351.5 186.468 L1351.5 186.051 Q1351.5 183.111 1349.55 181.514 Q1347.63 179.894 1344.14 179.894 Q1341.91 179.894 1339.81 180.426 Q1337.7 180.959 1335.76 182.023 L1335.76 178.088 Q1338.1 177.186 1340.29 176.746 Q1342.49 176.283 1344.58 176.283 Q1350.2 176.283 1352.98 179.199 Q1355.76 182.116 1355.76 188.042 Z\" fill=\"#000000\" fill-rule=\"evenodd\" fill-opacity=\"1\" /><path clip-path=\"url(#clip170)\" d=\"M1364.37 166.815 L1368.65 166.815 L1368.65 188.088 L1381.36 176.908 L1386.8 176.908 L1373.05 189.037 L1387.38 202.834 L1381.82 202.834 L1368.65 190.172 L1368.65 202.834 L1364.37 202.834 L1364.37 166.815 Z\" fill=\"#000000\" fill-rule=\"evenodd\" fill-opacity=\"1\" /><path clip-path=\"url(#clip170)\" d=\"M1396.2 169.547 L1396.2 176.908 L1404.97 176.908 L1404.97 180.218 L1396.2 180.218 L1396.2 194.292 Q1396.2 197.463 1397.05 198.366 Q1397.93 199.269 1400.6 199.269 L1404.97 199.269 L1404.97 202.834 L1400.6 202.834 Q1395.66 202.834 1393.79 201.005 Q1391.91 199.153 1391.91 194.292 L1391.91 180.218 L1388.79 180.218 L1388.79 176.908 L1391.91 176.908 L1391.91 169.547 L1396.2 169.547 Z\" fill=\"#000000\" fill-rule=\"evenodd\" fill-opacity=\"1\" /><path clip-path=\"url(#clip170)\" d=\"M1410.13 192.602 L1410.13 176.908 L1414.39 176.908 L1414.39 192.44 Q1414.39 196.121 1415.83 197.972 Q1417.26 199.801 1420.13 199.801 Q1423.58 199.801 1425.57 197.602 Q1427.59 195.403 1427.59 191.607 L1427.59 176.908 L1431.84 176.908 L1431.84 202.834 L1427.59 202.834 L1427.59 198.852 Q1426.03 201.213 1423.97 202.371 Q1421.94 203.505 1419.23 203.505 Q1414.76 203.505 1412.45 200.727 Q1410.13 197.949 1410.13 192.602 M1420.85 176.283 L1420.85 176.283 Z\" fill=\"#000000\" fill-rule=\"evenodd\" fill-opacity=\"1\" /><path clip-path=\"url(#clip170)\" d=\"M1452.4 189.801 Q1447.24 189.801 1445.25 190.982 Q1443.26 192.162 1443.26 195.01 Q1443.26 197.278 1444.74 198.621 Q1446.24 199.94 1448.81 199.94 Q1452.35 199.94 1454.48 197.44 Q1456.64 194.917 1456.64 190.75 L1456.64 189.801 L1452.4 189.801 M1460.9 188.042 L1460.9 202.834 L1456.64 202.834 L1456.64 198.898 Q1455.18 201.259 1453 202.394 Q1450.83 203.505 1447.68 203.505 Q1443.7 203.505 1441.34 201.283 Q1439 199.037 1439 195.287 Q1439 190.912 1441.91 188.69 Q1444.85 186.468 1450.66 186.468 L1456.64 186.468 L1456.64 186.051 Q1456.64 183.111 1454.69 181.514 Q1452.77 179.894 1449.28 179.894 Q1447.05 179.894 1444.95 180.426 Q1442.84 180.959 1440.9 182.023 L1440.9 178.088 Q1443.23 177.186 1445.43 176.746 Q1447.63 176.283 1449.72 176.283 Q1455.34 176.283 1458.12 179.199 Q1460.9 182.116 1460.9 188.042 Z\" fill=\"#000000\" fill-rule=\"evenodd\" fill-opacity=\"1\" /><path clip-path=\"url(#clip170)\" d=\"M1469.67 166.815 L1473.93 166.815 L1473.93 202.834 L1469.67 202.834 L1469.67 166.815 Z\" fill=\"#000000\" fill-rule=\"evenodd\" fill-opacity=\"1\" /></svg>\n"
      ]
     },
     "execution_count": 63,
     "metadata": {},
     "output_type": "execute_result"
    }
   ],
   "source": [
    "sol_ak = [(t^2)-0.2525826491*t-2.528442297*t for t in 1:0.5:8];\n",
    "plot(solu, label = \"solusi h=1/2\",size=(400,300))\n",
    "plot!(sol_ak, label = \"solusi aktual\", size=(400,300))\n",
    "scatter!(solu, label = :none)"
   ]
  },
  {
   "cell_type": "code",
   "execution_count": 64,
   "id": "bfaffae8",
   "metadata": {},
   "outputs": [],
   "source": [
    "##################################################################################################"
   ]
  },
  {
   "cell_type": "markdown",
   "id": "d0fb0eb8",
   "metadata": {},
   "source": [
    "$$\n",
    "P(h,t_i)\n",
    "= \\left( 2 t_i^2 + h t_i \\right)\n",
    "\\quad\n",
    "Q(h,t_i)\n",
    "= \\left( 2 h^2 - 4 t_i^2 \\right )\n",
    "\\quad\n",
    "R(h,t_i)\n",
    "= \\left( 2 t_i^2  - h t_i \\right )\n",
    "\\quad\n",
    "S(h,t_i)\n",
    "= 2 h^2 t_i^2\n",
    "$$"
   ]
  },
  {
   "cell_type": "markdown",
   "id": "947d7122",
   "metadata": {},
   "source": [
    "case:\n",
    "\n",
    "$h=\\frac{1}{4}=0.25$, $y_0 = 1$ dan $y_{16} = 2$."
   ]
  },
  {
   "cell_type": "markdown",
   "id": "c4429878",
   "metadata": {},
   "source": [
    "$\\begin{align}\n",
    "P(\\frac{1}{4} , t_i)\n",
    "& = 2 t_i^2 + \\frac{1}{4} t_i\n",
    "\\\\\n",
    "Q(\\frac{1}{4} , t_i)\n",
    "& =  2 (\\frac{1}{4})^2 - 4 t_i^2\n",
    "= \\frac{1}{8} - 4 t_i^2\n",
    "\\\\\n",
    "R(\\frac{1}{4} , t_i)\n",
    "& = 2 t_i^2  - \\frac{1}{4} t_i\n",
    "\\\\\n",
    "S(\\frac{1}{4} , t_i)\n",
    "& = 2 (\\frac{1}{4})^2 t_i^2\n",
    "= \\frac{1}{8} t_i^2\n",
    "\\end{align}$"
   ]
  },
  {
   "cell_type": "code",
   "execution_count": 65,
   "id": "b05820a5",
   "metadata": {},
   "outputs": [],
   "source": [
    "P_per4 = [2*(t^2)+(1/4)*t for t in 1:0.5:7.5];"
   ]
  },
  {
   "cell_type": "code",
   "execution_count": 66,
   "id": "54df1f93",
   "metadata": {},
   "outputs": [],
   "source": [
    "Q_per4 = [(1/8)-4*(t^2) for t in 1:0.5:8];"
   ]
  },
  {
   "cell_type": "code",
   "execution_count": 67,
   "id": "ba4f7123",
   "metadata": {},
   "outputs": [],
   "source": [
    "R_per4 = [2*(t^2)-(1/4)*t for t in 1:0.5:7.5];"
   ]
  },
  {
   "cell_type": "code",
   "execution_count": 68,
   "id": "0c94cc45",
   "metadata": {},
   "outputs": [],
   "source": [
    "S_per4 = [(1/8)*(t^2) for t in 1:0.5:8];"
   ]
  },
  {
   "cell_type": "code",
   "execution_count": 69,
   "id": "a79e48c4",
   "metadata": {},
   "outputs": [
    {
     "data": {
      "text/plain": [
       "15×15 Tridiagonal{Float64, Vector{Float64}}:\n",
       " -3.875   1.75      ⋅        ⋅        ⋅     …      ⋅         ⋅         ⋅ \n",
       "  2.25   -8.875    4.125     ⋅        ⋅            ⋅         ⋅         ⋅ \n",
       "   ⋅      4.875  -15.875    7.5       ⋅            ⋅         ⋅         ⋅ \n",
       "   ⋅       ⋅       8.5    -24.875   11.875         ⋅         ⋅         ⋅ \n",
       "   ⋅       ⋅        ⋅      13.125  -35.875         ⋅         ⋅         ⋅ \n",
       "   ⋅       ⋅        ⋅        ⋅      18.75   …      ⋅         ⋅         ⋅ \n",
       "   ⋅       ⋅        ⋅        ⋅        ⋅            ⋅         ⋅         ⋅ \n",
       "   ⋅       ⋅        ⋅        ⋅        ⋅            ⋅         ⋅         ⋅ \n",
       "   ⋅       ⋅        ⋅        ⋅        ⋅            ⋅         ⋅         ⋅ \n",
       "   ⋅       ⋅        ⋅        ⋅        ⋅            ⋅         ⋅         ⋅ \n",
       "   ⋅       ⋅        ⋅        ⋅        ⋅     …      ⋅         ⋅         ⋅ \n",
       "   ⋅       ⋅        ⋅        ⋅        ⋅          82.875      ⋅         ⋅ \n",
       "   ⋅       ⋅        ⋅        ⋅        ⋅        -195.875    96.25       ⋅ \n",
       "   ⋅       ⋅        ⋅        ⋅        ⋅          99.75   -224.875   110.625\n",
       "   ⋅       ⋅        ⋅        ⋅        ⋅            ⋅      114.375  -255.875"
      ]
     },
     "execution_count": 69,
     "metadata": {},
     "output_type": "execute_result"
    }
   ],
   "source": [
    "PQR_per4 = Tridiagonal(P_per4,Q_per4,R_per4)"
   ]
  },
  {
   "cell_type": "code",
   "execution_count": 70,
   "id": "977a8614",
   "metadata": {},
   "outputs": [
    {
     "data": {
      "text/plain": [
       "15-element Vector{Float64}:\n",
       "   -2.125\n",
       "    1.125\n",
       "    2.0\n",
       "    3.125\n",
       "    4.5\n",
       "    6.125\n",
       "    8.0\n",
       "   10.125\n",
       "   12.5\n",
       "   15.125\n",
       "   18.0\n",
       "   21.125\n",
       "   24.5\n",
       "   28.125\n",
       " -198.625"
      ]
     },
     "execution_count": 70,
     "metadata": {},
     "output_type": "execute_result"
    }
   ],
   "source": [
    "B_per4 = S \n",
    "B_per4[1] = S_per4[1] - P_per4[1] #perlu diperiksa lagi\n",
    "B_per4[end] = B_per4[end] - P_per4[14]\n",
    "B_per4"
   ]
  },
  {
   "cell_type": "code",
   "execution_count": 71,
   "id": "18961877",
   "metadata": {},
   "outputs": [
    {
     "data": {
      "text/plain": [
       "15-element Vector{Float64}:\n",
       "  0.4255509479227269\n",
       " -0.27199432959967607\n",
       " -0.5445913473995784\n",
       " -0.7092553710893181\n",
       " -0.8327327076168735\n",
       " -0.9313222689975673\n",
       " -1.0065455081244326\n",
       " -1.0535739276011244\n",
       " -1.0632835460732613\n",
       " -1.0223677831316955\n",
       " -0.9126498782205336\n",
       " -0.7099077254993704\n",
       " -0.3822733163740207\n",
       "  0.1118235533908777\n",
       "  0.826242575160065"
      ]
     },
     "execution_count": 71,
     "metadata": {},
     "output_type": "execute_result"
    }
   ],
   "source": [
    "Y_per4 = PQR_per4\\B_per4"
   ]
  },
  {
   "cell_type": "code",
   "execution_count": 72,
   "id": "22f61a63",
   "metadata": {
    "scrolled": true
   },
   "outputs": [
    {
     "data": {
      "image/svg+xml": [
       "<?xml version=\"1.0\" encoding=\"utf-8\"?>\n",
       "<svg xmlns=\"http://www.w3.org/2000/svg\" xmlns:xlink=\"http://www.w3.org/1999/xlink\" width=\"400\" height=\"300\" viewBox=\"0 0 1600 1200\">\n",
       "<defs>\n",
       "  <clipPath id=\"clip210\">\n",
       "    <rect x=\"0\" y=\"0\" width=\"1600\" height=\"1200\"/>\n",
       "  </clipPath>\n",
       "</defs>\n",
       "<path clip-path=\"url(#clip210)\" d=\"\n",
       "M0 1200 L1600 1200 L1600 0 L0 0  Z\n",
       "  \" fill=\"#ffffff\" fill-rule=\"evenodd\" fill-opacity=\"1\"/>\n",
       "<defs>\n",
       "  <clipPath id=\"clip211\">\n",
       "    <rect x=\"320\" y=\"0\" width=\"1121\" height=\"1121\"/>\n",
       "  </clipPath>\n",
       "</defs>\n",
       "<path clip-path=\"url(#clip210)\" d=\"\n",
       "M185.936 1086.13 L1552.76 1086.13 L1552.76 47.2441 L185.936 47.2441  Z\n",
       "  \" fill=\"#ffffff\" fill-rule=\"evenodd\" fill-opacity=\"1\"/>\n",
       "<defs>\n",
       "  <clipPath id=\"clip212\">\n",
       "    <rect x=\"185\" y=\"47\" width=\"1368\" height=\"1040\"/>\n",
       "  </clipPath>\n",
       "</defs>\n",
       "<polyline clip-path=\"url(#clip212)\" style=\"stroke:#000000; stroke-linecap:round; stroke-linejoin:round; stroke-width:2; stroke-opacity:0.1; fill:none\" points=\"\n",
       "  316.723,1086.13 316.723,47.2441 \n",
       "  \"/>\n",
       "<polyline clip-path=\"url(#clip212)\" style=\"stroke:#000000; stroke-linecap:round; stroke-linejoin:round; stroke-width:2; stroke-opacity:0.1; fill:none\" points=\"\n",
       "  500.931,1086.13 500.931,47.2441 \n",
       "  \"/>\n",
       "<polyline clip-path=\"url(#clip212)\" style=\"stroke:#000000; stroke-linecap:round; stroke-linejoin:round; stroke-width:2; stroke-opacity:0.1; fill:none\" points=\"\n",
       "  685.138,1086.13 685.138,47.2441 \n",
       "  \"/>\n",
       "<polyline clip-path=\"url(#clip212)\" style=\"stroke:#000000; stroke-linecap:round; stroke-linejoin:round; stroke-width:2; stroke-opacity:0.1; fill:none\" points=\"\n",
       "  869.346,1086.13 869.346,47.2441 \n",
       "  \"/>\n",
       "<polyline clip-path=\"url(#clip212)\" style=\"stroke:#000000; stroke-linecap:round; stroke-linejoin:round; stroke-width:2; stroke-opacity:0.1; fill:none\" points=\"\n",
       "  1053.55,1086.13 1053.55,47.2441 \n",
       "  \"/>\n",
       "<polyline clip-path=\"url(#clip212)\" style=\"stroke:#000000; stroke-linecap:round; stroke-linejoin:round; stroke-width:2; stroke-opacity:0.1; fill:none\" points=\"\n",
       "  1237.76,1086.13 1237.76,47.2441 \n",
       "  \"/>\n",
       "<polyline clip-path=\"url(#clip212)\" style=\"stroke:#000000; stroke-linecap:round; stroke-linejoin:round; stroke-width:2; stroke-opacity:0.1; fill:none\" points=\"\n",
       "  1421.97,1086.13 1421.97,47.2441 \n",
       "  \"/>\n",
       "<polyline clip-path=\"url(#clip210)\" style=\"stroke:#000000; stroke-linecap:round; stroke-linejoin:round; stroke-width:4; stroke-opacity:1; fill:none\" points=\"\n",
       "  185.936,1086.13 1552.76,1086.13 \n",
       "  \"/>\n",
       "<polyline clip-path=\"url(#clip210)\" style=\"stroke:#000000; stroke-linecap:round; stroke-linejoin:round; stroke-width:4; stroke-opacity:1; fill:none\" points=\"\n",
       "  316.723,1086.13 316.723,1067.23 \n",
       "  \"/>\n",
       "<polyline clip-path=\"url(#clip210)\" style=\"stroke:#000000; stroke-linecap:round; stroke-linejoin:round; stroke-width:4; stroke-opacity:1; fill:none\" points=\"\n",
       "  500.931,1086.13 500.931,1067.23 \n",
       "  \"/>\n",
       "<polyline clip-path=\"url(#clip210)\" style=\"stroke:#000000; stroke-linecap:round; stroke-linejoin:round; stroke-width:4; stroke-opacity:1; fill:none\" points=\"\n",
       "  685.138,1086.13 685.138,1067.23 \n",
       "  \"/>\n",
       "<polyline clip-path=\"url(#clip210)\" style=\"stroke:#000000; stroke-linecap:round; stroke-linejoin:round; stroke-width:4; stroke-opacity:1; fill:none\" points=\"\n",
       "  869.346,1086.13 869.346,1067.23 \n",
       "  \"/>\n",
       "<polyline clip-path=\"url(#clip210)\" style=\"stroke:#000000; stroke-linecap:round; stroke-linejoin:round; stroke-width:4; stroke-opacity:1; fill:none\" points=\"\n",
       "  1053.55,1086.13 1053.55,1067.23 \n",
       "  \"/>\n",
       "<polyline clip-path=\"url(#clip210)\" style=\"stroke:#000000; stroke-linecap:round; stroke-linejoin:round; stroke-width:4; stroke-opacity:1; fill:none\" points=\"\n",
       "  1237.76,1086.13 1237.76,1067.23 \n",
       "  \"/>\n",
       "<polyline clip-path=\"url(#clip210)\" style=\"stroke:#000000; stroke-linecap:round; stroke-linejoin:round; stroke-width:4; stroke-opacity:1; fill:none\" points=\"\n",
       "  1421.97,1086.13 1421.97,1067.23 \n",
       "  \"/>\n",
       "<path clip-path=\"url(#clip210)\" d=\"M311.376 1138.19 L327.696 1138.19 L327.696 1142.13 L305.751 1142.13 L305.751 1138.19 Q308.413 1135.44 312.997 1130.81 Q317.603 1126.16 318.784 1124.81 Q321.029 1122.29 321.909 1120.55 Q322.811 1118.79 322.811 1117.1 Q322.811 1114.35 320.867 1112.61 Q318.946 1110.88 315.844 1110.88 Q313.645 1110.88 311.191 1111.64 Q308.76 1112.41 305.983 1113.96 L305.983 1109.23 Q308.807 1108.1 311.26 1107.52 Q313.714 1106.94 315.751 1106.94 Q321.121 1106.94 324.316 1109.63 Q327.51 1112.31 327.51 1116.8 Q327.51 1118.93 326.7 1120.85 Q325.913 1122.75 323.807 1125.35 Q323.228 1126.02 320.126 1129.23 Q317.024 1132.43 311.376 1138.19 Z\" fill=\"#000000\" fill-rule=\"evenodd\" fill-opacity=\"1\" /><path clip-path=\"url(#clip210)\" d=\"M503.94 1111.64 L492.135 1130.09 L503.94 1130.09 L503.94 1111.64 M502.713 1107.57 L508.593 1107.57 L508.593 1130.09 L513.523 1130.09 L513.523 1133.98 L508.593 1133.98 L508.593 1142.13 L503.94 1142.13 L503.94 1133.98 L488.338 1133.98 L488.338 1129.47 L502.713 1107.57 Z\" fill=\"#000000\" fill-rule=\"evenodd\" fill-opacity=\"1\" /><path clip-path=\"url(#clip210)\" d=\"M685.544 1122.98 Q682.395 1122.98 680.544 1125.14 Q678.715 1127.29 678.715 1131.04 Q678.715 1134.77 680.544 1136.94 Q682.395 1139.1 685.544 1139.1 Q688.692 1139.1 690.52 1136.94 Q692.372 1134.77 692.372 1131.04 Q692.372 1127.29 690.52 1125.14 Q688.692 1122.98 685.544 1122.98 M694.826 1108.33 L694.826 1112.59 Q693.067 1111.76 691.261 1111.32 Q689.479 1110.88 687.719 1110.88 Q683.09 1110.88 680.636 1114 Q678.206 1117.13 677.858 1123.45 Q679.224 1121.43 681.284 1120.37 Q683.344 1119.28 685.821 1119.28 Q691.03 1119.28 694.039 1122.45 Q697.071 1125.6 697.071 1131.04 Q697.071 1136.36 693.923 1139.58 Q690.775 1142.8 685.544 1142.8 Q679.548 1142.8 676.377 1138.22 Q673.206 1133.61 673.206 1124.88 Q673.206 1116.69 677.094 1111.83 Q680.983 1106.94 687.534 1106.94 Q689.293 1106.94 691.076 1107.29 Q692.881 1107.64 694.826 1108.33 Z\" fill=\"#000000\" fill-rule=\"evenodd\" fill-opacity=\"1\" /><path clip-path=\"url(#clip210)\" d=\"M869.346 1125.72 Q866.013 1125.72 864.091 1127.5 Q862.193 1129.28 862.193 1132.41 Q862.193 1135.53 864.091 1137.31 Q866.013 1139.1 869.346 1139.1 Q872.679 1139.1 874.601 1137.31 Q876.522 1135.51 876.522 1132.41 Q876.522 1129.28 874.601 1127.5 Q872.702 1125.72 869.346 1125.72 M864.67 1123.73 Q861.661 1122.98 859.971 1120.92 Q858.304 1118.86 858.304 1115.9 Q858.304 1111.76 861.244 1109.35 Q864.207 1106.94 869.346 1106.94 Q874.508 1106.94 877.448 1109.35 Q880.388 1111.76 880.388 1115.9 Q880.388 1118.86 878.698 1120.92 Q877.031 1122.98 874.045 1123.73 Q877.425 1124.51 879.3 1126.8 Q881.198 1129.1 881.198 1132.41 Q881.198 1137.43 878.119 1140.11 Q875.064 1142.8 869.346 1142.8 Q863.628 1142.8 860.55 1140.11 Q857.494 1137.43 857.494 1132.41 Q857.494 1129.1 859.392 1126.8 Q861.29 1124.51 864.67 1123.73 M862.957 1116.34 Q862.957 1119.03 864.624 1120.53 Q866.314 1122.04 869.346 1122.04 Q872.355 1122.04 874.045 1120.53 Q875.758 1119.03 875.758 1116.34 Q875.758 1113.66 874.045 1112.15 Q872.355 1110.65 869.346 1110.65 Q866.314 1110.65 864.624 1112.15 Q862.957 1113.66 862.957 1116.34 Z\" fill=\"#000000\" fill-rule=\"evenodd\" fill-opacity=\"1\" /><path clip-path=\"url(#clip210)\" d=\"M1028.24 1138.19 L1035.88 1138.19 L1035.88 1111.83 L1027.57 1113.49 L1027.57 1109.23 L1035.83 1107.57 L1040.51 1107.57 L1040.51 1138.19 L1048.15 1138.19 L1048.15 1142.13 L1028.24 1142.13 L1028.24 1138.19 Z\" fill=\"#000000\" fill-rule=\"evenodd\" fill-opacity=\"1\" /><path clip-path=\"url(#clip210)\" d=\"M1067.59 1110.65 Q1063.98 1110.65 1062.15 1114.21 Q1060.35 1117.75 1060.35 1124.88 Q1060.35 1131.99 1062.15 1135.55 Q1063.98 1139.1 1067.59 1139.1 Q1071.23 1139.1 1073.03 1135.55 Q1074.86 1131.99 1074.86 1124.88 Q1074.86 1117.75 1073.03 1114.21 Q1071.23 1110.65 1067.59 1110.65 M1067.59 1106.94 Q1073.4 1106.94 1076.46 1111.55 Q1079.54 1116.13 1079.54 1124.88 Q1079.54 1133.61 1076.46 1138.22 Q1073.4 1142.8 1067.59 1142.8 Q1061.78 1142.8 1058.7 1138.22 Q1055.65 1133.61 1055.65 1124.88 Q1055.65 1116.13 1058.7 1111.55 Q1061.78 1106.94 1067.59 1106.94 Z\" fill=\"#000000\" fill-rule=\"evenodd\" fill-opacity=\"1\" /><path clip-path=\"url(#clip210)\" d=\"M1213.25 1138.19 L1220.89 1138.19 L1220.89 1111.83 L1212.58 1113.49 L1212.58 1109.23 L1220.84 1107.57 L1225.52 1107.57 L1225.52 1138.19 L1233.15 1138.19 L1233.15 1142.13 L1213.25 1142.13 L1213.25 1138.19 Z\" fill=\"#000000\" fill-rule=\"evenodd\" fill-opacity=\"1\" /><path clip-path=\"url(#clip210)\" d=\"M1246.63 1138.19 L1262.95 1138.19 L1262.95 1142.13 L1241 1142.13 L1241 1138.19 Q1243.66 1135.44 1248.25 1130.81 Q1252.85 1126.16 1254.03 1124.81 Q1256.28 1122.29 1257.16 1120.55 Q1258.06 1118.79 1258.06 1117.1 Q1258.06 1114.35 1256.12 1112.61 Q1254.2 1110.88 1251.09 1110.88 Q1248.9 1110.88 1246.44 1111.64 Q1244.01 1112.41 1241.23 1113.96 L1241.23 1109.23 Q1244.06 1108.1 1246.51 1107.52 Q1248.96 1106.94 1251 1106.94 Q1256.37 1106.94 1259.57 1109.63 Q1262.76 1112.31 1262.76 1116.8 Q1262.76 1118.93 1261.95 1120.85 Q1261.16 1122.75 1259.06 1125.35 Q1258.48 1126.02 1255.38 1129.23 Q1252.27 1132.43 1246.63 1138.19 Z\" fill=\"#000000\" fill-rule=\"evenodd\" fill-opacity=\"1\" /><path clip-path=\"url(#clip210)\" d=\"M1396.41 1138.19 L1404.05 1138.19 L1404.05 1111.83 L1395.74 1113.49 L1395.74 1109.23 L1404.01 1107.57 L1408.68 1107.57 L1408.68 1138.19 L1416.32 1138.19 L1416.32 1142.13 L1396.41 1142.13 L1396.41 1138.19 Z\" fill=\"#000000\" fill-rule=\"evenodd\" fill-opacity=\"1\" /><path clip-path=\"url(#clip210)\" d=\"M1438.61 1111.64 L1426.81 1130.09 L1438.61 1130.09 L1438.61 1111.64 M1437.39 1107.57 L1443.26 1107.57 L1443.26 1130.09 L1448.2 1130.09 L1448.2 1133.98 L1443.26 1133.98 L1443.26 1142.13 L1438.61 1142.13 L1438.61 1133.98 L1423.01 1133.98 L1423.01 1129.47 L1437.39 1107.57 Z\" fill=\"#000000\" fill-rule=\"evenodd\" fill-opacity=\"1\" /><polyline clip-path=\"url(#clip212)\" style=\"stroke:#000000; stroke-linecap:round; stroke-linejoin:round; stroke-width:2; stroke-opacity:0.1; fill:none\" points=\"\n",
       "  185.936,1023.9 1552.76,1023.9 \n",
       "  \"/>\n",
       "<polyline clip-path=\"url(#clip212)\" style=\"stroke:#000000; stroke-linecap:round; stroke-linejoin:round; stroke-width:2; stroke-opacity:0.1; fill:none\" points=\"\n",
       "  185.936,764.556 1552.76,764.556 \n",
       "  \"/>\n",
       "<polyline clip-path=\"url(#clip212)\" style=\"stroke:#000000; stroke-linecap:round; stroke-linejoin:round; stroke-width:2; stroke-opacity:0.1; fill:none\" points=\"\n",
       "  185.936,505.211 1552.76,505.211 \n",
       "  \"/>\n",
       "<polyline clip-path=\"url(#clip212)\" style=\"stroke:#000000; stroke-linecap:round; stroke-linejoin:round; stroke-width:2; stroke-opacity:0.1; fill:none\" points=\"\n",
       "  185.936,245.865 1552.76,245.865 \n",
       "  \"/>\n",
       "<polyline clip-path=\"url(#clip210)\" style=\"stroke:#000000; stroke-linecap:round; stroke-linejoin:round; stroke-width:4; stroke-opacity:1; fill:none\" points=\"\n",
       "  185.936,1086.13 185.936,47.2441 \n",
       "  \"/>\n",
       "<polyline clip-path=\"url(#clip210)\" style=\"stroke:#000000; stroke-linecap:round; stroke-linejoin:round; stroke-width:4; stroke-opacity:1; fill:none\" points=\"\n",
       "  185.936,1023.9 204.834,1023.9 \n",
       "  \"/>\n",
       "<polyline clip-path=\"url(#clip210)\" style=\"stroke:#000000; stroke-linecap:round; stroke-linejoin:round; stroke-width:4; stroke-opacity:1; fill:none\" points=\"\n",
       "  185.936,764.556 204.834,764.556 \n",
       "  \"/>\n",
       "<polyline clip-path=\"url(#clip210)\" style=\"stroke:#000000; stroke-linecap:round; stroke-linejoin:round; stroke-width:4; stroke-opacity:1; fill:none\" points=\"\n",
       "  185.936,505.211 204.834,505.211 \n",
       "  \"/>\n",
       "<polyline clip-path=\"url(#clip210)\" style=\"stroke:#000000; stroke-linecap:round; stroke-linejoin:round; stroke-width:4; stroke-opacity:1; fill:none\" points=\"\n",
       "  185.936,245.865 204.834,245.865 \n",
       "  \"/>\n",
       "<path clip-path=\"url(#clip210)\" d=\"M54.9921 1024.35 L84.6679 1024.35 L84.6679 1028.29 L54.9921 1028.29 L54.9921 1024.35 Z\" fill=\"#000000\" fill-rule=\"evenodd\" fill-opacity=\"1\" /><path clip-path=\"url(#clip210)\" d=\"M95.5706 1037.25 L103.209 1037.25 L103.209 1010.88 L94.8993 1012.55 L94.8993 1008.29 L103.163 1006.62 L107.839 1006.62 L107.839 1037.25 L115.478 1037.25 L115.478 1041.18 L95.5706 1041.18 L95.5706 1037.25 Z\" fill=\"#000000\" fill-rule=\"evenodd\" fill-opacity=\"1\" /><path clip-path=\"url(#clip210)\" d=\"M124.922 1035.3 L129.807 1035.3 L129.807 1041.18 L124.922 1041.18 L124.922 1035.3 Z\" fill=\"#000000\" fill-rule=\"evenodd\" fill-opacity=\"1\" /><path clip-path=\"url(#clip210)\" d=\"M149.992 1009.7 Q146.381 1009.7 144.552 1013.26 Q142.746 1016.81 142.746 1023.94 Q142.746 1031.04 144.552 1034.61 Q146.381 1038.15 149.992 1038.15 Q153.626 1038.15 155.431 1034.61 Q157.26 1031.04 157.26 1023.94 Q157.26 1016.81 155.431 1013.26 Q153.626 1009.7 149.992 1009.7 M149.992 1006 Q155.802 1006 158.857 1010.6 Q161.936 1015.19 161.936 1023.94 Q161.936 1032.66 158.857 1037.27 Q155.802 1041.85 149.992 1041.85 Q144.181 1041.85 141.103 1037.27 Q138.047 1032.66 138.047 1023.94 Q138.047 1015.19 141.103 1010.6 Q144.181 1006 149.992 1006 Z\" fill=\"#000000\" fill-rule=\"evenodd\" fill-opacity=\"1\" /><path clip-path=\"url(#clip210)\" d=\"M55.9875 765.007 L85.6633 765.007 L85.6633 768.942 L55.9875 768.942 L55.9875 765.007 Z\" fill=\"#000000\" fill-rule=\"evenodd\" fill-opacity=\"1\" /><path clip-path=\"url(#clip210)\" d=\"M105.756 750.354 Q102.145 750.354 100.316 753.919 Q98.5104 757.461 98.5104 764.59 Q98.5104 771.697 100.316 775.262 Q102.145 778.803 105.756 778.803 Q109.39 778.803 111.196 775.262 Q113.024 771.697 113.024 764.59 Q113.024 757.461 111.196 753.919 Q109.39 750.354 105.756 750.354 M105.756 746.651 Q111.566 746.651 114.621 751.257 Q117.7 755.841 117.7 764.59 Q117.7 773.317 114.621 777.924 Q111.566 782.507 105.756 782.507 Q99.9456 782.507 96.8669 777.924 Q93.8114 773.317 93.8114 764.59 Q93.8114 755.841 96.8669 751.257 Q99.9456 746.651 105.756 746.651 Z\" fill=\"#000000\" fill-rule=\"evenodd\" fill-opacity=\"1\" /><path clip-path=\"url(#clip210)\" d=\"M125.918 775.956 L130.802 775.956 L130.802 781.836 L125.918 781.836 L125.918 775.956 Z\" fill=\"#000000\" fill-rule=\"evenodd\" fill-opacity=\"1\" /><path clip-path=\"url(#clip210)\" d=\"M141.033 747.276 L159.39 747.276 L159.39 751.211 L145.316 751.211 L145.316 759.683 Q146.334 759.336 147.353 759.174 Q148.371 758.989 149.39 758.989 Q155.177 758.989 158.556 762.16 Q161.936 765.331 161.936 770.748 Q161.936 776.327 158.464 779.428 Q154.992 782.507 148.672 782.507 Q146.496 782.507 144.228 782.137 Q141.982 781.766 139.575 781.026 L139.575 776.327 Q141.658 777.461 143.881 778.016 Q146.103 778.572 148.58 778.572 Q152.584 778.572 154.922 776.465 Q157.26 774.359 157.26 770.748 Q157.26 767.137 154.922 765.03 Q152.584 762.924 148.58 762.924 Q146.705 762.924 144.83 763.34 Q142.978 763.757 141.033 764.637 L141.033 747.276 Z\" fill=\"#000000\" fill-rule=\"evenodd\" fill-opacity=\"1\" /><path clip-path=\"url(#clip210)\" d=\"M104.76 491.009 Q101.149 491.009 99.3206 494.574 Q97.515 498.116 97.515 505.245 Q97.515 512.352 99.3206 515.917 Q101.149 519.458 104.76 519.458 Q108.395 519.458 110.2 515.917 Q112.029 512.352 112.029 505.245 Q112.029 498.116 110.2 494.574 Q108.395 491.009 104.76 491.009 M104.76 487.306 Q110.571 487.306 113.626 491.912 Q116.705 496.495 116.705 505.245 Q116.705 513.972 113.626 518.579 Q110.571 523.162 104.76 523.162 Q98.9502 523.162 95.8715 518.579 Q92.816 513.972 92.816 505.245 Q92.816 496.495 95.8715 491.912 Q98.9502 487.306 104.76 487.306 Z\" fill=\"#000000\" fill-rule=\"evenodd\" fill-opacity=\"1\" /><path clip-path=\"url(#clip210)\" d=\"M124.922 516.611 L129.807 516.611 L129.807 522.491 L124.922 522.491 L124.922 516.611 Z\" fill=\"#000000\" fill-rule=\"evenodd\" fill-opacity=\"1\" /><path clip-path=\"url(#clip210)\" d=\"M149.992 491.009 Q146.381 491.009 144.552 494.574 Q142.746 498.116 142.746 505.245 Q142.746 512.352 144.552 515.917 Q146.381 519.458 149.992 519.458 Q153.626 519.458 155.431 515.917 Q157.26 512.352 157.26 505.245 Q157.26 498.116 155.431 494.574 Q153.626 491.009 149.992 491.009 M149.992 487.306 Q155.802 487.306 158.857 491.912 Q161.936 496.495 161.936 505.245 Q161.936 513.972 158.857 518.579 Q155.802 523.162 149.992 523.162 Q144.181 523.162 141.103 518.579 Q138.047 513.972 138.047 505.245 Q138.047 496.495 141.103 491.912 Q144.181 487.306 149.992 487.306 Z\" fill=\"#000000\" fill-rule=\"evenodd\" fill-opacity=\"1\" /><path clip-path=\"url(#clip210)\" d=\"M105.756 231.664 Q102.145 231.664 100.316 235.229 Q98.5104 238.77 98.5104 245.9 Q98.5104 253.007 100.316 256.571 Q102.145 260.113 105.756 260.113 Q109.39 260.113 111.196 256.571 Q113.024 253.007 113.024 245.9 Q113.024 238.77 111.196 235.229 Q109.39 231.664 105.756 231.664 M105.756 227.96 Q111.566 227.96 114.621 232.567 Q117.7 237.15 117.7 245.9 Q117.7 254.627 114.621 259.233 Q111.566 263.817 105.756 263.817 Q99.9456 263.817 96.8669 259.233 Q93.8114 254.627 93.8114 245.9 Q93.8114 237.15 96.8669 232.567 Q99.9456 227.96 105.756 227.96 Z\" fill=\"#000000\" fill-rule=\"evenodd\" fill-opacity=\"1\" /><path clip-path=\"url(#clip210)\" d=\"M125.918 257.266 L130.802 257.266 L130.802 263.145 L125.918 263.145 L125.918 257.266 Z\" fill=\"#000000\" fill-rule=\"evenodd\" fill-opacity=\"1\" /><path clip-path=\"url(#clip210)\" d=\"M141.033 228.585 L159.39 228.585 L159.39 232.521 L145.316 232.521 L145.316 240.993 Q146.334 240.645 147.353 240.483 Q148.371 240.298 149.39 240.298 Q155.177 240.298 158.556 243.47 Q161.936 246.641 161.936 252.057 Q161.936 257.636 158.464 260.738 Q154.992 263.817 148.672 263.817 Q146.496 263.817 144.228 263.446 Q141.982 263.076 139.575 262.335 L139.575 257.636 Q141.658 258.77 143.881 259.326 Q146.103 259.881 148.58 259.881 Q152.584 259.881 154.922 257.775 Q157.26 255.669 157.26 252.057 Q157.26 248.446 154.922 246.34 Q152.584 244.233 148.58 244.233 Q146.705 244.233 144.83 244.65 Q142.978 245.067 141.033 245.946 L141.033 228.585 Z\" fill=\"#000000\" fill-rule=\"evenodd\" fill-opacity=\"1\" /><polyline clip-path=\"url(#clip212)\" style=\"stroke:#009af9; stroke-linecap:round; stroke-linejoin:round; stroke-width:4; stroke-opacity:1; fill:none\" points=\"\n",
       "  224.62,284.481 316.723,646.291 408.827,787.685 500.931,873.094 593.035,937.141 685.138,988.278 777.242,1027.3 869.346,1051.69 961.45,1056.73 1053.55,1035.5 \n",
       "  1145.66,978.593 1237.76,873.433 1329.86,703.492 1421.97,447.209 1514.07,76.6465 \n",
       "  \"/>\n",
       "<circle clip-path=\"url(#clip212)\" cx=\"224.62\" cy=\"284.481\" r=\"14.4\" fill=\"#e26f46\" fill-rule=\"evenodd\" fill-opacity=\"1\" stroke=\"#000000\" stroke-opacity=\"1\" stroke-width=\"2.4\"/>\n",
       "<circle clip-path=\"url(#clip212)\" cx=\"316.723\" cy=\"646.291\" r=\"14.4\" fill=\"#e26f46\" fill-rule=\"evenodd\" fill-opacity=\"1\" stroke=\"#000000\" stroke-opacity=\"1\" stroke-width=\"2.4\"/>\n",
       "<circle clip-path=\"url(#clip212)\" cx=\"408.827\" cy=\"787.685\" r=\"14.4\" fill=\"#e26f46\" fill-rule=\"evenodd\" fill-opacity=\"1\" stroke=\"#000000\" stroke-opacity=\"1\" stroke-width=\"2.4\"/>\n",
       "<circle clip-path=\"url(#clip212)\" cx=\"500.931\" cy=\"873.094\" r=\"14.4\" fill=\"#e26f46\" fill-rule=\"evenodd\" fill-opacity=\"1\" stroke=\"#000000\" stroke-opacity=\"1\" stroke-width=\"2.4\"/>\n",
       "<circle clip-path=\"url(#clip212)\" cx=\"593.035\" cy=\"937.141\" r=\"14.4\" fill=\"#e26f46\" fill-rule=\"evenodd\" fill-opacity=\"1\" stroke=\"#000000\" stroke-opacity=\"1\" stroke-width=\"2.4\"/>\n",
       "<circle clip-path=\"url(#clip212)\" cx=\"685.138\" cy=\"988.278\" r=\"14.4\" fill=\"#e26f46\" fill-rule=\"evenodd\" fill-opacity=\"1\" stroke=\"#000000\" stroke-opacity=\"1\" stroke-width=\"2.4\"/>\n",
       "<circle clip-path=\"url(#clip212)\" cx=\"777.242\" cy=\"1027.3\" r=\"14.4\" fill=\"#e26f46\" fill-rule=\"evenodd\" fill-opacity=\"1\" stroke=\"#000000\" stroke-opacity=\"1\" stroke-width=\"2.4\"/>\n",
       "<circle clip-path=\"url(#clip212)\" cx=\"869.346\" cy=\"1051.69\" r=\"14.4\" fill=\"#e26f46\" fill-rule=\"evenodd\" fill-opacity=\"1\" stroke=\"#000000\" stroke-opacity=\"1\" stroke-width=\"2.4\"/>\n",
       "<circle clip-path=\"url(#clip212)\" cx=\"961.45\" cy=\"1056.73\" r=\"14.4\" fill=\"#e26f46\" fill-rule=\"evenodd\" fill-opacity=\"1\" stroke=\"#000000\" stroke-opacity=\"1\" stroke-width=\"2.4\"/>\n",
       "<circle clip-path=\"url(#clip212)\" cx=\"1053.55\" cy=\"1035.5\" r=\"14.4\" fill=\"#e26f46\" fill-rule=\"evenodd\" fill-opacity=\"1\" stroke=\"#000000\" stroke-opacity=\"1\" stroke-width=\"2.4\"/>\n",
       "<circle clip-path=\"url(#clip212)\" cx=\"1145.66\" cy=\"978.593\" r=\"14.4\" fill=\"#e26f46\" fill-rule=\"evenodd\" fill-opacity=\"1\" stroke=\"#000000\" stroke-opacity=\"1\" stroke-width=\"2.4\"/>\n",
       "<circle clip-path=\"url(#clip212)\" cx=\"1237.76\" cy=\"873.433\" r=\"14.4\" fill=\"#e26f46\" fill-rule=\"evenodd\" fill-opacity=\"1\" stroke=\"#000000\" stroke-opacity=\"1\" stroke-width=\"2.4\"/>\n",
       "<circle clip-path=\"url(#clip212)\" cx=\"1329.86\" cy=\"703.492\" r=\"14.4\" fill=\"#e26f46\" fill-rule=\"evenodd\" fill-opacity=\"1\" stroke=\"#000000\" stroke-opacity=\"1\" stroke-width=\"2.4\"/>\n",
       "<circle clip-path=\"url(#clip212)\" cx=\"1421.97\" cy=\"447.209\" r=\"14.4\" fill=\"#e26f46\" fill-rule=\"evenodd\" fill-opacity=\"1\" stroke=\"#000000\" stroke-opacity=\"1\" stroke-width=\"2.4\"/>\n",
       "<circle clip-path=\"url(#clip212)\" cx=\"1514.07\" cy=\"76.6465\" r=\"14.4\" fill=\"#e26f46\" fill-rule=\"evenodd\" fill-opacity=\"1\" stroke=\"#000000\" stroke-opacity=\"1\" stroke-width=\"2.4\"/>\n",
       "<path clip-path=\"url(#clip210)\" d=\"\n",
       "M1064.63 185.554 L1507.2 185.554 L1507.2 81.8736 L1064.63 81.8736  Z\n",
       "  \" fill=\"#ffffff\" fill-rule=\"evenodd\" fill-opacity=\"1\"/>\n",
       "<polyline clip-path=\"url(#clip210)\" style=\"stroke:#000000; stroke-linecap:round; stroke-linejoin:round; stroke-width:4; stroke-opacity:1; fill:none\" points=\"\n",
       "  1064.63,185.554 1507.2,185.554 1507.2,81.8736 1064.63,81.8736 1064.63,185.554 \n",
       "  \"/>\n",
       "<polyline clip-path=\"url(#clip210)\" style=\"stroke:#009af9; stroke-linecap:round; stroke-linejoin:round; stroke-width:4; stroke-opacity:1; fill:none\" points=\"\n",
       "  1079.82,133.714 1170.94,133.714 \n",
       "  \"/>\n",
       "<path clip-path=\"url(#clip210)\" d=\"M1204.55 125.832 L1204.55 129.859 Q1202.75 128.933 1200.8 128.471 Q1198.86 128.008 1196.78 128.008 Q1193.61 128.008 1192.01 128.98 Q1190.43 129.952 1190.43 131.896 Q1190.43 133.378 1191.57 134.234 Q1192.7 135.068 1196.13 135.832 L1197.59 136.156 Q1202.12 137.128 1204.02 138.91 Q1205.94 140.67 1205.94 143.841 Q1205.94 147.452 1203.07 149.558 Q1200.23 151.665 1195.23 151.665 Q1193.14 151.665 1190.87 151.248 Q1188.63 150.855 1186.13 150.044 L1186.13 145.646 Q1188.49 146.873 1190.78 147.498 Q1193.07 148.1 1195.32 148.1 Q1198.33 148.1 1199.95 147.082 Q1201.57 146.04 1201.57 144.165 Q1201.57 142.429 1200.39 141.503 Q1199.23 140.577 1195.27 139.72 L1193.79 139.373 Q1189.83 138.54 1188.07 136.827 Q1186.31 135.091 1186.31 132.082 Q1186.31 128.424 1188.91 126.434 Q1191.5 124.443 1196.27 124.443 Q1198.63 124.443 1200.71 124.79 Q1202.8 125.137 1204.55 125.832 Z\" fill=\"#000000\" fill-rule=\"evenodd\" fill-opacity=\"1\" /><path clip-path=\"url(#clip210)\" d=\"M1222.77 128.054 Q1219.35 128.054 1217.36 130.739 Q1215.36 133.401 1215.36 138.054 Q1215.36 142.707 1217.33 145.392 Q1219.32 148.054 1222.77 148.054 Q1226.17 148.054 1228.17 145.369 Q1230.16 142.683 1230.16 138.054 Q1230.16 133.447 1228.17 130.762 Q1226.17 128.054 1222.77 128.054 M1222.77 124.443 Q1228.33 124.443 1231.5 128.054 Q1234.67 131.665 1234.67 138.054 Q1234.67 144.42 1231.5 148.054 Q1228.33 151.665 1222.77 151.665 Q1217.19 151.665 1214.02 148.054 Q1210.87 144.42 1210.87 138.054 Q1210.87 131.665 1214.02 128.054 Q1217.19 124.443 1222.77 124.443 Z\" fill=\"#000000\" fill-rule=\"evenodd\" fill-opacity=\"1\" /><path clip-path=\"url(#clip210)\" d=\"M1241.73 114.975 L1245.99 114.975 L1245.99 150.994 L1241.73 150.994 L1241.73 114.975 Z\" fill=\"#000000\" fill-rule=\"evenodd\" fill-opacity=\"1\" /><path clip-path=\"url(#clip210)\" d=\"M1254.46 140.762 L1254.46 125.068 L1258.72 125.068 L1258.72 140.6 Q1258.72 144.281 1260.16 146.132 Q1261.59 147.961 1264.46 147.961 Q1267.91 147.961 1269.9 145.762 Q1271.92 143.563 1271.92 139.767 L1271.92 125.068 L1276.17 125.068 L1276.17 150.994 L1271.92 150.994 L1271.92 147.012 Q1270.36 149.373 1268.3 150.531 Q1266.27 151.665 1263.56 151.665 Q1259.09 151.665 1256.78 148.887 Q1254.46 146.109 1254.46 140.762 M1265.18 124.443 L1265.18 124.443 Z\" fill=\"#000000\" fill-rule=\"evenodd\" fill-opacity=\"1\" /><path clip-path=\"url(#clip210)\" d=\"M1301.48 125.832 L1301.48 129.859 Q1299.67 128.933 1297.73 128.471 Q1295.78 128.008 1293.7 128.008 Q1290.53 128.008 1288.93 128.98 Q1287.35 129.952 1287.35 131.896 Q1287.35 133.378 1288.49 134.234 Q1289.62 135.068 1293.05 135.832 L1294.51 136.156 Q1299.04 137.128 1300.94 138.91 Q1302.86 140.67 1302.86 143.841 Q1302.86 147.452 1299.99 149.558 Q1297.15 151.665 1292.15 151.665 Q1290.06 151.665 1287.79 151.248 Q1285.55 150.855 1283.05 150.044 L1283.05 145.646 Q1285.41 146.873 1287.7 147.498 Q1289.99 148.1 1292.24 148.1 Q1295.25 148.1 1296.87 147.082 Q1298.49 146.04 1298.49 144.165 Q1298.49 142.429 1297.31 141.503 Q1296.15 140.577 1292.19 139.72 L1290.71 139.373 Q1286.75 138.54 1284.99 136.827 Q1283.23 135.091 1283.23 132.082 Q1283.23 128.424 1285.83 126.434 Q1288.42 124.443 1293.19 124.443 Q1295.55 124.443 1297.63 124.79 Q1299.72 125.137 1301.48 125.832 Z\" fill=\"#000000\" fill-rule=\"evenodd\" fill-opacity=\"1\" /><path clip-path=\"url(#clip210)\" d=\"M1309.65 125.068 L1313.91 125.068 L1313.91 150.994 L1309.65 150.994 L1309.65 125.068 M1309.65 114.975 L1313.91 114.975 L1313.91 120.369 L1309.65 120.369 L1309.65 114.975 Z\" fill=\"#000000\" fill-rule=\"evenodd\" fill-opacity=\"1\" /><path clip-path=\"url(#clip210)\" d=\"M1359.44 135.345 L1359.44 150.994 L1355.18 150.994 L1355.18 135.484 Q1355.18 131.804 1353.74 129.975 Q1352.31 128.146 1349.44 128.146 Q1345.99 128.146 1344 130.346 Q1342.01 132.545 1342.01 136.341 L1342.01 150.994 L1337.72 150.994 L1337.72 114.975 L1342.01 114.975 L1342.01 129.096 Q1343.54 126.758 1345.6 125.6 Q1347.68 124.443 1350.39 124.443 Q1354.85 124.443 1357.15 127.221 Q1359.44 129.975 1359.44 135.345 Z\" fill=\"#000000\" fill-rule=\"evenodd\" fill-opacity=\"1\" /><path clip-path=\"url(#clip210)\" d=\"M1368.49 129.466 L1398.16 129.466 L1398.16 133.355 L1368.49 133.355 L1368.49 129.466 M1368.49 138.91 L1398.16 138.91 L1398.16 142.845 L1368.49 142.845 L1368.49 138.91 Z\" fill=\"#000000\" fill-rule=\"evenodd\" fill-opacity=\"1\" /><path clip-path=\"url(#clip210)\" d=\"M1409.07 147.058 L1416.71 147.058 L1416.71 120.693 L1408.4 122.359 L1408.4 118.1 L1416.66 116.434 L1421.34 116.434 L1421.34 147.058 L1428.97 147.058 L1428.97 150.994 L1409.07 150.994 L1409.07 147.058 Z\" fill=\"#000000\" fill-rule=\"evenodd\" fill-opacity=\"1\" /><path clip-path=\"url(#clip210)\" d=\"M1445.39 116.434 L1449.32 116.434 L1437.28 155.392 L1433.35 155.392 L1445.39 116.434 Z\" fill=\"#000000\" fill-rule=\"evenodd\" fill-opacity=\"1\" /><path clip-path=\"url(#clip210)\" d=\"M1467.24 120.508 L1455.43 138.957 L1467.24 138.957 L1467.24 120.508 M1466.01 116.434 L1471.89 116.434 L1471.89 138.957 L1476.82 138.957 L1476.82 142.845 L1471.89 142.845 L1471.89 150.994 L1467.24 150.994 L1467.24 142.845 L1451.64 142.845 L1451.64 138.332 L1466.01 116.434 Z\" fill=\"#000000\" fill-rule=\"evenodd\" fill-opacity=\"1\" /></svg>\n"
      ]
     },
     "execution_count": 72,
     "metadata": {},
     "output_type": "execute_result"
    }
   ],
   "source": [
    "solu_per4 = [Y_per4]\n",
    "plot(solu_per4, label = \"solusi h=1/4\",size=(400,300))\n",
    "scatter!(solu_per4, label = :none)"
   ]
  },
  {
   "cell_type": "code",
   "execution_count": 73,
   "id": "daf26abf",
   "metadata": {},
   "outputs": [
    {
     "data": {
      "image/svg+xml": [
       "<?xml version=\"1.0\" encoding=\"utf-8\"?>\n",
       "<svg xmlns=\"http://www.w3.org/2000/svg\" xmlns:xlink=\"http://www.w3.org/1999/xlink\" width=\"400\" height=\"300\" viewBox=\"0 0 1600 1200\">\n",
       "<defs>\n",
       "  <clipPath id=\"clip250\">\n",
       "    <rect x=\"0\" y=\"0\" width=\"1600\" height=\"1200\"/>\n",
       "  </clipPath>\n",
       "</defs>\n",
       "<path clip-path=\"url(#clip250)\" d=\"\n",
       "M0 1200 L1600 1200 L1600 0 L0 0  Z\n",
       "  \" fill=\"#ffffff\" fill-rule=\"evenodd\" fill-opacity=\"1\"/>\n",
       "<defs>\n",
       "  <clipPath id=\"clip251\">\n",
       "    <rect x=\"320\" y=\"0\" width=\"1121\" height=\"1121\"/>\n",
       "  </clipPath>\n",
       "</defs>\n",
       "<path clip-path=\"url(#clip250)\" d=\"\n",
       "M133.853 1086.13 L1552.76 1086.13 L1552.76 47.2441 L133.853 47.2441  Z\n",
       "  \" fill=\"#ffffff\" fill-rule=\"evenodd\" fill-opacity=\"1\"/>\n",
       "<defs>\n",
       "  <clipPath id=\"clip252\">\n",
       "    <rect x=\"133\" y=\"47\" width=\"1420\" height=\"1040\"/>\n",
       "  </clipPath>\n",
       "</defs>\n",
       "<polyline clip-path=\"url(#clip252)\" style=\"stroke:#000000; stroke-linecap:round; stroke-linejoin:round; stroke-width:2; stroke-opacity:0.1; fill:none\" points=\"\n",
       "  269.624,1086.13 269.624,47.2441 \n",
       "  \"/>\n",
       "<polyline clip-path=\"url(#clip252)\" style=\"stroke:#000000; stroke-linecap:round; stroke-linejoin:round; stroke-width:2; stroke-opacity:0.1; fill:none\" points=\"\n",
       "  460.851,1086.13 460.851,47.2441 \n",
       "  \"/>\n",
       "<polyline clip-path=\"url(#clip252)\" style=\"stroke:#000000; stroke-linecap:round; stroke-linejoin:round; stroke-width:2; stroke-opacity:0.1; fill:none\" points=\"\n",
       "  652.078,1086.13 652.078,47.2441 \n",
       "  \"/>\n",
       "<polyline clip-path=\"url(#clip252)\" style=\"stroke:#000000; stroke-linecap:round; stroke-linejoin:round; stroke-width:2; stroke-opacity:0.1; fill:none\" points=\"\n",
       "  843.304,1086.13 843.304,47.2441 \n",
       "  \"/>\n",
       "<polyline clip-path=\"url(#clip252)\" style=\"stroke:#000000; stroke-linecap:round; stroke-linejoin:round; stroke-width:2; stroke-opacity:0.1; fill:none\" points=\"\n",
       "  1034.53,1086.13 1034.53,47.2441 \n",
       "  \"/>\n",
       "<polyline clip-path=\"url(#clip252)\" style=\"stroke:#000000; stroke-linecap:round; stroke-linejoin:round; stroke-width:2; stroke-opacity:0.1; fill:none\" points=\"\n",
       "  1225.76,1086.13 1225.76,47.2441 \n",
       "  \"/>\n",
       "<polyline clip-path=\"url(#clip252)\" style=\"stroke:#000000; stroke-linecap:round; stroke-linejoin:round; stroke-width:2; stroke-opacity:0.1; fill:none\" points=\"\n",
       "  1416.98,1086.13 1416.98,47.2441 \n",
       "  \"/>\n",
       "<polyline clip-path=\"url(#clip250)\" style=\"stroke:#000000; stroke-linecap:round; stroke-linejoin:round; stroke-width:4; stroke-opacity:1; fill:none\" points=\"\n",
       "  133.853,1086.13 1552.76,1086.13 \n",
       "  \"/>\n",
       "<polyline clip-path=\"url(#clip250)\" style=\"stroke:#000000; stroke-linecap:round; stroke-linejoin:round; stroke-width:4; stroke-opacity:1; fill:none\" points=\"\n",
       "  269.624,1086.13 269.624,1067.23 \n",
       "  \"/>\n",
       "<polyline clip-path=\"url(#clip250)\" style=\"stroke:#000000; stroke-linecap:round; stroke-linejoin:round; stroke-width:4; stroke-opacity:1; fill:none\" points=\"\n",
       "  460.851,1086.13 460.851,1067.23 \n",
       "  \"/>\n",
       "<polyline clip-path=\"url(#clip250)\" style=\"stroke:#000000; stroke-linecap:round; stroke-linejoin:round; stroke-width:4; stroke-opacity:1; fill:none\" points=\"\n",
       "  652.078,1086.13 652.078,1067.23 \n",
       "  \"/>\n",
       "<polyline clip-path=\"url(#clip250)\" style=\"stroke:#000000; stroke-linecap:round; stroke-linejoin:round; stroke-width:4; stroke-opacity:1; fill:none\" points=\"\n",
       "  843.304,1086.13 843.304,1067.23 \n",
       "  \"/>\n",
       "<polyline clip-path=\"url(#clip250)\" style=\"stroke:#000000; stroke-linecap:round; stroke-linejoin:round; stroke-width:4; stroke-opacity:1; fill:none\" points=\"\n",
       "  1034.53,1086.13 1034.53,1067.23 \n",
       "  \"/>\n",
       "<polyline clip-path=\"url(#clip250)\" style=\"stroke:#000000; stroke-linecap:round; stroke-linejoin:round; stroke-width:4; stroke-opacity:1; fill:none\" points=\"\n",
       "  1225.76,1086.13 1225.76,1067.23 \n",
       "  \"/>\n",
       "<polyline clip-path=\"url(#clip250)\" style=\"stroke:#000000; stroke-linecap:round; stroke-linejoin:round; stroke-width:4; stroke-opacity:1; fill:none\" points=\"\n",
       "  1416.98,1086.13 1416.98,1067.23 \n",
       "  \"/>\n",
       "<path clip-path=\"url(#clip250)\" d=\"M264.277 1138.19 L280.596 1138.19 L280.596 1142.13 L258.652 1142.13 L258.652 1138.19 Q261.314 1135.44 265.897 1130.81 Q270.504 1126.16 271.684 1124.81 Q273.93 1122.29 274.809 1120.55 Q275.712 1118.79 275.712 1117.1 Q275.712 1114.35 273.767 1112.61 Q271.846 1110.88 268.744 1110.88 Q266.545 1110.88 264.092 1111.64 Q261.661 1112.41 258.883 1113.96 L258.883 1109.23 Q261.707 1108.1 264.161 1107.52 Q266.615 1106.94 268.652 1106.94 Q274.022 1106.94 277.217 1109.63 Q280.411 1112.31 280.411 1116.8 Q280.411 1118.93 279.601 1120.85 Q278.814 1122.75 276.707 1125.35 Q276.129 1126.02 273.027 1129.23 Q269.925 1132.43 264.277 1138.19 Z\" fill=\"#000000\" fill-rule=\"evenodd\" fill-opacity=\"1\" /><path clip-path=\"url(#clip250)\" d=\"M463.86 1111.64 L452.055 1130.09 L463.86 1130.09 L463.86 1111.64 M462.633 1107.57 L468.513 1107.57 L468.513 1130.09 L473.443 1130.09 L473.443 1133.98 L468.513 1133.98 L468.513 1142.13 L463.86 1142.13 L463.86 1133.98 L448.258 1133.98 L448.258 1129.47 L462.633 1107.57 Z\" fill=\"#000000\" fill-rule=\"evenodd\" fill-opacity=\"1\" /><path clip-path=\"url(#clip250)\" d=\"M652.483 1122.98 Q649.335 1122.98 647.483 1125.14 Q645.654 1127.29 645.654 1131.04 Q645.654 1134.77 647.483 1136.94 Q649.335 1139.1 652.483 1139.1 Q655.631 1139.1 657.46 1136.94 Q659.311 1134.77 659.311 1131.04 Q659.311 1127.29 657.46 1125.14 Q655.631 1122.98 652.483 1122.98 M661.765 1108.33 L661.765 1112.59 Q660.006 1111.76 658.2 1111.32 Q656.418 1110.88 654.659 1110.88 Q650.029 1110.88 647.575 1114 Q645.145 1117.13 644.798 1123.45 Q646.163 1121.43 648.223 1120.37 Q650.284 1119.28 652.76 1119.28 Q657.969 1119.28 660.978 1122.45 Q664.01 1125.6 664.01 1131.04 Q664.01 1136.36 660.862 1139.58 Q657.714 1142.8 652.483 1142.8 Q646.487 1142.8 643.316 1138.22 Q640.145 1133.61 640.145 1124.88 Q640.145 1116.69 644.034 1111.83 Q647.923 1106.94 654.473 1106.94 Q656.233 1106.94 658.015 1107.29 Q659.821 1107.64 661.765 1108.33 Z\" fill=\"#000000\" fill-rule=\"evenodd\" fill-opacity=\"1\" /><path clip-path=\"url(#clip250)\" d=\"M843.304 1125.72 Q839.971 1125.72 838.05 1127.5 Q836.152 1129.28 836.152 1132.41 Q836.152 1135.53 838.05 1137.31 Q839.971 1139.1 843.304 1139.1 Q846.638 1139.1 848.559 1137.31 Q850.48 1135.51 850.48 1132.41 Q850.48 1129.28 848.559 1127.5 Q846.661 1125.72 843.304 1125.72 M838.629 1123.73 Q835.619 1122.98 833.929 1120.92 Q832.263 1118.86 832.263 1115.9 Q832.263 1111.76 835.203 1109.35 Q838.166 1106.94 843.304 1106.94 Q848.466 1106.94 851.406 1109.35 Q854.346 1111.76 854.346 1115.9 Q854.346 1118.86 852.656 1120.92 Q850.99 1122.98 848.003 1123.73 Q851.383 1124.51 853.258 1126.8 Q855.156 1129.1 855.156 1132.41 Q855.156 1137.43 852.078 1140.11 Q849.022 1142.8 843.304 1142.8 Q837.587 1142.8 834.508 1140.11 Q831.453 1137.43 831.453 1132.41 Q831.453 1129.1 833.351 1126.8 Q835.249 1124.51 838.629 1123.73 M836.916 1116.34 Q836.916 1119.03 838.582 1120.53 Q840.272 1122.04 843.304 1122.04 Q846.314 1122.04 848.003 1120.53 Q849.716 1119.03 849.716 1116.34 Q849.716 1113.66 848.003 1112.15 Q846.314 1110.65 843.304 1110.65 Q840.272 1110.65 838.582 1112.15 Q836.916 1113.66 836.916 1116.34 Z\" fill=\"#000000\" fill-rule=\"evenodd\" fill-opacity=\"1\" /><path clip-path=\"url(#clip250)\" d=\"M1009.22 1138.19 L1016.86 1138.19 L1016.86 1111.83 L1008.55 1113.49 L1008.55 1109.23 L1016.81 1107.57 L1021.49 1107.57 L1021.49 1138.19 L1029.13 1138.19 L1029.13 1142.13 L1009.22 1142.13 L1009.22 1138.19 Z\" fill=\"#000000\" fill-rule=\"evenodd\" fill-opacity=\"1\" /><path clip-path=\"url(#clip250)\" d=\"M1048.57 1110.65 Q1044.96 1110.65 1043.13 1114.21 Q1041.33 1117.75 1041.33 1124.88 Q1041.33 1131.99 1043.13 1135.55 Q1044.96 1139.1 1048.57 1139.1 Q1052.2 1139.1 1054.01 1135.55 Q1055.84 1131.99 1055.84 1124.88 Q1055.84 1117.75 1054.01 1114.21 Q1052.2 1110.65 1048.57 1110.65 M1048.57 1106.94 Q1054.38 1106.94 1057.44 1111.55 Q1060.51 1116.13 1060.51 1124.88 Q1060.51 1133.61 1057.44 1138.22 Q1054.38 1142.8 1048.57 1142.8 Q1042.76 1142.8 1039.68 1138.22 Q1036.63 1133.61 1036.63 1124.88 Q1036.63 1116.13 1039.68 1111.55 Q1042.76 1106.94 1048.57 1106.94 Z\" fill=\"#000000\" fill-rule=\"evenodd\" fill-opacity=\"1\" /><path clip-path=\"url(#clip250)\" d=\"M1201.24 1138.19 L1208.88 1138.19 L1208.88 1111.83 L1200.57 1113.49 L1200.57 1109.23 L1208.84 1107.57 L1213.51 1107.57 L1213.51 1138.19 L1221.15 1138.19 L1221.15 1142.13 L1201.24 1142.13 L1201.24 1138.19 Z\" fill=\"#000000\" fill-rule=\"evenodd\" fill-opacity=\"1\" /><path clip-path=\"url(#clip250)\" d=\"M1234.62 1138.19 L1250.94 1138.19 L1250.94 1142.13 L1229 1142.13 L1229 1138.19 Q1231.66 1135.44 1236.24 1130.81 Q1240.85 1126.16 1242.03 1124.81 Q1244.28 1122.29 1245.16 1120.55 Q1246.06 1118.79 1246.06 1117.1 Q1246.06 1114.35 1244.11 1112.61 Q1242.19 1110.88 1239.09 1110.88 Q1236.89 1110.88 1234.44 1111.64 Q1232.01 1112.41 1229.23 1113.96 L1229.23 1109.23 Q1232.05 1108.1 1234.51 1107.52 Q1236.96 1106.94 1239 1106.94 Q1244.37 1106.94 1247.56 1109.63 Q1250.76 1112.31 1250.76 1116.8 Q1250.76 1118.93 1249.95 1120.85 Q1249.16 1122.75 1247.05 1125.35 Q1246.48 1126.02 1243.37 1129.23 Q1240.27 1132.43 1234.62 1138.19 Z\" fill=\"#000000\" fill-rule=\"evenodd\" fill-opacity=\"1\" /><path clip-path=\"url(#clip250)\" d=\"M1391.43 1138.19 L1399.07 1138.19 L1399.07 1111.83 L1390.76 1113.49 L1390.76 1109.23 L1399.02 1107.57 L1403.7 1107.57 L1403.7 1138.19 L1411.34 1138.19 L1411.34 1142.13 L1391.43 1142.13 L1391.43 1138.19 Z\" fill=\"#000000\" fill-rule=\"evenodd\" fill-opacity=\"1\" /><path clip-path=\"url(#clip250)\" d=\"M1433.63 1111.64 L1421.82 1130.09 L1433.63 1130.09 L1433.63 1111.64 M1432.4 1107.57 L1438.28 1107.57 L1438.28 1130.09 L1443.21 1130.09 L1443.21 1133.98 L1438.28 1133.98 L1438.28 1142.13 L1433.63 1142.13 L1433.63 1133.98 L1418.03 1133.98 L1418.03 1129.47 L1432.4 1107.57 Z\" fill=\"#000000\" fill-rule=\"evenodd\" fill-opacity=\"1\" /><polyline clip-path=\"url(#clip252)\" style=\"stroke:#000000; stroke-linecap:round; stroke-linejoin:round; stroke-width:2; stroke-opacity:0.1; fill:none\" points=\"\n",
       "  133.853,1013.6 1552.76,1013.6 \n",
       "  \"/>\n",
       "<polyline clip-path=\"url(#clip252)\" style=\"stroke:#000000; stroke-linecap:round; stroke-linejoin:round; stroke-width:2; stroke-opacity:0.1; fill:none\" points=\"\n",
       "  133.853,789.193 1552.76,789.193 \n",
       "  \"/>\n",
       "<polyline clip-path=\"url(#clip252)\" style=\"stroke:#000000; stroke-linecap:round; stroke-linejoin:round; stroke-width:2; stroke-opacity:0.1; fill:none\" points=\"\n",
       "  133.853,564.781 1552.76,564.781 \n",
       "  \"/>\n",
       "<polyline clip-path=\"url(#clip252)\" style=\"stroke:#000000; stroke-linecap:round; stroke-linejoin:round; stroke-width:2; stroke-opacity:0.1; fill:none\" points=\"\n",
       "  133.853,340.37 1552.76,340.37 \n",
       "  \"/>\n",
       "<polyline clip-path=\"url(#clip252)\" style=\"stroke:#000000; stroke-linecap:round; stroke-linejoin:round; stroke-width:2; stroke-opacity:0.1; fill:none\" points=\"\n",
       "  133.853,115.959 1552.76,115.959 \n",
       "  \"/>\n",
       "<polyline clip-path=\"url(#clip250)\" style=\"stroke:#000000; stroke-linecap:round; stroke-linejoin:round; stroke-width:4; stroke-opacity:1; fill:none\" points=\"\n",
       "  133.853,1086.13 133.853,47.2441 \n",
       "  \"/>\n",
       "<polyline clip-path=\"url(#clip250)\" style=\"stroke:#000000; stroke-linecap:round; stroke-linejoin:round; stroke-width:4; stroke-opacity:1; fill:none\" points=\"\n",
       "  133.853,1013.6 152.751,1013.6 \n",
       "  \"/>\n",
       "<polyline clip-path=\"url(#clip250)\" style=\"stroke:#000000; stroke-linecap:round; stroke-linejoin:round; stroke-width:4; stroke-opacity:1; fill:none\" points=\"\n",
       "  133.853,789.193 152.751,789.193 \n",
       "  \"/>\n",
       "<polyline clip-path=\"url(#clip250)\" style=\"stroke:#000000; stroke-linecap:round; stroke-linejoin:round; stroke-width:4; stroke-opacity:1; fill:none\" points=\"\n",
       "  133.853,564.781 152.751,564.781 \n",
       "  \"/>\n",
       "<polyline clip-path=\"url(#clip250)\" style=\"stroke:#000000; stroke-linecap:round; stroke-linejoin:round; stroke-width:4; stroke-opacity:1; fill:none\" points=\"\n",
       "  133.853,340.37 152.751,340.37 \n",
       "  \"/>\n",
       "<polyline clip-path=\"url(#clip250)\" style=\"stroke:#000000; stroke-linecap:round; stroke-linejoin:round; stroke-width:4; stroke-opacity:1; fill:none\" points=\"\n",
       "  133.853,115.959 152.751,115.959 \n",
       "  \"/>\n",
       "<path clip-path=\"url(#clip250)\" d=\"M97.9086 999.403 Q94.2975 999.403 92.4688 1002.97 Q90.6632 1006.51 90.6632 1013.64 Q90.6632 1020.75 92.4688 1024.31 Q94.2975 1027.85 97.9086 1027.85 Q101.543 1027.85 103.348 1024.31 Q105.177 1020.75 105.177 1013.64 Q105.177 1006.51 103.348 1002.97 Q101.543 999.403 97.9086 999.403 M97.9086 995.699 Q103.719 995.699 106.774 1000.31 Q109.853 1004.89 109.853 1013.64 Q109.853 1022.37 106.774 1026.97 Q103.719 1031.56 97.9086 1031.56 Q92.0984 1031.56 89.0197 1026.97 Q85.9642 1022.37 85.9642 1013.64 Q85.9642 1004.89 89.0197 1000.31 Q92.0984 995.699 97.9086 995.699 Z\" fill=\"#000000\" fill-rule=\"evenodd\" fill-opacity=\"1\" /><path clip-path=\"url(#clip250)\" d=\"M58.5569 802.538 L66.1958 802.538 L66.1958 776.172 L57.8856 777.839 L57.8856 773.579 L66.1495 771.913 L70.8254 771.913 L70.8254 802.538 L78.4642 802.538 L78.4642 806.473 L58.5569 806.473 L58.5569 802.538 Z\" fill=\"#000000\" fill-rule=\"evenodd\" fill-opacity=\"1\" /><path clip-path=\"url(#clip250)\" d=\"M97.9086 774.991 Q94.2975 774.991 92.4688 778.556 Q90.6632 782.098 90.6632 789.227 Q90.6632 796.334 92.4688 799.899 Q94.2975 803.44 97.9086 803.44 Q101.543 803.44 103.348 799.899 Q105.177 796.334 105.177 789.227 Q105.177 782.098 103.348 778.556 Q101.543 774.991 97.9086 774.991 M97.9086 771.288 Q103.719 771.288 106.774 775.894 Q109.853 780.478 109.853 789.227 Q109.853 797.954 106.774 802.561 Q103.719 807.144 97.9086 807.144 Q92.0984 807.144 89.0197 802.561 Q85.9642 797.954 85.9642 789.227 Q85.9642 780.478 89.0197 775.894 Q92.0984 771.288 97.9086 771.288 Z\" fill=\"#000000\" fill-rule=\"evenodd\" fill-opacity=\"1\" /><path clip-path=\"url(#clip250)\" d=\"M61.7745 578.126 L78.0939 578.126 L78.0939 582.061 L56.1495 582.061 L56.1495 578.126 Q58.8115 575.372 63.3949 570.742 Q68.0013 566.089 69.1819 564.747 Q71.4272 562.224 72.3068 560.487 Q73.2096 558.728 73.2096 557.038 Q73.2096 554.284 71.2652 552.548 Q69.3439 550.812 66.2421 550.812 Q64.043 550.812 61.5893 551.575 Q59.1588 552.339 56.381 553.89 L56.381 549.168 Q59.2051 548.034 61.6588 547.455 Q64.1124 546.876 66.1495 546.876 Q71.5198 546.876 74.7142 549.562 Q77.9087 552.247 77.9087 556.738 Q77.9087 558.867 77.0985 560.788 Q76.3115 562.687 74.205 565.279 Q73.6263 565.95 70.5245 569.168 Q67.4226 572.362 61.7745 578.126 Z\" fill=\"#000000\" fill-rule=\"evenodd\" fill-opacity=\"1\" /><path clip-path=\"url(#clip250)\" d=\"M97.9086 550.58 Q94.2975 550.58 92.4688 554.145 Q90.6632 557.687 90.6632 564.816 Q90.6632 571.923 92.4688 575.487 Q94.2975 579.029 97.9086 579.029 Q101.543 579.029 103.348 575.487 Q105.177 571.923 105.177 564.816 Q105.177 557.687 103.348 554.145 Q101.543 550.58 97.9086 550.58 M97.9086 546.876 Q103.719 546.876 106.774 551.483 Q109.853 556.066 109.853 564.816 Q109.853 573.543 106.774 578.149 Q103.719 582.733 97.9086 582.733 Q92.0984 582.733 89.0197 578.149 Q85.9642 573.543 85.9642 564.816 Q85.9642 556.066 89.0197 551.483 Q92.0984 546.876 97.9086 546.876 Z\" fill=\"#000000\" fill-rule=\"evenodd\" fill-opacity=\"1\" /><path clip-path=\"url(#clip250)\" d=\"M71.9133 339.016 Q75.2698 339.734 77.1448 342.002 Q79.0429 344.271 79.0429 347.604 Q79.0429 352.72 75.5244 355.521 Q72.0059 358.321 65.5245 358.321 Q63.3486 358.321 61.0338 357.882 Q58.7421 357.465 56.2884 356.608 L56.2884 352.095 Q58.2328 353.229 60.5477 353.808 Q62.8625 354.386 65.3856 354.386 Q69.7837 354.386 72.0754 352.65 Q74.3902 350.914 74.3902 347.604 Q74.3902 344.548 72.2374 342.835 Q70.1078 341.099 66.2884 341.099 L62.2606 341.099 L62.2606 337.257 L66.4735 337.257 Q69.9226 337.257 71.7513 335.891 Q73.58 334.502 73.58 331.91 Q73.58 329.248 71.6819 327.835 Q69.8069 326.4 66.2884 326.4 Q64.3671 326.4 62.168 326.817 Q59.969 327.234 57.3301 328.113 L57.3301 323.947 Q59.9921 323.206 62.3069 322.836 Q64.6449 322.465 66.705 322.465 Q72.0291 322.465 75.1309 324.896 Q78.2327 327.303 78.2327 331.423 Q78.2327 334.294 76.5892 336.285 Q74.9457 338.252 71.9133 339.016 Z\" fill=\"#000000\" fill-rule=\"evenodd\" fill-opacity=\"1\" /><path clip-path=\"url(#clip250)\" d=\"M97.9086 326.169 Q94.2975 326.169 92.4688 329.734 Q90.6632 333.275 90.6632 340.405 Q90.6632 347.511 92.4688 351.076 Q94.2975 354.618 97.9086 354.618 Q101.543 354.618 103.348 351.076 Q105.177 347.511 105.177 340.405 Q105.177 333.275 103.348 329.734 Q101.543 326.169 97.9086 326.169 M97.9086 322.465 Q103.719 322.465 106.774 327.072 Q109.853 331.655 109.853 340.405 Q109.853 349.132 106.774 353.738 Q103.719 358.321 97.9086 358.321 Q92.0984 358.321 89.0197 353.738 Q85.9642 349.132 85.9642 340.405 Q85.9642 331.655 89.0197 327.072 Q92.0984 322.465 97.9086 322.465 Z\" fill=\"#000000\" fill-rule=\"evenodd\" fill-opacity=\"1\" /><path clip-path=\"url(#clip250)\" d=\"M70.5939 102.753 L58.7884 121.202 L70.5939 121.202 L70.5939 102.753 M69.367 98.6788 L75.2466 98.6788 L75.2466 121.202 L80.1772 121.202 L80.1772 125.091 L75.2466 125.091 L75.2466 133.239 L70.5939 133.239 L70.5939 125.091 L54.9921 125.091 L54.9921 120.577 L69.367 98.6788 Z\" fill=\"#000000\" fill-rule=\"evenodd\" fill-opacity=\"1\" /><path clip-path=\"url(#clip250)\" d=\"M97.9086 101.758 Q94.2975 101.758 92.4688 105.322 Q90.6632 108.864 90.6632 115.994 Q90.6632 123.1 92.4688 126.665 Q94.2975 130.206 97.9086 130.206 Q101.543 130.206 103.348 126.665 Q105.177 123.1 105.177 115.994 Q105.177 108.864 103.348 105.322 Q101.543 101.758 97.9086 101.758 M97.9086 98.0538 Q103.719 98.0538 106.774 102.66 Q109.853 107.244 109.853 115.994 Q109.853 124.72 106.774 129.327 Q103.719 133.91 97.9086 133.91 Q92.0984 133.91 89.0197 129.327 Q85.9642 124.72 85.9642 115.994 Q85.9642 107.244 89.0197 102.66 Q92.0984 98.0538 97.9086 98.0538 Z\" fill=\"#000000\" fill-rule=\"evenodd\" fill-opacity=\"1\" /><polyline clip-path=\"url(#clip252)\" style=\"stroke:#009af9; stroke-linecap:round; stroke-linejoin:round; stroke-width:4; stroke-opacity:1; fill:none\" points=\"\n",
       "  174.011,1004.05 269.624,1019.71 365.237,1025.83 460.851,1029.52 556.464,1032.29 652.078,1034.5 747.691,1036.19 843.304,1037.25 938.918,1037.47 1034.53,1036.55 \n",
       "  1130.14,1034.08 1225.76,1029.54 1321.37,1022.18 1416.98,1011.09 1512.6,995.062 \n",
       "  \"/>\n",
       "<polyline clip-path=\"url(#clip252)\" style=\"stroke:#e26f46; stroke-linecap:round; stroke-linejoin:round; stroke-width:4; stroke-opacity:1; fill:none\" points=\"\n",
       "  174.011,1053.57 269.624,1056.73 365.237,1048.66 460.851,1029.37 556.464,998.862 652.078,957.133 747.691,904.183 843.304,840.013 938.918,764.622 1034.53,678.011 \n",
       "  1130.14,580.179 1225.76,471.127 1321.37,350.854 1416.98,219.361 1512.6,76.6465 \n",
       "  \"/>\n",
       "<circle clip-path=\"url(#clip252)\" cx=\"174.011\" cy=\"1004.05\" r=\"14.4\" fill=\"#3da44d\" fill-rule=\"evenodd\" fill-opacity=\"1\" stroke=\"#000000\" stroke-opacity=\"1\" stroke-width=\"2.4\"/>\n",
       "<circle clip-path=\"url(#clip252)\" cx=\"269.624\" cy=\"1019.71\" r=\"14.4\" fill=\"#3da44d\" fill-rule=\"evenodd\" fill-opacity=\"1\" stroke=\"#000000\" stroke-opacity=\"1\" stroke-width=\"2.4\"/>\n",
       "<circle clip-path=\"url(#clip252)\" cx=\"365.237\" cy=\"1025.83\" r=\"14.4\" fill=\"#3da44d\" fill-rule=\"evenodd\" fill-opacity=\"1\" stroke=\"#000000\" stroke-opacity=\"1\" stroke-width=\"2.4\"/>\n",
       "<circle clip-path=\"url(#clip252)\" cx=\"460.851\" cy=\"1029.52\" r=\"14.4\" fill=\"#3da44d\" fill-rule=\"evenodd\" fill-opacity=\"1\" stroke=\"#000000\" stroke-opacity=\"1\" stroke-width=\"2.4\"/>\n",
       "<circle clip-path=\"url(#clip252)\" cx=\"556.464\" cy=\"1032.29\" r=\"14.4\" fill=\"#3da44d\" fill-rule=\"evenodd\" fill-opacity=\"1\" stroke=\"#000000\" stroke-opacity=\"1\" stroke-width=\"2.4\"/>\n",
       "<circle clip-path=\"url(#clip252)\" cx=\"652.078\" cy=\"1034.5\" r=\"14.4\" fill=\"#3da44d\" fill-rule=\"evenodd\" fill-opacity=\"1\" stroke=\"#000000\" stroke-opacity=\"1\" stroke-width=\"2.4\"/>\n",
       "<circle clip-path=\"url(#clip252)\" cx=\"747.691\" cy=\"1036.19\" r=\"14.4\" fill=\"#3da44d\" fill-rule=\"evenodd\" fill-opacity=\"1\" stroke=\"#000000\" stroke-opacity=\"1\" stroke-width=\"2.4\"/>\n",
       "<circle clip-path=\"url(#clip252)\" cx=\"843.304\" cy=\"1037.25\" r=\"14.4\" fill=\"#3da44d\" fill-rule=\"evenodd\" fill-opacity=\"1\" stroke=\"#000000\" stroke-opacity=\"1\" stroke-width=\"2.4\"/>\n",
       "<circle clip-path=\"url(#clip252)\" cx=\"938.918\" cy=\"1037.47\" r=\"14.4\" fill=\"#3da44d\" fill-rule=\"evenodd\" fill-opacity=\"1\" stroke=\"#000000\" stroke-opacity=\"1\" stroke-width=\"2.4\"/>\n",
       "<circle clip-path=\"url(#clip252)\" cx=\"1034.53\" cy=\"1036.55\" r=\"14.4\" fill=\"#3da44d\" fill-rule=\"evenodd\" fill-opacity=\"1\" stroke=\"#000000\" stroke-opacity=\"1\" stroke-width=\"2.4\"/>\n",
       "<circle clip-path=\"url(#clip252)\" cx=\"1130.14\" cy=\"1034.08\" r=\"14.4\" fill=\"#3da44d\" fill-rule=\"evenodd\" fill-opacity=\"1\" stroke=\"#000000\" stroke-opacity=\"1\" stroke-width=\"2.4\"/>\n",
       "<circle clip-path=\"url(#clip252)\" cx=\"1225.76\" cy=\"1029.54\" r=\"14.4\" fill=\"#3da44d\" fill-rule=\"evenodd\" fill-opacity=\"1\" stroke=\"#000000\" stroke-opacity=\"1\" stroke-width=\"2.4\"/>\n",
       "<circle clip-path=\"url(#clip252)\" cx=\"1321.37\" cy=\"1022.18\" r=\"14.4\" fill=\"#3da44d\" fill-rule=\"evenodd\" fill-opacity=\"1\" stroke=\"#000000\" stroke-opacity=\"1\" stroke-width=\"2.4\"/>\n",
       "<circle clip-path=\"url(#clip252)\" cx=\"1416.98\" cy=\"1011.09\" r=\"14.4\" fill=\"#3da44d\" fill-rule=\"evenodd\" fill-opacity=\"1\" stroke=\"#000000\" stroke-opacity=\"1\" stroke-width=\"2.4\"/>\n",
       "<circle clip-path=\"url(#clip252)\" cx=\"1512.6\" cy=\"995.062\" r=\"14.4\" fill=\"#3da44d\" fill-rule=\"evenodd\" fill-opacity=\"1\" stroke=\"#000000\" stroke-opacity=\"1\" stroke-width=\"2.4\"/>\n",
       "<path clip-path=\"url(#clip250)\" d=\"\n",
       "M1057.11 237.394 L1505.46 237.394 L1505.46 81.8736 L1057.11 81.8736  Z\n",
       "  \" fill=\"#ffffff\" fill-rule=\"evenodd\" fill-opacity=\"1\"/>\n",
       "<polyline clip-path=\"url(#clip250)\" style=\"stroke:#000000; stroke-linecap:round; stroke-linejoin:round; stroke-width:4; stroke-opacity:1; fill:none\" points=\"\n",
       "  1057.11,237.394 1505.46,237.394 1505.46,81.8736 1057.11,81.8736 1057.11,237.394 \n",
       "  \"/>\n",
       "<polyline clip-path=\"url(#clip250)\" style=\"stroke:#009af9; stroke-linecap:round; stroke-linejoin:round; stroke-width:4; stroke-opacity:1; fill:none\" points=\"\n",
       "  1072.88,133.714 1167.47,133.714 \n",
       "  \"/>\n",
       "<path clip-path=\"url(#clip250)\" d=\"M1201.66 125.832 L1201.66 129.859 Q1199.86 128.933 1197.91 128.471 Q1195.97 128.008 1193.88 128.008 Q1190.71 128.008 1189.11 128.98 Q1187.54 129.952 1187.54 131.896 Q1187.54 133.378 1188.67 134.234 Q1189.81 135.068 1193.24 135.832 L1194.69 136.156 Q1199.23 137.128 1201.13 138.91 Q1203.05 140.67 1203.05 143.841 Q1203.05 147.452 1200.18 149.558 Q1197.33 151.665 1192.33 151.665 Q1190.25 151.665 1187.98 151.248 Q1185.74 150.855 1183.24 150.044 L1183.24 145.646 Q1185.6 146.873 1187.89 147.498 Q1190.18 148.1 1192.42 148.1 Q1195.43 148.1 1197.05 147.082 Q1198.67 146.04 1198.67 144.165 Q1198.67 142.429 1197.49 141.503 Q1196.34 140.577 1192.38 139.72 L1190.9 139.373 Q1186.94 138.54 1185.18 136.827 Q1183.42 135.091 1183.42 132.082 Q1183.42 128.424 1186.01 126.434 Q1188.61 124.443 1193.37 124.443 Q1195.74 124.443 1197.82 124.79 Q1199.9 125.137 1201.66 125.832 Z\" fill=\"#000000\" fill-rule=\"evenodd\" fill-opacity=\"1\" /><path clip-path=\"url(#clip250)\" d=\"M1219.88 128.054 Q1216.45 128.054 1214.46 130.739 Q1212.47 133.401 1212.47 138.054 Q1212.47 142.707 1214.44 145.392 Q1216.43 148.054 1219.88 148.054 Q1223.28 148.054 1225.27 145.369 Q1227.26 142.683 1227.26 138.054 Q1227.26 133.447 1225.27 130.762 Q1223.28 128.054 1219.88 128.054 M1219.88 124.443 Q1225.43 124.443 1228.61 128.054 Q1231.78 131.665 1231.78 138.054 Q1231.78 144.42 1228.61 148.054 Q1225.43 151.665 1219.88 151.665 Q1214.3 151.665 1211.13 148.054 Q1207.98 144.42 1207.98 138.054 Q1207.98 131.665 1211.13 128.054 Q1214.3 124.443 1219.88 124.443 Z\" fill=\"#000000\" fill-rule=\"evenodd\" fill-opacity=\"1\" /><path clip-path=\"url(#clip250)\" d=\"M1238.84 114.975 L1243.1 114.975 L1243.1 150.994 L1238.84 150.994 L1238.84 114.975 Z\" fill=\"#000000\" fill-rule=\"evenodd\" fill-opacity=\"1\" /><path clip-path=\"url(#clip250)\" d=\"M1251.57 140.762 L1251.57 125.068 L1255.83 125.068 L1255.83 140.6 Q1255.83 144.281 1257.26 146.132 Q1258.7 147.961 1261.57 147.961 Q1265.02 147.961 1267.01 145.762 Q1269.02 143.563 1269.02 139.767 L1269.02 125.068 L1273.28 125.068 L1273.28 150.994 L1269.02 150.994 L1269.02 147.012 Q1267.47 149.373 1265.41 150.531 Q1263.37 151.665 1260.67 151.665 Q1256.2 151.665 1253.88 148.887 Q1251.57 146.109 1251.57 140.762 M1262.29 124.443 L1262.29 124.443 Z\" fill=\"#000000\" fill-rule=\"evenodd\" fill-opacity=\"1\" /><path clip-path=\"url(#clip250)\" d=\"M1298.58 125.832 L1298.58 129.859 Q1296.78 128.933 1294.83 128.471 Q1292.89 128.008 1290.8 128.008 Q1287.63 128.008 1286.04 128.98 Q1284.46 129.952 1284.46 131.896 Q1284.46 133.378 1285.6 134.234 Q1286.73 135.068 1290.16 135.832 L1291.61 136.156 Q1296.15 137.128 1298.05 138.91 Q1299.97 140.67 1299.97 143.841 Q1299.97 147.452 1297.1 149.558 Q1294.25 151.665 1289.25 151.665 Q1287.17 151.665 1284.9 151.248 Q1282.66 150.855 1280.16 150.044 L1280.16 145.646 Q1282.52 146.873 1284.81 147.498 Q1287.1 148.1 1289.35 148.1 Q1292.35 148.1 1293.98 147.082 Q1295.6 146.04 1295.6 144.165 Q1295.6 142.429 1294.42 141.503 Q1293.26 140.577 1289.3 139.72 L1287.82 139.373 Q1283.86 138.54 1282.1 136.827 Q1280.34 135.091 1280.34 132.082 Q1280.34 128.424 1282.93 126.434 Q1285.53 124.443 1290.29 124.443 Q1292.66 124.443 1294.74 124.79 Q1296.82 125.137 1298.58 125.832 Z\" fill=\"#000000\" fill-rule=\"evenodd\" fill-opacity=\"1\" /><path clip-path=\"url(#clip250)\" d=\"M1306.75 125.068 L1311.01 125.068 L1311.01 150.994 L1306.75 150.994 L1306.75 125.068 M1306.75 114.975 L1311.01 114.975 L1311.01 120.369 L1306.75 120.369 L1306.75 114.975 Z\" fill=\"#000000\" fill-rule=\"evenodd\" fill-opacity=\"1\" /><path clip-path=\"url(#clip250)\" d=\"M1356.54 135.345 L1356.54 150.994 L1352.29 150.994 L1352.29 135.484 Q1352.29 131.804 1350.85 129.975 Q1349.41 128.146 1346.54 128.146 Q1343.1 128.146 1341.1 130.346 Q1339.11 132.545 1339.11 136.341 L1339.11 150.994 L1334.83 150.994 L1334.83 114.975 L1339.11 114.975 L1339.11 129.096 Q1340.64 126.758 1342.7 125.6 Q1344.79 124.443 1347.49 124.443 Q1351.96 124.443 1354.25 127.221 Q1356.54 129.975 1356.54 135.345 Z\" fill=\"#000000\" fill-rule=\"evenodd\" fill-opacity=\"1\" /><path clip-path=\"url(#clip250)\" d=\"M1365.6 129.466 L1395.27 129.466 L1395.27 133.355 L1365.6 133.355 L1365.6 129.466 M1365.6 138.91 L1395.27 138.91 L1395.27 142.845 L1365.6 142.845 L1365.6 138.91 Z\" fill=\"#000000\" fill-rule=\"evenodd\" fill-opacity=\"1\" /><path clip-path=\"url(#clip250)\" d=\"M1406.17 147.058 L1413.81 147.058 L1413.81 120.693 L1405.5 122.359 L1405.5 118.1 L1413.77 116.434 L1418.44 116.434 L1418.44 147.058 L1426.08 147.058 L1426.08 150.994 L1406.17 150.994 L1406.17 147.058 Z\" fill=\"#000000\" fill-rule=\"evenodd\" fill-opacity=\"1\" /><path clip-path=\"url(#clip250)\" d=\"M1442.49 116.434 L1446.43 116.434 L1434.39 155.392 L1430.46 155.392 L1442.49 116.434 Z\" fill=\"#000000\" fill-rule=\"evenodd\" fill-opacity=\"1\" /><path clip-path=\"url(#clip250)\" d=\"M1464.34 120.508 L1452.54 138.957 L1464.34 138.957 L1464.34 120.508 M1463.12 116.434 L1469 116.434 L1469 138.957 L1473.93 138.957 L1473.93 142.845 L1469 142.845 L1469 150.994 L1464.34 150.994 L1464.34 142.845 L1448.74 142.845 L1448.74 138.332 L1463.12 116.434 Z\" fill=\"#000000\" fill-rule=\"evenodd\" fill-opacity=\"1\" /><polyline clip-path=\"url(#clip250)\" style=\"stroke:#e26f46; stroke-linecap:round; stroke-linejoin:round; stroke-width:4; stroke-opacity:1; fill:none\" points=\"\n",
       "  1072.88,185.554 1167.47,185.554 \n",
       "  \"/>\n",
       "<path clip-path=\"url(#clip250)\" d=\"M1201.66 177.672 L1201.66 181.699 Q1199.86 180.773 1197.91 180.311 Q1195.97 179.848 1193.88 179.848 Q1190.71 179.848 1189.11 180.82 Q1187.54 181.792 1187.54 183.736 Q1187.54 185.218 1188.67 186.074 Q1189.81 186.908 1193.24 187.672 L1194.69 187.996 Q1199.23 188.968 1201.13 190.75 Q1203.05 192.51 1203.05 195.681 Q1203.05 199.292 1200.18 201.398 Q1197.33 203.505 1192.33 203.505 Q1190.25 203.505 1187.98 203.088 Q1185.74 202.695 1183.24 201.884 L1183.24 197.486 Q1185.6 198.713 1187.89 199.338 Q1190.18 199.94 1192.42 199.94 Q1195.43 199.94 1197.05 198.922 Q1198.67 197.88 1198.67 196.005 Q1198.67 194.269 1197.49 193.343 Q1196.34 192.417 1192.38 191.56 L1190.9 191.213 Q1186.94 190.38 1185.18 188.667 Q1183.42 186.931 1183.42 183.922 Q1183.42 180.264 1186.01 178.274 Q1188.61 176.283 1193.37 176.283 Q1195.74 176.283 1197.82 176.63 Q1199.9 176.977 1201.66 177.672 Z\" fill=\"#000000\" fill-rule=\"evenodd\" fill-opacity=\"1\" /><path clip-path=\"url(#clip250)\" d=\"M1219.88 179.894 Q1216.45 179.894 1214.46 182.579 Q1212.47 185.241 1212.47 189.894 Q1212.47 194.547 1214.44 197.232 Q1216.43 199.894 1219.88 199.894 Q1223.28 199.894 1225.27 197.209 Q1227.26 194.523 1227.26 189.894 Q1227.26 185.287 1225.27 182.602 Q1223.28 179.894 1219.88 179.894 M1219.88 176.283 Q1225.43 176.283 1228.61 179.894 Q1231.78 183.505 1231.78 189.894 Q1231.78 196.26 1228.61 199.894 Q1225.43 203.505 1219.88 203.505 Q1214.3 203.505 1211.13 199.894 Q1207.98 196.26 1207.98 189.894 Q1207.98 183.505 1211.13 179.894 Q1214.3 176.283 1219.88 176.283 Z\" fill=\"#000000\" fill-rule=\"evenodd\" fill-opacity=\"1\" /><path clip-path=\"url(#clip250)\" d=\"M1238.84 166.815 L1243.1 166.815 L1243.1 202.834 L1238.84 202.834 L1238.84 166.815 Z\" fill=\"#000000\" fill-rule=\"evenodd\" fill-opacity=\"1\" /><path clip-path=\"url(#clip250)\" d=\"M1251.57 192.602 L1251.57 176.908 L1255.83 176.908 L1255.83 192.44 Q1255.83 196.121 1257.26 197.972 Q1258.7 199.801 1261.57 199.801 Q1265.02 199.801 1267.01 197.602 Q1269.02 195.403 1269.02 191.607 L1269.02 176.908 L1273.28 176.908 L1273.28 202.834 L1269.02 202.834 L1269.02 198.852 Q1267.47 201.213 1265.41 202.371 Q1263.37 203.505 1260.67 203.505 Q1256.2 203.505 1253.88 200.727 Q1251.57 197.949 1251.57 192.602 M1262.29 176.283 L1262.29 176.283 Z\" fill=\"#000000\" fill-rule=\"evenodd\" fill-opacity=\"1\" /><path clip-path=\"url(#clip250)\" d=\"M1298.58 177.672 L1298.58 181.699 Q1296.78 180.773 1294.83 180.311 Q1292.89 179.848 1290.8 179.848 Q1287.63 179.848 1286.04 180.82 Q1284.46 181.792 1284.46 183.736 Q1284.46 185.218 1285.6 186.074 Q1286.73 186.908 1290.16 187.672 L1291.61 187.996 Q1296.15 188.968 1298.05 190.75 Q1299.97 192.51 1299.97 195.681 Q1299.97 199.292 1297.1 201.398 Q1294.25 203.505 1289.25 203.505 Q1287.17 203.505 1284.9 203.088 Q1282.66 202.695 1280.16 201.884 L1280.16 197.486 Q1282.52 198.713 1284.81 199.338 Q1287.1 199.94 1289.35 199.94 Q1292.35 199.94 1293.98 198.922 Q1295.6 197.88 1295.6 196.005 Q1295.6 194.269 1294.42 193.343 Q1293.26 192.417 1289.3 191.56 L1287.82 191.213 Q1283.86 190.38 1282.1 188.667 Q1280.34 186.931 1280.34 183.922 Q1280.34 180.264 1282.93 178.274 Q1285.53 176.283 1290.29 176.283 Q1292.66 176.283 1294.74 176.63 Q1296.82 176.977 1298.58 177.672 Z\" fill=\"#000000\" fill-rule=\"evenodd\" fill-opacity=\"1\" /><path clip-path=\"url(#clip250)\" d=\"M1306.75 176.908 L1311.01 176.908 L1311.01 202.834 L1306.75 202.834 L1306.75 176.908 M1306.75 166.815 L1311.01 166.815 L1311.01 172.209 L1306.75 172.209 L1306.75 166.815 Z\" fill=\"#000000\" fill-rule=\"evenodd\" fill-opacity=\"1\" /><path clip-path=\"url(#clip250)\" d=\"M1346.78 189.801 Q1341.61 189.801 1339.62 190.982 Q1337.63 192.162 1337.63 195.01 Q1337.63 197.278 1339.11 198.621 Q1340.62 199.94 1343.19 199.94 Q1346.73 199.94 1348.86 197.44 Q1351.01 194.917 1351.01 190.75 L1351.01 189.801 L1346.78 189.801 M1355.27 188.042 L1355.27 202.834 L1351.01 202.834 L1351.01 198.898 Q1349.55 201.259 1347.38 202.394 Q1345.2 203.505 1342.05 203.505 Q1338.07 203.505 1335.71 201.283 Q1333.37 199.037 1333.37 195.287 Q1333.37 190.912 1336.29 188.69 Q1339.23 186.468 1345.04 186.468 L1351.01 186.468 L1351.01 186.051 Q1351.01 183.111 1349.07 181.514 Q1347.15 179.894 1343.65 179.894 Q1341.43 179.894 1339.32 180.426 Q1337.22 180.959 1335.27 182.023 L1335.27 178.088 Q1337.61 177.186 1339.81 176.746 Q1342.01 176.283 1344.09 176.283 Q1349.72 176.283 1352.49 179.199 Q1355.27 182.116 1355.27 188.042 Z\" fill=\"#000000\" fill-rule=\"evenodd\" fill-opacity=\"1\" /><path clip-path=\"url(#clip250)\" d=\"M1363.88 166.815 L1368.16 166.815 L1368.16 188.088 L1380.87 176.908 L1386.31 176.908 L1372.56 189.037 L1386.89 202.834 L1381.34 202.834 L1368.16 190.172 L1368.16 202.834 L1363.88 202.834 L1363.88 166.815 Z\" fill=\"#000000\" fill-rule=\"evenodd\" fill-opacity=\"1\" /><path clip-path=\"url(#clip250)\" d=\"M1395.71 169.547 L1395.71 176.908 L1404.48 176.908 L1404.48 180.218 L1395.71 180.218 L1395.71 194.292 Q1395.71 197.463 1396.57 198.366 Q1397.45 199.269 1400.11 199.269 L1404.48 199.269 L1404.48 202.834 L1400.11 202.834 Q1395.18 202.834 1393.3 201.005 Q1391.43 199.153 1391.43 194.292 L1391.43 180.218 L1388.3 180.218 L1388.3 176.908 L1391.43 176.908 L1391.43 169.547 L1395.71 169.547 Z\" fill=\"#000000\" fill-rule=\"evenodd\" fill-opacity=\"1\" /><path clip-path=\"url(#clip250)\" d=\"M1409.65 192.602 L1409.65 176.908 L1413.91 176.908 L1413.91 192.44 Q1413.91 196.121 1415.34 197.972 Q1416.78 199.801 1419.65 199.801 Q1423.09 199.801 1425.09 197.602 Q1427.1 195.403 1427.1 191.607 L1427.1 176.908 L1431.36 176.908 L1431.36 202.834 L1427.1 202.834 L1427.1 198.852 Q1425.55 201.213 1423.49 202.371 Q1421.45 203.505 1418.74 203.505 Q1414.28 203.505 1411.96 200.727 Q1409.65 197.949 1409.65 192.602 M1420.36 176.283 L1420.36 176.283 Z\" fill=\"#000000\" fill-rule=\"evenodd\" fill-opacity=\"1\" /><path clip-path=\"url(#clip250)\" d=\"M1451.91 189.801 Q1446.75 189.801 1444.76 190.982 Q1442.77 192.162 1442.77 195.01 Q1442.77 197.278 1444.25 198.621 Q1445.76 199.94 1448.33 199.94 Q1451.87 199.94 1454 197.44 Q1456.15 194.917 1456.15 190.75 L1456.15 189.801 L1451.91 189.801 M1460.41 188.042 L1460.41 202.834 L1456.15 202.834 L1456.15 198.898 Q1454.69 201.259 1452.52 202.394 Q1450.34 203.505 1447.19 203.505 Q1443.21 203.505 1440.85 201.283 Q1438.51 199.037 1438.51 195.287 Q1438.51 190.912 1441.43 188.69 Q1444.37 186.468 1450.18 186.468 L1456.15 186.468 L1456.15 186.051 Q1456.15 183.111 1454.21 181.514 Q1452.28 179.894 1448.79 179.894 Q1446.57 179.894 1444.46 180.426 Q1442.35 180.959 1440.41 182.023 L1440.41 178.088 Q1442.75 177.186 1444.95 176.746 Q1447.15 176.283 1449.23 176.283 Q1454.85 176.283 1457.63 179.199 Q1460.41 182.116 1460.41 188.042 Z\" fill=\"#000000\" fill-rule=\"evenodd\" fill-opacity=\"1\" /><path clip-path=\"url(#clip250)\" d=\"M1469.18 166.815 L1473.44 166.815 L1473.44 202.834 L1469.18 202.834 L1469.18 166.815 Z\" fill=\"#000000\" fill-rule=\"evenodd\" fill-opacity=\"1\" /></svg>\n"
      ]
     },
     "execution_count": 73,
     "metadata": {},
     "output_type": "execute_result"
    }
   ],
   "source": [
    "sol_ak = [(t^2)-0.2525826491*t-2.528442297*t for t in 1:0.5:8];\n",
    "plot(solu_per4, label = \"solusi h=1/4\",size=(400,300))\n",
    "plot!(sol_ak, label = \"solusi aktual\", size=(400,300))\n",
    "scatter!(solu_per4, label = :none)"
   ]
  },
  {
   "cell_type": "code",
   "execution_count": 74,
   "id": "86569704",
   "metadata": {},
   "outputs": [],
   "source": [
    "##################################################################################################"
   ]
  },
  {
   "cell_type": "markdown",
   "id": "9f4e419d",
   "metadata": {},
   "source": [
    "$$\n",
    "P(h,t_i)\n",
    "= \\left( 2 t_i^2 + h t_i \\right)\n",
    "\\quad\n",
    "Q(h,t_i)\n",
    "= \\left( 2 h^2 - 4 t_i^2 \\right )\n",
    "\\quad\n",
    "R(h,t_i)\n",
    "= \\left( 2 t_i^2  - h t_i \\right )\n",
    "\\quad\n",
    "S(h,t_i)\n",
    "= 2 h^2 t_i^2\n",
    "$$"
   ]
  },
  {
   "cell_type": "markdown",
   "id": "a0b02c43",
   "metadata": {},
   "source": [
    "case:\n",
    "\n",
    "$h=\\frac{1}{16}$, $y_0 = 1$ dan $y_{64} = 2$."
   ]
  },
  {
   "cell_type": "markdown",
   "id": "07692d92",
   "metadata": {},
   "source": [
    "therefore"
   ]
  },
  {
   "cell_type": "markdown",
   "id": "81ca2350",
   "metadata": {},
   "source": [
    "$\\begin{align}\n",
    "P(\\frac{1}{16} , t_i)\n",
    "& = 2 t_i^2 + \\frac{1}{16} t_i\n",
    "\\\\\n",
    "Q(\\frac{1}{16} , t_i)\n",
    "& =  2 (\\frac{1}{16})^2 - 4 t_i^2\n",
    "= \\frac{1}{128} - 4 t_i^2\n",
    "\\\\\n",
    "R(\\frac{1}{16} , t_i)\n",
    "& = 2 t_i^2  - \\frac{1}{16} t_i\n",
    "\\\\\n",
    "S(\\frac{1}{16} , t_i)\n",
    "& = 2 (\\frac{1}{16})^2 t_i^2\n",
    "= \\frac{1}{128} t_i^2\n",
    "\\end{align}$"
   ]
  },
  {
   "cell_type": "code",
   "execution_count": 75,
   "id": "b0704d55",
   "metadata": {},
   "outputs": [],
   "source": [
    "P_per16 = [2*(t^2)+(1/16)*t for t in 1:0.5:7.5];"
   ]
  },
  {
   "cell_type": "code",
   "execution_count": 76,
   "id": "dd384900",
   "metadata": {},
   "outputs": [],
   "source": [
    "Q_per16 = [(1/128)-4*(t^2) for t in 1:0.5:8];"
   ]
  },
  {
   "cell_type": "code",
   "execution_count": 77,
   "id": "8f770e13",
   "metadata": {},
   "outputs": [],
   "source": [
    "R_per16 = [2*(t^2)-(1/16)*t for t in 1:0.5:7.5];"
   ]
  },
  {
   "cell_type": "code",
   "execution_count": 78,
   "id": "1e8b1ca7",
   "metadata": {},
   "outputs": [],
   "source": [
    "S_per16 = [(1/128)*(t^2) for t in 1:0.5:8];"
   ]
  },
  {
   "cell_type": "code",
   "execution_count": 79,
   "id": "69567feb",
   "metadata": {},
   "outputs": [
    {
     "data": {
      "text/plain": [
       "15×15 Tridiagonal{Float64, Vector{Float64}}:\n",
       " -3.99219   1.9375      ⋅          ⋅      …      ⋅          ⋅          ⋅ \n",
       "  2.0625   -8.99219    4.40625     ⋅             ⋅          ⋅          ⋅ \n",
       "   ⋅        4.59375  -15.9922     7.875          ⋅          ⋅          ⋅ \n",
       "   ⋅         ⋅         8.125    -24.9922         ⋅          ⋅          ⋅ \n",
       "   ⋅         ⋅          ⋅        12.6562         ⋅          ⋅          ⋅ \n",
       "   ⋅         ⋅          ⋅          ⋅      …      ⋅          ⋅          ⋅ \n",
       "   ⋅         ⋅          ⋅          ⋅             ⋅          ⋅          ⋅ \n",
       "   ⋅         ⋅          ⋅          ⋅             ⋅          ⋅          ⋅ \n",
       "   ⋅         ⋅          ⋅          ⋅             ⋅          ⋅          ⋅ \n",
       "   ⋅         ⋅          ⋅          ⋅             ⋅          ⋅          ⋅ \n",
       "   ⋅         ⋅          ⋅          ⋅      …      ⋅          ⋅          ⋅ \n",
       "   ⋅         ⋅          ⋅          ⋅           84.0938      ⋅          ⋅ \n",
       "   ⋅         ⋅          ⋅          ⋅         -195.992     97.5625      ⋅ \n",
       "   ⋅         ⋅          ⋅          ⋅           98.4375  -224.992    112.031\n",
       "   ⋅         ⋅          ⋅          ⋅             ⋅       112.969   -255.992"
      ]
     },
     "execution_count": 79,
     "metadata": {},
     "output_type": "execute_result"
    }
   ],
   "source": [
    "PQR_per16 = Tridiagonal(P_per16,Q_per16,R_per16)"
   ]
  },
  {
   "cell_type": "code",
   "execution_count": 80,
   "id": "9d0aa621",
   "metadata": {},
   "outputs": [
    {
     "data": {
      "text/plain": [
       "15-element Vector{Float64}:\n",
       "   -2.0546875\n",
       "    1.125\n",
       "    2.0\n",
       "    3.125\n",
       "    4.5\n",
       "    6.125\n",
       "    8.0\n",
       "   10.125\n",
       "   12.5\n",
       "   15.125\n",
       "   18.0\n",
       "   21.125\n",
       "   24.5\n",
       "   28.125\n",
       " -311.59375"
      ]
     },
     "execution_count": 80,
     "metadata": {},
     "output_type": "execute_result"
    }
   ],
   "source": [
    "B_per16 = S \n",
    "B_per16[1] = S_per16[1] - P_per16[1] #perlu diperiksa lagi\n",
    "B_per16[end] = B_per16[end] - P_per16[14]\n",
    "B_per16"
   ]
  },
  {
   "cell_type": "code",
   "execution_count": 81,
   "id": "cecfd546",
   "metadata": {},
   "outputs": [
    {
     "data": {
      "text/plain": [
       "15-element Vector{Float64}:\n",
       "  0.3571768166187259\n",
       " -0.32452680124125427\n",
       " -0.5741578507376371\n",
       " -0.7226977790973073\n",
       " -0.832143057319711\n",
       " -0.9153125714623995\n",
       " -0.9712664408624262\n",
       " -0.9930104431587354\n",
       " -0.9691436278839384\n",
       " -0.883735028301561\n",
       " -0.7154700545108719\n",
       " -0.43633291604246527\n",
       " -0.009866473608867428\n",
       "  0.6110302617011416\n",
       "  1.4868464486891844"
      ]
     },
     "execution_count": 81,
     "metadata": {},
     "output_type": "execute_result"
    }
   ],
   "source": [
    "Y_per16 = PQR_per16\\B_per16"
   ]
  },
  {
   "cell_type": "code",
   "execution_count": 82,
   "id": "be0347c8",
   "metadata": {
    "scrolled": true
   },
   "outputs": [
    {
     "data": {
      "image/svg+xml": [
       "<?xml version=\"1.0\" encoding=\"utf-8\"?>\n",
       "<svg xmlns=\"http://www.w3.org/2000/svg\" xmlns:xlink=\"http://www.w3.org/1999/xlink\" width=\"400\" height=\"300\" viewBox=\"0 0 1600 1200\">\n",
       "<defs>\n",
       "  <clipPath id=\"clip290\">\n",
       "    <rect x=\"0\" y=\"0\" width=\"1600\" height=\"1200\"/>\n",
       "  </clipPath>\n",
       "</defs>\n",
       "<path clip-path=\"url(#clip290)\" d=\"\n",
       "M0 1200 L1600 1200 L1600 0 L0 0  Z\n",
       "  \" fill=\"#ffffff\" fill-rule=\"evenodd\" fill-opacity=\"1\"/>\n",
       "<defs>\n",
       "  <clipPath id=\"clip291\">\n",
       "    <rect x=\"320\" y=\"0\" width=\"1121\" height=\"1121\"/>\n",
       "  </clipPath>\n",
       "</defs>\n",
       "<path clip-path=\"url(#clip290)\" d=\"\n",
       "M185.936 1086.13 L1552.76 1086.13 L1552.76 47.2441 L185.936 47.2441  Z\n",
       "  \" fill=\"#ffffff\" fill-rule=\"evenodd\" fill-opacity=\"1\"/>\n",
       "<defs>\n",
       "  <clipPath id=\"clip292\">\n",
       "    <rect x=\"185\" y=\"47\" width=\"1368\" height=\"1040\"/>\n",
       "  </clipPath>\n",
       "</defs>\n",
       "<polyline clip-path=\"url(#clip292)\" style=\"stroke:#000000; stroke-linecap:round; stroke-linejoin:round; stroke-width:2; stroke-opacity:0.1; fill:none\" points=\"\n",
       "  316.723,1086.13 316.723,47.2441 \n",
       "  \"/>\n",
       "<polyline clip-path=\"url(#clip292)\" style=\"stroke:#000000; stroke-linecap:round; stroke-linejoin:round; stroke-width:2; stroke-opacity:0.1; fill:none\" points=\"\n",
       "  500.931,1086.13 500.931,47.2441 \n",
       "  \"/>\n",
       "<polyline clip-path=\"url(#clip292)\" style=\"stroke:#000000; stroke-linecap:round; stroke-linejoin:round; stroke-width:2; stroke-opacity:0.1; fill:none\" points=\"\n",
       "  685.138,1086.13 685.138,47.2441 \n",
       "  \"/>\n",
       "<polyline clip-path=\"url(#clip292)\" style=\"stroke:#000000; stroke-linecap:round; stroke-linejoin:round; stroke-width:2; stroke-opacity:0.1; fill:none\" points=\"\n",
       "  869.346,1086.13 869.346,47.2441 \n",
       "  \"/>\n",
       "<polyline clip-path=\"url(#clip292)\" style=\"stroke:#000000; stroke-linecap:round; stroke-linejoin:round; stroke-width:2; stroke-opacity:0.1; fill:none\" points=\"\n",
       "  1053.55,1086.13 1053.55,47.2441 \n",
       "  \"/>\n",
       "<polyline clip-path=\"url(#clip292)\" style=\"stroke:#000000; stroke-linecap:round; stroke-linejoin:round; stroke-width:2; stroke-opacity:0.1; fill:none\" points=\"\n",
       "  1237.76,1086.13 1237.76,47.2441 \n",
       "  \"/>\n",
       "<polyline clip-path=\"url(#clip292)\" style=\"stroke:#000000; stroke-linecap:round; stroke-linejoin:round; stroke-width:2; stroke-opacity:0.1; fill:none\" points=\"\n",
       "  1421.97,1086.13 1421.97,47.2441 \n",
       "  \"/>\n",
       "<polyline clip-path=\"url(#clip290)\" style=\"stroke:#000000; stroke-linecap:round; stroke-linejoin:round; stroke-width:4; stroke-opacity:1; fill:none\" points=\"\n",
       "  185.936,1086.13 1552.76,1086.13 \n",
       "  \"/>\n",
       "<polyline clip-path=\"url(#clip290)\" style=\"stroke:#000000; stroke-linecap:round; stroke-linejoin:round; stroke-width:4; stroke-opacity:1; fill:none\" points=\"\n",
       "  316.723,1086.13 316.723,1067.23 \n",
       "  \"/>\n",
       "<polyline clip-path=\"url(#clip290)\" style=\"stroke:#000000; stroke-linecap:round; stroke-linejoin:round; stroke-width:4; stroke-opacity:1; fill:none\" points=\"\n",
       "  500.931,1086.13 500.931,1067.23 \n",
       "  \"/>\n",
       "<polyline clip-path=\"url(#clip290)\" style=\"stroke:#000000; stroke-linecap:round; stroke-linejoin:round; stroke-width:4; stroke-opacity:1; fill:none\" points=\"\n",
       "  685.138,1086.13 685.138,1067.23 \n",
       "  \"/>\n",
       "<polyline clip-path=\"url(#clip290)\" style=\"stroke:#000000; stroke-linecap:round; stroke-linejoin:round; stroke-width:4; stroke-opacity:1; fill:none\" points=\"\n",
       "  869.346,1086.13 869.346,1067.23 \n",
       "  \"/>\n",
       "<polyline clip-path=\"url(#clip290)\" style=\"stroke:#000000; stroke-linecap:round; stroke-linejoin:round; stroke-width:4; stroke-opacity:1; fill:none\" points=\"\n",
       "  1053.55,1086.13 1053.55,1067.23 \n",
       "  \"/>\n",
       "<polyline clip-path=\"url(#clip290)\" style=\"stroke:#000000; stroke-linecap:round; stroke-linejoin:round; stroke-width:4; stroke-opacity:1; fill:none\" points=\"\n",
       "  1237.76,1086.13 1237.76,1067.23 \n",
       "  \"/>\n",
       "<polyline clip-path=\"url(#clip290)\" style=\"stroke:#000000; stroke-linecap:round; stroke-linejoin:round; stroke-width:4; stroke-opacity:1; fill:none\" points=\"\n",
       "  1421.97,1086.13 1421.97,1067.23 \n",
       "  \"/>\n",
       "<path clip-path=\"url(#clip290)\" d=\"M311.376 1138.19 L327.696 1138.19 L327.696 1142.13 L305.751 1142.13 L305.751 1138.19 Q308.413 1135.44 312.997 1130.81 Q317.603 1126.16 318.784 1124.81 Q321.029 1122.29 321.909 1120.55 Q322.811 1118.79 322.811 1117.1 Q322.811 1114.35 320.867 1112.61 Q318.946 1110.88 315.844 1110.88 Q313.645 1110.88 311.191 1111.64 Q308.76 1112.41 305.983 1113.96 L305.983 1109.23 Q308.807 1108.1 311.26 1107.52 Q313.714 1106.94 315.751 1106.94 Q321.121 1106.94 324.316 1109.63 Q327.51 1112.31 327.51 1116.8 Q327.51 1118.93 326.7 1120.85 Q325.913 1122.75 323.807 1125.35 Q323.228 1126.02 320.126 1129.23 Q317.024 1132.43 311.376 1138.19 Z\" fill=\"#000000\" fill-rule=\"evenodd\" fill-opacity=\"1\" /><path clip-path=\"url(#clip290)\" d=\"M503.94 1111.64 L492.135 1130.09 L503.94 1130.09 L503.94 1111.64 M502.713 1107.57 L508.593 1107.57 L508.593 1130.09 L513.523 1130.09 L513.523 1133.98 L508.593 1133.98 L508.593 1142.13 L503.94 1142.13 L503.94 1133.98 L488.338 1133.98 L488.338 1129.47 L502.713 1107.57 Z\" fill=\"#000000\" fill-rule=\"evenodd\" fill-opacity=\"1\" /><path clip-path=\"url(#clip290)\" d=\"M685.544 1122.98 Q682.395 1122.98 680.544 1125.14 Q678.715 1127.29 678.715 1131.04 Q678.715 1134.77 680.544 1136.94 Q682.395 1139.1 685.544 1139.1 Q688.692 1139.1 690.52 1136.94 Q692.372 1134.77 692.372 1131.04 Q692.372 1127.29 690.52 1125.14 Q688.692 1122.98 685.544 1122.98 M694.826 1108.33 L694.826 1112.59 Q693.067 1111.76 691.261 1111.32 Q689.479 1110.88 687.719 1110.88 Q683.09 1110.88 680.636 1114 Q678.206 1117.13 677.858 1123.45 Q679.224 1121.43 681.284 1120.37 Q683.344 1119.28 685.821 1119.28 Q691.03 1119.28 694.039 1122.45 Q697.071 1125.6 697.071 1131.04 Q697.071 1136.36 693.923 1139.58 Q690.775 1142.8 685.544 1142.8 Q679.548 1142.8 676.377 1138.22 Q673.206 1133.61 673.206 1124.88 Q673.206 1116.69 677.094 1111.83 Q680.983 1106.94 687.534 1106.94 Q689.293 1106.94 691.076 1107.29 Q692.881 1107.64 694.826 1108.33 Z\" fill=\"#000000\" fill-rule=\"evenodd\" fill-opacity=\"1\" /><path clip-path=\"url(#clip290)\" d=\"M869.346 1125.72 Q866.013 1125.72 864.091 1127.5 Q862.193 1129.28 862.193 1132.41 Q862.193 1135.53 864.091 1137.31 Q866.013 1139.1 869.346 1139.1 Q872.679 1139.1 874.601 1137.31 Q876.522 1135.51 876.522 1132.41 Q876.522 1129.28 874.601 1127.5 Q872.702 1125.72 869.346 1125.72 M864.67 1123.73 Q861.661 1122.98 859.971 1120.92 Q858.304 1118.86 858.304 1115.9 Q858.304 1111.76 861.244 1109.35 Q864.207 1106.94 869.346 1106.94 Q874.508 1106.94 877.448 1109.35 Q880.388 1111.76 880.388 1115.9 Q880.388 1118.86 878.698 1120.92 Q877.031 1122.98 874.045 1123.73 Q877.425 1124.51 879.3 1126.8 Q881.198 1129.1 881.198 1132.41 Q881.198 1137.43 878.119 1140.11 Q875.064 1142.8 869.346 1142.8 Q863.628 1142.8 860.55 1140.11 Q857.494 1137.43 857.494 1132.41 Q857.494 1129.1 859.392 1126.8 Q861.29 1124.51 864.67 1123.73 M862.957 1116.34 Q862.957 1119.03 864.624 1120.53 Q866.314 1122.04 869.346 1122.04 Q872.355 1122.04 874.045 1120.53 Q875.758 1119.03 875.758 1116.34 Q875.758 1113.66 874.045 1112.15 Q872.355 1110.65 869.346 1110.65 Q866.314 1110.65 864.624 1112.15 Q862.957 1113.66 862.957 1116.34 Z\" fill=\"#000000\" fill-rule=\"evenodd\" fill-opacity=\"1\" /><path clip-path=\"url(#clip290)\" d=\"M1028.24 1138.19 L1035.88 1138.19 L1035.88 1111.83 L1027.57 1113.49 L1027.57 1109.23 L1035.83 1107.57 L1040.51 1107.57 L1040.51 1138.19 L1048.15 1138.19 L1048.15 1142.13 L1028.24 1142.13 L1028.24 1138.19 Z\" fill=\"#000000\" fill-rule=\"evenodd\" fill-opacity=\"1\" /><path clip-path=\"url(#clip290)\" d=\"M1067.59 1110.65 Q1063.98 1110.65 1062.15 1114.21 Q1060.35 1117.75 1060.35 1124.88 Q1060.35 1131.99 1062.15 1135.55 Q1063.98 1139.1 1067.59 1139.1 Q1071.23 1139.1 1073.03 1135.55 Q1074.86 1131.99 1074.86 1124.88 Q1074.86 1117.75 1073.03 1114.21 Q1071.23 1110.65 1067.59 1110.65 M1067.59 1106.94 Q1073.4 1106.94 1076.46 1111.55 Q1079.54 1116.13 1079.54 1124.88 Q1079.54 1133.61 1076.46 1138.22 Q1073.4 1142.8 1067.59 1142.8 Q1061.78 1142.8 1058.7 1138.22 Q1055.65 1133.61 1055.65 1124.88 Q1055.65 1116.13 1058.7 1111.55 Q1061.78 1106.94 1067.59 1106.94 Z\" fill=\"#000000\" fill-rule=\"evenodd\" fill-opacity=\"1\" /><path clip-path=\"url(#clip290)\" d=\"M1213.25 1138.19 L1220.89 1138.19 L1220.89 1111.83 L1212.58 1113.49 L1212.58 1109.23 L1220.84 1107.57 L1225.52 1107.57 L1225.52 1138.19 L1233.15 1138.19 L1233.15 1142.13 L1213.25 1142.13 L1213.25 1138.19 Z\" fill=\"#000000\" fill-rule=\"evenodd\" fill-opacity=\"1\" /><path clip-path=\"url(#clip290)\" d=\"M1246.63 1138.19 L1262.95 1138.19 L1262.95 1142.13 L1241 1142.13 L1241 1138.19 Q1243.66 1135.44 1248.25 1130.81 Q1252.85 1126.16 1254.03 1124.81 Q1256.28 1122.29 1257.16 1120.55 Q1258.06 1118.79 1258.06 1117.1 Q1258.06 1114.35 1256.12 1112.61 Q1254.2 1110.88 1251.09 1110.88 Q1248.9 1110.88 1246.44 1111.64 Q1244.01 1112.41 1241.23 1113.96 L1241.23 1109.23 Q1244.06 1108.1 1246.51 1107.52 Q1248.96 1106.94 1251 1106.94 Q1256.37 1106.94 1259.57 1109.63 Q1262.76 1112.31 1262.76 1116.8 Q1262.76 1118.93 1261.95 1120.85 Q1261.16 1122.75 1259.06 1125.35 Q1258.48 1126.02 1255.38 1129.23 Q1252.27 1132.43 1246.63 1138.19 Z\" fill=\"#000000\" fill-rule=\"evenodd\" fill-opacity=\"1\" /><path clip-path=\"url(#clip290)\" d=\"M1396.41 1138.19 L1404.05 1138.19 L1404.05 1111.83 L1395.74 1113.49 L1395.74 1109.23 L1404.01 1107.57 L1408.68 1107.57 L1408.68 1138.19 L1416.32 1138.19 L1416.32 1142.13 L1396.41 1142.13 L1396.41 1138.19 Z\" fill=\"#000000\" fill-rule=\"evenodd\" fill-opacity=\"1\" /><path clip-path=\"url(#clip290)\" d=\"M1438.61 1111.64 L1426.81 1130.09 L1438.61 1130.09 L1438.61 1111.64 M1437.39 1107.57 L1443.26 1107.57 L1443.26 1130.09 L1448.2 1130.09 L1448.2 1133.98 L1443.26 1133.98 L1443.26 1142.13 L1438.61 1142.13 L1438.61 1133.98 L1423.01 1133.98 L1423.01 1129.47 L1437.39 1107.57 Z\" fill=\"#000000\" fill-rule=\"evenodd\" fill-opacity=\"1\" /><polyline clip-path=\"url(#clip292)\" style=\"stroke:#000000; stroke-linecap:round; stroke-linejoin:round; stroke-width:2; stroke-opacity:0.1; fill:none\" points=\"\n",
       "  185.936,1059.49 1552.76,1059.49 \n",
       "  \"/>\n",
       "<polyline clip-path=\"url(#clip292)\" style=\"stroke:#000000; stroke-linecap:round; stroke-linejoin:round; stroke-width:2; stroke-opacity:0.1; fill:none\" points=\"\n",
       "  185.936,861.88 1552.76,861.88 \n",
       "  \"/>\n",
       "<polyline clip-path=\"url(#clip292)\" style=\"stroke:#000000; stroke-linecap:round; stroke-linejoin:round; stroke-width:2; stroke-opacity:0.1; fill:none\" points=\"\n",
       "  185.936,664.272 1552.76,664.272 \n",
       "  \"/>\n",
       "<polyline clip-path=\"url(#clip292)\" style=\"stroke:#000000; stroke-linecap:round; stroke-linejoin:round; stroke-width:2; stroke-opacity:0.1; fill:none\" points=\"\n",
       "  185.936,466.664 1552.76,466.664 \n",
       "  \"/>\n",
       "<polyline clip-path=\"url(#clip292)\" style=\"stroke:#000000; stroke-linecap:round; stroke-linejoin:round; stroke-width:2; stroke-opacity:0.1; fill:none\" points=\"\n",
       "  185.936,269.056 1552.76,269.056 \n",
       "  \"/>\n",
       "<polyline clip-path=\"url(#clip292)\" style=\"stroke:#000000; stroke-linecap:round; stroke-linejoin:round; stroke-width:2; stroke-opacity:0.1; fill:none\" points=\"\n",
       "  185.936,71.448 1552.76,71.448 \n",
       "  \"/>\n",
       "<polyline clip-path=\"url(#clip290)\" style=\"stroke:#000000; stroke-linecap:round; stroke-linejoin:round; stroke-width:4; stroke-opacity:1; fill:none\" points=\"\n",
       "  185.936,1086.13 185.936,47.2441 \n",
       "  \"/>\n",
       "<polyline clip-path=\"url(#clip290)\" style=\"stroke:#000000; stroke-linecap:round; stroke-linejoin:round; stroke-width:4; stroke-opacity:1; fill:none\" points=\"\n",
       "  185.936,1059.49 204.834,1059.49 \n",
       "  \"/>\n",
       "<polyline clip-path=\"url(#clip290)\" style=\"stroke:#000000; stroke-linecap:round; stroke-linejoin:round; stroke-width:4; stroke-opacity:1; fill:none\" points=\"\n",
       "  185.936,861.88 204.834,861.88 \n",
       "  \"/>\n",
       "<polyline clip-path=\"url(#clip290)\" style=\"stroke:#000000; stroke-linecap:round; stroke-linejoin:round; stroke-width:4; stroke-opacity:1; fill:none\" points=\"\n",
       "  185.936,664.272 204.834,664.272 \n",
       "  \"/>\n",
       "<polyline clip-path=\"url(#clip290)\" style=\"stroke:#000000; stroke-linecap:round; stroke-linejoin:round; stroke-width:4; stroke-opacity:1; fill:none\" points=\"\n",
       "  185.936,466.664 204.834,466.664 \n",
       "  \"/>\n",
       "<polyline clip-path=\"url(#clip290)\" style=\"stroke:#000000; stroke-linecap:round; stroke-linejoin:round; stroke-width:4; stroke-opacity:1; fill:none\" points=\"\n",
       "  185.936,269.056 204.834,269.056 \n",
       "  \"/>\n",
       "<polyline clip-path=\"url(#clip290)\" style=\"stroke:#000000; stroke-linecap:round; stroke-linejoin:round; stroke-width:4; stroke-opacity:1; fill:none\" points=\"\n",
       "  185.936,71.448 204.834,71.448 \n",
       "  \"/>\n",
       "<path clip-path=\"url(#clip290)\" d=\"M54.9921 1059.94 L84.6679 1059.94 L84.6679 1063.87 L54.9921 1063.87 L54.9921 1059.94 Z\" fill=\"#000000\" fill-rule=\"evenodd\" fill-opacity=\"1\" /><path clip-path=\"url(#clip290)\" d=\"M95.5706 1072.83 L103.209 1072.83 L103.209 1046.47 L94.8993 1048.13 L94.8993 1043.87 L103.163 1042.21 L107.839 1042.21 L107.839 1072.83 L115.478 1072.83 L115.478 1076.77 L95.5706 1076.77 L95.5706 1072.83 Z\" fill=\"#000000\" fill-rule=\"evenodd\" fill-opacity=\"1\" /><path clip-path=\"url(#clip290)\" d=\"M124.922 1070.89 L129.807 1070.89 L129.807 1076.77 L124.922 1076.77 L124.922 1070.89 Z\" fill=\"#000000\" fill-rule=\"evenodd\" fill-opacity=\"1\" /><path clip-path=\"url(#clip290)\" d=\"M149.992 1045.29 Q146.381 1045.29 144.552 1048.85 Q142.746 1052.39 142.746 1059.52 Q142.746 1066.63 144.552 1070.19 Q146.381 1073.74 149.992 1073.74 Q153.626 1073.74 155.431 1070.19 Q157.26 1066.63 157.26 1059.52 Q157.26 1052.39 155.431 1048.85 Q153.626 1045.29 149.992 1045.29 M149.992 1041.58 Q155.802 1041.58 158.857 1046.19 Q161.936 1050.77 161.936 1059.52 Q161.936 1068.25 158.857 1072.86 Q155.802 1077.44 149.992 1077.44 Q144.181 1077.44 141.103 1072.86 Q138.047 1068.25 138.047 1059.52 Q138.047 1050.77 141.103 1046.19 Q144.181 1041.58 149.992 1041.58 Z\" fill=\"#000000\" fill-rule=\"evenodd\" fill-opacity=\"1\" /><path clip-path=\"url(#clip290)\" d=\"M55.9875 862.331 L85.6633 862.331 L85.6633 866.266 L55.9875 866.266 L55.9875 862.331 Z\" fill=\"#000000\" fill-rule=\"evenodd\" fill-opacity=\"1\" /><path clip-path=\"url(#clip290)\" d=\"M105.756 847.679 Q102.145 847.679 100.316 851.243 Q98.5104 854.785 98.5104 861.915 Q98.5104 869.021 100.316 872.586 Q102.145 876.128 105.756 876.128 Q109.39 876.128 111.196 872.586 Q113.024 869.021 113.024 861.915 Q113.024 854.785 111.196 851.243 Q109.39 847.679 105.756 847.679 M105.756 843.975 Q111.566 843.975 114.621 848.581 Q117.7 853.165 117.7 861.915 Q117.7 870.641 114.621 875.248 Q111.566 879.831 105.756 879.831 Q99.9456 879.831 96.8669 875.248 Q93.8114 870.641 93.8114 861.915 Q93.8114 853.165 96.8669 848.581 Q99.9456 843.975 105.756 843.975 Z\" fill=\"#000000\" fill-rule=\"evenodd\" fill-opacity=\"1\" /><path clip-path=\"url(#clip290)\" d=\"M125.918 873.28 L130.802 873.28 L130.802 879.16 L125.918 879.16 L125.918 873.28 Z\" fill=\"#000000\" fill-rule=\"evenodd\" fill-opacity=\"1\" /><path clip-path=\"url(#clip290)\" d=\"M141.033 844.6 L159.39 844.6 L159.39 848.535 L145.316 848.535 L145.316 857.007 Q146.334 856.66 147.353 856.498 Q148.371 856.313 149.39 856.313 Q155.177 856.313 158.556 859.484 Q161.936 862.655 161.936 868.072 Q161.936 873.651 158.464 876.753 Q154.992 879.831 148.672 879.831 Q146.496 879.831 144.228 879.461 Q141.982 879.09 139.575 878.35 L139.575 873.651 Q141.658 874.785 143.881 875.34 Q146.103 875.896 148.58 875.896 Q152.584 875.896 154.922 873.79 Q157.26 871.683 157.26 868.072 Q157.26 864.461 154.922 862.354 Q152.584 860.248 148.58 860.248 Q146.705 860.248 144.83 860.665 Q142.978 861.081 141.033 861.961 L141.033 844.6 Z\" fill=\"#000000\" fill-rule=\"evenodd\" fill-opacity=\"1\" /><path clip-path=\"url(#clip290)\" d=\"M104.76 650.071 Q101.149 650.071 99.3206 653.635 Q97.515 657.177 97.515 664.307 Q97.515 671.413 99.3206 674.978 Q101.149 678.52 104.76 678.52 Q108.395 678.52 110.2 674.978 Q112.029 671.413 112.029 664.307 Q112.029 657.177 110.2 653.635 Q108.395 650.071 104.76 650.071 M104.76 646.367 Q110.571 646.367 113.626 650.973 Q116.705 655.557 116.705 664.307 Q116.705 673.033 113.626 677.64 Q110.571 682.223 104.76 682.223 Q98.9502 682.223 95.8715 677.64 Q92.816 673.033 92.816 664.307 Q92.816 655.557 95.8715 650.973 Q98.9502 646.367 104.76 646.367 Z\" fill=\"#000000\" fill-rule=\"evenodd\" fill-opacity=\"1\" /><path clip-path=\"url(#clip290)\" d=\"M124.922 675.672 L129.807 675.672 L129.807 681.552 L124.922 681.552 L124.922 675.672 Z\" fill=\"#000000\" fill-rule=\"evenodd\" fill-opacity=\"1\" /><path clip-path=\"url(#clip290)\" d=\"M149.992 650.071 Q146.381 650.071 144.552 653.635 Q142.746 657.177 142.746 664.307 Q142.746 671.413 144.552 674.978 Q146.381 678.52 149.992 678.52 Q153.626 678.52 155.431 674.978 Q157.26 671.413 157.26 664.307 Q157.26 657.177 155.431 653.635 Q153.626 650.071 149.992 650.071 M149.992 646.367 Q155.802 646.367 158.857 650.973 Q161.936 655.557 161.936 664.307 Q161.936 673.033 158.857 677.64 Q155.802 682.223 149.992 682.223 Q144.181 682.223 141.103 677.64 Q138.047 673.033 138.047 664.307 Q138.047 655.557 141.103 650.973 Q144.181 646.367 149.992 646.367 Z\" fill=\"#000000\" fill-rule=\"evenodd\" fill-opacity=\"1\" /><path clip-path=\"url(#clip290)\" d=\"M105.756 452.463 Q102.145 452.463 100.316 456.027 Q98.5104 459.569 98.5104 466.699 Q98.5104 473.805 100.316 477.37 Q102.145 480.912 105.756 480.912 Q109.39 480.912 111.196 477.37 Q113.024 473.805 113.024 466.699 Q113.024 459.569 111.196 456.027 Q109.39 452.463 105.756 452.463 M105.756 448.759 Q111.566 448.759 114.621 453.365 Q117.7 457.949 117.7 466.699 Q117.7 475.425 114.621 480.032 Q111.566 484.615 105.756 484.615 Q99.9456 484.615 96.8669 480.032 Q93.8114 475.425 93.8114 466.699 Q93.8114 457.949 96.8669 453.365 Q99.9456 448.759 105.756 448.759 Z\" fill=\"#000000\" fill-rule=\"evenodd\" fill-opacity=\"1\" /><path clip-path=\"url(#clip290)\" d=\"M125.918 478.064 L130.802 478.064 L130.802 483.944 L125.918 483.944 L125.918 478.064 Z\" fill=\"#000000\" fill-rule=\"evenodd\" fill-opacity=\"1\" /><path clip-path=\"url(#clip290)\" d=\"M141.033 449.384 L159.39 449.384 L159.39 453.319 L145.316 453.319 L145.316 461.791 Q146.334 461.444 147.353 461.282 Q148.371 461.097 149.39 461.097 Q155.177 461.097 158.556 464.268 Q161.936 467.439 161.936 472.856 Q161.936 478.435 158.464 481.537 Q154.992 484.615 148.672 484.615 Q146.496 484.615 144.228 484.245 Q141.982 483.874 139.575 483.134 L139.575 478.435 Q141.658 479.569 143.881 480.125 Q146.103 480.68 148.58 480.68 Q152.584 480.68 154.922 478.574 Q157.26 476.467 157.26 472.856 Q157.26 469.245 154.922 467.138 Q152.584 465.032 148.58 465.032 Q146.705 465.032 144.83 465.449 Q142.978 465.865 141.033 466.745 L141.033 449.384 Z\" fill=\"#000000\" fill-rule=\"evenodd\" fill-opacity=\"1\" /><path clip-path=\"url(#clip290)\" d=\"M95.5706 282.401 L103.209 282.401 L103.209 256.035 L94.8993 257.702 L94.8993 253.443 L103.163 251.776 L107.839 251.776 L107.839 282.401 L115.478 282.401 L115.478 286.336 L95.5706 286.336 L95.5706 282.401 Z\" fill=\"#000000\" fill-rule=\"evenodd\" fill-opacity=\"1\" /><path clip-path=\"url(#clip290)\" d=\"M124.922 280.456 L129.807 280.456 L129.807 286.336 L124.922 286.336 L124.922 280.456 Z\" fill=\"#000000\" fill-rule=\"evenodd\" fill-opacity=\"1\" /><path clip-path=\"url(#clip290)\" d=\"M149.992 254.855 Q146.381 254.855 144.552 258.419 Q142.746 261.961 142.746 269.091 Q142.746 276.197 144.552 279.762 Q146.381 283.304 149.992 283.304 Q153.626 283.304 155.431 279.762 Q157.26 276.197 157.26 269.091 Q157.26 261.961 155.431 258.419 Q153.626 254.855 149.992 254.855 M149.992 251.151 Q155.802 251.151 158.857 255.757 Q161.936 260.341 161.936 269.091 Q161.936 277.817 158.857 282.424 Q155.802 287.007 149.992 287.007 Q144.181 287.007 141.103 282.424 Q138.047 277.817 138.047 269.091 Q138.047 260.341 141.103 255.757 Q144.181 251.151 149.992 251.151 Z\" fill=\"#000000\" fill-rule=\"evenodd\" fill-opacity=\"1\" /><path clip-path=\"url(#clip290)\" d=\"M96.566 84.7928 L104.205 84.7928 L104.205 58.4272 L95.8947 60.0939 L95.8947 55.8346 L104.159 54.168 L108.834 54.168 L108.834 84.7928 L116.473 84.7928 L116.473 88.728 L96.566 88.728 L96.566 84.7928 Z\" fill=\"#000000\" fill-rule=\"evenodd\" fill-opacity=\"1\" /><path clip-path=\"url(#clip290)\" d=\"M125.918 82.8484 L130.802 82.8484 L130.802 88.728 L125.918 88.728 L125.918 82.8484 Z\" fill=\"#000000\" fill-rule=\"evenodd\" fill-opacity=\"1\" /><path clip-path=\"url(#clip290)\" d=\"M141.033 54.168 L159.39 54.168 L159.39 58.1031 L145.316 58.1031 L145.316 66.5753 Q146.334 66.2281 147.353 66.0661 Q148.371 65.8809 149.39 65.8809 Q155.177 65.8809 158.556 69.0522 Q161.936 72.2234 161.936 77.6401 Q161.936 83.2187 158.464 86.3206 Q154.992 89.3993 148.672 89.3993 Q146.496 89.3993 144.228 89.0289 Q141.982 88.6585 139.575 87.9178 L139.575 83.2187 Q141.658 84.353 143.881 84.9085 Q146.103 85.4641 148.58 85.4641 Q152.584 85.4641 154.922 83.3576 Q157.26 81.2512 157.26 77.6401 Q157.26 74.029 154.922 71.9225 Q152.584 69.816 148.58 69.816 Q146.705 69.816 144.83 70.2327 Q142.978 70.6494 141.033 71.529 L141.033 54.168 Z\" fill=\"#000000\" fill-rule=\"evenodd\" fill-opacity=\"1\" /><polyline clip-path=\"url(#clip292)\" style=\"stroke:#009af9; stroke-linecap:round; stroke-linejoin:round; stroke-width:4; stroke-opacity:1; fill:none\" points=\"\n",
       "  224.62,523.11 316.723,792.53 408.827,891.188 500.931,949.894 593.035,993.148 685.138,1026.02 777.242,1048.13 869.346,1056.73 961.45,1047.29 1053.55,1013.54 \n",
       "  1145.66,947.037 1237.76,836.718 1329.86,668.171 1421.97,422.783 1514.07,76.6465 \n",
       "  \"/>\n",
       "<circle clip-path=\"url(#clip292)\" cx=\"224.62\" cy=\"523.11\" r=\"14.4\" fill=\"#e26f46\" fill-rule=\"evenodd\" fill-opacity=\"1\" stroke=\"#000000\" stroke-opacity=\"1\" stroke-width=\"2.4\"/>\n",
       "<circle clip-path=\"url(#clip292)\" cx=\"316.723\" cy=\"792.53\" r=\"14.4\" fill=\"#e26f46\" fill-rule=\"evenodd\" fill-opacity=\"1\" stroke=\"#000000\" stroke-opacity=\"1\" stroke-width=\"2.4\"/>\n",
       "<circle clip-path=\"url(#clip292)\" cx=\"408.827\" cy=\"891.188\" r=\"14.4\" fill=\"#e26f46\" fill-rule=\"evenodd\" fill-opacity=\"1\" stroke=\"#000000\" stroke-opacity=\"1\" stroke-width=\"2.4\"/>\n",
       "<circle clip-path=\"url(#clip292)\" cx=\"500.931\" cy=\"949.894\" r=\"14.4\" fill=\"#e26f46\" fill-rule=\"evenodd\" fill-opacity=\"1\" stroke=\"#000000\" stroke-opacity=\"1\" stroke-width=\"2.4\"/>\n",
       "<circle clip-path=\"url(#clip292)\" cx=\"593.035\" cy=\"993.148\" r=\"14.4\" fill=\"#e26f46\" fill-rule=\"evenodd\" fill-opacity=\"1\" stroke=\"#000000\" stroke-opacity=\"1\" stroke-width=\"2.4\"/>\n",
       "<circle clip-path=\"url(#clip292)\" cx=\"685.138\" cy=\"1026.02\" r=\"14.4\" fill=\"#e26f46\" fill-rule=\"evenodd\" fill-opacity=\"1\" stroke=\"#000000\" stroke-opacity=\"1\" stroke-width=\"2.4\"/>\n",
       "<circle clip-path=\"url(#clip292)\" cx=\"777.242\" cy=\"1048.13\" r=\"14.4\" fill=\"#e26f46\" fill-rule=\"evenodd\" fill-opacity=\"1\" stroke=\"#000000\" stroke-opacity=\"1\" stroke-width=\"2.4\"/>\n",
       "<circle clip-path=\"url(#clip292)\" cx=\"869.346\" cy=\"1056.73\" r=\"14.4\" fill=\"#e26f46\" fill-rule=\"evenodd\" fill-opacity=\"1\" stroke=\"#000000\" stroke-opacity=\"1\" stroke-width=\"2.4\"/>\n",
       "<circle clip-path=\"url(#clip292)\" cx=\"961.45\" cy=\"1047.29\" r=\"14.4\" fill=\"#e26f46\" fill-rule=\"evenodd\" fill-opacity=\"1\" stroke=\"#000000\" stroke-opacity=\"1\" stroke-width=\"2.4\"/>\n",
       "<circle clip-path=\"url(#clip292)\" cx=\"1053.55\" cy=\"1013.54\" r=\"14.4\" fill=\"#e26f46\" fill-rule=\"evenodd\" fill-opacity=\"1\" stroke=\"#000000\" stroke-opacity=\"1\" stroke-width=\"2.4\"/>\n",
       "<circle clip-path=\"url(#clip292)\" cx=\"1145.66\" cy=\"947.037\" r=\"14.4\" fill=\"#e26f46\" fill-rule=\"evenodd\" fill-opacity=\"1\" stroke=\"#000000\" stroke-opacity=\"1\" stroke-width=\"2.4\"/>\n",
       "<circle clip-path=\"url(#clip292)\" cx=\"1237.76\" cy=\"836.718\" r=\"14.4\" fill=\"#e26f46\" fill-rule=\"evenodd\" fill-opacity=\"1\" stroke=\"#000000\" stroke-opacity=\"1\" stroke-width=\"2.4\"/>\n",
       "<circle clip-path=\"url(#clip292)\" cx=\"1329.86\" cy=\"668.171\" r=\"14.4\" fill=\"#e26f46\" fill-rule=\"evenodd\" fill-opacity=\"1\" stroke=\"#000000\" stroke-opacity=\"1\" stroke-width=\"2.4\"/>\n",
       "<circle clip-path=\"url(#clip292)\" cx=\"1421.97\" cy=\"422.783\" r=\"14.4\" fill=\"#e26f46\" fill-rule=\"evenodd\" fill-opacity=\"1\" stroke=\"#000000\" stroke-opacity=\"1\" stroke-width=\"2.4\"/>\n",
       "<circle clip-path=\"url(#clip292)\" cx=\"1514.07\" cy=\"76.6465\" r=\"14.4\" fill=\"#e26f46\" fill-rule=\"evenodd\" fill-opacity=\"1\" stroke=\"#000000\" stroke-opacity=\"1\" stroke-width=\"2.4\"/>\n",
       "<path clip-path=\"url(#clip290)\" d=\"\n",
       "M1034.8 185.554 L1507.2 185.554 L1507.2 81.8736 L1034.8 81.8736  Z\n",
       "  \" fill=\"#ffffff\" fill-rule=\"evenodd\" fill-opacity=\"1\"/>\n",
       "<polyline clip-path=\"url(#clip290)\" style=\"stroke:#000000; stroke-linecap:round; stroke-linejoin:round; stroke-width:4; stroke-opacity:1; fill:none\" points=\"\n",
       "  1034.8,185.554 1507.2,185.554 1507.2,81.8736 1034.8,81.8736 1034.8,185.554 \n",
       "  \"/>\n",
       "<polyline clip-path=\"url(#clip290)\" style=\"stroke:#009af9; stroke-linecap:round; stroke-linejoin:round; stroke-width:4; stroke-opacity:1; fill:none\" points=\"\n",
       "  1049.98,133.714 1141.1,133.714 \n",
       "  \"/>\n",
       "<path clip-path=\"url(#clip290)\" d=\"M1174.72 125.832 L1174.72 129.859 Q1172.91 128.933 1170.97 128.471 Q1169.02 128.008 1166.94 128.008 Q1163.77 128.008 1162.17 128.98 Q1160.6 129.952 1160.6 131.896 Q1160.6 133.378 1161.73 134.234 Q1162.86 135.068 1166.29 135.832 L1167.75 136.156 Q1172.29 137.128 1174.18 138.91 Q1176.11 140.67 1176.11 143.841 Q1176.11 147.452 1173.24 149.558 Q1170.39 151.665 1165.39 151.665 Q1163.3 151.665 1161.04 151.248 Q1158.79 150.855 1156.29 150.044 L1156.29 145.646 Q1158.65 146.873 1160.94 147.498 Q1163.24 148.1 1165.48 148.1 Q1168.49 148.1 1170.11 147.082 Q1171.73 146.04 1171.73 144.165 Q1171.73 142.429 1170.55 141.503 Q1169.39 140.577 1165.43 139.72 L1163.95 139.373 Q1159.99 138.54 1158.24 136.827 Q1156.48 135.091 1156.48 132.082 Q1156.48 128.424 1159.07 126.434 Q1161.66 124.443 1166.43 124.443 Q1168.79 124.443 1170.87 124.79 Q1172.96 125.137 1174.72 125.832 Z\" fill=\"#000000\" fill-rule=\"evenodd\" fill-opacity=\"1\" /><path clip-path=\"url(#clip290)\" d=\"M1192.93 128.054 Q1189.51 128.054 1187.52 130.739 Q1185.53 133.401 1185.53 138.054 Q1185.53 142.707 1187.49 145.392 Q1189.49 148.054 1192.93 148.054 Q1196.34 148.054 1198.33 145.369 Q1200.32 142.683 1200.32 138.054 Q1200.32 133.447 1198.33 130.762 Q1196.34 128.054 1192.93 128.054 M1192.93 124.443 Q1198.49 124.443 1201.66 128.054 Q1204.83 131.665 1204.83 138.054 Q1204.83 144.42 1201.66 148.054 Q1198.49 151.665 1192.93 151.665 Q1187.36 151.665 1184.18 148.054 Q1181.04 144.42 1181.04 138.054 Q1181.04 131.665 1184.18 128.054 Q1187.36 124.443 1192.93 124.443 Z\" fill=\"#000000\" fill-rule=\"evenodd\" fill-opacity=\"1\" /><path clip-path=\"url(#clip290)\" d=\"M1211.89 114.975 L1216.15 114.975 L1216.15 150.994 L1211.89 150.994 L1211.89 114.975 Z\" fill=\"#000000\" fill-rule=\"evenodd\" fill-opacity=\"1\" /><path clip-path=\"url(#clip290)\" d=\"M1224.62 140.762 L1224.62 125.068 L1228.88 125.068 L1228.88 140.6 Q1228.88 144.281 1230.32 146.132 Q1231.75 147.961 1234.62 147.961 Q1238.07 147.961 1240.06 145.762 Q1242.08 143.563 1242.08 139.767 L1242.08 125.068 L1246.34 125.068 L1246.34 150.994 L1242.08 150.994 L1242.08 147.012 Q1240.53 149.373 1238.47 150.531 Q1236.43 151.665 1233.72 151.665 Q1229.25 151.665 1226.94 148.887 Q1224.62 146.109 1224.62 140.762 M1235.34 124.443 L1235.34 124.443 Z\" fill=\"#000000\" fill-rule=\"evenodd\" fill-opacity=\"1\" /><path clip-path=\"url(#clip290)\" d=\"M1271.64 125.832 L1271.64 129.859 Q1269.83 128.933 1267.89 128.471 Q1265.94 128.008 1263.86 128.008 Q1260.69 128.008 1259.09 128.98 Q1257.52 129.952 1257.52 131.896 Q1257.52 133.378 1258.65 134.234 Q1259.79 135.068 1263.21 135.832 L1264.67 136.156 Q1269.21 137.128 1271.1 138.91 Q1273.03 140.67 1273.03 143.841 Q1273.03 147.452 1270.16 149.558 Q1267.31 151.665 1262.31 151.665 Q1260.23 151.665 1257.96 151.248 Q1255.71 150.855 1253.21 150.044 L1253.21 145.646 Q1255.57 146.873 1257.86 147.498 Q1260.16 148.1 1262.4 148.1 Q1265.41 148.1 1267.03 147.082 Q1268.65 146.04 1268.65 144.165 Q1268.65 142.429 1267.47 141.503 Q1266.31 140.577 1262.36 139.72 L1260.87 139.373 Q1256.92 138.54 1255.16 136.827 Q1253.4 135.091 1253.4 132.082 Q1253.4 128.424 1255.99 126.434 Q1258.58 124.443 1263.35 124.443 Q1265.71 124.443 1267.79 124.79 Q1269.88 125.137 1271.64 125.832 Z\" fill=\"#000000\" fill-rule=\"evenodd\" fill-opacity=\"1\" /><path clip-path=\"url(#clip290)\" d=\"M1279.81 125.068 L1284.07 125.068 L1284.07 150.994 L1279.81 150.994 L1279.81 125.068 M1279.81 114.975 L1284.07 114.975 L1284.07 120.369 L1279.81 120.369 L1279.81 114.975 Z\" fill=\"#000000\" fill-rule=\"evenodd\" fill-opacity=\"1\" /><path clip-path=\"url(#clip290)\" d=\"M1329.6 135.345 L1329.6 150.994 L1325.34 150.994 L1325.34 135.484 Q1325.34 131.804 1323.91 129.975 Q1322.47 128.146 1319.6 128.146 Q1316.15 128.146 1314.16 130.346 Q1312.17 132.545 1312.17 136.341 L1312.17 150.994 L1307.89 150.994 L1307.89 114.975 L1312.17 114.975 L1312.17 129.096 Q1313.7 126.758 1315.76 125.6 Q1317.84 124.443 1320.55 124.443 Q1325.02 124.443 1327.31 127.221 Q1329.6 129.975 1329.6 135.345 Z\" fill=\"#000000\" fill-rule=\"evenodd\" fill-opacity=\"1\" /><path clip-path=\"url(#clip290)\" d=\"M1338.65 129.466 L1368.33 129.466 L1368.33 133.355 L1338.65 133.355 L1338.65 129.466 M1338.65 138.91 L1368.33 138.91 L1368.33 142.845 L1338.65 142.845 L1338.65 138.91 Z\" fill=\"#000000\" fill-rule=\"evenodd\" fill-opacity=\"1\" /><path clip-path=\"url(#clip290)\" d=\"M1379.23 147.058 L1386.87 147.058 L1386.87 120.693 L1378.56 122.359 L1378.56 118.1 L1386.82 116.434 L1391.5 116.434 L1391.5 147.058 L1399.14 147.058 L1399.14 150.994 L1379.23 150.994 L1379.23 147.058 Z\" fill=\"#000000\" fill-rule=\"evenodd\" fill-opacity=\"1\" /><path clip-path=\"url(#clip290)\" d=\"M1415.55 116.434 L1419.48 116.434 L1407.45 155.392 L1403.51 155.392 L1415.55 116.434 Z\" fill=\"#000000\" fill-rule=\"evenodd\" fill-opacity=\"1\" /><path clip-path=\"url(#clip290)\" d=\"M1425.36 147.058 L1433 147.058 L1433 120.693 L1424.69 122.359 L1424.69 118.1 L1432.96 116.434 L1437.63 116.434 L1437.63 147.058 L1445.27 147.058 L1445.27 150.994 L1425.36 150.994 L1425.36 147.058 Z\" fill=\"#000000\" fill-rule=\"evenodd\" fill-opacity=\"1\" /><path clip-path=\"url(#clip290)\" d=\"M1465.29 131.85 Q1462.15 131.85 1460.29 134.003 Q1458.47 136.156 1458.47 139.906 Q1458.47 143.632 1460.29 145.808 Q1462.15 147.961 1465.29 147.961 Q1468.44 147.961 1470.27 145.808 Q1472.12 143.632 1472.12 139.906 Q1472.12 136.156 1470.27 134.003 Q1468.44 131.85 1465.29 131.85 M1474.58 117.197 L1474.58 121.457 Q1472.82 120.623 1471.01 120.184 Q1469.23 119.744 1467.47 119.744 Q1462.84 119.744 1460.39 122.869 Q1457.96 125.994 1457.61 132.313 Q1458.97 130.299 1461.03 129.234 Q1463.09 128.146 1465.57 128.146 Q1470.78 128.146 1473.79 131.318 Q1476.82 134.466 1476.82 139.906 Q1476.82 145.23 1473.67 148.447 Q1470.53 151.665 1465.29 151.665 Q1459.3 151.665 1456.13 147.082 Q1452.96 142.475 1452.96 133.748 Q1452.96 125.554 1456.84 120.693 Q1460.73 115.809 1467.28 115.809 Q1469.04 115.809 1470.83 116.156 Q1472.63 116.503 1474.58 117.197 Z\" fill=\"#000000\" fill-rule=\"evenodd\" fill-opacity=\"1\" /></svg>\n"
      ]
     },
     "execution_count": 82,
     "metadata": {},
     "output_type": "execute_result"
    }
   ],
   "source": [
    "solu_per16 = [Y_per16]\n",
    "plot(solu_per16, label = \"solusi h=1/16\",size=(400,300))\n",
    "scatter!(solu_per16, label = :none)"
   ]
  },
  {
   "cell_type": "code",
   "execution_count": 83,
   "id": "f4283b8c",
   "metadata": {},
   "outputs": [
    {
     "data": {
      "image/svg+xml": [
       "<?xml version=\"1.0\" encoding=\"utf-8\"?>\n",
       "<svg xmlns=\"http://www.w3.org/2000/svg\" xmlns:xlink=\"http://www.w3.org/1999/xlink\" width=\"400\" height=\"300\" viewBox=\"0 0 1600 1200\">\n",
       "<defs>\n",
       "  <clipPath id=\"clip330\">\n",
       "    <rect x=\"0\" y=\"0\" width=\"1600\" height=\"1200\"/>\n",
       "  </clipPath>\n",
       "</defs>\n",
       "<path clip-path=\"url(#clip330)\" d=\"\n",
       "M0 1200 L1600 1200 L1600 0 L0 0  Z\n",
       "  \" fill=\"#ffffff\" fill-rule=\"evenodd\" fill-opacity=\"1\"/>\n",
       "<defs>\n",
       "  <clipPath id=\"clip331\">\n",
       "    <rect x=\"320\" y=\"0\" width=\"1121\" height=\"1121\"/>\n",
       "  </clipPath>\n",
       "</defs>\n",
       "<path clip-path=\"url(#clip330)\" d=\"\n",
       "M133.853 1086.13 L1552.76 1086.13 L1552.76 47.2441 L133.853 47.2441  Z\n",
       "  \" fill=\"#ffffff\" fill-rule=\"evenodd\" fill-opacity=\"1\"/>\n",
       "<defs>\n",
       "  <clipPath id=\"clip332\">\n",
       "    <rect x=\"133\" y=\"47\" width=\"1420\" height=\"1040\"/>\n",
       "  </clipPath>\n",
       "</defs>\n",
       "<polyline clip-path=\"url(#clip332)\" style=\"stroke:#000000; stroke-linecap:round; stroke-linejoin:round; stroke-width:2; stroke-opacity:0.1; fill:none\" points=\"\n",
       "  269.624,1086.13 269.624,47.2441 \n",
       "  \"/>\n",
       "<polyline clip-path=\"url(#clip332)\" style=\"stroke:#000000; stroke-linecap:round; stroke-linejoin:round; stroke-width:2; stroke-opacity:0.1; fill:none\" points=\"\n",
       "  460.851,1086.13 460.851,47.2441 \n",
       "  \"/>\n",
       "<polyline clip-path=\"url(#clip332)\" style=\"stroke:#000000; stroke-linecap:round; stroke-linejoin:round; stroke-width:2; stroke-opacity:0.1; fill:none\" points=\"\n",
       "  652.078,1086.13 652.078,47.2441 \n",
       "  \"/>\n",
       "<polyline clip-path=\"url(#clip332)\" style=\"stroke:#000000; stroke-linecap:round; stroke-linejoin:round; stroke-width:2; stroke-opacity:0.1; fill:none\" points=\"\n",
       "  843.304,1086.13 843.304,47.2441 \n",
       "  \"/>\n",
       "<polyline clip-path=\"url(#clip332)\" style=\"stroke:#000000; stroke-linecap:round; stroke-linejoin:round; stroke-width:2; stroke-opacity:0.1; fill:none\" points=\"\n",
       "  1034.53,1086.13 1034.53,47.2441 \n",
       "  \"/>\n",
       "<polyline clip-path=\"url(#clip332)\" style=\"stroke:#000000; stroke-linecap:round; stroke-linejoin:round; stroke-width:2; stroke-opacity:0.1; fill:none\" points=\"\n",
       "  1225.76,1086.13 1225.76,47.2441 \n",
       "  \"/>\n",
       "<polyline clip-path=\"url(#clip332)\" style=\"stroke:#000000; stroke-linecap:round; stroke-linejoin:round; stroke-width:2; stroke-opacity:0.1; fill:none\" points=\"\n",
       "  1416.98,1086.13 1416.98,47.2441 \n",
       "  \"/>\n",
       "<polyline clip-path=\"url(#clip330)\" style=\"stroke:#000000; stroke-linecap:round; stroke-linejoin:round; stroke-width:4; stroke-opacity:1; fill:none\" points=\"\n",
       "  133.853,1086.13 1552.76,1086.13 \n",
       "  \"/>\n",
       "<polyline clip-path=\"url(#clip330)\" style=\"stroke:#000000; stroke-linecap:round; stroke-linejoin:round; stroke-width:4; stroke-opacity:1; fill:none\" points=\"\n",
       "  269.624,1086.13 269.624,1067.23 \n",
       "  \"/>\n",
       "<polyline clip-path=\"url(#clip330)\" style=\"stroke:#000000; stroke-linecap:round; stroke-linejoin:round; stroke-width:4; stroke-opacity:1; fill:none\" points=\"\n",
       "  460.851,1086.13 460.851,1067.23 \n",
       "  \"/>\n",
       "<polyline clip-path=\"url(#clip330)\" style=\"stroke:#000000; stroke-linecap:round; stroke-linejoin:round; stroke-width:4; stroke-opacity:1; fill:none\" points=\"\n",
       "  652.078,1086.13 652.078,1067.23 \n",
       "  \"/>\n",
       "<polyline clip-path=\"url(#clip330)\" style=\"stroke:#000000; stroke-linecap:round; stroke-linejoin:round; stroke-width:4; stroke-opacity:1; fill:none\" points=\"\n",
       "  843.304,1086.13 843.304,1067.23 \n",
       "  \"/>\n",
       "<polyline clip-path=\"url(#clip330)\" style=\"stroke:#000000; stroke-linecap:round; stroke-linejoin:round; stroke-width:4; stroke-opacity:1; fill:none\" points=\"\n",
       "  1034.53,1086.13 1034.53,1067.23 \n",
       "  \"/>\n",
       "<polyline clip-path=\"url(#clip330)\" style=\"stroke:#000000; stroke-linecap:round; stroke-linejoin:round; stroke-width:4; stroke-opacity:1; fill:none\" points=\"\n",
       "  1225.76,1086.13 1225.76,1067.23 \n",
       "  \"/>\n",
       "<polyline clip-path=\"url(#clip330)\" style=\"stroke:#000000; stroke-linecap:round; stroke-linejoin:round; stroke-width:4; stroke-opacity:1; fill:none\" points=\"\n",
       "  1416.98,1086.13 1416.98,1067.23 \n",
       "  \"/>\n",
       "<path clip-path=\"url(#clip330)\" d=\"M264.277 1138.19 L280.596 1138.19 L280.596 1142.13 L258.652 1142.13 L258.652 1138.19 Q261.314 1135.44 265.897 1130.81 Q270.504 1126.16 271.684 1124.81 Q273.93 1122.29 274.809 1120.55 Q275.712 1118.79 275.712 1117.1 Q275.712 1114.35 273.767 1112.61 Q271.846 1110.88 268.744 1110.88 Q266.545 1110.88 264.092 1111.64 Q261.661 1112.41 258.883 1113.96 L258.883 1109.23 Q261.707 1108.1 264.161 1107.52 Q266.615 1106.94 268.652 1106.94 Q274.022 1106.94 277.217 1109.63 Q280.411 1112.31 280.411 1116.8 Q280.411 1118.93 279.601 1120.85 Q278.814 1122.75 276.707 1125.35 Q276.129 1126.02 273.027 1129.23 Q269.925 1132.43 264.277 1138.19 Z\" fill=\"#000000\" fill-rule=\"evenodd\" fill-opacity=\"1\" /><path clip-path=\"url(#clip330)\" d=\"M463.86 1111.64 L452.055 1130.09 L463.86 1130.09 L463.86 1111.64 M462.633 1107.57 L468.513 1107.57 L468.513 1130.09 L473.443 1130.09 L473.443 1133.98 L468.513 1133.98 L468.513 1142.13 L463.86 1142.13 L463.86 1133.98 L448.258 1133.98 L448.258 1129.47 L462.633 1107.57 Z\" fill=\"#000000\" fill-rule=\"evenodd\" fill-opacity=\"1\" /><path clip-path=\"url(#clip330)\" d=\"M652.483 1122.98 Q649.335 1122.98 647.483 1125.14 Q645.654 1127.29 645.654 1131.04 Q645.654 1134.77 647.483 1136.94 Q649.335 1139.1 652.483 1139.1 Q655.631 1139.1 657.46 1136.94 Q659.311 1134.77 659.311 1131.04 Q659.311 1127.29 657.46 1125.14 Q655.631 1122.98 652.483 1122.98 M661.765 1108.33 L661.765 1112.59 Q660.006 1111.76 658.2 1111.32 Q656.418 1110.88 654.659 1110.88 Q650.029 1110.88 647.575 1114 Q645.145 1117.13 644.798 1123.45 Q646.163 1121.43 648.223 1120.37 Q650.284 1119.28 652.76 1119.28 Q657.969 1119.28 660.978 1122.45 Q664.01 1125.6 664.01 1131.04 Q664.01 1136.36 660.862 1139.58 Q657.714 1142.8 652.483 1142.8 Q646.487 1142.8 643.316 1138.22 Q640.145 1133.61 640.145 1124.88 Q640.145 1116.69 644.034 1111.83 Q647.923 1106.94 654.473 1106.94 Q656.233 1106.94 658.015 1107.29 Q659.821 1107.64 661.765 1108.33 Z\" fill=\"#000000\" fill-rule=\"evenodd\" fill-opacity=\"1\" /><path clip-path=\"url(#clip330)\" d=\"M843.304 1125.72 Q839.971 1125.72 838.05 1127.5 Q836.152 1129.28 836.152 1132.41 Q836.152 1135.53 838.05 1137.31 Q839.971 1139.1 843.304 1139.1 Q846.638 1139.1 848.559 1137.31 Q850.48 1135.51 850.48 1132.41 Q850.48 1129.28 848.559 1127.5 Q846.661 1125.72 843.304 1125.72 M838.629 1123.73 Q835.619 1122.98 833.929 1120.92 Q832.263 1118.86 832.263 1115.9 Q832.263 1111.76 835.203 1109.35 Q838.166 1106.94 843.304 1106.94 Q848.466 1106.94 851.406 1109.35 Q854.346 1111.76 854.346 1115.9 Q854.346 1118.86 852.656 1120.92 Q850.99 1122.98 848.003 1123.73 Q851.383 1124.51 853.258 1126.8 Q855.156 1129.1 855.156 1132.41 Q855.156 1137.43 852.078 1140.11 Q849.022 1142.8 843.304 1142.8 Q837.587 1142.8 834.508 1140.11 Q831.453 1137.43 831.453 1132.41 Q831.453 1129.1 833.351 1126.8 Q835.249 1124.51 838.629 1123.73 M836.916 1116.34 Q836.916 1119.03 838.582 1120.53 Q840.272 1122.04 843.304 1122.04 Q846.314 1122.04 848.003 1120.53 Q849.716 1119.03 849.716 1116.34 Q849.716 1113.66 848.003 1112.15 Q846.314 1110.65 843.304 1110.65 Q840.272 1110.65 838.582 1112.15 Q836.916 1113.66 836.916 1116.34 Z\" fill=\"#000000\" fill-rule=\"evenodd\" fill-opacity=\"1\" /><path clip-path=\"url(#clip330)\" d=\"M1009.22 1138.19 L1016.86 1138.19 L1016.86 1111.83 L1008.55 1113.49 L1008.55 1109.23 L1016.81 1107.57 L1021.49 1107.57 L1021.49 1138.19 L1029.13 1138.19 L1029.13 1142.13 L1009.22 1142.13 L1009.22 1138.19 Z\" fill=\"#000000\" fill-rule=\"evenodd\" fill-opacity=\"1\" /><path clip-path=\"url(#clip330)\" d=\"M1048.57 1110.65 Q1044.96 1110.65 1043.13 1114.21 Q1041.33 1117.75 1041.33 1124.88 Q1041.33 1131.99 1043.13 1135.55 Q1044.96 1139.1 1048.57 1139.1 Q1052.2 1139.1 1054.01 1135.55 Q1055.84 1131.99 1055.84 1124.88 Q1055.84 1117.75 1054.01 1114.21 Q1052.2 1110.65 1048.57 1110.65 M1048.57 1106.94 Q1054.38 1106.94 1057.44 1111.55 Q1060.51 1116.13 1060.51 1124.88 Q1060.51 1133.61 1057.44 1138.22 Q1054.38 1142.8 1048.57 1142.8 Q1042.76 1142.8 1039.68 1138.22 Q1036.63 1133.61 1036.63 1124.88 Q1036.63 1116.13 1039.68 1111.55 Q1042.76 1106.94 1048.57 1106.94 Z\" fill=\"#000000\" fill-rule=\"evenodd\" fill-opacity=\"1\" /><path clip-path=\"url(#clip330)\" d=\"M1201.24 1138.19 L1208.88 1138.19 L1208.88 1111.83 L1200.57 1113.49 L1200.57 1109.23 L1208.84 1107.57 L1213.51 1107.57 L1213.51 1138.19 L1221.15 1138.19 L1221.15 1142.13 L1201.24 1142.13 L1201.24 1138.19 Z\" fill=\"#000000\" fill-rule=\"evenodd\" fill-opacity=\"1\" /><path clip-path=\"url(#clip330)\" d=\"M1234.62 1138.19 L1250.94 1138.19 L1250.94 1142.13 L1229 1142.13 L1229 1138.19 Q1231.66 1135.44 1236.24 1130.81 Q1240.85 1126.16 1242.03 1124.81 Q1244.28 1122.29 1245.16 1120.55 Q1246.06 1118.79 1246.06 1117.1 Q1246.06 1114.35 1244.11 1112.61 Q1242.19 1110.88 1239.09 1110.88 Q1236.89 1110.88 1234.44 1111.64 Q1232.01 1112.41 1229.23 1113.96 L1229.23 1109.23 Q1232.05 1108.1 1234.51 1107.52 Q1236.96 1106.94 1239 1106.94 Q1244.37 1106.94 1247.56 1109.63 Q1250.76 1112.31 1250.76 1116.8 Q1250.76 1118.93 1249.95 1120.85 Q1249.16 1122.75 1247.05 1125.35 Q1246.48 1126.02 1243.37 1129.23 Q1240.27 1132.43 1234.62 1138.19 Z\" fill=\"#000000\" fill-rule=\"evenodd\" fill-opacity=\"1\" /><path clip-path=\"url(#clip330)\" d=\"M1391.43 1138.19 L1399.07 1138.19 L1399.07 1111.83 L1390.76 1113.49 L1390.76 1109.23 L1399.02 1107.57 L1403.7 1107.57 L1403.7 1138.19 L1411.34 1138.19 L1411.34 1142.13 L1391.43 1142.13 L1391.43 1138.19 Z\" fill=\"#000000\" fill-rule=\"evenodd\" fill-opacity=\"1\" /><path clip-path=\"url(#clip330)\" d=\"M1433.63 1111.64 L1421.82 1130.09 L1433.63 1130.09 L1433.63 1111.64 M1432.4 1107.57 L1438.28 1107.57 L1438.28 1130.09 L1443.21 1130.09 L1443.21 1133.98 L1438.28 1133.98 L1438.28 1142.13 L1433.63 1142.13 L1433.63 1133.98 L1418.03 1133.98 L1418.03 1129.47 L1432.4 1107.57 Z\" fill=\"#000000\" fill-rule=\"evenodd\" fill-opacity=\"1\" /><polyline clip-path=\"url(#clip332)\" style=\"stroke:#000000; stroke-linecap:round; stroke-linejoin:round; stroke-width:2; stroke-opacity:0.1; fill:none\" points=\"\n",
       "  133.853,1013.6 1552.76,1013.6 \n",
       "  \"/>\n",
       "<polyline clip-path=\"url(#clip332)\" style=\"stroke:#000000; stroke-linecap:round; stroke-linejoin:round; stroke-width:2; stroke-opacity:0.1; fill:none\" points=\"\n",
       "  133.853,789.193 1552.76,789.193 \n",
       "  \"/>\n",
       "<polyline clip-path=\"url(#clip332)\" style=\"stroke:#000000; stroke-linecap:round; stroke-linejoin:round; stroke-width:2; stroke-opacity:0.1; fill:none\" points=\"\n",
       "  133.853,564.781 1552.76,564.781 \n",
       "  \"/>\n",
       "<polyline clip-path=\"url(#clip332)\" style=\"stroke:#000000; stroke-linecap:round; stroke-linejoin:round; stroke-width:2; stroke-opacity:0.1; fill:none\" points=\"\n",
       "  133.853,340.37 1552.76,340.37 \n",
       "  \"/>\n",
       "<polyline clip-path=\"url(#clip332)\" style=\"stroke:#000000; stroke-linecap:round; stroke-linejoin:round; stroke-width:2; stroke-opacity:0.1; fill:none\" points=\"\n",
       "  133.853,115.959 1552.76,115.959 \n",
       "  \"/>\n",
       "<polyline clip-path=\"url(#clip330)\" style=\"stroke:#000000; stroke-linecap:round; stroke-linejoin:round; stroke-width:4; stroke-opacity:1; fill:none\" points=\"\n",
       "  133.853,1086.13 133.853,47.2441 \n",
       "  \"/>\n",
       "<polyline clip-path=\"url(#clip330)\" style=\"stroke:#000000; stroke-linecap:round; stroke-linejoin:round; stroke-width:4; stroke-opacity:1; fill:none\" points=\"\n",
       "  133.853,1013.6 152.751,1013.6 \n",
       "  \"/>\n",
       "<polyline clip-path=\"url(#clip330)\" style=\"stroke:#000000; stroke-linecap:round; stroke-linejoin:round; stroke-width:4; stroke-opacity:1; fill:none\" points=\"\n",
       "  133.853,789.193 152.751,789.193 \n",
       "  \"/>\n",
       "<polyline clip-path=\"url(#clip330)\" style=\"stroke:#000000; stroke-linecap:round; stroke-linejoin:round; stroke-width:4; stroke-opacity:1; fill:none\" points=\"\n",
       "  133.853,564.781 152.751,564.781 \n",
       "  \"/>\n",
       "<polyline clip-path=\"url(#clip330)\" style=\"stroke:#000000; stroke-linecap:round; stroke-linejoin:round; stroke-width:4; stroke-opacity:1; fill:none\" points=\"\n",
       "  133.853,340.37 152.751,340.37 \n",
       "  \"/>\n",
       "<polyline clip-path=\"url(#clip330)\" style=\"stroke:#000000; stroke-linecap:round; stroke-linejoin:round; stroke-width:4; stroke-opacity:1; fill:none\" points=\"\n",
       "  133.853,115.959 152.751,115.959 \n",
       "  \"/>\n",
       "<path clip-path=\"url(#clip330)\" d=\"M97.9086 999.403 Q94.2975 999.403 92.4688 1002.97 Q90.6632 1006.51 90.6632 1013.64 Q90.6632 1020.75 92.4688 1024.31 Q94.2975 1027.85 97.9086 1027.85 Q101.543 1027.85 103.348 1024.31 Q105.177 1020.75 105.177 1013.64 Q105.177 1006.51 103.348 1002.97 Q101.543 999.403 97.9086 999.403 M97.9086 995.699 Q103.719 995.699 106.774 1000.31 Q109.853 1004.89 109.853 1013.64 Q109.853 1022.37 106.774 1026.97 Q103.719 1031.56 97.9086 1031.56 Q92.0984 1031.56 89.0197 1026.97 Q85.9642 1022.37 85.9642 1013.64 Q85.9642 1004.89 89.0197 1000.31 Q92.0984 995.699 97.9086 995.699 Z\" fill=\"#000000\" fill-rule=\"evenodd\" fill-opacity=\"1\" /><path clip-path=\"url(#clip330)\" d=\"M58.5569 802.538 L66.1958 802.538 L66.1958 776.172 L57.8856 777.839 L57.8856 773.579 L66.1495 771.913 L70.8254 771.913 L70.8254 802.538 L78.4642 802.538 L78.4642 806.473 L58.5569 806.473 L58.5569 802.538 Z\" fill=\"#000000\" fill-rule=\"evenodd\" fill-opacity=\"1\" /><path clip-path=\"url(#clip330)\" d=\"M97.9086 774.991 Q94.2975 774.991 92.4688 778.556 Q90.6632 782.098 90.6632 789.227 Q90.6632 796.334 92.4688 799.899 Q94.2975 803.44 97.9086 803.44 Q101.543 803.44 103.348 799.899 Q105.177 796.334 105.177 789.227 Q105.177 782.098 103.348 778.556 Q101.543 774.991 97.9086 774.991 M97.9086 771.288 Q103.719 771.288 106.774 775.894 Q109.853 780.478 109.853 789.227 Q109.853 797.954 106.774 802.561 Q103.719 807.144 97.9086 807.144 Q92.0984 807.144 89.0197 802.561 Q85.9642 797.954 85.9642 789.227 Q85.9642 780.478 89.0197 775.894 Q92.0984 771.288 97.9086 771.288 Z\" fill=\"#000000\" fill-rule=\"evenodd\" fill-opacity=\"1\" /><path clip-path=\"url(#clip330)\" d=\"M61.7745 578.126 L78.0939 578.126 L78.0939 582.061 L56.1495 582.061 L56.1495 578.126 Q58.8115 575.372 63.3949 570.742 Q68.0013 566.089 69.1819 564.747 Q71.4272 562.224 72.3068 560.487 Q73.2096 558.728 73.2096 557.038 Q73.2096 554.284 71.2652 552.548 Q69.3439 550.812 66.2421 550.812 Q64.043 550.812 61.5893 551.575 Q59.1588 552.339 56.381 553.89 L56.381 549.168 Q59.2051 548.034 61.6588 547.455 Q64.1124 546.876 66.1495 546.876 Q71.5198 546.876 74.7142 549.562 Q77.9087 552.247 77.9087 556.738 Q77.9087 558.867 77.0985 560.788 Q76.3115 562.687 74.205 565.279 Q73.6263 565.95 70.5245 569.168 Q67.4226 572.362 61.7745 578.126 Z\" fill=\"#000000\" fill-rule=\"evenodd\" fill-opacity=\"1\" /><path clip-path=\"url(#clip330)\" d=\"M97.9086 550.58 Q94.2975 550.58 92.4688 554.145 Q90.6632 557.687 90.6632 564.816 Q90.6632 571.923 92.4688 575.487 Q94.2975 579.029 97.9086 579.029 Q101.543 579.029 103.348 575.487 Q105.177 571.923 105.177 564.816 Q105.177 557.687 103.348 554.145 Q101.543 550.58 97.9086 550.58 M97.9086 546.876 Q103.719 546.876 106.774 551.483 Q109.853 556.066 109.853 564.816 Q109.853 573.543 106.774 578.149 Q103.719 582.733 97.9086 582.733 Q92.0984 582.733 89.0197 578.149 Q85.9642 573.543 85.9642 564.816 Q85.9642 556.066 89.0197 551.483 Q92.0984 546.876 97.9086 546.876 Z\" fill=\"#000000\" fill-rule=\"evenodd\" fill-opacity=\"1\" /><path clip-path=\"url(#clip330)\" d=\"M71.9133 339.016 Q75.2698 339.734 77.1448 342.002 Q79.0429 344.271 79.0429 347.604 Q79.0429 352.72 75.5244 355.521 Q72.0059 358.321 65.5245 358.321 Q63.3486 358.321 61.0338 357.882 Q58.7421 357.465 56.2884 356.608 L56.2884 352.095 Q58.2328 353.229 60.5477 353.808 Q62.8625 354.386 65.3856 354.386 Q69.7837 354.386 72.0754 352.65 Q74.3902 350.914 74.3902 347.604 Q74.3902 344.548 72.2374 342.835 Q70.1078 341.099 66.2884 341.099 L62.2606 341.099 L62.2606 337.257 L66.4735 337.257 Q69.9226 337.257 71.7513 335.891 Q73.58 334.502 73.58 331.91 Q73.58 329.248 71.6819 327.835 Q69.8069 326.4 66.2884 326.4 Q64.3671 326.4 62.168 326.817 Q59.969 327.234 57.3301 328.113 L57.3301 323.947 Q59.9921 323.206 62.3069 322.836 Q64.6449 322.465 66.705 322.465 Q72.0291 322.465 75.1309 324.896 Q78.2327 327.303 78.2327 331.423 Q78.2327 334.294 76.5892 336.285 Q74.9457 338.252 71.9133 339.016 Z\" fill=\"#000000\" fill-rule=\"evenodd\" fill-opacity=\"1\" /><path clip-path=\"url(#clip330)\" d=\"M97.9086 326.169 Q94.2975 326.169 92.4688 329.734 Q90.6632 333.275 90.6632 340.405 Q90.6632 347.511 92.4688 351.076 Q94.2975 354.618 97.9086 354.618 Q101.543 354.618 103.348 351.076 Q105.177 347.511 105.177 340.405 Q105.177 333.275 103.348 329.734 Q101.543 326.169 97.9086 326.169 M97.9086 322.465 Q103.719 322.465 106.774 327.072 Q109.853 331.655 109.853 340.405 Q109.853 349.132 106.774 353.738 Q103.719 358.321 97.9086 358.321 Q92.0984 358.321 89.0197 353.738 Q85.9642 349.132 85.9642 340.405 Q85.9642 331.655 89.0197 327.072 Q92.0984 322.465 97.9086 322.465 Z\" fill=\"#000000\" fill-rule=\"evenodd\" fill-opacity=\"1\" /><path clip-path=\"url(#clip330)\" d=\"M70.5939 102.753 L58.7884 121.202 L70.5939 121.202 L70.5939 102.753 M69.367 98.6788 L75.2466 98.6788 L75.2466 121.202 L80.1772 121.202 L80.1772 125.091 L75.2466 125.091 L75.2466 133.239 L70.5939 133.239 L70.5939 125.091 L54.9921 125.091 L54.9921 120.577 L69.367 98.6788 Z\" fill=\"#000000\" fill-rule=\"evenodd\" fill-opacity=\"1\" /><path clip-path=\"url(#clip330)\" d=\"M97.9086 101.758 Q94.2975 101.758 92.4688 105.322 Q90.6632 108.864 90.6632 115.994 Q90.6632 123.1 92.4688 126.665 Q94.2975 130.206 97.9086 130.206 Q101.543 130.206 103.348 126.665 Q105.177 123.1 105.177 115.994 Q105.177 108.864 103.348 105.322 Q101.543 101.758 97.9086 101.758 M97.9086 98.0538 Q103.719 98.0538 106.774 102.66 Q109.853 107.244 109.853 115.994 Q109.853 124.72 106.774 129.327 Q103.719 133.91 97.9086 133.91 Q92.0984 133.91 89.0197 129.327 Q85.9642 124.72 85.9642 115.994 Q85.9642 107.244 89.0197 102.66 Q92.0984 98.0538 97.9086 98.0538 Z\" fill=\"#000000\" fill-rule=\"evenodd\" fill-opacity=\"1\" /><polyline clip-path=\"url(#clip332)\" style=\"stroke:#009af9; stroke-linecap:round; stroke-linejoin:round; stroke-width:4; stroke-opacity:1; fill:none\" points=\"\n",
       "  174.011,1005.59 269.624,1020.89 365.237,1026.49 460.851,1029.82 556.464,1032.28 652.078,1034.14 747.691,1035.4 843.304,1035.89 938.918,1035.35 1034.53,1033.44 \n",
       "  1130.14,1029.66 1225.76,1023.4 1321.37,1013.83 1416.98,999.892 1512.6,980.238 \n",
       "  \"/>\n",
       "<polyline clip-path=\"url(#clip332)\" style=\"stroke:#e26f46; stroke-linecap:round; stroke-linejoin:round; stroke-width:4; stroke-opacity:1; fill:none\" points=\"\n",
       "  174.011,1053.57 269.624,1056.73 365.237,1048.66 460.851,1029.37 556.464,998.862 652.078,957.133 747.691,904.183 843.304,840.013 938.918,764.622 1034.53,678.011 \n",
       "  1130.14,580.179 1225.76,471.127 1321.37,350.854 1416.98,219.361 1512.6,76.6465 \n",
       "  \"/>\n",
       "<circle clip-path=\"url(#clip332)\" cx=\"174.011\" cy=\"1005.59\" r=\"14.4\" fill=\"#3da44d\" fill-rule=\"evenodd\" fill-opacity=\"1\" stroke=\"#000000\" stroke-opacity=\"1\" stroke-width=\"2.4\"/>\n",
       "<circle clip-path=\"url(#clip332)\" cx=\"269.624\" cy=\"1020.89\" r=\"14.4\" fill=\"#3da44d\" fill-rule=\"evenodd\" fill-opacity=\"1\" stroke=\"#000000\" stroke-opacity=\"1\" stroke-width=\"2.4\"/>\n",
       "<circle clip-path=\"url(#clip332)\" cx=\"365.237\" cy=\"1026.49\" r=\"14.4\" fill=\"#3da44d\" fill-rule=\"evenodd\" fill-opacity=\"1\" stroke=\"#000000\" stroke-opacity=\"1\" stroke-width=\"2.4\"/>\n",
       "<circle clip-path=\"url(#clip332)\" cx=\"460.851\" cy=\"1029.82\" r=\"14.4\" fill=\"#3da44d\" fill-rule=\"evenodd\" fill-opacity=\"1\" stroke=\"#000000\" stroke-opacity=\"1\" stroke-width=\"2.4\"/>\n",
       "<circle clip-path=\"url(#clip332)\" cx=\"556.464\" cy=\"1032.28\" r=\"14.4\" fill=\"#3da44d\" fill-rule=\"evenodd\" fill-opacity=\"1\" stroke=\"#000000\" stroke-opacity=\"1\" stroke-width=\"2.4\"/>\n",
       "<circle clip-path=\"url(#clip332)\" cx=\"652.078\" cy=\"1034.14\" r=\"14.4\" fill=\"#3da44d\" fill-rule=\"evenodd\" fill-opacity=\"1\" stroke=\"#000000\" stroke-opacity=\"1\" stroke-width=\"2.4\"/>\n",
       "<circle clip-path=\"url(#clip332)\" cx=\"747.691\" cy=\"1035.4\" r=\"14.4\" fill=\"#3da44d\" fill-rule=\"evenodd\" fill-opacity=\"1\" stroke=\"#000000\" stroke-opacity=\"1\" stroke-width=\"2.4\"/>\n",
       "<circle clip-path=\"url(#clip332)\" cx=\"843.304\" cy=\"1035.89\" r=\"14.4\" fill=\"#3da44d\" fill-rule=\"evenodd\" fill-opacity=\"1\" stroke=\"#000000\" stroke-opacity=\"1\" stroke-width=\"2.4\"/>\n",
       "<circle clip-path=\"url(#clip332)\" cx=\"938.918\" cy=\"1035.35\" r=\"14.4\" fill=\"#3da44d\" fill-rule=\"evenodd\" fill-opacity=\"1\" stroke=\"#000000\" stroke-opacity=\"1\" stroke-width=\"2.4\"/>\n",
       "<circle clip-path=\"url(#clip332)\" cx=\"1034.53\" cy=\"1033.44\" r=\"14.4\" fill=\"#3da44d\" fill-rule=\"evenodd\" fill-opacity=\"1\" stroke=\"#000000\" stroke-opacity=\"1\" stroke-width=\"2.4\"/>\n",
       "<circle clip-path=\"url(#clip332)\" cx=\"1130.14\" cy=\"1029.66\" r=\"14.4\" fill=\"#3da44d\" fill-rule=\"evenodd\" fill-opacity=\"1\" stroke=\"#000000\" stroke-opacity=\"1\" stroke-width=\"2.4\"/>\n",
       "<circle clip-path=\"url(#clip332)\" cx=\"1225.76\" cy=\"1023.4\" r=\"14.4\" fill=\"#3da44d\" fill-rule=\"evenodd\" fill-opacity=\"1\" stroke=\"#000000\" stroke-opacity=\"1\" stroke-width=\"2.4\"/>\n",
       "<circle clip-path=\"url(#clip332)\" cx=\"1321.37\" cy=\"1013.83\" r=\"14.4\" fill=\"#3da44d\" fill-rule=\"evenodd\" fill-opacity=\"1\" stroke=\"#000000\" stroke-opacity=\"1\" stroke-width=\"2.4\"/>\n",
       "<circle clip-path=\"url(#clip332)\" cx=\"1416.98\" cy=\"999.892\" r=\"14.4\" fill=\"#3da44d\" fill-rule=\"evenodd\" fill-opacity=\"1\" stroke=\"#000000\" stroke-opacity=\"1\" stroke-width=\"2.4\"/>\n",
       "<circle clip-path=\"url(#clip332)\" cx=\"1512.6\" cy=\"980.238\" r=\"14.4\" fill=\"#3da44d\" fill-rule=\"evenodd\" fill-opacity=\"1\" stroke=\"#000000\" stroke-opacity=\"1\" stroke-width=\"2.4\"/>\n",
       "<path clip-path=\"url(#clip330)\" d=\"\n",
       "M1027.27 237.394 L1505.46 237.394 L1505.46 81.8736 L1027.27 81.8736  Z\n",
       "  \" fill=\"#ffffff\" fill-rule=\"evenodd\" fill-opacity=\"1\"/>\n",
       "<polyline clip-path=\"url(#clip330)\" style=\"stroke:#000000; stroke-linecap:round; stroke-linejoin:round; stroke-width:4; stroke-opacity:1; fill:none\" points=\"\n",
       "  1027.27,237.394 1505.46,237.394 1505.46,81.8736 1027.27,81.8736 1027.27,237.394 \n",
       "  \"/>\n",
       "<polyline clip-path=\"url(#clip330)\" style=\"stroke:#009af9; stroke-linecap:round; stroke-linejoin:round; stroke-width:4; stroke-opacity:1; fill:none\" points=\"\n",
       "  1043.04,133.714 1137.63,133.714 \n",
       "  \"/>\n",
       "<path clip-path=\"url(#clip330)\" d=\"M1171.82 125.832 L1171.82 129.859 Q1170.02 128.933 1168.07 128.471 Q1166.13 128.008 1164.05 128.008 Q1160.87 128.008 1159.28 128.98 Q1157.7 129.952 1157.7 131.896 Q1157.7 133.378 1158.84 134.234 Q1159.97 135.068 1163.4 135.832 L1164.86 136.156 Q1169.39 137.128 1171.29 138.91 Q1173.21 140.67 1173.21 143.841 Q1173.21 147.452 1170.34 149.558 Q1167.49 151.665 1162.49 151.665 Q1160.41 151.665 1158.14 151.248 Q1155.9 150.855 1153.4 150.044 L1153.4 145.646 Q1155.76 146.873 1158.05 147.498 Q1160.34 148.1 1162.59 148.1 Q1165.6 148.1 1167.22 147.082 Q1168.84 146.04 1168.84 144.165 Q1168.84 142.429 1167.66 141.503 Q1166.5 140.577 1162.54 139.72 L1161.06 139.373 Q1157.1 138.54 1155.34 136.827 Q1153.58 135.091 1153.58 132.082 Q1153.58 128.424 1156.18 126.434 Q1158.77 124.443 1163.54 124.443 Q1165.9 124.443 1167.98 124.79 Q1170.06 125.137 1171.82 125.832 Z\" fill=\"#000000\" fill-rule=\"evenodd\" fill-opacity=\"1\" /><path clip-path=\"url(#clip330)\" d=\"M1190.04 128.054 Q1186.61 128.054 1184.62 130.739 Q1182.63 133.401 1182.63 138.054 Q1182.63 142.707 1184.6 145.392 Q1186.59 148.054 1190.04 148.054 Q1193.44 148.054 1195.43 145.369 Q1197.42 142.683 1197.42 138.054 Q1197.42 133.447 1195.43 130.762 Q1193.44 128.054 1190.04 128.054 M1190.04 124.443 Q1195.6 124.443 1198.77 128.054 Q1201.94 131.665 1201.94 138.054 Q1201.94 144.42 1198.77 148.054 Q1195.6 151.665 1190.04 151.665 Q1184.46 151.665 1181.29 148.054 Q1178.14 144.42 1178.14 138.054 Q1178.14 131.665 1181.29 128.054 Q1184.46 124.443 1190.04 124.443 Z\" fill=\"#000000\" fill-rule=\"evenodd\" fill-opacity=\"1\" /><path clip-path=\"url(#clip330)\" d=\"M1209 114.975 L1213.26 114.975 L1213.26 150.994 L1209 150.994 L1209 114.975 Z\" fill=\"#000000\" fill-rule=\"evenodd\" fill-opacity=\"1\" /><path clip-path=\"url(#clip330)\" d=\"M1221.73 140.762 L1221.73 125.068 L1225.99 125.068 L1225.99 140.6 Q1225.99 144.281 1227.42 146.132 Q1228.86 147.961 1231.73 147.961 Q1235.18 147.961 1237.17 145.762 Q1239.18 143.563 1239.18 139.767 L1239.18 125.068 L1243.44 125.068 L1243.44 150.994 L1239.18 150.994 L1239.18 147.012 Q1237.63 149.373 1235.57 150.531 Q1233.54 151.665 1230.83 151.665 Q1226.36 151.665 1224.05 148.887 Q1221.73 146.109 1221.73 140.762 M1232.45 124.443 L1232.45 124.443 Z\" fill=\"#000000\" fill-rule=\"evenodd\" fill-opacity=\"1\" /><path clip-path=\"url(#clip330)\" d=\"M1268.74 125.832 L1268.74 129.859 Q1266.94 128.933 1264.99 128.471 Q1263.05 128.008 1260.97 128.008 Q1257.79 128.008 1256.2 128.98 Q1254.62 129.952 1254.62 131.896 Q1254.62 133.378 1255.76 134.234 Q1256.89 135.068 1260.32 135.832 L1261.78 136.156 Q1266.31 137.128 1268.21 138.91 Q1270.13 140.67 1270.13 143.841 Q1270.13 147.452 1267.26 149.558 Q1264.42 151.665 1259.42 151.665 Q1257.33 151.665 1255.06 151.248 Q1252.82 150.855 1250.32 150.044 L1250.32 145.646 Q1252.68 146.873 1254.97 147.498 Q1257.26 148.1 1259.51 148.1 Q1262.52 148.1 1264.14 147.082 Q1265.76 146.04 1265.76 144.165 Q1265.76 142.429 1264.58 141.503 Q1263.42 140.577 1259.46 139.72 L1257.98 139.373 Q1254.02 138.54 1252.26 136.827 Q1250.5 135.091 1250.5 132.082 Q1250.5 128.424 1253.1 126.434 Q1255.69 124.443 1260.46 124.443 Q1262.82 124.443 1264.9 124.79 Q1266.98 125.137 1268.74 125.832 Z\" fill=\"#000000\" fill-rule=\"evenodd\" fill-opacity=\"1\" /><path clip-path=\"url(#clip330)\" d=\"M1276.92 125.068 L1281.17 125.068 L1281.17 150.994 L1276.92 150.994 L1276.92 125.068 M1276.92 114.975 L1281.17 114.975 L1281.17 120.369 L1276.92 120.369 L1276.92 114.975 Z\" fill=\"#000000\" fill-rule=\"evenodd\" fill-opacity=\"1\" /><path clip-path=\"url(#clip330)\" d=\"M1326.71 135.345 L1326.71 150.994 L1322.45 150.994 L1322.45 135.484 Q1322.45 131.804 1321.01 129.975 Q1319.58 128.146 1316.71 128.146 Q1313.26 128.146 1311.27 130.346 Q1309.28 132.545 1309.28 136.341 L1309.28 150.994 L1304.99 150.994 L1304.99 114.975 L1309.28 114.975 L1309.28 129.096 Q1310.8 126.758 1312.86 125.6 Q1314.95 124.443 1317.66 124.443 Q1322.12 124.443 1324.41 127.221 Q1326.71 129.975 1326.71 135.345 Z\" fill=\"#000000\" fill-rule=\"evenodd\" fill-opacity=\"1\" /><path clip-path=\"url(#clip330)\" d=\"M1335.76 129.466 L1365.43 129.466 L1365.43 133.355 L1335.76 133.355 L1335.76 129.466 M1335.76 138.91 L1365.43 138.91 L1365.43 142.845 L1335.76 142.845 L1335.76 138.91 Z\" fill=\"#000000\" fill-rule=\"evenodd\" fill-opacity=\"1\" /><path clip-path=\"url(#clip330)\" d=\"M1376.34 147.058 L1383.97 147.058 L1383.97 120.693 L1375.66 122.359 L1375.66 118.1 L1383.93 116.434 L1388.6 116.434 L1388.6 147.058 L1396.24 147.058 L1396.24 150.994 L1376.34 150.994 L1376.34 147.058 Z\" fill=\"#000000\" fill-rule=\"evenodd\" fill-opacity=\"1\" /><path clip-path=\"url(#clip330)\" d=\"M1412.66 116.434 L1416.59 116.434 L1404.55 155.392 L1400.62 155.392 L1412.66 116.434 Z\" fill=\"#000000\" fill-rule=\"evenodd\" fill-opacity=\"1\" /><path clip-path=\"url(#clip330)\" d=\"M1422.47 147.058 L1430.11 147.058 L1430.11 120.693 L1421.8 122.359 L1421.8 118.1 L1430.06 116.434 L1434.74 116.434 L1434.74 147.058 L1442.38 147.058 L1442.38 150.994 L1422.47 150.994 L1422.47 147.058 Z\" fill=\"#000000\" fill-rule=\"evenodd\" fill-opacity=\"1\" /><path clip-path=\"url(#clip330)\" d=\"M1462.4 131.85 Q1459.25 131.85 1457.4 134.003 Q1455.57 136.156 1455.57 139.906 Q1455.57 143.632 1457.4 145.808 Q1459.25 147.961 1462.4 147.961 Q1465.55 147.961 1467.38 145.808 Q1469.23 143.632 1469.23 139.906 Q1469.23 136.156 1467.38 134.003 Q1465.55 131.85 1462.4 131.85 M1471.68 117.197 L1471.68 121.457 Q1469.92 120.623 1468.12 120.184 Q1466.34 119.744 1464.58 119.744 Q1459.95 119.744 1457.49 122.869 Q1455.06 125.994 1454.72 132.313 Q1456.08 130.299 1458.14 129.234 Q1460.2 128.146 1462.68 128.146 Q1467.89 128.146 1470.9 131.318 Q1473.93 134.466 1473.93 139.906 Q1473.93 145.23 1470.78 148.447 Q1467.63 151.665 1462.4 151.665 Q1456.4 151.665 1453.23 147.082 Q1450.06 142.475 1450.06 133.748 Q1450.06 125.554 1453.95 120.693 Q1457.84 115.809 1464.39 115.809 Q1466.15 115.809 1467.93 116.156 Q1469.74 116.503 1471.68 117.197 Z\" fill=\"#000000\" fill-rule=\"evenodd\" fill-opacity=\"1\" /><polyline clip-path=\"url(#clip330)\" style=\"stroke:#e26f46; stroke-linecap:round; stroke-linejoin:round; stroke-width:4; stroke-opacity:1; fill:none\" points=\"\n",
       "  1043.04,185.554 1137.63,185.554 \n",
       "  \"/>\n",
       "<path clip-path=\"url(#clip330)\" d=\"M1171.82 177.672 L1171.82 181.699 Q1170.02 180.773 1168.07 180.311 Q1166.13 179.848 1164.05 179.848 Q1160.87 179.848 1159.28 180.82 Q1157.7 181.792 1157.7 183.736 Q1157.7 185.218 1158.84 186.074 Q1159.97 186.908 1163.4 187.672 L1164.86 187.996 Q1169.39 188.968 1171.29 190.75 Q1173.21 192.51 1173.21 195.681 Q1173.21 199.292 1170.34 201.398 Q1167.49 203.505 1162.49 203.505 Q1160.41 203.505 1158.14 203.088 Q1155.9 202.695 1153.4 201.884 L1153.4 197.486 Q1155.76 198.713 1158.05 199.338 Q1160.34 199.94 1162.59 199.94 Q1165.6 199.94 1167.22 198.922 Q1168.84 197.88 1168.84 196.005 Q1168.84 194.269 1167.66 193.343 Q1166.5 192.417 1162.54 191.56 L1161.06 191.213 Q1157.1 190.38 1155.34 188.667 Q1153.58 186.931 1153.58 183.922 Q1153.58 180.264 1156.18 178.274 Q1158.77 176.283 1163.54 176.283 Q1165.9 176.283 1167.98 176.63 Q1170.06 176.977 1171.82 177.672 Z\" fill=\"#000000\" fill-rule=\"evenodd\" fill-opacity=\"1\" /><path clip-path=\"url(#clip330)\" d=\"M1190.04 179.894 Q1186.61 179.894 1184.62 182.579 Q1182.63 185.241 1182.63 189.894 Q1182.63 194.547 1184.6 197.232 Q1186.59 199.894 1190.04 199.894 Q1193.44 199.894 1195.43 197.209 Q1197.42 194.523 1197.42 189.894 Q1197.42 185.287 1195.43 182.602 Q1193.44 179.894 1190.04 179.894 M1190.04 176.283 Q1195.6 176.283 1198.77 179.894 Q1201.94 183.505 1201.94 189.894 Q1201.94 196.26 1198.77 199.894 Q1195.6 203.505 1190.04 203.505 Q1184.46 203.505 1181.29 199.894 Q1178.14 196.26 1178.14 189.894 Q1178.14 183.505 1181.29 179.894 Q1184.46 176.283 1190.04 176.283 Z\" fill=\"#000000\" fill-rule=\"evenodd\" fill-opacity=\"1\" /><path clip-path=\"url(#clip330)\" d=\"M1209 166.815 L1213.26 166.815 L1213.26 202.834 L1209 202.834 L1209 166.815 Z\" fill=\"#000000\" fill-rule=\"evenodd\" fill-opacity=\"1\" /><path clip-path=\"url(#clip330)\" d=\"M1221.73 192.602 L1221.73 176.908 L1225.99 176.908 L1225.99 192.44 Q1225.99 196.121 1227.42 197.972 Q1228.86 199.801 1231.73 199.801 Q1235.18 199.801 1237.17 197.602 Q1239.18 195.403 1239.18 191.607 L1239.18 176.908 L1243.44 176.908 L1243.44 202.834 L1239.18 202.834 L1239.18 198.852 Q1237.63 201.213 1235.57 202.371 Q1233.54 203.505 1230.83 203.505 Q1226.36 203.505 1224.05 200.727 Q1221.73 197.949 1221.73 192.602 M1232.45 176.283 L1232.45 176.283 Z\" fill=\"#000000\" fill-rule=\"evenodd\" fill-opacity=\"1\" /><path clip-path=\"url(#clip330)\" d=\"M1268.74 177.672 L1268.74 181.699 Q1266.94 180.773 1264.99 180.311 Q1263.05 179.848 1260.97 179.848 Q1257.79 179.848 1256.2 180.82 Q1254.62 181.792 1254.62 183.736 Q1254.62 185.218 1255.76 186.074 Q1256.89 186.908 1260.32 187.672 L1261.78 187.996 Q1266.31 188.968 1268.21 190.75 Q1270.13 192.51 1270.13 195.681 Q1270.13 199.292 1267.26 201.398 Q1264.42 203.505 1259.42 203.505 Q1257.33 203.505 1255.06 203.088 Q1252.82 202.695 1250.32 201.884 L1250.32 197.486 Q1252.68 198.713 1254.97 199.338 Q1257.26 199.94 1259.51 199.94 Q1262.52 199.94 1264.14 198.922 Q1265.76 197.88 1265.76 196.005 Q1265.76 194.269 1264.58 193.343 Q1263.42 192.417 1259.46 191.56 L1257.98 191.213 Q1254.02 190.38 1252.26 188.667 Q1250.5 186.931 1250.5 183.922 Q1250.5 180.264 1253.1 178.274 Q1255.69 176.283 1260.46 176.283 Q1262.82 176.283 1264.9 176.63 Q1266.98 176.977 1268.74 177.672 Z\" fill=\"#000000\" fill-rule=\"evenodd\" fill-opacity=\"1\" /><path clip-path=\"url(#clip330)\" d=\"M1276.92 176.908 L1281.17 176.908 L1281.17 202.834 L1276.92 202.834 L1276.92 176.908 M1276.92 166.815 L1281.17 166.815 L1281.17 172.209 L1276.92 172.209 L1276.92 166.815 Z\" fill=\"#000000\" fill-rule=\"evenodd\" fill-opacity=\"1\" /><path clip-path=\"url(#clip330)\" d=\"M1316.94 189.801 Q1311.78 189.801 1309.79 190.982 Q1307.79 192.162 1307.79 195.01 Q1307.79 197.278 1309.28 198.621 Q1310.78 199.94 1313.35 199.94 Q1316.89 199.94 1319.02 197.44 Q1321.17 194.917 1321.17 190.75 L1321.17 189.801 L1316.94 189.801 M1325.43 188.042 L1325.43 202.834 L1321.17 202.834 L1321.17 198.898 Q1319.72 201.259 1317.54 202.394 Q1315.36 203.505 1312.22 203.505 Q1308.23 203.505 1305.87 201.283 Q1303.54 199.037 1303.54 195.287 Q1303.54 190.912 1306.45 188.69 Q1309.39 186.468 1315.2 186.468 L1321.17 186.468 L1321.17 186.051 Q1321.17 183.111 1319.23 181.514 Q1317.31 179.894 1313.81 179.894 Q1311.59 179.894 1309.48 180.426 Q1307.38 180.959 1305.43 182.023 L1305.43 178.088 Q1307.77 177.186 1309.97 176.746 Q1312.17 176.283 1314.25 176.283 Q1319.88 176.283 1322.66 179.199 Q1325.43 182.116 1325.43 188.042 Z\" fill=\"#000000\" fill-rule=\"evenodd\" fill-opacity=\"1\" /><path clip-path=\"url(#clip330)\" d=\"M1334.04 166.815 L1338.33 166.815 L1338.33 188.088 L1351.04 176.908 L1356.47 176.908 L1342.72 189.037 L1357.05 202.834 L1351.5 202.834 L1338.33 190.172 L1338.33 202.834 L1334.04 202.834 L1334.04 166.815 Z\" fill=\"#000000\" fill-rule=\"evenodd\" fill-opacity=\"1\" /><path clip-path=\"url(#clip330)\" d=\"M1365.87 169.547 L1365.87 176.908 L1374.65 176.908 L1374.65 180.218 L1365.87 180.218 L1365.87 194.292 Q1365.87 197.463 1366.73 198.366 Q1367.61 199.269 1370.27 199.269 L1374.65 199.269 L1374.65 202.834 L1370.27 202.834 Q1365.34 202.834 1363.47 201.005 Q1361.59 199.153 1361.59 194.292 L1361.59 180.218 L1358.47 180.218 L1358.47 176.908 L1361.59 176.908 L1361.59 169.547 L1365.87 169.547 Z\" fill=\"#000000\" fill-rule=\"evenodd\" fill-opacity=\"1\" /><path clip-path=\"url(#clip330)\" d=\"M1379.81 192.602 L1379.81 176.908 L1384.07 176.908 L1384.07 192.44 Q1384.07 196.121 1385.5 197.972 Q1386.94 199.801 1389.81 199.801 Q1393.26 199.801 1395.25 197.602 Q1397.26 195.403 1397.26 191.607 L1397.26 176.908 L1401.52 176.908 L1401.52 202.834 L1397.26 202.834 L1397.26 198.852 Q1395.71 201.213 1393.65 202.371 Q1391.61 203.505 1388.91 203.505 Q1384.44 203.505 1382.12 200.727 Q1379.81 197.949 1379.81 192.602 M1390.53 176.283 L1390.53 176.283 Z\" fill=\"#000000\" fill-rule=\"evenodd\" fill-opacity=\"1\" /><path clip-path=\"url(#clip330)\" d=\"M1422.08 189.801 Q1416.91 189.801 1414.92 190.982 Q1412.93 192.162 1412.93 195.01 Q1412.93 197.278 1414.41 198.621 Q1415.92 199.94 1418.49 199.94 Q1422.03 199.94 1424.16 197.44 Q1426.31 194.917 1426.31 190.75 L1426.31 189.801 L1422.08 189.801 M1430.57 188.042 L1430.57 202.834 L1426.31 202.834 L1426.31 198.898 Q1424.85 201.259 1422.68 202.394 Q1420.5 203.505 1417.35 203.505 Q1413.37 203.505 1411.01 201.283 Q1408.67 199.037 1408.67 195.287 Q1408.67 190.912 1411.59 188.69 Q1414.53 186.468 1420.34 186.468 L1426.31 186.468 L1426.31 186.051 Q1426.31 183.111 1424.37 181.514 Q1422.45 179.894 1418.95 179.894 Q1416.73 179.894 1414.62 180.426 Q1412.52 180.959 1410.57 182.023 L1410.57 178.088 Q1412.91 177.186 1415.11 176.746 Q1417.31 176.283 1419.39 176.283 Q1425.02 176.283 1427.79 179.199 Q1430.57 182.116 1430.57 188.042 Z\" fill=\"#000000\" fill-rule=\"evenodd\" fill-opacity=\"1\" /><path clip-path=\"url(#clip330)\" d=\"M1439.34 166.815 L1443.6 166.815 L1443.6 202.834 L1439.34 202.834 L1439.34 166.815 Z\" fill=\"#000000\" fill-rule=\"evenodd\" fill-opacity=\"1\" /></svg>\n"
      ]
     },
     "execution_count": 83,
     "metadata": {},
     "output_type": "execute_result"
    }
   ],
   "source": [
    "sol_ak = [(t^2)-0.2525826491*t-2.528442297*t for t in 1:0.5:8];\n",
    "plot(solu_per16, label = \"solusi h=1/16\",size=(400,300))\n",
    "plot!(sol_ak, label = \"solusi aktual\", size=(400,300))\n",
    "scatter!(solu_per16, label = :none)"
   ]
  },
  {
   "cell_type": "code",
   "execution_count": null,
   "id": "c0d1aeda",
   "metadata": {},
   "outputs": [],
   "source": []
  },
  {
   "cell_type": "code",
   "execution_count": null,
   "id": "59344f1f",
   "metadata": {},
   "outputs": [],
   "source": []
  },
  {
   "cell_type": "code",
   "execution_count": null,
   "id": "5cd26a0c",
   "metadata": {},
   "outputs": [],
   "source": []
  }
 ],
 "metadata": {
  "kernelspec": {
   "display_name": "Julia 1.8.2",
   "language": "julia",
   "name": "julia-1.8"
  },
  "language_info": {
   "file_extension": ".jl",
   "mimetype": "application/julia",
   "name": "julia",
   "version": "1.8.2"
  }
 },
 "nbformat": 4,
 "nbformat_minor": 5
}
