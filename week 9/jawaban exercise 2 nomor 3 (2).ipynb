{
 "cells": [
  {
   "cell_type": "code",
   "execution_count": 7,
   "id": "b6756493",
   "metadata": {},
   "outputs": [],
   "source": [
    "using SymPy"
   ]
  },
  {
   "cell_type": "code",
   "execution_count": 8,
   "id": "4bac824f",
   "metadata": {},
   "outputs": [],
   "source": [
    "using Plots"
   ]
  },
  {
   "cell_type": "code",
   "execution_count": 9,
   "id": "2fc56333",
   "metadata": {},
   "outputs": [],
   "source": [
    "using Roots"
   ]
  },
  {
   "cell_type": "code",
   "execution_count": 10,
   "id": "487a91ab",
   "metadata": {},
   "outputs": [],
   "source": [
    "using LinearAlgebra"
   ]
  },
  {
   "cell_type": "code",
   "execution_count": 11,
   "id": "6eda9a33",
   "metadata": {},
   "outputs": [],
   "source": [
    "using DifferentialEquations"
   ]
  },
  {
   "cell_type": "markdown",
   "id": "f4fd7fb9",
   "metadata": {},
   "source": [
    "##### Ordinary Differential Equations with Boundary Value Problem\n",
    "###### Exercise 2\n",
    "> Diberikan PDB dengan MNB berikut.\n",
    "$$x''-\\dfrac{1}{t}x'+\\dfrac{1}{t^2}x=1$$ \n",
    "pada interval $[0.5,4.5]$ dengan nilai batas $x(0.5)=1$ dan $y(4.5)=2$.\n",
    "\n",
    "Solusi aktual dari MNB di atas adalah $x(t)=t^2 - 0.2525826491t-2.528442297 t \\ln t$."
   ]
  },
  {
   "cell_type": "markdown",
   "id": "fa966354",
   "metadata": {},
   "source": [
    "3. Carilah solusi numerik PDB di atas menggunakan *__finite-difference method__* dengan ukuran langkah $h=1/2, 1/4,$ dan $1/16$.\n",
    "    1. Bandingkan fungsi hampiran tersebut dengan solusi aktual menggunakan plot ! \n",
    "    2. Gambarkan juga plot selisih fungsi hampiran tersebut dengan solusi aktual !"
   ]
  },
  {
   "cell_type": "code",
   "execution_count": null,
   "id": "5b276817",
   "metadata": {},
   "outputs": [],
   "source": [
    "##################################################################################################"
   ]
  },
  {
   "cell_type": "markdown",
   "id": "d73950ec",
   "metadata": {},
   "source": [
    "$$x''=\n",
    "\\dfrac{1}{t}x'\n",
    "-\\dfrac{1}{t^2}x\n",
    "+1$$"
   ]
  },
  {
   "cell_type": "markdown",
   "id": "68a9bf2c",
   "metadata": {},
   "source": [
    "$$\\begin{align} \n",
    "\\frac{y_{i+1} - 2y_i + y_{i-1}}{h^2}\n",
    "=\n",
    "1\n",
    "+ \\frac{1}{t_i} \\left( \\frac{y_{i+1}-y_{i-1}}{2h} \\right )\n",
    "- \\frac{1}{t^2_i} y_i\n",
    "\\end{align}$$"
   ]
  },
  {
   "cell_type": "markdown",
   "id": "eb00bcb6",
   "metadata": {},
   "source": [
    "<center> dikali $2h^2t_i^2$"
   ]
  },
  {
   "cell_type": "markdown",
   "id": "dcff2543",
   "metadata": {},
   "source": [
    "$$\\begin{align}\n",
    "\\left( y_{i+1} - 2y_i + y_{i-1} \\right )\n",
    "2 t_i^2\n",
    "=\n",
    "2 h^2 t_i^2\n",
    "+ \\left( y_{i+1}-y_{i-1} \\right) ht_i\n",
    "- 2h^2y_i\n",
    "\\end{align}$$"
   ]
  },
  {
   "cell_type": "markdown",
   "id": "6a55f51c",
   "metadata": {},
   "source": [
    "$$\\begin{align}\n",
    "\\left( 2 t_i^2 + ht_i \\right ) y_{i-1}\n",
    "+  \\left( 2 h^2 - 4 t_i^2 \\right ) y_{i}\n",
    "+ \\left( 2 t_i^2  - h t_i \\right ) y_{i+1}\n",
    "= 2 h^2 t_i^2\n",
    "\\end{align}$$"
   ]
  },
  {
   "cell_type": "markdown",
   "id": "40626ba7",
   "metadata": {},
   "source": [
    "<center>atau"
   ]
  },
  {
   "cell_type": "markdown",
   "id": "eb6f5a3a",
   "metadata": {},
   "source": [
    "$$\\begin{align}\n",
    "P(h,t_i) y_{i-1}\n",
    "+  Q(h,t_i) y_{i}\n",
    "+ R(h,t_i) y_{i+1}\n",
    "= S(h,t_i)\n",
    "\\end{align}$$"
   ]
  },
  {
   "cell_type": "markdown",
   "id": "1d8ed7c8",
   "metadata": {},
   "source": [
    "<center>dengan"
   ]
  },
  {
   "cell_type": "markdown",
   "id": "6b240964",
   "metadata": {},
   "source": [
    "$$\n",
    "P(h,t_i)\n",
    "= \\left( 2 t_i^2 + h t_i \\right)\n",
    "\\quad\n",
    "Q(h,t_i)\n",
    "= \\left( 2 h^2 - 4 t_i^2 \\right )\n",
    "\\quad\n",
    "R(h,t_i)\n",
    "= \\left( 2 t_i^2  - h t_i \\right )\n",
    "\\quad\n",
    "S(h,t_i)\n",
    "= 2 h^2 t_i^2\n",
    "$$"
   ]
  },
  {
   "cell_type": "markdown",
   "id": "46e26f71",
   "metadata": {},
   "source": [
    "<center> Untuk"
   ]
  },
  {
   "cell_type": "markdown",
   "id": "4295f67b",
   "metadata": {},
   "source": [
    "$$i=1,2,...,n$$"
   ]
  },
  {
   "cell_type": "markdown",
   "id": "ae05f8ce",
   "metadata": {},
   "source": [
    "$$\\begin{align}\n",
    "Q(h,t_1) y_{1}\n",
    "+ R(h,t_1) y_{2}\n",
    "& = S(h,t_1) - P(h,t_1) y_{0}\n",
    "\\\\\n",
    "P(h,t_2) y_{1}\n",
    "+  Q(h,t_2) y_{2}\n",
    "+ R(h,t_2) y_{3}\n",
    "& = S(h,t_2)\n",
    "\\\\\n",
    "P(h,t_3) y_{2}\n",
    "+  Q(h,t_3) y_{3}\n",
    "+ R(h,t_3) y_{4}\n",
    "& = S(h,t_3)\n",
    "\\\\\n",
    "\\vdots\n",
    "\\\\\n",
    "P(h,t_{n-1}) y_{n-2}\n",
    "+  Q(h,t_{n-1}) y_{n-1}\n",
    "& = S(h,t_{n-1})\n",
    "- R(h,t_{n-1}) y_{n}\n",
    "\\end{align}$$"
   ]
  },
  {
   "cell_type": "code",
   "execution_count": 1,
   "id": "841fea0f",
   "metadata": {},
   "outputs": [],
   "source": [
    "##################################################################################################"
   ]
  },
  {
   "cell_type": "markdown",
   "id": "1ca2afdd",
   "metadata": {},
   "source": [
    "jika $y_0=a$, $y_n=b$ dan $y_n=a+nh$,\n",
    "\n",
    "maka,\n",
    "\n",
    "$$\n",
    "\\begin{align}\n",
    "y_n &= a + nh\n",
    "\\\\\n",
    "b &= a + nh\n",
    "\\\\\n",
    "n &= \\frac{b-a}{h}\n",
    "\\end{align}\n",
    "$$"
   ]
  },
  {
   "cell_type": "code",
   "execution_count": null,
   "id": "038d80dc",
   "metadata": {},
   "outputs": [],
   "source": [
    "##################################################################################################"
   ]
  },
  {
   "cell_type": "markdown",
   "id": "5b80793d",
   "metadata": {},
   "source": [
    "untuk $h=\\frac{1}{2}=0.5$, maka $x(0.5)= y_0 = 1$ dan $x(4.5)= y_8 = 2$."
   ]
  },
  {
   "cell_type": "markdown",
   "id": "ce6977fa",
   "metadata": {},
   "source": [
    "untuk $h=\\frac{1}{4}=0.25$, maka $x(0.5)= y_0 = 1$ dan $x(4.5)= y_{16}= 2$."
   ]
  },
  {
   "cell_type": "markdown",
   "id": "a5a8049b",
   "metadata": {},
   "source": [
    "untuk $h=\\frac{1}{16}=0.0625$, maka $x(0.5)= y_0 = 1$ dan $x(4.5)= y_{64} = 2$."
   ]
  },
  {
   "cell_type": "code",
   "execution_count": null,
   "id": "c77379c4",
   "metadata": {},
   "outputs": [],
   "source": [
    "##################################################################################################"
   ]
  },
  {
   "cell_type": "markdown",
   "id": "44ff642a",
   "metadata": {},
   "source": [
    "case:\n",
    "\n",
    "$h=\\frac{1}{2}=0.5$, $y_0 = 1$ dan $y_8 = 2$."
   ]
  },
  {
   "cell_type": "markdown",
   "id": "b7d0908f",
   "metadata": {},
   "source": [
    "$\\begin{align}\n",
    "P(0.5 , t_i)\n",
    "& = 2 t_i^2 + (0.5) t_i\n",
    "\\\\\n",
    "Q(0.5 , t_i)\n",
    "& =  2 (0.5)^2 - 4 t_i^2\n",
    "= 2 (0.25) - 4 t_i^2\n",
    "= 0.5 - 4 t_i^2\n",
    "\\\\\n",
    "R(0.5 , t_i)\n",
    "& = 2 t_i^2  - h t_i\n",
    "= 2 t_i^2  - (0.5) t_i\n",
    "\\\\\n",
    "S(0.5 , t_i)\n",
    "& = 2 h^2 t_i^2\n",
    "= 2 (0.5)^2 t_i^2\n",
    "= 2 (0.25) t_i^2\n",
    "= 0.5 t_i^2\n",
    "\\end{align}$"
   ]
  },
  {
   "cell_type": "code",
   "execution_count": 2,
   "id": "98cce8db",
   "metadata": {},
   "outputs": [],
   "source": [
    "P = [2*(t^2)+(0.5)*t for t in 1:0.5:7.5];"
   ]
  },
  {
   "cell_type": "code",
   "execution_count": 3,
   "id": "7deed470",
   "metadata": {},
   "outputs": [],
   "source": [
    "Q = [0.5-4*(t^2) for t in 1:0.5:8];"
   ]
  },
  {
   "cell_type": "code",
   "execution_count": 4,
   "id": "33c27dd3",
   "metadata": {},
   "outputs": [],
   "source": [
    "R = [2*(t^2)-0.5*t for t in 1:0.5:7.5];"
   ]
  },
  {
   "cell_type": "code",
   "execution_count": 5,
   "id": "af2eb2cb",
   "metadata": {},
   "outputs": [],
   "source": [
    "S = [0.5*(t^2) for t in 1:0.5:8];"
   ]
  },
  {
   "cell_type": "code",
   "execution_count": 12,
   "id": "6e9a05f9",
   "metadata": {},
   "outputs": [
    {
     "data": {
      "text/plain": [
       "15×15 Tridiagonal{Float64, Vector{Float64}}:\n",
       " -3.5   1.5      ⋅       ⋅       ⋅    …      ⋅        ⋅        ⋅        ⋅ \n",
       "  2.5  -8.5     3.75     ⋅       ⋅           ⋅        ⋅        ⋅        ⋅ \n",
       "   ⋅    5.25  -15.5     7.0      ⋅           ⋅        ⋅        ⋅        ⋅ \n",
       "   ⋅     ⋅      9.0   -24.5    11.25         ⋅        ⋅        ⋅        ⋅ \n",
       "   ⋅     ⋅       ⋅     13.75  -35.5          ⋅        ⋅        ⋅        ⋅ \n",
       "   ⋅     ⋅       ⋅       ⋅     19.5   …      ⋅        ⋅        ⋅        ⋅ \n",
       "   ⋅     ⋅       ⋅       ⋅       ⋅           ⋅        ⋅        ⋅        ⋅ \n",
       "   ⋅     ⋅       ⋅       ⋅       ⋅           ⋅        ⋅        ⋅        ⋅ \n",
       "   ⋅     ⋅       ⋅       ⋅       ⋅           ⋅        ⋅        ⋅        ⋅ \n",
       "   ⋅     ⋅       ⋅       ⋅       ⋅           ⋅        ⋅        ⋅        ⋅ \n",
       "   ⋅     ⋅       ⋅       ⋅       ⋅    …    69.0       ⋅        ⋅        ⋅ \n",
       "   ⋅     ⋅       ⋅       ⋅       ⋅       -168.5     81.25      ⋅        ⋅ \n",
       "   ⋅     ⋅       ⋅       ⋅       ⋅         87.75  -195.5     94.5       ⋅ \n",
       "   ⋅     ⋅       ⋅       ⋅       ⋅           ⋅     101.5   -224.5    108.75\n",
       "   ⋅     ⋅       ⋅       ⋅       ⋅           ⋅        ⋅     116.25  -255.5"
      ]
     },
     "execution_count": 12,
     "metadata": {},
     "output_type": "execute_result"
    }
   ],
   "source": [
    "PQR = Tridiagonal(P,Q,R)"
   ]
  },
  {
   "cell_type": "code",
   "execution_count": 13,
   "id": "188f7e54",
   "metadata": {
    "scrolled": true
   },
   "outputs": [
    {
     "data": {
      "text/plain": [
       "15-element Vector{Float64}:\n",
       "  -2.0\n",
       "   1.125\n",
       "   2.0\n",
       "   3.125\n",
       "   4.5\n",
       "   6.125\n",
       "   8.0\n",
       "  10.125\n",
       "  12.5\n",
       "  15.125\n",
       "  18.0\n",
       "  21.125\n",
       "  24.5\n",
       "  28.125\n",
       " -84.25"
      ]
     },
     "execution_count": 13,
     "metadata": {},
     "output_type": "execute_result"
    }
   ],
   "source": [
    "B = S \n",
    "B[1] = S[1] - P[1] #perlu diperiksa lagi\n",
    "B[end] = B[end] - P[14]\n",
    "B"
   ]
  },
  {
   "cell_type": "code",
   "execution_count": 14,
   "id": "534f8ef0",
   "metadata": {},
   "outputs": [
    {
     "data": {
      "text/plain": [
       "15-element Vector{Float64}:\n",
       "  0.4750241728632159\n",
       " -0.2249435966524962\n",
       " -0.5265549343211353\n",
       " -0.7115210856502847\n",
       " -0.8505130835148228\n",
       " -0.9642302749748363\n",
       " -1.0573698113292533\n",
       " -1.1277312767106047\n",
       " -1.1688050768629823\n",
       " -1.1702230119681762\n",
       " -1.1173092018503665\n",
       " -0.9901052892542095\n",
       " -0.7619637058530069\n",
       " -0.3976948715577351\n",
       "  0.1487983216493671"
      ]
     },
     "execution_count": 14,
     "metadata": {},
     "output_type": "execute_result"
    }
   ],
   "source": [
    "Y = PQR\\B"
   ]
  },
  {
   "cell_type": "code",
   "execution_count": 15,
   "id": "b51d4030",
   "metadata": {},
   "outputs": [
    {
     "data": {
      "image/svg+xml": [
       "<?xml version=\"1.0\" encoding=\"utf-8\"?>\n",
       "<svg xmlns=\"http://www.w3.org/2000/svg\" xmlns:xlink=\"http://www.w3.org/1999/xlink\" width=\"400\" height=\"300\" viewBox=\"0 0 1600 1200\">\n",
       "<defs>\n",
       "  <clipPath id=\"clip070\">\n",
       "    <rect x=\"0\" y=\"0\" width=\"1600\" height=\"1200\"/>\n",
       "  </clipPath>\n",
       "</defs>\n",
       "<path clip-path=\"url(#clip070)\" d=\"\n",
       "M0 1200 L1600 1200 L1600 0 L0 0  Z\n",
       "  \" fill=\"#ffffff\" fill-rule=\"evenodd\" fill-opacity=\"1\"/>\n",
       "<defs>\n",
       "  <clipPath id=\"clip071\">\n",
       "    <rect x=\"320\" y=\"0\" width=\"1121\" height=\"1121\"/>\n",
       "  </clipPath>\n",
       "</defs>\n",
       "<path clip-path=\"url(#clip070)\" d=\"\n",
       "M185.936 1086.13 L1552.76 1086.13 L1552.76 47.2441 L185.936 47.2441  Z\n",
       "  \" fill=\"#ffffff\" fill-rule=\"evenodd\" fill-opacity=\"1\"/>\n",
       "<defs>\n",
       "  <clipPath id=\"clip072\">\n",
       "    <rect x=\"185\" y=\"47\" width=\"1368\" height=\"1040\"/>\n",
       "  </clipPath>\n",
       "</defs>\n",
       "<polyline clip-path=\"url(#clip072)\" style=\"stroke:#000000; stroke-linecap:round; stroke-linejoin:round; stroke-width:2; stroke-opacity:0.1; fill:none\" points=\"\n",
       "  316.723,1086.13 316.723,47.2441 \n",
       "  \"/>\n",
       "<polyline clip-path=\"url(#clip072)\" style=\"stroke:#000000; stroke-linecap:round; stroke-linejoin:round; stroke-width:2; stroke-opacity:0.1; fill:none\" points=\"\n",
       "  500.931,1086.13 500.931,47.2441 \n",
       "  \"/>\n",
       "<polyline clip-path=\"url(#clip072)\" style=\"stroke:#000000; stroke-linecap:round; stroke-linejoin:round; stroke-width:2; stroke-opacity:0.1; fill:none\" points=\"\n",
       "  685.138,1086.13 685.138,47.2441 \n",
       "  \"/>\n",
       "<polyline clip-path=\"url(#clip072)\" style=\"stroke:#000000; stroke-linecap:round; stroke-linejoin:round; stroke-width:2; stroke-opacity:0.1; fill:none\" points=\"\n",
       "  869.346,1086.13 869.346,47.2441 \n",
       "  \"/>\n",
       "<polyline clip-path=\"url(#clip072)\" style=\"stroke:#000000; stroke-linecap:round; stroke-linejoin:round; stroke-width:2; stroke-opacity:0.1; fill:none\" points=\"\n",
       "  1053.55,1086.13 1053.55,47.2441 \n",
       "  \"/>\n",
       "<polyline clip-path=\"url(#clip072)\" style=\"stroke:#000000; stroke-linecap:round; stroke-linejoin:round; stroke-width:2; stroke-opacity:0.1; fill:none\" points=\"\n",
       "  1237.76,1086.13 1237.76,47.2441 \n",
       "  \"/>\n",
       "<polyline clip-path=\"url(#clip072)\" style=\"stroke:#000000; stroke-linecap:round; stroke-linejoin:round; stroke-width:2; stroke-opacity:0.1; fill:none\" points=\"\n",
       "  1421.97,1086.13 1421.97,47.2441 \n",
       "  \"/>\n",
       "<polyline clip-path=\"url(#clip070)\" style=\"stroke:#000000; stroke-linecap:round; stroke-linejoin:round; stroke-width:4; stroke-opacity:1; fill:none\" points=\"\n",
       "  185.936,1086.13 1552.76,1086.13 \n",
       "  \"/>\n",
       "<polyline clip-path=\"url(#clip070)\" style=\"stroke:#000000; stroke-linecap:round; stroke-linejoin:round; stroke-width:4; stroke-opacity:1; fill:none\" points=\"\n",
       "  316.723,1086.13 316.723,1067.23 \n",
       "  \"/>\n",
       "<polyline clip-path=\"url(#clip070)\" style=\"stroke:#000000; stroke-linecap:round; stroke-linejoin:round; stroke-width:4; stroke-opacity:1; fill:none\" points=\"\n",
       "  500.931,1086.13 500.931,1067.23 \n",
       "  \"/>\n",
       "<polyline clip-path=\"url(#clip070)\" style=\"stroke:#000000; stroke-linecap:round; stroke-linejoin:round; stroke-width:4; stroke-opacity:1; fill:none\" points=\"\n",
       "  685.138,1086.13 685.138,1067.23 \n",
       "  \"/>\n",
       "<polyline clip-path=\"url(#clip070)\" style=\"stroke:#000000; stroke-linecap:round; stroke-linejoin:round; stroke-width:4; stroke-opacity:1; fill:none\" points=\"\n",
       "  869.346,1086.13 869.346,1067.23 \n",
       "  \"/>\n",
       "<polyline clip-path=\"url(#clip070)\" style=\"stroke:#000000; stroke-linecap:round; stroke-linejoin:round; stroke-width:4; stroke-opacity:1; fill:none\" points=\"\n",
       "  1053.55,1086.13 1053.55,1067.23 \n",
       "  \"/>\n",
       "<polyline clip-path=\"url(#clip070)\" style=\"stroke:#000000; stroke-linecap:round; stroke-linejoin:round; stroke-width:4; stroke-opacity:1; fill:none\" points=\"\n",
       "  1237.76,1086.13 1237.76,1067.23 \n",
       "  \"/>\n",
       "<polyline clip-path=\"url(#clip070)\" style=\"stroke:#000000; stroke-linecap:round; stroke-linejoin:round; stroke-width:4; stroke-opacity:1; fill:none\" points=\"\n",
       "  1421.97,1086.13 1421.97,1067.23 \n",
       "  \"/>\n",
       "<path clip-path=\"url(#clip070)\" d=\"M311.376 1138.19 L327.696 1138.19 L327.696 1142.13 L305.751 1142.13 L305.751 1138.19 Q308.413 1135.44 312.997 1130.81 Q317.603 1126.16 318.784 1124.81 Q321.029 1122.29 321.909 1120.55 Q322.811 1118.79 322.811 1117.1 Q322.811 1114.35 320.867 1112.61 Q318.946 1110.88 315.844 1110.88 Q313.645 1110.88 311.191 1111.64 Q308.76 1112.41 305.983 1113.96 L305.983 1109.23 Q308.807 1108.1 311.26 1107.52 Q313.714 1106.94 315.751 1106.94 Q321.121 1106.94 324.316 1109.63 Q327.51 1112.31 327.51 1116.8 Q327.51 1118.93 326.7 1120.85 Q325.913 1122.75 323.807 1125.35 Q323.228 1126.02 320.126 1129.23 Q317.024 1132.43 311.376 1138.19 Z\" fill=\"#000000\" fill-rule=\"evenodd\" fill-opacity=\"1\" /><path clip-path=\"url(#clip070)\" d=\"M503.94 1111.64 L492.135 1130.09 L503.94 1130.09 L503.94 1111.64 M502.713 1107.57 L508.593 1107.57 L508.593 1130.09 L513.523 1130.09 L513.523 1133.98 L508.593 1133.98 L508.593 1142.13 L503.94 1142.13 L503.94 1133.98 L488.338 1133.98 L488.338 1129.47 L502.713 1107.57 Z\" fill=\"#000000\" fill-rule=\"evenodd\" fill-opacity=\"1\" /><path clip-path=\"url(#clip070)\" d=\"M685.544 1122.98 Q682.395 1122.98 680.544 1125.14 Q678.715 1127.29 678.715 1131.04 Q678.715 1134.77 680.544 1136.94 Q682.395 1139.1 685.544 1139.1 Q688.692 1139.1 690.52 1136.94 Q692.372 1134.77 692.372 1131.04 Q692.372 1127.29 690.52 1125.14 Q688.692 1122.98 685.544 1122.98 M694.826 1108.33 L694.826 1112.59 Q693.067 1111.76 691.261 1111.32 Q689.479 1110.88 687.719 1110.88 Q683.09 1110.88 680.636 1114 Q678.206 1117.13 677.858 1123.45 Q679.224 1121.43 681.284 1120.37 Q683.344 1119.28 685.821 1119.28 Q691.03 1119.28 694.039 1122.45 Q697.071 1125.6 697.071 1131.04 Q697.071 1136.36 693.923 1139.58 Q690.775 1142.8 685.544 1142.8 Q679.548 1142.8 676.377 1138.22 Q673.206 1133.61 673.206 1124.88 Q673.206 1116.69 677.094 1111.83 Q680.983 1106.94 687.534 1106.94 Q689.293 1106.94 691.076 1107.29 Q692.881 1107.64 694.826 1108.33 Z\" fill=\"#000000\" fill-rule=\"evenodd\" fill-opacity=\"1\" /><path clip-path=\"url(#clip070)\" d=\"M869.346 1125.72 Q866.013 1125.72 864.091 1127.5 Q862.193 1129.28 862.193 1132.41 Q862.193 1135.53 864.091 1137.31 Q866.013 1139.1 869.346 1139.1 Q872.679 1139.1 874.601 1137.31 Q876.522 1135.51 876.522 1132.41 Q876.522 1129.28 874.601 1127.5 Q872.702 1125.72 869.346 1125.72 M864.67 1123.73 Q861.661 1122.98 859.971 1120.92 Q858.304 1118.86 858.304 1115.9 Q858.304 1111.76 861.244 1109.35 Q864.207 1106.94 869.346 1106.94 Q874.508 1106.94 877.448 1109.35 Q880.388 1111.76 880.388 1115.9 Q880.388 1118.86 878.698 1120.92 Q877.031 1122.98 874.045 1123.73 Q877.425 1124.51 879.3 1126.8 Q881.198 1129.1 881.198 1132.41 Q881.198 1137.43 878.119 1140.11 Q875.064 1142.8 869.346 1142.8 Q863.628 1142.8 860.55 1140.11 Q857.494 1137.43 857.494 1132.41 Q857.494 1129.1 859.392 1126.8 Q861.29 1124.51 864.67 1123.73 M862.957 1116.34 Q862.957 1119.03 864.624 1120.53 Q866.314 1122.04 869.346 1122.04 Q872.355 1122.04 874.045 1120.53 Q875.758 1119.03 875.758 1116.34 Q875.758 1113.66 874.045 1112.15 Q872.355 1110.65 869.346 1110.65 Q866.314 1110.65 864.624 1112.15 Q862.957 1113.66 862.957 1116.34 Z\" fill=\"#000000\" fill-rule=\"evenodd\" fill-opacity=\"1\" /><path clip-path=\"url(#clip070)\" d=\"M1028.24 1138.19 L1035.88 1138.19 L1035.88 1111.83 L1027.57 1113.49 L1027.57 1109.23 L1035.83 1107.57 L1040.51 1107.57 L1040.51 1138.19 L1048.15 1138.19 L1048.15 1142.13 L1028.24 1142.13 L1028.24 1138.19 Z\" fill=\"#000000\" fill-rule=\"evenodd\" fill-opacity=\"1\" /><path clip-path=\"url(#clip070)\" d=\"M1067.59 1110.65 Q1063.98 1110.65 1062.15 1114.21 Q1060.35 1117.75 1060.35 1124.88 Q1060.35 1131.99 1062.15 1135.55 Q1063.98 1139.1 1067.59 1139.1 Q1071.23 1139.1 1073.03 1135.55 Q1074.86 1131.99 1074.86 1124.88 Q1074.86 1117.75 1073.03 1114.21 Q1071.23 1110.65 1067.59 1110.65 M1067.59 1106.94 Q1073.4 1106.94 1076.46 1111.55 Q1079.54 1116.13 1079.54 1124.88 Q1079.54 1133.61 1076.46 1138.22 Q1073.4 1142.8 1067.59 1142.8 Q1061.78 1142.8 1058.7 1138.22 Q1055.65 1133.61 1055.65 1124.88 Q1055.65 1116.13 1058.7 1111.55 Q1061.78 1106.94 1067.59 1106.94 Z\" fill=\"#000000\" fill-rule=\"evenodd\" fill-opacity=\"1\" /><path clip-path=\"url(#clip070)\" d=\"M1213.25 1138.19 L1220.89 1138.19 L1220.89 1111.83 L1212.58 1113.49 L1212.58 1109.23 L1220.84 1107.57 L1225.52 1107.57 L1225.52 1138.19 L1233.15 1138.19 L1233.15 1142.13 L1213.25 1142.13 L1213.25 1138.19 Z\" fill=\"#000000\" fill-rule=\"evenodd\" fill-opacity=\"1\" /><path clip-path=\"url(#clip070)\" d=\"M1246.63 1138.19 L1262.95 1138.19 L1262.95 1142.13 L1241 1142.13 L1241 1138.19 Q1243.66 1135.44 1248.25 1130.81 Q1252.85 1126.16 1254.03 1124.81 Q1256.28 1122.29 1257.16 1120.55 Q1258.06 1118.79 1258.06 1117.1 Q1258.06 1114.35 1256.12 1112.61 Q1254.2 1110.88 1251.09 1110.88 Q1248.9 1110.88 1246.44 1111.64 Q1244.01 1112.41 1241.23 1113.96 L1241.23 1109.23 Q1244.06 1108.1 1246.51 1107.52 Q1248.96 1106.94 1251 1106.94 Q1256.37 1106.94 1259.57 1109.63 Q1262.76 1112.31 1262.76 1116.8 Q1262.76 1118.93 1261.95 1120.85 Q1261.16 1122.75 1259.06 1125.35 Q1258.48 1126.02 1255.38 1129.23 Q1252.27 1132.43 1246.63 1138.19 Z\" fill=\"#000000\" fill-rule=\"evenodd\" fill-opacity=\"1\" /><path clip-path=\"url(#clip070)\" d=\"M1396.41 1138.19 L1404.05 1138.19 L1404.05 1111.83 L1395.74 1113.49 L1395.74 1109.23 L1404.01 1107.57 L1408.68 1107.57 L1408.68 1138.19 L1416.32 1138.19 L1416.32 1142.13 L1396.41 1142.13 L1396.41 1138.19 Z\" fill=\"#000000\" fill-rule=\"evenodd\" fill-opacity=\"1\" /><path clip-path=\"url(#clip070)\" d=\"M1438.61 1111.64 L1426.81 1130.09 L1438.61 1130.09 L1438.61 1111.64 M1437.39 1107.57 L1443.26 1107.57 L1443.26 1130.09 L1448.2 1130.09 L1448.2 1133.98 L1443.26 1133.98 L1443.26 1142.13 L1438.61 1142.13 L1438.61 1133.98 L1423.01 1133.98 L1423.01 1129.47 L1437.39 1107.57 Z\" fill=\"#000000\" fill-rule=\"evenodd\" fill-opacity=\"1\" /><polyline clip-path=\"url(#clip072)\" style=\"stroke:#000000; stroke-linecap:round; stroke-linejoin:round; stroke-width:2; stroke-opacity:0.1; fill:none\" points=\"\n",
       "  185.936,955.323 1552.76,955.323 \n",
       "  \"/>\n",
       "<polyline clip-path=\"url(#clip072)\" style=\"stroke:#000000; stroke-linecap:round; stroke-linejoin:round; stroke-width:2; stroke-opacity:0.1; fill:none\" points=\"\n",
       "  185.936,657.471 1552.76,657.471 \n",
       "  \"/>\n",
       "<polyline clip-path=\"url(#clip072)\" style=\"stroke:#000000; stroke-linecap:round; stroke-linejoin:round; stroke-width:2; stroke-opacity:0.1; fill:none\" points=\"\n",
       "  185.936,359.62 1552.76,359.62 \n",
       "  \"/>\n",
       "<polyline clip-path=\"url(#clip072)\" style=\"stroke:#000000; stroke-linecap:round; stroke-linejoin:round; stroke-width:2; stroke-opacity:0.1; fill:none\" points=\"\n",
       "  185.936,61.7683 1552.76,61.7683 \n",
       "  \"/>\n",
       "<polyline clip-path=\"url(#clip070)\" style=\"stroke:#000000; stroke-linecap:round; stroke-linejoin:round; stroke-width:4; stroke-opacity:1; fill:none\" points=\"\n",
       "  185.936,1086.13 185.936,47.2441 \n",
       "  \"/>\n",
       "<polyline clip-path=\"url(#clip070)\" style=\"stroke:#000000; stroke-linecap:round; stroke-linejoin:round; stroke-width:4; stroke-opacity:1; fill:none\" points=\"\n",
       "  185.936,955.323 204.834,955.323 \n",
       "  \"/>\n",
       "<polyline clip-path=\"url(#clip070)\" style=\"stroke:#000000; stroke-linecap:round; stroke-linejoin:round; stroke-width:4; stroke-opacity:1; fill:none\" points=\"\n",
       "  185.936,657.471 204.834,657.471 \n",
       "  \"/>\n",
       "<polyline clip-path=\"url(#clip070)\" style=\"stroke:#000000; stroke-linecap:round; stroke-linejoin:round; stroke-width:4; stroke-opacity:1; fill:none\" points=\"\n",
       "  185.936,359.62 204.834,359.62 \n",
       "  \"/>\n",
       "<polyline clip-path=\"url(#clip070)\" style=\"stroke:#000000; stroke-linecap:round; stroke-linejoin:round; stroke-width:4; stroke-opacity:1; fill:none\" points=\"\n",
       "  185.936,61.7683 204.834,61.7683 \n",
       "  \"/>\n",
       "<path clip-path=\"url(#clip070)\" d=\"M54.9921 955.774 L84.6679 955.774 L84.6679 959.71 L54.9921 959.71 L54.9921 955.774 Z\" fill=\"#000000\" fill-rule=\"evenodd\" fill-opacity=\"1\" /><path clip-path=\"url(#clip070)\" d=\"M95.5706 968.668 L103.209 968.668 L103.209 942.302 L94.8993 943.969 L94.8993 939.71 L103.163 938.043 L107.839 938.043 L107.839 968.668 L115.478 968.668 L115.478 972.603 L95.5706 972.603 L95.5706 968.668 Z\" fill=\"#000000\" fill-rule=\"evenodd\" fill-opacity=\"1\" /><path clip-path=\"url(#clip070)\" d=\"M124.922 966.724 L129.807 966.724 L129.807 972.603 L124.922 972.603 L124.922 966.724 Z\" fill=\"#000000\" fill-rule=\"evenodd\" fill-opacity=\"1\" /><path clip-path=\"url(#clip070)\" d=\"M149.992 941.122 Q146.381 941.122 144.552 944.687 Q142.746 948.228 142.746 955.358 Q142.746 962.464 144.552 966.029 Q146.381 969.571 149.992 969.571 Q153.626 969.571 155.431 966.029 Q157.26 962.464 157.26 955.358 Q157.26 948.228 155.431 944.687 Q153.626 941.122 149.992 941.122 M149.992 937.418 Q155.802 937.418 158.857 942.025 Q161.936 946.608 161.936 955.358 Q161.936 964.085 158.857 968.691 Q155.802 973.274 149.992 973.274 Q144.181 973.274 141.103 968.691 Q138.047 964.085 138.047 955.358 Q138.047 946.608 141.103 942.025 Q144.181 937.418 149.992 937.418 Z\" fill=\"#000000\" fill-rule=\"evenodd\" fill-opacity=\"1\" /><path clip-path=\"url(#clip070)\" d=\"M55.9875 657.923 L85.6633 657.923 L85.6633 661.858 L55.9875 661.858 L55.9875 657.923 Z\" fill=\"#000000\" fill-rule=\"evenodd\" fill-opacity=\"1\" /><path clip-path=\"url(#clip070)\" d=\"M105.756 643.27 Q102.145 643.27 100.316 646.835 Q98.5104 650.377 98.5104 657.506 Q98.5104 664.613 100.316 668.177 Q102.145 671.719 105.756 671.719 Q109.39 671.719 111.196 668.177 Q113.024 664.613 113.024 657.506 Q113.024 650.377 111.196 646.835 Q109.39 643.27 105.756 643.27 M105.756 639.567 Q111.566 639.567 114.621 644.173 Q117.7 648.756 117.7 657.506 Q117.7 666.233 114.621 670.839 Q111.566 675.423 105.756 675.423 Q99.9456 675.423 96.8669 670.839 Q93.8114 666.233 93.8114 657.506 Q93.8114 648.756 96.8669 644.173 Q99.9456 639.567 105.756 639.567 Z\" fill=\"#000000\" fill-rule=\"evenodd\" fill-opacity=\"1\" /><path clip-path=\"url(#clip070)\" d=\"M125.918 668.872 L130.802 668.872 L130.802 674.751 L125.918 674.751 L125.918 668.872 Z\" fill=\"#000000\" fill-rule=\"evenodd\" fill-opacity=\"1\" /><path clip-path=\"url(#clip070)\" d=\"M141.033 640.191 L159.39 640.191 L159.39 644.127 L145.316 644.127 L145.316 652.599 Q146.334 652.252 147.353 652.09 Q148.371 651.904 149.39 651.904 Q155.177 651.904 158.556 655.076 Q161.936 658.247 161.936 663.664 Q161.936 669.242 158.464 672.344 Q154.992 675.423 148.672 675.423 Q146.496 675.423 144.228 675.052 Q141.982 674.682 139.575 673.941 L139.575 669.242 Q141.658 670.377 143.881 670.932 Q146.103 671.488 148.58 671.488 Q152.584 671.488 154.922 669.381 Q157.26 667.275 157.26 663.664 Q157.26 660.053 154.922 657.946 Q152.584 655.84 148.58 655.84 Q146.705 655.84 144.83 656.256 Q142.978 656.673 141.033 657.553 L141.033 640.191 Z\" fill=\"#000000\" fill-rule=\"evenodd\" fill-opacity=\"1\" /><path clip-path=\"url(#clip070)\" d=\"M104.76 345.419 Q101.149 345.419 99.3206 348.983 Q97.515 352.525 97.515 359.655 Q97.515 366.761 99.3206 370.326 Q101.149 373.868 104.76 373.868 Q108.395 373.868 110.2 370.326 Q112.029 366.761 112.029 359.655 Q112.029 352.525 110.2 348.983 Q108.395 345.419 104.76 345.419 M104.76 341.715 Q110.571 341.715 113.626 346.321 Q116.705 350.905 116.705 359.655 Q116.705 368.381 113.626 372.988 Q110.571 377.571 104.76 377.571 Q98.9502 377.571 95.8715 372.988 Q92.816 368.381 92.816 359.655 Q92.816 350.905 95.8715 346.321 Q98.9502 341.715 104.76 341.715 Z\" fill=\"#000000\" fill-rule=\"evenodd\" fill-opacity=\"1\" /><path clip-path=\"url(#clip070)\" d=\"M124.922 371.02 L129.807 371.02 L129.807 376.9 L124.922 376.9 L124.922 371.02 Z\" fill=\"#000000\" fill-rule=\"evenodd\" fill-opacity=\"1\" /><path clip-path=\"url(#clip070)\" d=\"M149.992 345.419 Q146.381 345.419 144.552 348.983 Q142.746 352.525 142.746 359.655 Q142.746 366.761 144.552 370.326 Q146.381 373.868 149.992 373.868 Q153.626 373.868 155.431 370.326 Q157.26 366.761 157.26 359.655 Q157.26 352.525 155.431 348.983 Q153.626 345.419 149.992 345.419 M149.992 341.715 Q155.802 341.715 158.857 346.321 Q161.936 350.905 161.936 359.655 Q161.936 368.381 158.857 372.988 Q155.802 377.571 149.992 377.571 Q144.181 377.571 141.103 372.988 Q138.047 368.381 138.047 359.655 Q138.047 350.905 141.103 346.321 Q144.181 341.715 149.992 341.715 Z\" fill=\"#000000\" fill-rule=\"evenodd\" fill-opacity=\"1\" /><path clip-path=\"url(#clip070)\" d=\"M105.756 47.567 Q102.145 47.567 100.316 51.1318 Q98.5104 54.6734 98.5104 61.803 Q98.5104 68.9095 100.316 72.4742 Q102.145 76.0159 105.756 76.0159 Q109.39 76.0159 111.196 72.4742 Q113.024 68.9095 113.024 61.803 Q113.024 54.6734 111.196 51.1318 Q109.39 47.567 105.756 47.567 M105.756 43.8633 Q111.566 43.8633 114.621 48.4697 Q117.7 53.0531 117.7 61.803 Q117.7 70.5298 114.621 75.1363 Q111.566 79.7196 105.756 79.7196 Q99.9456 79.7196 96.8669 75.1363 Q93.8114 70.5298 93.8114 61.803 Q93.8114 53.0531 96.8669 48.4697 Q99.9456 43.8633 105.756 43.8633 Z\" fill=\"#000000\" fill-rule=\"evenodd\" fill-opacity=\"1\" /><path clip-path=\"url(#clip070)\" d=\"M125.918 73.1687 L130.802 73.1687 L130.802 79.0483 L125.918 79.0483 L125.918 73.1687 Z\" fill=\"#000000\" fill-rule=\"evenodd\" fill-opacity=\"1\" /><path clip-path=\"url(#clip070)\" d=\"M141.033 44.4883 L159.39 44.4883 L159.39 48.4234 L145.316 48.4234 L145.316 56.8956 Q146.334 56.5484 147.353 56.3864 Q148.371 56.2012 149.39 56.2012 Q155.177 56.2012 158.556 59.3725 Q161.936 62.5437 161.936 67.9604 Q161.936 73.5391 158.464 76.6409 Q154.992 79.7196 148.672 79.7196 Q146.496 79.7196 144.228 79.3492 Q141.982 78.9788 139.575 78.2381 L139.575 73.5391 Q141.658 74.6733 143.881 75.2289 Q146.103 75.7844 148.58 75.7844 Q152.584 75.7844 154.922 73.6779 Q157.26 71.5715 157.26 67.9604 Q157.26 64.3493 154.922 62.2428 Q152.584 60.1363 148.58 60.1363 Q146.705 60.1363 144.83 60.553 Q142.978 60.9697 141.033 61.8493 L141.033 44.4883 Z\" fill=\"#000000\" fill-rule=\"evenodd\" fill-opacity=\"1\" /><polyline clip-path=\"url(#clip072)\" style=\"stroke:#009af9; stroke-linecap:round; stroke-linejoin:round; stroke-width:4; stroke-opacity:1; fill:none\" points=\"\n",
       "  224.62,76.6465 316.723,493.62 408.827,673.29 500.931,783.475 593.035,866.273 685.138,934.015 777.242,989.498 869.346,1031.41 961.45,1055.88 1053.55,1056.73 \n",
       "  1145.66,1025.2 1237.76,949.429 1329.86,813.524 1421.97,596.528 1514.07,270.98 \n",
       "  \"/>\n",
       "<circle clip-path=\"url(#clip072)\" cx=\"224.62\" cy=\"76.6465\" r=\"14.4\" fill=\"#e26f46\" fill-rule=\"evenodd\" fill-opacity=\"1\" stroke=\"#000000\" stroke-opacity=\"1\" stroke-width=\"2.4\"/>\n",
       "<circle clip-path=\"url(#clip072)\" cx=\"316.723\" cy=\"493.62\" r=\"14.4\" fill=\"#e26f46\" fill-rule=\"evenodd\" fill-opacity=\"1\" stroke=\"#000000\" stroke-opacity=\"1\" stroke-width=\"2.4\"/>\n",
       "<circle clip-path=\"url(#clip072)\" cx=\"408.827\" cy=\"673.29\" r=\"14.4\" fill=\"#e26f46\" fill-rule=\"evenodd\" fill-opacity=\"1\" stroke=\"#000000\" stroke-opacity=\"1\" stroke-width=\"2.4\"/>\n",
       "<circle clip-path=\"url(#clip072)\" cx=\"500.931\" cy=\"783.475\" r=\"14.4\" fill=\"#e26f46\" fill-rule=\"evenodd\" fill-opacity=\"1\" stroke=\"#000000\" stroke-opacity=\"1\" stroke-width=\"2.4\"/>\n",
       "<circle clip-path=\"url(#clip072)\" cx=\"593.035\" cy=\"866.273\" r=\"14.4\" fill=\"#e26f46\" fill-rule=\"evenodd\" fill-opacity=\"1\" stroke=\"#000000\" stroke-opacity=\"1\" stroke-width=\"2.4\"/>\n",
       "<circle clip-path=\"url(#clip072)\" cx=\"685.138\" cy=\"934.015\" r=\"14.4\" fill=\"#e26f46\" fill-rule=\"evenodd\" fill-opacity=\"1\" stroke=\"#000000\" stroke-opacity=\"1\" stroke-width=\"2.4\"/>\n",
       "<circle clip-path=\"url(#clip072)\" cx=\"777.242\" cy=\"989.498\" r=\"14.4\" fill=\"#e26f46\" fill-rule=\"evenodd\" fill-opacity=\"1\" stroke=\"#000000\" stroke-opacity=\"1\" stroke-width=\"2.4\"/>\n",
       "<circle clip-path=\"url(#clip072)\" cx=\"869.346\" cy=\"1031.41\" r=\"14.4\" fill=\"#e26f46\" fill-rule=\"evenodd\" fill-opacity=\"1\" stroke=\"#000000\" stroke-opacity=\"1\" stroke-width=\"2.4\"/>\n",
       "<circle clip-path=\"url(#clip072)\" cx=\"961.45\" cy=\"1055.88\" r=\"14.4\" fill=\"#e26f46\" fill-rule=\"evenodd\" fill-opacity=\"1\" stroke=\"#000000\" stroke-opacity=\"1\" stroke-width=\"2.4\"/>\n",
       "<circle clip-path=\"url(#clip072)\" cx=\"1053.55\" cy=\"1056.73\" r=\"14.4\" fill=\"#e26f46\" fill-rule=\"evenodd\" fill-opacity=\"1\" stroke=\"#000000\" stroke-opacity=\"1\" stroke-width=\"2.4\"/>\n",
       "<circle clip-path=\"url(#clip072)\" cx=\"1145.66\" cy=\"1025.2\" r=\"14.4\" fill=\"#e26f46\" fill-rule=\"evenodd\" fill-opacity=\"1\" stroke=\"#000000\" stroke-opacity=\"1\" stroke-width=\"2.4\"/>\n",
       "<circle clip-path=\"url(#clip072)\" cx=\"1237.76\" cy=\"949.429\" r=\"14.4\" fill=\"#e26f46\" fill-rule=\"evenodd\" fill-opacity=\"1\" stroke=\"#000000\" stroke-opacity=\"1\" stroke-width=\"2.4\"/>\n",
       "<circle clip-path=\"url(#clip072)\" cx=\"1329.86\" cy=\"813.524\" r=\"14.4\" fill=\"#e26f46\" fill-rule=\"evenodd\" fill-opacity=\"1\" stroke=\"#000000\" stroke-opacity=\"1\" stroke-width=\"2.4\"/>\n",
       "<circle clip-path=\"url(#clip072)\" cx=\"1421.97\" cy=\"596.528\" r=\"14.4\" fill=\"#e26f46\" fill-rule=\"evenodd\" fill-opacity=\"1\" stroke=\"#000000\" stroke-opacity=\"1\" stroke-width=\"2.4\"/>\n",
       "<circle clip-path=\"url(#clip072)\" cx=\"1514.07\" cy=\"270.98\" r=\"14.4\" fill=\"#e26f46\" fill-rule=\"evenodd\" fill-opacity=\"1\" stroke=\"#000000\" stroke-opacity=\"1\" stroke-width=\"2.4\"/>\n",
       "<path clip-path=\"url(#clip070)\" d=\"\n",
       "M1066.72 185.554 L1507.2 185.554 L1507.2 81.8736 L1066.72 81.8736  Z\n",
       "  \" fill=\"#ffffff\" fill-rule=\"evenodd\" fill-opacity=\"1\"/>\n",
       "<polyline clip-path=\"url(#clip070)\" style=\"stroke:#000000; stroke-linecap:round; stroke-linejoin:round; stroke-width:4; stroke-opacity:1; fill:none\" points=\"\n",
       "  1066.72,185.554 1507.2,185.554 1507.2,81.8736 1066.72,81.8736 1066.72,185.554 \n",
       "  \"/>\n",
       "<polyline clip-path=\"url(#clip070)\" style=\"stroke:#009af9; stroke-linecap:round; stroke-linejoin:round; stroke-width:4; stroke-opacity:1; fill:none\" points=\"\n",
       "  1081.9,133.714 1173.03,133.714 \n",
       "  \"/>\n",
       "<path clip-path=\"url(#clip070)\" d=\"M1206.64 125.832 L1206.64 129.859 Q1204.83 128.933 1202.89 128.471 Q1200.94 128.008 1198.86 128.008 Q1195.69 128.008 1194.09 128.98 Q1192.52 129.952 1192.52 131.896 Q1192.52 133.378 1193.65 134.234 Q1194.79 135.068 1198.21 135.832 L1199.67 136.156 Q1204.21 137.128 1206.11 138.91 Q1208.03 140.67 1208.03 143.841 Q1208.03 147.452 1205.16 149.558 Q1202.31 151.665 1197.31 151.665 Q1195.23 151.665 1192.96 151.248 Q1190.71 150.855 1188.21 150.044 L1188.21 145.646 Q1190.57 146.873 1192.86 147.498 Q1195.16 148.1 1197.4 148.1 Q1200.41 148.1 1202.03 147.082 Q1203.65 146.04 1203.65 144.165 Q1203.65 142.429 1202.47 141.503 Q1201.31 140.577 1197.36 139.72 L1195.87 139.373 Q1191.92 138.54 1190.16 136.827 Q1188.4 135.091 1188.4 132.082 Q1188.4 128.424 1190.99 126.434 Q1193.58 124.443 1198.35 124.443 Q1200.71 124.443 1202.8 124.79 Q1204.88 125.137 1206.64 125.832 Z\" fill=\"#000000\" fill-rule=\"evenodd\" fill-opacity=\"1\" /><path clip-path=\"url(#clip070)\" d=\"M1224.86 128.054 Q1221.43 128.054 1219.44 130.739 Q1217.45 133.401 1217.45 138.054 Q1217.45 142.707 1219.42 145.392 Q1221.41 148.054 1224.86 148.054 Q1228.26 148.054 1230.25 145.369 Q1232.24 142.683 1232.24 138.054 Q1232.24 133.447 1230.25 130.762 Q1228.26 128.054 1224.86 128.054 M1224.86 124.443 Q1230.41 124.443 1233.58 128.054 Q1236.75 131.665 1236.75 138.054 Q1236.75 144.42 1233.58 148.054 Q1230.41 151.665 1224.86 151.665 Q1219.28 151.665 1216.11 148.054 Q1212.96 144.42 1212.96 138.054 Q1212.96 131.665 1216.11 128.054 Q1219.28 124.443 1224.86 124.443 Z\" fill=\"#000000\" fill-rule=\"evenodd\" fill-opacity=\"1\" /><path clip-path=\"url(#clip070)\" d=\"M1243.81 114.975 L1248.07 114.975 L1248.07 150.994 L1243.81 150.994 L1243.81 114.975 Z\" fill=\"#000000\" fill-rule=\"evenodd\" fill-opacity=\"1\" /><path clip-path=\"url(#clip070)\" d=\"M1256.54 140.762 L1256.54 125.068 L1260.8 125.068 L1260.8 140.6 Q1260.8 144.281 1262.24 146.132 Q1263.67 147.961 1266.54 147.961 Q1269.99 147.961 1271.98 145.762 Q1274 143.563 1274 139.767 L1274 125.068 L1278.26 125.068 L1278.26 150.994 L1274 150.994 L1274 147.012 Q1272.45 149.373 1270.39 150.531 Q1268.35 151.665 1265.64 151.665 Q1261.17 151.665 1258.86 148.887 Q1256.54 146.109 1256.54 140.762 M1267.26 124.443 L1267.26 124.443 Z\" fill=\"#000000\" fill-rule=\"evenodd\" fill-opacity=\"1\" /><path clip-path=\"url(#clip070)\" d=\"M1303.56 125.832 L1303.56 129.859 Q1301.75 128.933 1299.81 128.471 Q1297.86 128.008 1295.78 128.008 Q1292.61 128.008 1291.01 128.98 Q1289.44 129.952 1289.44 131.896 Q1289.44 133.378 1290.57 134.234 Q1291.71 135.068 1295.13 135.832 L1296.59 136.156 Q1301.13 137.128 1303.03 138.91 Q1304.95 140.67 1304.95 143.841 Q1304.95 147.452 1302.08 149.558 Q1299.23 151.665 1294.23 151.665 Q1292.15 151.665 1289.88 151.248 Q1287.63 150.855 1285.13 150.044 L1285.13 145.646 Q1287.49 146.873 1289.79 147.498 Q1292.08 148.1 1294.32 148.1 Q1297.33 148.1 1298.95 147.082 Q1300.57 146.04 1300.57 144.165 Q1300.57 142.429 1299.39 141.503 Q1298.23 140.577 1294.28 139.72 L1292.79 139.373 Q1288.84 138.54 1287.08 136.827 Q1285.32 135.091 1285.32 132.082 Q1285.32 128.424 1287.91 126.434 Q1290.5 124.443 1295.27 124.443 Q1297.63 124.443 1299.72 124.79 Q1301.8 125.137 1303.56 125.832 Z\" fill=\"#000000\" fill-rule=\"evenodd\" fill-opacity=\"1\" /><path clip-path=\"url(#clip070)\" d=\"M1311.73 125.068 L1315.99 125.068 L1315.99 150.994 L1311.73 150.994 L1311.73 125.068 M1311.73 114.975 L1315.99 114.975 L1315.99 120.369 L1311.73 120.369 L1311.73 114.975 Z\" fill=\"#000000\" fill-rule=\"evenodd\" fill-opacity=\"1\" /><path clip-path=\"url(#clip070)\" d=\"M1361.52 135.345 L1361.52 150.994 L1357.26 150.994 L1357.26 135.484 Q1357.26 131.804 1355.83 129.975 Q1354.39 128.146 1351.52 128.146 Q1348.07 128.146 1346.08 130.346 Q1344.09 132.545 1344.09 136.341 L1344.09 150.994 L1339.81 150.994 L1339.81 114.975 L1344.09 114.975 L1344.09 129.096 Q1345.62 126.758 1347.68 125.6 Q1349.76 124.443 1352.47 124.443 Q1356.94 124.443 1359.23 127.221 Q1361.52 129.975 1361.52 135.345 Z\" fill=\"#000000\" fill-rule=\"evenodd\" fill-opacity=\"1\" /><path clip-path=\"url(#clip070)\" d=\"M1370.57 129.466 L1400.25 129.466 L1400.25 133.355 L1370.57 133.355 L1370.57 129.466 M1370.57 138.91 L1400.25 138.91 L1400.25 142.845 L1370.57 142.845 L1370.57 138.91 Z\" fill=\"#000000\" fill-rule=\"evenodd\" fill-opacity=\"1\" /><path clip-path=\"url(#clip070)\" d=\"M1411.15 147.058 L1418.79 147.058 L1418.79 120.693 L1410.48 122.359 L1410.48 118.1 L1418.74 116.434 L1423.42 116.434 L1423.42 147.058 L1431.06 147.058 L1431.06 150.994 L1411.15 150.994 L1411.15 147.058 Z\" fill=\"#000000\" fill-rule=\"evenodd\" fill-opacity=\"1\" /><path clip-path=\"url(#clip070)\" d=\"M1447.47 116.434 L1451.4 116.434 L1439.37 155.392 L1435.43 155.392 L1447.47 116.434 Z\" fill=\"#000000\" fill-rule=\"evenodd\" fill-opacity=\"1\" /><path clip-path=\"url(#clip070)\" d=\"M1460.5 147.058 L1476.82 147.058 L1476.82 150.994 L1454.88 150.994 L1454.88 147.058 Q1457.54 144.304 1462.12 139.674 Q1466.73 135.021 1467.91 133.679 Q1470.15 131.156 1471.03 129.42 Q1471.94 127.66 1471.94 125.971 Q1471.94 123.216 1469.99 121.48 Q1468.07 119.744 1464.97 119.744 Q1462.77 119.744 1460.32 120.508 Q1457.89 121.271 1455.11 122.822 L1455.11 118.1 Q1457.93 116.966 1460.39 116.387 Q1462.84 115.809 1464.88 115.809 Q1470.25 115.809 1473.44 118.494 Q1476.64 121.179 1476.64 125.67 Q1476.64 127.799 1475.83 129.721 Q1475.04 131.619 1472.93 134.211 Q1472.35 134.883 1469.25 138.1 Q1466.15 141.295 1460.5 147.058 Z\" fill=\"#000000\" fill-rule=\"evenodd\" fill-opacity=\"1\" /></svg>\n"
      ]
     },
     "execution_count": 15,
     "metadata": {},
     "output_type": "execute_result"
    }
   ],
   "source": [
    "solu = [Y]\n",
    "plot(solu, label = \"solusi h=1/2\",size=(400,300))\n",
    "scatter!(solu, label = :none)"
   ]
  },
  {
   "cell_type": "markdown",
   "id": "88315f53",
   "metadata": {},
   "source": [
    "<center> sedangkan solusi aktualnya adalah"
   ]
  },
  {
   "cell_type": "markdown",
   "id": "7ffab0c0",
   "metadata": {},
   "source": [
    "$$x(t)=t^2 - 0.2525826491t-2.528442297 t \\ln t$$"
   ]
  },
  {
   "cell_type": "code",
   "execution_count": 16,
   "id": "b103d378",
   "metadata": {},
   "outputs": [
    {
     "data": {
      "image/svg+xml": [
       "<?xml version=\"1.0\" encoding=\"utf-8\"?>\n",
       "<svg xmlns=\"http://www.w3.org/2000/svg\" xmlns:xlink=\"http://www.w3.org/1999/xlink\" width=\"400\" height=\"300\" viewBox=\"0 0 1600 1200\">\n",
       "<defs>\n",
       "  <clipPath id=\"clip110\">\n",
       "    <rect x=\"0\" y=\"0\" width=\"1600\" height=\"1200\"/>\n",
       "  </clipPath>\n",
       "</defs>\n",
       "<path clip-path=\"url(#clip110)\" d=\"\n",
       "M0 1200 L1600 1200 L1600 0 L0 0  Z\n",
       "  \" fill=\"#ffffff\" fill-rule=\"evenodd\" fill-opacity=\"1\"/>\n",
       "<defs>\n",
       "  <clipPath id=\"clip111\">\n",
       "    <rect x=\"320\" y=\"0\" width=\"1121\" height=\"1121\"/>\n",
       "  </clipPath>\n",
       "</defs>\n",
       "<path clip-path=\"url(#clip110)\" d=\"\n",
       "M133.853 1086.13 L1552.76 1086.13 L1552.76 47.2441 L133.853 47.2441  Z\n",
       "  \" fill=\"#ffffff\" fill-rule=\"evenodd\" fill-opacity=\"1\"/>\n",
       "<defs>\n",
       "  <clipPath id=\"clip112\">\n",
       "    <rect x=\"133\" y=\"47\" width=\"1420\" height=\"1040\"/>\n",
       "  </clipPath>\n",
       "</defs>\n",
       "<polyline clip-path=\"url(#clip112)\" style=\"stroke:#000000; stroke-linecap:round; stroke-linejoin:round; stroke-width:2; stroke-opacity:0.1; fill:none\" points=\"\n",
       "  269.624,1086.13 269.624,47.2441 \n",
       "  \"/>\n",
       "<polyline clip-path=\"url(#clip112)\" style=\"stroke:#000000; stroke-linecap:round; stroke-linejoin:round; stroke-width:2; stroke-opacity:0.1; fill:none\" points=\"\n",
       "  460.851,1086.13 460.851,47.2441 \n",
       "  \"/>\n",
       "<polyline clip-path=\"url(#clip112)\" style=\"stroke:#000000; stroke-linecap:round; stroke-linejoin:round; stroke-width:2; stroke-opacity:0.1; fill:none\" points=\"\n",
       "  652.078,1086.13 652.078,47.2441 \n",
       "  \"/>\n",
       "<polyline clip-path=\"url(#clip112)\" style=\"stroke:#000000; stroke-linecap:round; stroke-linejoin:round; stroke-width:2; stroke-opacity:0.1; fill:none\" points=\"\n",
       "  843.304,1086.13 843.304,47.2441 \n",
       "  \"/>\n",
       "<polyline clip-path=\"url(#clip112)\" style=\"stroke:#000000; stroke-linecap:round; stroke-linejoin:round; stroke-width:2; stroke-opacity:0.1; fill:none\" points=\"\n",
       "  1034.53,1086.13 1034.53,47.2441 \n",
       "  \"/>\n",
       "<polyline clip-path=\"url(#clip112)\" style=\"stroke:#000000; stroke-linecap:round; stroke-linejoin:round; stroke-width:2; stroke-opacity:0.1; fill:none\" points=\"\n",
       "  1225.76,1086.13 1225.76,47.2441 \n",
       "  \"/>\n",
       "<polyline clip-path=\"url(#clip112)\" style=\"stroke:#000000; stroke-linecap:round; stroke-linejoin:round; stroke-width:2; stroke-opacity:0.1; fill:none\" points=\"\n",
       "  1416.98,1086.13 1416.98,47.2441 \n",
       "  \"/>\n",
       "<polyline clip-path=\"url(#clip110)\" style=\"stroke:#000000; stroke-linecap:round; stroke-linejoin:round; stroke-width:4; stroke-opacity:1; fill:none\" points=\"\n",
       "  133.853,1086.13 1552.76,1086.13 \n",
       "  \"/>\n",
       "<polyline clip-path=\"url(#clip110)\" style=\"stroke:#000000; stroke-linecap:round; stroke-linejoin:round; stroke-width:4; stroke-opacity:1; fill:none\" points=\"\n",
       "  269.624,1086.13 269.624,1067.23 \n",
       "  \"/>\n",
       "<polyline clip-path=\"url(#clip110)\" style=\"stroke:#000000; stroke-linecap:round; stroke-linejoin:round; stroke-width:4; stroke-opacity:1; fill:none\" points=\"\n",
       "  460.851,1086.13 460.851,1067.23 \n",
       "  \"/>\n",
       "<polyline clip-path=\"url(#clip110)\" style=\"stroke:#000000; stroke-linecap:round; stroke-linejoin:round; stroke-width:4; stroke-opacity:1; fill:none\" points=\"\n",
       "  652.078,1086.13 652.078,1067.23 \n",
       "  \"/>\n",
       "<polyline clip-path=\"url(#clip110)\" style=\"stroke:#000000; stroke-linecap:round; stroke-linejoin:round; stroke-width:4; stroke-opacity:1; fill:none\" points=\"\n",
       "  843.304,1086.13 843.304,1067.23 \n",
       "  \"/>\n",
       "<polyline clip-path=\"url(#clip110)\" style=\"stroke:#000000; stroke-linecap:round; stroke-linejoin:round; stroke-width:4; stroke-opacity:1; fill:none\" points=\"\n",
       "  1034.53,1086.13 1034.53,1067.23 \n",
       "  \"/>\n",
       "<polyline clip-path=\"url(#clip110)\" style=\"stroke:#000000; stroke-linecap:round; stroke-linejoin:round; stroke-width:4; stroke-opacity:1; fill:none\" points=\"\n",
       "  1225.76,1086.13 1225.76,1067.23 \n",
       "  \"/>\n",
       "<polyline clip-path=\"url(#clip110)\" style=\"stroke:#000000; stroke-linecap:round; stroke-linejoin:round; stroke-width:4; stroke-opacity:1; fill:none\" points=\"\n",
       "  1416.98,1086.13 1416.98,1067.23 \n",
       "  \"/>\n",
       "<path clip-path=\"url(#clip110)\" d=\"M264.277 1138.19 L280.596 1138.19 L280.596 1142.13 L258.652 1142.13 L258.652 1138.19 Q261.314 1135.44 265.897 1130.81 Q270.504 1126.16 271.684 1124.81 Q273.93 1122.29 274.809 1120.55 Q275.712 1118.79 275.712 1117.1 Q275.712 1114.35 273.767 1112.61 Q271.846 1110.88 268.744 1110.88 Q266.545 1110.88 264.092 1111.64 Q261.661 1112.41 258.883 1113.96 L258.883 1109.23 Q261.707 1108.1 264.161 1107.52 Q266.615 1106.94 268.652 1106.94 Q274.022 1106.94 277.217 1109.63 Q280.411 1112.31 280.411 1116.8 Q280.411 1118.93 279.601 1120.85 Q278.814 1122.75 276.707 1125.35 Q276.129 1126.02 273.027 1129.23 Q269.925 1132.43 264.277 1138.19 Z\" fill=\"#000000\" fill-rule=\"evenodd\" fill-opacity=\"1\" /><path clip-path=\"url(#clip110)\" d=\"M463.86 1111.64 L452.055 1130.09 L463.86 1130.09 L463.86 1111.64 M462.633 1107.57 L468.513 1107.57 L468.513 1130.09 L473.443 1130.09 L473.443 1133.98 L468.513 1133.98 L468.513 1142.13 L463.86 1142.13 L463.86 1133.98 L448.258 1133.98 L448.258 1129.47 L462.633 1107.57 Z\" fill=\"#000000\" fill-rule=\"evenodd\" fill-opacity=\"1\" /><path clip-path=\"url(#clip110)\" d=\"M652.483 1122.98 Q649.335 1122.98 647.483 1125.14 Q645.654 1127.29 645.654 1131.04 Q645.654 1134.77 647.483 1136.94 Q649.335 1139.1 652.483 1139.1 Q655.631 1139.1 657.46 1136.94 Q659.311 1134.77 659.311 1131.04 Q659.311 1127.29 657.46 1125.14 Q655.631 1122.98 652.483 1122.98 M661.765 1108.33 L661.765 1112.59 Q660.006 1111.76 658.2 1111.32 Q656.418 1110.88 654.659 1110.88 Q650.029 1110.88 647.575 1114 Q645.145 1117.13 644.798 1123.45 Q646.163 1121.43 648.223 1120.37 Q650.284 1119.28 652.76 1119.28 Q657.969 1119.28 660.978 1122.45 Q664.01 1125.6 664.01 1131.04 Q664.01 1136.36 660.862 1139.58 Q657.714 1142.8 652.483 1142.8 Q646.487 1142.8 643.316 1138.22 Q640.145 1133.61 640.145 1124.88 Q640.145 1116.69 644.034 1111.83 Q647.923 1106.94 654.473 1106.94 Q656.233 1106.94 658.015 1107.29 Q659.821 1107.64 661.765 1108.33 Z\" fill=\"#000000\" fill-rule=\"evenodd\" fill-opacity=\"1\" /><path clip-path=\"url(#clip110)\" d=\"M843.304 1125.72 Q839.971 1125.72 838.05 1127.5 Q836.152 1129.28 836.152 1132.41 Q836.152 1135.53 838.05 1137.31 Q839.971 1139.1 843.304 1139.1 Q846.638 1139.1 848.559 1137.31 Q850.48 1135.51 850.48 1132.41 Q850.48 1129.28 848.559 1127.5 Q846.661 1125.72 843.304 1125.72 M838.629 1123.73 Q835.619 1122.98 833.929 1120.92 Q832.263 1118.86 832.263 1115.9 Q832.263 1111.76 835.203 1109.35 Q838.166 1106.94 843.304 1106.94 Q848.466 1106.94 851.406 1109.35 Q854.346 1111.76 854.346 1115.9 Q854.346 1118.86 852.656 1120.92 Q850.99 1122.98 848.003 1123.73 Q851.383 1124.51 853.258 1126.8 Q855.156 1129.1 855.156 1132.41 Q855.156 1137.43 852.078 1140.11 Q849.022 1142.8 843.304 1142.8 Q837.587 1142.8 834.508 1140.11 Q831.453 1137.43 831.453 1132.41 Q831.453 1129.1 833.351 1126.8 Q835.249 1124.51 838.629 1123.73 M836.916 1116.34 Q836.916 1119.03 838.582 1120.53 Q840.272 1122.04 843.304 1122.04 Q846.314 1122.04 848.003 1120.53 Q849.716 1119.03 849.716 1116.34 Q849.716 1113.66 848.003 1112.15 Q846.314 1110.65 843.304 1110.65 Q840.272 1110.65 838.582 1112.15 Q836.916 1113.66 836.916 1116.34 Z\" fill=\"#000000\" fill-rule=\"evenodd\" fill-opacity=\"1\" /><path clip-path=\"url(#clip110)\" d=\"M1009.22 1138.19 L1016.86 1138.19 L1016.86 1111.83 L1008.55 1113.49 L1008.55 1109.23 L1016.81 1107.57 L1021.49 1107.57 L1021.49 1138.19 L1029.13 1138.19 L1029.13 1142.13 L1009.22 1142.13 L1009.22 1138.19 Z\" fill=\"#000000\" fill-rule=\"evenodd\" fill-opacity=\"1\" /><path clip-path=\"url(#clip110)\" d=\"M1048.57 1110.65 Q1044.96 1110.65 1043.13 1114.21 Q1041.33 1117.75 1041.33 1124.88 Q1041.33 1131.99 1043.13 1135.55 Q1044.96 1139.1 1048.57 1139.1 Q1052.2 1139.1 1054.01 1135.55 Q1055.84 1131.99 1055.84 1124.88 Q1055.84 1117.75 1054.01 1114.21 Q1052.2 1110.65 1048.57 1110.65 M1048.57 1106.94 Q1054.38 1106.94 1057.44 1111.55 Q1060.51 1116.13 1060.51 1124.88 Q1060.51 1133.61 1057.44 1138.22 Q1054.38 1142.8 1048.57 1142.8 Q1042.76 1142.8 1039.68 1138.22 Q1036.63 1133.61 1036.63 1124.88 Q1036.63 1116.13 1039.68 1111.55 Q1042.76 1106.94 1048.57 1106.94 Z\" fill=\"#000000\" fill-rule=\"evenodd\" fill-opacity=\"1\" /><path clip-path=\"url(#clip110)\" d=\"M1201.24 1138.19 L1208.88 1138.19 L1208.88 1111.83 L1200.57 1113.49 L1200.57 1109.23 L1208.84 1107.57 L1213.51 1107.57 L1213.51 1138.19 L1221.15 1138.19 L1221.15 1142.13 L1201.24 1142.13 L1201.24 1138.19 Z\" fill=\"#000000\" fill-rule=\"evenodd\" fill-opacity=\"1\" /><path clip-path=\"url(#clip110)\" d=\"M1234.62 1138.19 L1250.94 1138.19 L1250.94 1142.13 L1229 1142.13 L1229 1138.19 Q1231.66 1135.44 1236.24 1130.81 Q1240.85 1126.16 1242.03 1124.81 Q1244.28 1122.29 1245.16 1120.55 Q1246.06 1118.79 1246.06 1117.1 Q1246.06 1114.35 1244.11 1112.61 Q1242.19 1110.88 1239.09 1110.88 Q1236.89 1110.88 1234.44 1111.64 Q1232.01 1112.41 1229.23 1113.96 L1229.23 1109.23 Q1232.05 1108.1 1234.51 1107.52 Q1236.96 1106.94 1239 1106.94 Q1244.37 1106.94 1247.56 1109.63 Q1250.76 1112.31 1250.76 1116.8 Q1250.76 1118.93 1249.95 1120.85 Q1249.16 1122.75 1247.05 1125.35 Q1246.48 1126.02 1243.37 1129.23 Q1240.27 1132.43 1234.62 1138.19 Z\" fill=\"#000000\" fill-rule=\"evenodd\" fill-opacity=\"1\" /><path clip-path=\"url(#clip110)\" d=\"M1391.43 1138.19 L1399.07 1138.19 L1399.07 1111.83 L1390.76 1113.49 L1390.76 1109.23 L1399.02 1107.57 L1403.7 1107.57 L1403.7 1138.19 L1411.34 1138.19 L1411.34 1142.13 L1391.43 1142.13 L1391.43 1138.19 Z\" fill=\"#000000\" fill-rule=\"evenodd\" fill-opacity=\"1\" /><path clip-path=\"url(#clip110)\" d=\"M1433.63 1111.64 L1421.82 1130.09 L1433.63 1130.09 L1433.63 1111.64 M1432.4 1107.57 L1438.28 1107.57 L1438.28 1130.09 L1443.21 1130.09 L1443.21 1133.98 L1438.28 1133.98 L1438.28 1142.13 L1433.63 1142.13 L1433.63 1133.98 L1418.03 1133.98 L1418.03 1129.47 L1432.4 1107.57 Z\" fill=\"#000000\" fill-rule=\"evenodd\" fill-opacity=\"1\" /><polyline clip-path=\"url(#clip112)\" style=\"stroke:#000000; stroke-linecap:round; stroke-linejoin:round; stroke-width:2; stroke-opacity:0.1; fill:none\" points=\"\n",
       "  133.853,1013.6 1552.76,1013.6 \n",
       "  \"/>\n",
       "<polyline clip-path=\"url(#clip112)\" style=\"stroke:#000000; stroke-linecap:round; stroke-linejoin:round; stroke-width:2; stroke-opacity:0.1; fill:none\" points=\"\n",
       "  133.853,789.193 1552.76,789.193 \n",
       "  \"/>\n",
       "<polyline clip-path=\"url(#clip112)\" style=\"stroke:#000000; stroke-linecap:round; stroke-linejoin:round; stroke-width:2; stroke-opacity:0.1; fill:none\" points=\"\n",
       "  133.853,564.781 1552.76,564.781 \n",
       "  \"/>\n",
       "<polyline clip-path=\"url(#clip112)\" style=\"stroke:#000000; stroke-linecap:round; stroke-linejoin:round; stroke-width:2; stroke-opacity:0.1; fill:none\" points=\"\n",
       "  133.853,340.37 1552.76,340.37 \n",
       "  \"/>\n",
       "<polyline clip-path=\"url(#clip112)\" style=\"stroke:#000000; stroke-linecap:round; stroke-linejoin:round; stroke-width:2; stroke-opacity:0.1; fill:none\" points=\"\n",
       "  133.853,115.959 1552.76,115.959 \n",
       "  \"/>\n",
       "<polyline clip-path=\"url(#clip110)\" style=\"stroke:#000000; stroke-linecap:round; stroke-linejoin:round; stroke-width:4; stroke-opacity:1; fill:none\" points=\"\n",
       "  133.853,1086.13 133.853,47.2441 \n",
       "  \"/>\n",
       "<polyline clip-path=\"url(#clip110)\" style=\"stroke:#000000; stroke-linecap:round; stroke-linejoin:round; stroke-width:4; stroke-opacity:1; fill:none\" points=\"\n",
       "  133.853,1013.6 152.751,1013.6 \n",
       "  \"/>\n",
       "<polyline clip-path=\"url(#clip110)\" style=\"stroke:#000000; stroke-linecap:round; stroke-linejoin:round; stroke-width:4; stroke-opacity:1; fill:none\" points=\"\n",
       "  133.853,789.193 152.751,789.193 \n",
       "  \"/>\n",
       "<polyline clip-path=\"url(#clip110)\" style=\"stroke:#000000; stroke-linecap:round; stroke-linejoin:round; stroke-width:4; stroke-opacity:1; fill:none\" points=\"\n",
       "  133.853,564.781 152.751,564.781 \n",
       "  \"/>\n",
       "<polyline clip-path=\"url(#clip110)\" style=\"stroke:#000000; stroke-linecap:round; stroke-linejoin:round; stroke-width:4; stroke-opacity:1; fill:none\" points=\"\n",
       "  133.853,340.37 152.751,340.37 \n",
       "  \"/>\n",
       "<polyline clip-path=\"url(#clip110)\" style=\"stroke:#000000; stroke-linecap:round; stroke-linejoin:round; stroke-width:4; stroke-opacity:1; fill:none\" points=\"\n",
       "  133.853,115.959 152.751,115.959 \n",
       "  \"/>\n",
       "<path clip-path=\"url(#clip110)\" d=\"M97.9086 999.403 Q94.2975 999.403 92.4688 1002.97 Q90.6632 1006.51 90.6632 1013.64 Q90.6632 1020.75 92.4688 1024.31 Q94.2975 1027.85 97.9086 1027.85 Q101.543 1027.85 103.348 1024.31 Q105.177 1020.75 105.177 1013.64 Q105.177 1006.51 103.348 1002.97 Q101.543 999.403 97.9086 999.403 M97.9086 995.699 Q103.719 995.699 106.774 1000.31 Q109.853 1004.89 109.853 1013.64 Q109.853 1022.37 106.774 1026.97 Q103.719 1031.56 97.9086 1031.56 Q92.0984 1031.56 89.0197 1026.97 Q85.9642 1022.37 85.9642 1013.64 Q85.9642 1004.89 89.0197 1000.31 Q92.0984 995.699 97.9086 995.699 Z\" fill=\"#000000\" fill-rule=\"evenodd\" fill-opacity=\"1\" /><path clip-path=\"url(#clip110)\" d=\"M58.5569 802.538 L66.1958 802.538 L66.1958 776.172 L57.8856 777.839 L57.8856 773.579 L66.1495 771.913 L70.8254 771.913 L70.8254 802.538 L78.4642 802.538 L78.4642 806.473 L58.5569 806.473 L58.5569 802.538 Z\" fill=\"#000000\" fill-rule=\"evenodd\" fill-opacity=\"1\" /><path clip-path=\"url(#clip110)\" d=\"M97.9086 774.991 Q94.2975 774.991 92.4688 778.556 Q90.6632 782.098 90.6632 789.227 Q90.6632 796.334 92.4688 799.899 Q94.2975 803.44 97.9086 803.44 Q101.543 803.44 103.348 799.899 Q105.177 796.334 105.177 789.227 Q105.177 782.098 103.348 778.556 Q101.543 774.991 97.9086 774.991 M97.9086 771.288 Q103.719 771.288 106.774 775.894 Q109.853 780.478 109.853 789.227 Q109.853 797.954 106.774 802.561 Q103.719 807.144 97.9086 807.144 Q92.0984 807.144 89.0197 802.561 Q85.9642 797.954 85.9642 789.227 Q85.9642 780.478 89.0197 775.894 Q92.0984 771.288 97.9086 771.288 Z\" fill=\"#000000\" fill-rule=\"evenodd\" fill-opacity=\"1\" /><path clip-path=\"url(#clip110)\" d=\"M61.7745 578.126 L78.0939 578.126 L78.0939 582.061 L56.1495 582.061 L56.1495 578.126 Q58.8115 575.372 63.3949 570.742 Q68.0013 566.089 69.1819 564.747 Q71.4272 562.224 72.3068 560.487 Q73.2096 558.728 73.2096 557.038 Q73.2096 554.284 71.2652 552.548 Q69.3439 550.812 66.2421 550.812 Q64.043 550.812 61.5893 551.575 Q59.1588 552.339 56.381 553.89 L56.381 549.168 Q59.2051 548.034 61.6588 547.455 Q64.1124 546.876 66.1495 546.876 Q71.5198 546.876 74.7142 549.562 Q77.9087 552.247 77.9087 556.738 Q77.9087 558.867 77.0985 560.788 Q76.3115 562.687 74.205 565.279 Q73.6263 565.95 70.5245 569.168 Q67.4226 572.362 61.7745 578.126 Z\" fill=\"#000000\" fill-rule=\"evenodd\" fill-opacity=\"1\" /><path clip-path=\"url(#clip110)\" d=\"M97.9086 550.58 Q94.2975 550.58 92.4688 554.145 Q90.6632 557.687 90.6632 564.816 Q90.6632 571.923 92.4688 575.487 Q94.2975 579.029 97.9086 579.029 Q101.543 579.029 103.348 575.487 Q105.177 571.923 105.177 564.816 Q105.177 557.687 103.348 554.145 Q101.543 550.58 97.9086 550.58 M97.9086 546.876 Q103.719 546.876 106.774 551.483 Q109.853 556.066 109.853 564.816 Q109.853 573.543 106.774 578.149 Q103.719 582.733 97.9086 582.733 Q92.0984 582.733 89.0197 578.149 Q85.9642 573.543 85.9642 564.816 Q85.9642 556.066 89.0197 551.483 Q92.0984 546.876 97.9086 546.876 Z\" fill=\"#000000\" fill-rule=\"evenodd\" fill-opacity=\"1\" /><path clip-path=\"url(#clip110)\" d=\"M71.9133 339.016 Q75.2698 339.734 77.1448 342.002 Q79.0429 344.271 79.0429 347.604 Q79.0429 352.72 75.5244 355.521 Q72.0059 358.321 65.5245 358.321 Q63.3486 358.321 61.0338 357.882 Q58.7421 357.465 56.2884 356.608 L56.2884 352.095 Q58.2328 353.229 60.5477 353.808 Q62.8625 354.386 65.3856 354.386 Q69.7837 354.386 72.0754 352.65 Q74.3902 350.914 74.3902 347.604 Q74.3902 344.548 72.2374 342.835 Q70.1078 341.099 66.2884 341.099 L62.2606 341.099 L62.2606 337.257 L66.4735 337.257 Q69.9226 337.257 71.7513 335.891 Q73.58 334.502 73.58 331.91 Q73.58 329.248 71.6819 327.835 Q69.8069 326.4 66.2884 326.4 Q64.3671 326.4 62.168 326.817 Q59.969 327.234 57.3301 328.113 L57.3301 323.947 Q59.9921 323.206 62.3069 322.836 Q64.6449 322.465 66.705 322.465 Q72.0291 322.465 75.1309 324.896 Q78.2327 327.303 78.2327 331.423 Q78.2327 334.294 76.5892 336.285 Q74.9457 338.252 71.9133 339.016 Z\" fill=\"#000000\" fill-rule=\"evenodd\" fill-opacity=\"1\" /><path clip-path=\"url(#clip110)\" d=\"M97.9086 326.169 Q94.2975 326.169 92.4688 329.734 Q90.6632 333.275 90.6632 340.405 Q90.6632 347.511 92.4688 351.076 Q94.2975 354.618 97.9086 354.618 Q101.543 354.618 103.348 351.076 Q105.177 347.511 105.177 340.405 Q105.177 333.275 103.348 329.734 Q101.543 326.169 97.9086 326.169 M97.9086 322.465 Q103.719 322.465 106.774 327.072 Q109.853 331.655 109.853 340.405 Q109.853 349.132 106.774 353.738 Q103.719 358.321 97.9086 358.321 Q92.0984 358.321 89.0197 353.738 Q85.9642 349.132 85.9642 340.405 Q85.9642 331.655 89.0197 327.072 Q92.0984 322.465 97.9086 322.465 Z\" fill=\"#000000\" fill-rule=\"evenodd\" fill-opacity=\"1\" /><path clip-path=\"url(#clip110)\" d=\"M70.5939 102.753 L58.7884 121.202 L70.5939 121.202 L70.5939 102.753 M69.367 98.6788 L75.2466 98.6788 L75.2466 121.202 L80.1772 121.202 L80.1772 125.091 L75.2466 125.091 L75.2466 133.239 L70.5939 133.239 L70.5939 125.091 L54.9921 125.091 L54.9921 120.577 L69.367 98.6788 Z\" fill=\"#000000\" fill-rule=\"evenodd\" fill-opacity=\"1\" /><path clip-path=\"url(#clip110)\" d=\"M97.9086 101.758 Q94.2975 101.758 92.4688 105.322 Q90.6632 108.864 90.6632 115.994 Q90.6632 123.1 92.4688 126.665 Q94.2975 130.206 97.9086 130.206 Q101.543 130.206 103.348 126.665 Q105.177 123.1 105.177 115.994 Q105.177 108.864 103.348 105.322 Q101.543 101.758 97.9086 101.758 M97.9086 98.0538 Q103.719 98.0538 106.774 102.66 Q109.853 107.244 109.853 115.994 Q109.853 124.72 106.774 129.327 Q103.719 133.91 97.9086 133.91 Q92.0984 133.91 89.0197 129.327 Q85.9642 124.72 85.9642 115.994 Q85.9642 107.244 89.0197 102.66 Q92.0984 98.0538 97.9086 98.0538 Z\" fill=\"#000000\" fill-rule=\"evenodd\" fill-opacity=\"1\" /><polyline clip-path=\"url(#clip112)\" style=\"stroke:#009af9; stroke-linecap:round; stroke-linejoin:round; stroke-width:4; stroke-opacity:1; fill:none\" points=\"\n",
       "  174.011,1002.94 269.624,1018.65 365.237,1025.42 460.851,1029.57 556.464,1032.69 652.078,1035.24 747.691,1037.33 843.304,1038.91 938.918,1039.83 1034.53,1039.87 \n",
       "  1130.14,1038.68 1225.76,1035.82 1321.37,1030.7 1416.98,1022.53 1512.6,1010.26 \n",
       "  \"/>\n",
       "<polyline clip-path=\"url(#clip112)\" style=\"stroke:#e26f46; stroke-linecap:round; stroke-linejoin:round; stroke-width:4; stroke-opacity:1; fill:none\" points=\"\n",
       "  174.011,1053.57 269.624,1056.73 365.237,1048.66 460.851,1029.37 556.464,998.862 652.078,957.133 747.691,904.183 843.304,840.013 938.918,764.622 1034.53,678.011 \n",
       "  1130.14,580.179 1225.76,471.127 1321.37,350.854 1416.98,219.361 1512.6,76.6465 \n",
       "  \"/>\n",
       "<circle clip-path=\"url(#clip112)\" cx=\"174.011\" cy=\"1002.94\" r=\"14.4\" fill=\"#3da44d\" fill-rule=\"evenodd\" fill-opacity=\"1\" stroke=\"#000000\" stroke-opacity=\"1\" stroke-width=\"2.4\"/>\n",
       "<circle clip-path=\"url(#clip112)\" cx=\"269.624\" cy=\"1018.65\" r=\"14.4\" fill=\"#3da44d\" fill-rule=\"evenodd\" fill-opacity=\"1\" stroke=\"#000000\" stroke-opacity=\"1\" stroke-width=\"2.4\"/>\n",
       "<circle clip-path=\"url(#clip112)\" cx=\"365.237\" cy=\"1025.42\" r=\"14.4\" fill=\"#3da44d\" fill-rule=\"evenodd\" fill-opacity=\"1\" stroke=\"#000000\" stroke-opacity=\"1\" stroke-width=\"2.4\"/>\n",
       "<circle clip-path=\"url(#clip112)\" cx=\"460.851\" cy=\"1029.57\" r=\"14.4\" fill=\"#3da44d\" fill-rule=\"evenodd\" fill-opacity=\"1\" stroke=\"#000000\" stroke-opacity=\"1\" stroke-width=\"2.4\"/>\n",
       "<circle clip-path=\"url(#clip112)\" cx=\"556.464\" cy=\"1032.69\" r=\"14.4\" fill=\"#3da44d\" fill-rule=\"evenodd\" fill-opacity=\"1\" stroke=\"#000000\" stroke-opacity=\"1\" stroke-width=\"2.4\"/>\n",
       "<circle clip-path=\"url(#clip112)\" cx=\"652.078\" cy=\"1035.24\" r=\"14.4\" fill=\"#3da44d\" fill-rule=\"evenodd\" fill-opacity=\"1\" stroke=\"#000000\" stroke-opacity=\"1\" stroke-width=\"2.4\"/>\n",
       "<circle clip-path=\"url(#clip112)\" cx=\"747.691\" cy=\"1037.33\" r=\"14.4\" fill=\"#3da44d\" fill-rule=\"evenodd\" fill-opacity=\"1\" stroke=\"#000000\" stroke-opacity=\"1\" stroke-width=\"2.4\"/>\n",
       "<circle clip-path=\"url(#clip112)\" cx=\"843.304\" cy=\"1038.91\" r=\"14.4\" fill=\"#3da44d\" fill-rule=\"evenodd\" fill-opacity=\"1\" stroke=\"#000000\" stroke-opacity=\"1\" stroke-width=\"2.4\"/>\n",
       "<circle clip-path=\"url(#clip112)\" cx=\"938.918\" cy=\"1039.83\" r=\"14.4\" fill=\"#3da44d\" fill-rule=\"evenodd\" fill-opacity=\"1\" stroke=\"#000000\" stroke-opacity=\"1\" stroke-width=\"2.4\"/>\n",
       "<circle clip-path=\"url(#clip112)\" cx=\"1034.53\" cy=\"1039.87\" r=\"14.4\" fill=\"#3da44d\" fill-rule=\"evenodd\" fill-opacity=\"1\" stroke=\"#000000\" stroke-opacity=\"1\" stroke-width=\"2.4\"/>\n",
       "<circle clip-path=\"url(#clip112)\" cx=\"1130.14\" cy=\"1038.68\" r=\"14.4\" fill=\"#3da44d\" fill-rule=\"evenodd\" fill-opacity=\"1\" stroke=\"#000000\" stroke-opacity=\"1\" stroke-width=\"2.4\"/>\n",
       "<circle clip-path=\"url(#clip112)\" cx=\"1225.76\" cy=\"1035.82\" r=\"14.4\" fill=\"#3da44d\" fill-rule=\"evenodd\" fill-opacity=\"1\" stroke=\"#000000\" stroke-opacity=\"1\" stroke-width=\"2.4\"/>\n",
       "<circle clip-path=\"url(#clip112)\" cx=\"1321.37\" cy=\"1030.7\" r=\"14.4\" fill=\"#3da44d\" fill-rule=\"evenodd\" fill-opacity=\"1\" stroke=\"#000000\" stroke-opacity=\"1\" stroke-width=\"2.4\"/>\n",
       "<circle clip-path=\"url(#clip112)\" cx=\"1416.98\" cy=\"1022.53\" r=\"14.4\" fill=\"#3da44d\" fill-rule=\"evenodd\" fill-opacity=\"1\" stroke=\"#000000\" stroke-opacity=\"1\" stroke-width=\"2.4\"/>\n",
       "<circle clip-path=\"url(#clip112)\" cx=\"1512.6\" cy=\"1010.26\" r=\"14.4\" fill=\"#3da44d\" fill-rule=\"evenodd\" fill-opacity=\"1\" stroke=\"#000000\" stroke-opacity=\"1\" stroke-width=\"2.4\"/>\n",
       "<path clip-path=\"url(#clip110)\" d=\"\n",
       "M1057.6 237.394 L1505.46 237.394 L1505.46 81.8736 L1057.6 81.8736  Z\n",
       "  \" fill=\"#ffffff\" fill-rule=\"evenodd\" fill-opacity=\"1\"/>\n",
       "<polyline clip-path=\"url(#clip110)\" style=\"stroke:#000000; stroke-linecap:round; stroke-linejoin:round; stroke-width:4; stroke-opacity:1; fill:none\" points=\"\n",
       "  1057.6,237.394 1505.46,237.394 1505.46,81.8736 1057.6,81.8736 1057.6,237.394 \n",
       "  \"/>\n",
       "<polyline clip-path=\"url(#clip110)\" style=\"stroke:#009af9; stroke-linecap:round; stroke-linejoin:round; stroke-width:4; stroke-opacity:1; fill:none\" points=\"\n",
       "  1073.36,133.714 1167.96,133.714 \n",
       "  \"/>\n",
       "<path clip-path=\"url(#clip110)\" d=\"M1202.15 125.832 L1202.15 129.859 Q1200.34 128.933 1198.4 128.471 Q1196.45 128.008 1194.37 128.008 Q1191.2 128.008 1189.6 128.98 Q1188.03 129.952 1188.03 131.896 Q1188.03 133.378 1189.16 134.234 Q1190.3 135.068 1193.72 135.832 L1195.18 136.156 Q1199.72 137.128 1201.61 138.91 Q1203.54 140.67 1203.54 143.841 Q1203.54 147.452 1200.67 149.558 Q1197.82 151.665 1192.82 151.665 Q1190.74 151.665 1188.47 151.248 Q1186.22 150.855 1183.72 150.044 L1183.72 145.646 Q1186.08 146.873 1188.37 147.498 Q1190.67 148.1 1192.91 148.1 Q1195.92 148.1 1197.54 147.082 Q1199.16 146.04 1199.16 144.165 Q1199.16 142.429 1197.98 141.503 Q1196.82 140.577 1192.86 139.72 L1191.38 139.373 Q1187.42 138.54 1185.67 136.827 Q1183.91 135.091 1183.91 132.082 Q1183.91 128.424 1186.5 126.434 Q1189.09 124.443 1193.86 124.443 Q1196.22 124.443 1198.3 124.79 Q1200.39 125.137 1202.15 125.832 Z\" fill=\"#000000\" fill-rule=\"evenodd\" fill-opacity=\"1\" /><path clip-path=\"url(#clip110)\" d=\"M1220.36 128.054 Q1216.94 128.054 1214.95 130.739 Q1212.96 133.401 1212.96 138.054 Q1212.96 142.707 1214.92 145.392 Q1216.92 148.054 1220.36 148.054 Q1223.77 148.054 1225.76 145.369 Q1227.75 142.683 1227.75 138.054 Q1227.75 133.447 1225.76 130.762 Q1223.77 128.054 1220.36 128.054 M1220.36 124.443 Q1225.92 124.443 1229.09 128.054 Q1232.26 131.665 1232.26 138.054 Q1232.26 144.42 1229.09 148.054 Q1225.92 151.665 1220.36 151.665 Q1214.79 151.665 1211.61 148.054 Q1208.47 144.42 1208.47 138.054 Q1208.47 131.665 1211.61 128.054 Q1214.79 124.443 1220.36 124.443 Z\" fill=\"#000000\" fill-rule=\"evenodd\" fill-opacity=\"1\" /><path clip-path=\"url(#clip110)\" d=\"M1239.32 114.975 L1243.58 114.975 L1243.58 150.994 L1239.32 150.994 L1239.32 114.975 Z\" fill=\"#000000\" fill-rule=\"evenodd\" fill-opacity=\"1\" /><path clip-path=\"url(#clip110)\" d=\"M1252.05 140.762 L1252.05 125.068 L1256.31 125.068 L1256.31 140.6 Q1256.31 144.281 1257.75 146.132 Q1259.18 147.961 1262.05 147.961 Q1265.5 147.961 1267.49 145.762 Q1269.51 143.563 1269.51 139.767 L1269.51 125.068 L1273.77 125.068 L1273.77 150.994 L1269.51 150.994 L1269.51 147.012 Q1267.96 149.373 1265.9 150.531 Q1263.86 151.665 1261.15 151.665 Q1256.68 151.665 1254.37 148.887 Q1252.05 146.109 1252.05 140.762 M1262.77 124.443 L1262.77 124.443 Z\" fill=\"#000000\" fill-rule=\"evenodd\" fill-opacity=\"1\" /><path clip-path=\"url(#clip110)\" d=\"M1299.07 125.832 L1299.07 129.859 Q1297.26 128.933 1295.32 128.471 Q1293.37 128.008 1291.29 128.008 Q1288.12 128.008 1286.52 128.98 Q1284.95 129.952 1284.95 131.896 Q1284.95 133.378 1286.08 134.234 Q1287.22 135.068 1290.64 135.832 L1292.1 136.156 Q1296.64 137.128 1298.54 138.91 Q1300.46 140.67 1300.46 143.841 Q1300.46 147.452 1297.59 149.558 Q1294.74 151.665 1289.74 151.665 Q1287.66 151.665 1285.39 151.248 Q1283.14 150.855 1280.64 150.044 L1280.64 145.646 Q1283 146.873 1285.29 147.498 Q1287.59 148.1 1289.83 148.1 Q1292.84 148.1 1294.46 147.082 Q1296.08 146.04 1296.08 144.165 Q1296.08 142.429 1294.9 141.503 Q1293.74 140.577 1289.79 139.72 L1288.3 139.373 Q1284.35 138.54 1282.59 136.827 Q1280.83 135.091 1280.83 132.082 Q1280.83 128.424 1283.42 126.434 Q1286.01 124.443 1290.78 124.443 Q1293.14 124.443 1295.23 124.79 Q1297.31 125.137 1299.07 125.832 Z\" fill=\"#000000\" fill-rule=\"evenodd\" fill-opacity=\"1\" /><path clip-path=\"url(#clip110)\" d=\"M1307.24 125.068 L1311.5 125.068 L1311.5 150.994 L1307.24 150.994 L1307.24 125.068 M1307.24 114.975 L1311.5 114.975 L1311.5 120.369 L1307.24 120.369 L1307.24 114.975 Z\" fill=\"#000000\" fill-rule=\"evenodd\" fill-opacity=\"1\" /><path clip-path=\"url(#clip110)\" d=\"M1357.03 135.345 L1357.03 150.994 L1352.77 150.994 L1352.77 135.484 Q1352.77 131.804 1351.34 129.975 Q1349.9 128.146 1347.03 128.146 Q1343.58 128.146 1341.59 130.346 Q1339.6 132.545 1339.6 136.341 L1339.6 150.994 L1335.32 150.994 L1335.32 114.975 L1339.6 114.975 L1339.6 129.096 Q1341.13 126.758 1343.19 125.6 Q1345.27 124.443 1347.98 124.443 Q1352.45 124.443 1354.74 127.221 Q1357.03 129.975 1357.03 135.345 Z\" fill=\"#000000\" fill-rule=\"evenodd\" fill-opacity=\"1\" /><path clip-path=\"url(#clip110)\" d=\"M1366.08 129.466 L1395.76 129.466 L1395.76 133.355 L1366.08 133.355 L1366.08 129.466 M1366.08 138.91 L1395.76 138.91 L1395.76 142.845 L1366.08 142.845 L1366.08 138.91 Z\" fill=\"#000000\" fill-rule=\"evenodd\" fill-opacity=\"1\" /><path clip-path=\"url(#clip110)\" d=\"M1406.66 147.058 L1414.3 147.058 L1414.3 120.693 L1405.99 122.359 L1405.99 118.1 L1414.25 116.434 L1418.93 116.434 L1418.93 147.058 L1426.57 147.058 L1426.57 150.994 L1406.66 150.994 L1406.66 147.058 Z\" fill=\"#000000\" fill-rule=\"evenodd\" fill-opacity=\"1\" /><path clip-path=\"url(#clip110)\" d=\"M1442.98 116.434 L1446.91 116.434 L1434.88 155.392 L1430.94 155.392 L1442.98 116.434 Z\" fill=\"#000000\" fill-rule=\"evenodd\" fill-opacity=\"1\" /><path clip-path=\"url(#clip110)\" d=\"M1456.01 147.058 L1472.33 147.058 L1472.33 150.994 L1450.39 150.994 L1450.39 147.058 Q1453.05 144.304 1457.63 139.674 Q1462.24 135.021 1463.42 133.679 Q1465.66 131.156 1466.54 129.42 Q1467.45 127.66 1467.45 125.971 Q1467.45 123.216 1465.5 121.48 Q1463.58 119.744 1460.48 119.744 Q1458.28 119.744 1455.83 120.508 Q1453.4 121.271 1450.62 122.822 L1450.62 118.1 Q1453.44 116.966 1455.9 116.387 Q1458.35 115.809 1460.39 115.809 Q1465.76 115.809 1468.95 118.494 Q1472.15 121.179 1472.15 125.67 Q1472.15 127.799 1471.34 129.721 Q1470.55 131.619 1468.44 134.211 Q1467.86 134.883 1464.76 138.1 Q1461.66 141.295 1456.01 147.058 Z\" fill=\"#000000\" fill-rule=\"evenodd\" fill-opacity=\"1\" /><polyline clip-path=\"url(#clip110)\" style=\"stroke:#e26f46; stroke-linecap:round; stroke-linejoin:round; stroke-width:4; stroke-opacity:1; fill:none\" points=\"\n",
       "  1073.36,185.554 1167.96,185.554 \n",
       "  \"/>\n",
       "<path clip-path=\"url(#clip110)\" d=\"M1202.15 177.672 L1202.15 181.699 Q1200.34 180.773 1198.4 180.311 Q1196.45 179.848 1194.37 179.848 Q1191.2 179.848 1189.6 180.82 Q1188.03 181.792 1188.03 183.736 Q1188.03 185.218 1189.16 186.074 Q1190.3 186.908 1193.72 187.672 L1195.18 187.996 Q1199.72 188.968 1201.61 190.75 Q1203.54 192.51 1203.54 195.681 Q1203.54 199.292 1200.67 201.398 Q1197.82 203.505 1192.82 203.505 Q1190.74 203.505 1188.47 203.088 Q1186.22 202.695 1183.72 201.884 L1183.72 197.486 Q1186.08 198.713 1188.37 199.338 Q1190.67 199.94 1192.91 199.94 Q1195.92 199.94 1197.54 198.922 Q1199.16 197.88 1199.16 196.005 Q1199.16 194.269 1197.98 193.343 Q1196.82 192.417 1192.86 191.56 L1191.38 191.213 Q1187.42 190.38 1185.67 188.667 Q1183.91 186.931 1183.91 183.922 Q1183.91 180.264 1186.5 178.274 Q1189.09 176.283 1193.86 176.283 Q1196.22 176.283 1198.3 176.63 Q1200.39 176.977 1202.15 177.672 Z\" fill=\"#000000\" fill-rule=\"evenodd\" fill-opacity=\"1\" /><path clip-path=\"url(#clip110)\" d=\"M1220.36 179.894 Q1216.94 179.894 1214.95 182.579 Q1212.96 185.241 1212.96 189.894 Q1212.96 194.547 1214.92 197.232 Q1216.92 199.894 1220.36 199.894 Q1223.77 199.894 1225.76 197.209 Q1227.75 194.523 1227.75 189.894 Q1227.75 185.287 1225.76 182.602 Q1223.77 179.894 1220.36 179.894 M1220.36 176.283 Q1225.92 176.283 1229.09 179.894 Q1232.26 183.505 1232.26 189.894 Q1232.26 196.26 1229.09 199.894 Q1225.92 203.505 1220.36 203.505 Q1214.79 203.505 1211.61 199.894 Q1208.47 196.26 1208.47 189.894 Q1208.47 183.505 1211.61 179.894 Q1214.79 176.283 1220.36 176.283 Z\" fill=\"#000000\" fill-rule=\"evenodd\" fill-opacity=\"1\" /><path clip-path=\"url(#clip110)\" d=\"M1239.32 166.815 L1243.58 166.815 L1243.58 202.834 L1239.32 202.834 L1239.32 166.815 Z\" fill=\"#000000\" fill-rule=\"evenodd\" fill-opacity=\"1\" /><path clip-path=\"url(#clip110)\" d=\"M1252.05 192.602 L1252.05 176.908 L1256.31 176.908 L1256.31 192.44 Q1256.31 196.121 1257.75 197.972 Q1259.18 199.801 1262.05 199.801 Q1265.5 199.801 1267.49 197.602 Q1269.51 195.403 1269.51 191.607 L1269.51 176.908 L1273.77 176.908 L1273.77 202.834 L1269.51 202.834 L1269.51 198.852 Q1267.96 201.213 1265.9 202.371 Q1263.86 203.505 1261.15 203.505 Q1256.68 203.505 1254.37 200.727 Q1252.05 197.949 1252.05 192.602 M1262.77 176.283 L1262.77 176.283 Z\" fill=\"#000000\" fill-rule=\"evenodd\" fill-opacity=\"1\" /><path clip-path=\"url(#clip110)\" d=\"M1299.07 177.672 L1299.07 181.699 Q1297.26 180.773 1295.32 180.311 Q1293.37 179.848 1291.29 179.848 Q1288.12 179.848 1286.52 180.82 Q1284.95 181.792 1284.95 183.736 Q1284.95 185.218 1286.08 186.074 Q1287.22 186.908 1290.64 187.672 L1292.1 187.996 Q1296.64 188.968 1298.54 190.75 Q1300.46 192.51 1300.46 195.681 Q1300.46 199.292 1297.59 201.398 Q1294.74 203.505 1289.74 203.505 Q1287.66 203.505 1285.39 203.088 Q1283.14 202.695 1280.64 201.884 L1280.64 197.486 Q1283 198.713 1285.29 199.338 Q1287.59 199.94 1289.83 199.94 Q1292.84 199.94 1294.46 198.922 Q1296.08 197.88 1296.08 196.005 Q1296.08 194.269 1294.9 193.343 Q1293.74 192.417 1289.79 191.56 L1288.3 191.213 Q1284.35 190.38 1282.59 188.667 Q1280.83 186.931 1280.83 183.922 Q1280.83 180.264 1283.42 178.274 Q1286.01 176.283 1290.78 176.283 Q1293.14 176.283 1295.23 176.63 Q1297.31 176.977 1299.07 177.672 Z\" fill=\"#000000\" fill-rule=\"evenodd\" fill-opacity=\"1\" /><path clip-path=\"url(#clip110)\" d=\"M1307.24 176.908 L1311.5 176.908 L1311.5 202.834 L1307.24 202.834 L1307.24 176.908 M1307.24 166.815 L1311.5 166.815 L1311.5 172.209 L1307.24 172.209 L1307.24 166.815 Z\" fill=\"#000000\" fill-rule=\"evenodd\" fill-opacity=\"1\" /><path clip-path=\"url(#clip110)\" d=\"M1347.26 189.801 Q1342.1 189.801 1340.11 190.982 Q1338.12 192.162 1338.12 195.01 Q1338.12 197.278 1339.6 198.621 Q1341.1 199.94 1343.67 199.94 Q1347.22 199.94 1349.35 197.44 Q1351.5 194.917 1351.5 190.75 L1351.5 189.801 L1347.26 189.801 M1355.76 188.042 L1355.76 202.834 L1351.5 202.834 L1351.5 198.898 Q1350.04 201.259 1347.86 202.394 Q1345.69 203.505 1342.54 203.505 Q1338.56 203.505 1336.2 201.283 Q1333.86 199.037 1333.86 195.287 Q1333.86 190.912 1336.78 188.69 Q1339.72 186.468 1345.53 186.468 L1351.5 186.468 L1351.5 186.051 Q1351.5 183.111 1349.55 181.514 Q1347.63 179.894 1344.14 179.894 Q1341.91 179.894 1339.81 180.426 Q1337.7 180.959 1335.76 182.023 L1335.76 178.088 Q1338.1 177.186 1340.29 176.746 Q1342.49 176.283 1344.58 176.283 Q1350.2 176.283 1352.98 179.199 Q1355.76 182.116 1355.76 188.042 Z\" fill=\"#000000\" fill-rule=\"evenodd\" fill-opacity=\"1\" /><path clip-path=\"url(#clip110)\" d=\"M1364.37 166.815 L1368.65 166.815 L1368.65 188.088 L1381.36 176.908 L1386.8 176.908 L1373.05 189.037 L1387.38 202.834 L1381.82 202.834 L1368.65 190.172 L1368.65 202.834 L1364.37 202.834 L1364.37 166.815 Z\" fill=\"#000000\" fill-rule=\"evenodd\" fill-opacity=\"1\" /><path clip-path=\"url(#clip110)\" d=\"M1396.2 169.547 L1396.2 176.908 L1404.97 176.908 L1404.97 180.218 L1396.2 180.218 L1396.2 194.292 Q1396.2 197.463 1397.05 198.366 Q1397.93 199.269 1400.6 199.269 L1404.97 199.269 L1404.97 202.834 L1400.6 202.834 Q1395.66 202.834 1393.79 201.005 Q1391.91 199.153 1391.91 194.292 L1391.91 180.218 L1388.79 180.218 L1388.79 176.908 L1391.91 176.908 L1391.91 169.547 L1396.2 169.547 Z\" fill=\"#000000\" fill-rule=\"evenodd\" fill-opacity=\"1\" /><path clip-path=\"url(#clip110)\" d=\"M1410.13 192.602 L1410.13 176.908 L1414.39 176.908 L1414.39 192.44 Q1414.39 196.121 1415.83 197.972 Q1417.26 199.801 1420.13 199.801 Q1423.58 199.801 1425.57 197.602 Q1427.59 195.403 1427.59 191.607 L1427.59 176.908 L1431.84 176.908 L1431.84 202.834 L1427.59 202.834 L1427.59 198.852 Q1426.03 201.213 1423.97 202.371 Q1421.94 203.505 1419.23 203.505 Q1414.76 203.505 1412.45 200.727 Q1410.13 197.949 1410.13 192.602 M1420.85 176.283 L1420.85 176.283 Z\" fill=\"#000000\" fill-rule=\"evenodd\" fill-opacity=\"1\" /><path clip-path=\"url(#clip110)\" d=\"M1452.4 189.801 Q1447.24 189.801 1445.25 190.982 Q1443.26 192.162 1443.26 195.01 Q1443.26 197.278 1444.74 198.621 Q1446.24 199.94 1448.81 199.94 Q1452.35 199.94 1454.48 197.44 Q1456.64 194.917 1456.64 190.75 L1456.64 189.801 L1452.4 189.801 M1460.9 188.042 L1460.9 202.834 L1456.64 202.834 L1456.64 198.898 Q1455.18 201.259 1453 202.394 Q1450.83 203.505 1447.68 203.505 Q1443.7 203.505 1441.34 201.283 Q1439 199.037 1439 195.287 Q1439 190.912 1441.91 188.69 Q1444.85 186.468 1450.66 186.468 L1456.64 186.468 L1456.64 186.051 Q1456.64 183.111 1454.69 181.514 Q1452.77 179.894 1449.28 179.894 Q1447.05 179.894 1444.95 180.426 Q1442.84 180.959 1440.9 182.023 L1440.9 178.088 Q1443.23 177.186 1445.43 176.746 Q1447.63 176.283 1449.72 176.283 Q1455.34 176.283 1458.12 179.199 Q1460.9 182.116 1460.9 188.042 Z\" fill=\"#000000\" fill-rule=\"evenodd\" fill-opacity=\"1\" /><path clip-path=\"url(#clip110)\" d=\"M1469.67 166.815 L1473.93 166.815 L1473.93 202.834 L1469.67 202.834 L1469.67 166.815 Z\" fill=\"#000000\" fill-rule=\"evenodd\" fill-opacity=\"1\" /></svg>\n"
      ]
     },
     "execution_count": 16,
     "metadata": {},
     "output_type": "execute_result"
    }
   ],
   "source": [
    "sol_ak = [(t^2)-0.2525826491*t-2.528442297*t for t in 1:0.5:8];\n",
    "plot(solu, label = \"solusi h=1/2\",size=(400,300))\n",
    "plot!(sol_ak, label = \"solusi aktual\", size=(400,300))\n",
    "scatter!(solu, label = :none)"
   ]
  },
  {
   "cell_type": "code",
   "execution_count": null,
   "id": "bfaffae8",
   "metadata": {},
   "outputs": [],
   "source": [
    "##################################################################################################"
   ]
  },
  {
   "cell_type": "markdown",
   "id": "d0fb0eb8",
   "metadata": {},
   "source": [
    "$$\n",
    "P(h,t_i)\n",
    "= \\left( 2 t_i^2 + h t_i \\right)\n",
    "\\quad\n",
    "Q(h,t_i)\n",
    "= \\left( 2 h^2 - 4 t_i^2 \\right )\n",
    "\\quad\n",
    "R(h,t_i)\n",
    "= \\left( 2 t_i^2  - h t_i \\right )\n",
    "\\quad\n",
    "S(h,t_i)\n",
    "= 2 h^2 t_i^2\n",
    "$$"
   ]
  },
  {
   "cell_type": "markdown",
   "id": "947d7122",
   "metadata": {},
   "source": [
    "case:\n",
    "\n",
    "$h=\\frac{1}{4}=0.25$, $y_0 = 1$ dan $y_{16} = 2$."
   ]
  },
  {
   "cell_type": "markdown",
   "id": "c4429878",
   "metadata": {},
   "source": [
    "$\\begin{align}\n",
    "P(0.25 , t_i)\n",
    "& = 2 t_i^2 + (0.5) t_i\n",
    "\\\\\n",
    "Q(0.25 , t_i)\n",
    "& =  2 (0.5)^2 - 4 t_i^2\n",
    "= 2 (0.25) - 4 t_i^2\n",
    "= 0.5 - 4 t_i^2\n",
    "\\\\\n",
    "R(0.25 , t_i)\n",
    "& = 2 t_i^2  - h t_i\n",
    "= 2 t_i^2  - (0.5) t_i\n",
    "\\\\\n",
    "S(0.25 , t_i)\n",
    "& = 2 h^2 t_i^2\n",
    "= 2 (0.5)^2 t_i^2\n",
    "= 2 (0.25) t_i^2\n",
    "= 0.5 t_i^2\n",
    "\\end{align}$"
   ]
  },
  {
   "cell_type": "code",
   "execution_count": 2,
   "id": "b05820a5",
   "metadata": {},
   "outputs": [],
   "source": [
    "P = [2*(t^2)+(0.5)*t for t in 1:0.5:7.5];"
   ]
  },
  {
   "cell_type": "code",
   "execution_count": 3,
   "id": "54df1f93",
   "metadata": {},
   "outputs": [],
   "source": [
    "Q = [0.5-4*(t^2) for t in 1:0.5:8];"
   ]
  },
  {
   "cell_type": "code",
   "execution_count": 4,
   "id": "ba4f7123",
   "metadata": {},
   "outputs": [],
   "source": [
    "R = [2*(t^2)-0.5*t for t in 1:0.5:7.5];"
   ]
  },
  {
   "cell_type": "code",
   "execution_count": 5,
   "id": "0c94cc45",
   "metadata": {},
   "outputs": [],
   "source": [
    "S = [0.5*(t^2) for t in 1:0.5:8];"
   ]
  },
  {
   "cell_type": "code",
   "execution_count": 12,
   "id": "a79e48c4",
   "metadata": {},
   "outputs": [
    {
     "data": {
      "text/plain": [
       "15×15 Tridiagonal{Float64, Vector{Float64}}:\n",
       " -3.5   1.5      ⋅       ⋅       ⋅    …      ⋅        ⋅        ⋅        ⋅ \n",
       "  2.5  -8.5     3.75     ⋅       ⋅           ⋅        ⋅        ⋅        ⋅ \n",
       "   ⋅    5.25  -15.5     7.0      ⋅           ⋅        ⋅        ⋅        ⋅ \n",
       "   ⋅     ⋅      9.0   -24.5    11.25         ⋅        ⋅        ⋅        ⋅ \n",
       "   ⋅     ⋅       ⋅     13.75  -35.5          ⋅        ⋅        ⋅        ⋅ \n",
       "   ⋅     ⋅       ⋅       ⋅     19.5   …      ⋅        ⋅        ⋅        ⋅ \n",
       "   ⋅     ⋅       ⋅       ⋅       ⋅           ⋅        ⋅        ⋅        ⋅ \n",
       "   ⋅     ⋅       ⋅       ⋅       ⋅           ⋅        ⋅        ⋅        ⋅ \n",
       "   ⋅     ⋅       ⋅       ⋅       ⋅           ⋅        ⋅        ⋅        ⋅ \n",
       "   ⋅     ⋅       ⋅       ⋅       ⋅           ⋅        ⋅        ⋅        ⋅ \n",
       "   ⋅     ⋅       ⋅       ⋅       ⋅    …    69.0       ⋅        ⋅        ⋅ \n",
       "   ⋅     ⋅       ⋅       ⋅       ⋅       -168.5     81.25      ⋅        ⋅ \n",
       "   ⋅     ⋅       ⋅       ⋅       ⋅         87.75  -195.5     94.5       ⋅ \n",
       "   ⋅     ⋅       ⋅       ⋅       ⋅           ⋅     101.5   -224.5    108.75\n",
       "   ⋅     ⋅       ⋅       ⋅       ⋅           ⋅        ⋅     116.25  -255.5"
      ]
     },
     "execution_count": 12,
     "metadata": {},
     "output_type": "execute_result"
    }
   ],
   "source": [
    "PQR = Tridiagonal(P,Q,R)"
   ]
  }
 ],
 "metadata": {
  "kernelspec": {
   "display_name": "Julia 1.8.0",
   "language": "julia",
   "name": "julia-1.8"
  },
  "language_info": {
   "file_extension": ".jl",
   "mimetype": "application/julia",
   "name": "julia",
   "version": "1.8.0"
  }
 },
 "nbformat": 4,
 "nbformat_minor": 5
}
